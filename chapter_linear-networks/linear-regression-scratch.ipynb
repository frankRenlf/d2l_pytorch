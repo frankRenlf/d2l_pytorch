{
 "cells": [
  {
   "cell_type": "markdown",
   "id": "d90261b4",
   "metadata": {
    "origin_pos": 0
   },
   "source": [
    "# 线性回归的从零开始实现\n",
    ":label:`sec_linear_scratch`\n",
    "\n",
    "在了解线性回归的关键思想之后，我们可以开始通过代码来动手实现线性回归了。\n",
    "在这一节中，(**我们将从零开始实现整个方法，\n",
    "包括数据流水线、模型、损失函数和小批量随机梯度下降优化器**)。\n",
    "虽然现代的深度学习框架几乎可以自动化地进行所有这些工作，但从零开始实现可以确保我们真正知道自己在做什么。\n",
    "同时，了解更细致的工作原理将方便我们自定义模型、自定义层或自定义损失函数。\n",
    "在这一节中，我们将只使用张量和自动求导。\n",
    "在之后的章节中，我们会充分利用深度学习框架的优势，介绍更简洁的实现方式。\n"
   ]
  },
  {
   "cell_type": "code",
   "execution_count": 194,
   "id": "5afac710",
   "metadata": {
    "execution": {
     "iopub.execute_input": "2022-12-07T16:43:03.768491Z",
     "iopub.status.busy": "2022-12-07T16:43:03.768163Z",
     "iopub.status.idle": "2022-12-07T16:43:06.309758Z",
     "shell.execute_reply": "2022-12-07T16:43:06.308920Z"
    },
    "origin_pos": 2,
    "tab": [
     "pytorch"
    ],
    "ExecuteTime": {
     "end_time": "2023-07-31T07:20:47.882854Z",
     "start_time": "2023-07-31T07:20:47.739234Z"
    }
   },
   "outputs": [],
   "source": [
    "%matplotlib inline\n",
    "import random\n",
    "import torch\n",
    "from d2l import torch as d2l"
   ]
  },
  {
   "cell_type": "markdown",
   "id": "9737c61d",
   "metadata": {
    "origin_pos": 5
   },
   "source": [
    "## 生成数据集\n",
    "\n",
    "为了简单起见，我们将[**根据带有噪声的线性模型构造一个人造数据集。**]\n",
    "我们的任务是使用这个有限样本的数据集来恢复这个模型的参数。\n",
    "我们将使用低维数据，这样可以很容易地将其可视化。\n",
    "在下面的代码中，我们生成一个包含1000个样本的数据集，\n",
    "每个样本包含从标准正态分布中采样的2个特征。\n",
    "我们的合成数据集是一个矩阵$\\mathbf{X}\\in \\mathbb{R}^{1000 \\times 2}$。\n",
    "\n",
    "(**我们使用线性模型参数$\\mathbf{w} = [2, -3.4]^\\top$、$b = 4.2$\n",
    "和噪声项$\\epsilon$生成数据集及其标签：\n",
    "\n",
    "$$\\mathbf{y}= \\mathbf{X} \\mathbf{w} + b + \\mathbf\\epsilon.$$\n",
    "**)\n",
    "\n",
    "$\\epsilon$可以视为模型预测和标签时的潜在观测误差。\n",
    "在这里我们认为标准假设成立，即$\\epsilon$服从均值为0的正态分布。\n",
    "为了简化问题，我们将标准差设为0.01。\n",
    "下面的代码生成合成数据集。\n"
   ]
  },
  {
   "cell_type": "code",
   "execution_count": 195,
   "id": "a12aa0dc",
   "metadata": {
    "execution": {
     "iopub.execute_input": "2022-12-07T16:43:06.314470Z",
     "iopub.status.busy": "2022-12-07T16:43:06.313919Z",
     "iopub.status.idle": "2022-12-07T16:43:06.319119Z",
     "shell.execute_reply": "2022-12-07T16:43:06.318364Z"
    },
    "origin_pos": 6,
    "tab": [
     "pytorch"
    ],
    "ExecuteTime": {
     "end_time": "2023-07-31T07:20:47.884720Z",
     "start_time": "2023-07-31T07:20:47.750214Z"
    }
   },
   "outputs": [],
   "source": [
    "def synthetic_data(w, b, num_examples):  #@save\n",
    "    \"\"\"生成y=Xw+b+噪声\"\"\"\n",
    "    X = torch.normal(0, 1, (num_examples, len(w)))\n",
    "    y = torch.matmul(X, w) + b\n",
    "    y += torch.normal(0, 0.01, y.shape)\n",
    "    return X, y.reshape((-1, 1))"
   ]
  },
  {
   "cell_type": "code",
   "execution_count": 196,
   "id": "c825e9f2",
   "metadata": {
    "execution": {
     "iopub.execute_input": "2022-12-07T16:43:06.322894Z",
     "iopub.status.busy": "2022-12-07T16:43:06.322362Z",
     "iopub.status.idle": "2022-12-07T16:43:06.346342Z",
     "shell.execute_reply": "2022-12-07T16:43:06.345545Z"
    },
    "origin_pos": 8,
    "tab": [
     "pytorch"
    ],
    "ExecuteTime": {
     "end_time": "2023-07-31T07:20:47.884837Z",
     "start_time": "2023-07-31T07:20:47.752527Z"
    }
   },
   "outputs": [
    {
     "data": {
      "text/plain": "(tensor([-0.3027, -0.6586]), torch.Size([1000, 1]))"
     },
     "execution_count": 196,
     "metadata": {},
     "output_type": "execute_result"
    }
   ],
   "source": [
    "true_w = torch.tensor([2, -3.4])\n",
    "true_b = 4.2\n",
    "features, labels = synthetic_data(true_w, true_b, 1000)\n",
    "features[0], labels.shape"
   ]
  },
  {
   "cell_type": "markdown",
   "id": "8f793e73",
   "metadata": {
    "origin_pos": 9
   },
   "source": [
    "注意，[**`features`中的每一行都包含一个二维数据样本，\n",
    "`labels`中的每一行都包含一维标签值（一个标量）**]。\n"
   ]
  },
  {
   "cell_type": "code",
   "execution_count": 197,
   "id": "ff9bf839",
   "metadata": {
    "execution": {
     "iopub.execute_input": "2022-12-07T16:43:06.350058Z",
     "iopub.status.busy": "2022-12-07T16:43:06.349622Z",
     "iopub.status.idle": "2022-12-07T16:43:06.356271Z",
     "shell.execute_reply": "2022-12-07T16:43:06.355499Z"
    },
    "origin_pos": 10,
    "tab": [
     "pytorch"
    ],
    "ExecuteTime": {
     "end_time": "2023-07-31T07:20:47.940334Z",
     "start_time": "2023-07-31T07:20:47.760977Z"
    }
   },
   "outputs": [
    {
     "name": "stdout",
     "output_type": "stream",
     "text": [
      "features: tensor([-0.3027, -0.6586]) \n",
      "label: tensor([5.8281])\n"
     ]
    }
   ],
   "source": [
    "print('features:', features[0],'\\nlabel:', labels[0])"
   ]
  },
  {
   "cell_type": "markdown",
   "id": "fceaa9b1",
   "metadata": {
    "origin_pos": 11
   },
   "source": [
    "通过生成第二个特征`features[:, 1]`和`labels`的散点图，\n",
    "可以直观观察到两者之间的线性关系。\n"
   ]
  },
  {
   "cell_type": "code",
   "execution_count": 198,
   "id": "ec27cda9",
   "metadata": {
    "execution": {
     "iopub.execute_input": "2022-12-07T16:43:06.360566Z",
     "iopub.status.busy": "2022-12-07T16:43:06.360291Z",
     "iopub.status.idle": "2022-12-07T16:43:06.547379Z",
     "shell.execute_reply": "2022-12-07T16:43:06.546494Z"
    },
    "origin_pos": 12,
    "tab": [
     "pytorch"
    ],
    "ExecuteTime": {
     "end_time": "2023-07-31T07:20:47.952503Z",
     "start_time": "2023-07-31T07:20:47.772364Z"
    }
   },
   "outputs": [
    {
     "data": {
      "text/plain": "<Figure size 350x250 with 1 Axes>",
      "image/svg+xml": "<?xml version=\"1.0\" encoding=\"utf-8\" standalone=\"no\"?>\n<!DOCTYPE svg PUBLIC \"-//W3C//DTD SVG 1.1//EN\"\n  \"http://www.w3.org/Graphics/SVG/1.1/DTD/svg11.dtd\">\n<svg xmlns:xlink=\"http://www.w3.org/1999/xlink\" width=\"231.442187pt\" height=\"169.678125pt\" viewBox=\"0 0 231.442187 169.678125\" xmlns=\"http://www.w3.org/2000/svg\" version=\"1.1\">\n <metadata>\n  <rdf:RDF xmlns:dc=\"http://purl.org/dc/elements/1.1/\" xmlns:cc=\"http://creativecommons.org/ns#\" xmlns:rdf=\"http://www.w3.org/1999/02/22-rdf-syntax-ns#\">\n   <cc:Work>\n    <dc:type rdf:resource=\"http://purl.org/dc/dcmitype/StillImage\"/>\n    <dc:date>2023-07-31T15:20:47.803654</dc:date>\n    <dc:format>image/svg+xml</dc:format>\n    <dc:creator>\n     <cc:Agent>\n      <dc:title>Matplotlib v3.7.2, https://matplotlib.org/</dc:title>\n     </cc:Agent>\n    </dc:creator>\n   </cc:Work>\n  </rdf:RDF>\n </metadata>\n <defs>\n  <style type=\"text/css\">*{stroke-linejoin: round; stroke-linecap: butt}</style>\n </defs>\n <g id=\"figure_1\">\n  <g id=\"patch_1\">\n   <path d=\"M 0 169.678125 \nL 231.442187 169.678125 \nL 231.442187 0 \nL 0 0 \nz\n\" style=\"fill: #ffffff\"/>\n  </g>\n  <g id=\"axes_1\">\n   <g id=\"patch_2\">\n    <path d=\"M 28.942188 145.8 \nL 224.242188 145.8 \nL 224.242188 7.2 \nL 28.942188 7.2 \nz\n\" style=\"fill: #ffffff\"/>\n   </g>\n   <g id=\"PathCollection_1\">\n    <defs>\n     <path id=\"mf51f41a3f2\" d=\"M 0 0.5 \nC 0.132602 0.5 0.25979 0.447317 0.353553 0.353553 \nC 0.447317 0.25979 0.5 0.132602 0.5 0 \nC 0.5 -0.132602 0.447317 -0.25979 0.353553 -0.353553 \nC 0.25979 -0.447317 0.132602 -0.5 0 -0.5 \nC -0.132602 -0.5 -0.25979 -0.447317 -0.353553 -0.353553 \nC -0.447317 -0.25979 -0.5 -0.132602 -0.5 0 \nC -0.5 0.132602 -0.447317 0.25979 -0.353553 0.353553 \nC -0.25979 0.447317 -0.132602 0.5 0 0.5 \nz\n\" style=\"stroke: #1f77b4\"/>\n    </defs>\n    <g clip-path=\"url(#paff77f74ba)\">\n     <use xlink:href=\"#mf51f41a3f2\" x=\"103.846919\" y=\"64.458255\" style=\"fill: #1f77b4; stroke: #1f77b4\"/>\n     <use xlink:href=\"#mf51f41a3f2\" x=\"107.292372\" y=\"65.631737\" style=\"fill: #1f77b4; stroke: #1f77b4\"/>\n     <use xlink:href=\"#mf51f41a3f2\" x=\"133.240972\" y=\"72.859272\" style=\"fill: #1f77b4; stroke: #1f77b4\"/>\n     <use xlink:href=\"#mf51f41a3f2\" x=\"111.622761\" y=\"79.432634\" style=\"fill: #1f77b4; stroke: #1f77b4\"/>\n     <use xlink:href=\"#mf51f41a3f2\" x=\"81.906291\" y=\"31.382114\" style=\"fill: #1f77b4; stroke: #1f77b4\"/>\n     <use xlink:href=\"#mf51f41a3f2\" x=\"116.978366\" y=\"86.700324\" style=\"fill: #1f77b4; stroke: #1f77b4\"/>\n     <use xlink:href=\"#mf51f41a3f2\" x=\"104.047903\" y=\"73.170712\" style=\"fill: #1f77b4; stroke: #1f77b4\"/>\n     <use xlink:href=\"#mf51f41a3f2\" x=\"104.798837\" y=\"40.865718\" style=\"fill: #1f77b4; stroke: #1f77b4\"/>\n     <use xlink:href=\"#mf51f41a3f2\" x=\"107.054886\" y=\"58.012111\" style=\"fill: #1f77b4; stroke: #1f77b4\"/>\n     <use xlink:href=\"#mf51f41a3f2\" x=\"107.051896\" y=\"52.054775\" style=\"fill: #1f77b4; stroke: #1f77b4\"/>\n     <use xlink:href=\"#mf51f41a3f2\" x=\"154.256718\" y=\"95.555779\" style=\"fill: #1f77b4; stroke: #1f77b4\"/>\n     <use xlink:href=\"#mf51f41a3f2\" x=\"137.600685\" y=\"90.048933\" style=\"fill: #1f77b4; stroke: #1f77b4\"/>\n     <use xlink:href=\"#mf51f41a3f2\" x=\"94.961036\" y=\"55.173137\" style=\"fill: #1f77b4; stroke: #1f77b4\"/>\n     <use xlink:href=\"#mf51f41a3f2\" x=\"163.947755\" y=\"96.62411\" style=\"fill: #1f77b4; stroke: #1f77b4\"/>\n     <use xlink:href=\"#mf51f41a3f2\" x=\"78.842708\" y=\"49.025851\" style=\"fill: #1f77b4; stroke: #1f77b4\"/>\n     <use xlink:href=\"#mf51f41a3f2\" x=\"82.693289\" y=\"44.402313\" style=\"fill: #1f77b4; stroke: #1f77b4\"/>\n     <use xlink:href=\"#mf51f41a3f2\" x=\"98.635759\" y=\"43.073075\" style=\"fill: #1f77b4; stroke: #1f77b4\"/>\n     <use xlink:href=\"#mf51f41a3f2\" x=\"135.545034\" y=\"87.099104\" style=\"fill: #1f77b4; stroke: #1f77b4\"/>\n     <use xlink:href=\"#mf51f41a3f2\" x=\"133.868185\" y=\"94.198219\" style=\"fill: #1f77b4; stroke: #1f77b4\"/>\n     <use xlink:href=\"#mf51f41a3f2\" x=\"167.010128\" y=\"89.26206\" style=\"fill: #1f77b4; stroke: #1f77b4\"/>\n     <use xlink:href=\"#mf51f41a3f2\" x=\"185.630196\" y=\"122.042153\" style=\"fill: #1f77b4; stroke: #1f77b4\"/>\n     <use xlink:href=\"#mf51f41a3f2\" x=\"118.949016\" y=\"82.478258\" style=\"fill: #1f77b4; stroke: #1f77b4\"/>\n     <use xlink:href=\"#mf51f41a3f2\" x=\"94.335139\" y=\"50.662979\" style=\"fill: #1f77b4; stroke: #1f77b4\"/>\n     <use xlink:href=\"#mf51f41a3f2\" x=\"128.53762\" y=\"81.2785\" style=\"fill: #1f77b4; stroke: #1f77b4\"/>\n     <use xlink:href=\"#mf51f41a3f2\" x=\"175.137097\" y=\"114.143381\" style=\"fill: #1f77b4; stroke: #1f77b4\"/>\n     <use xlink:href=\"#mf51f41a3f2\" x=\"103.732793\" y=\"64.935538\" style=\"fill: #1f77b4; stroke: #1f77b4\"/>\n     <use xlink:href=\"#mf51f41a3f2\" x=\"114.24087\" y=\"55.965987\" style=\"fill: #1f77b4; stroke: #1f77b4\"/>\n     <use xlink:href=\"#mf51f41a3f2\" x=\"143.703915\" y=\"85.357755\" style=\"fill: #1f77b4; stroke: #1f77b4\"/>\n     <use xlink:href=\"#mf51f41a3f2\" x=\"139.479706\" y=\"71.784762\" style=\"fill: #1f77b4; stroke: #1f77b4\"/>\n     <use xlink:href=\"#mf51f41a3f2\" x=\"122.800533\" y=\"72.494896\" style=\"fill: #1f77b4; stroke: #1f77b4\"/>\n     <use xlink:href=\"#mf51f41a3f2\" x=\"140.514551\" y=\"96.857322\" style=\"fill: #1f77b4; stroke: #1f77b4\"/>\n     <use xlink:href=\"#mf51f41a3f2\" x=\"107.66424\" y=\"69.002806\" style=\"fill: #1f77b4; stroke: #1f77b4\"/>\n     <use xlink:href=\"#mf51f41a3f2\" x=\"108.047068\" y=\"92.859784\" style=\"fill: #1f77b4; stroke: #1f77b4\"/>\n     <use xlink:href=\"#mf51f41a3f2\" x=\"167.216195\" y=\"100.466218\" style=\"fill: #1f77b4; stroke: #1f77b4\"/>\n     <use xlink:href=\"#mf51f41a3f2\" x=\"80.338091\" y=\"37.706318\" style=\"fill: #1f77b4; stroke: #1f77b4\"/>\n     <use xlink:href=\"#mf51f41a3f2\" x=\"127.114196\" y=\"95.118695\" style=\"fill: #1f77b4; stroke: #1f77b4\"/>\n     <use xlink:href=\"#mf51f41a3f2\" x=\"74.838647\" y=\"23.653713\" style=\"fill: #1f77b4; stroke: #1f77b4\"/>\n     <use xlink:href=\"#mf51f41a3f2\" x=\"127.836299\" y=\"74.732176\" style=\"fill: #1f77b4; stroke: #1f77b4\"/>\n     <use xlink:href=\"#mf51f41a3f2\" x=\"132.263397\" y=\"88.942686\" style=\"fill: #1f77b4; stroke: #1f77b4\"/>\n     <use xlink:href=\"#mf51f41a3f2\" x=\"105.293027\" y=\"65.810728\" style=\"fill: #1f77b4; stroke: #1f77b4\"/>\n     <use xlink:href=\"#mf51f41a3f2\" x=\"145.19282\" y=\"88.842335\" style=\"fill: #1f77b4; stroke: #1f77b4\"/>\n     <use xlink:href=\"#mf51f41a3f2\" x=\"159.290578\" y=\"87.055248\" style=\"fill: #1f77b4; stroke: #1f77b4\"/>\n     <use xlink:href=\"#mf51f41a3f2\" x=\"112.82071\" y=\"70.777083\" style=\"fill: #1f77b4; stroke: #1f77b4\"/>\n     <use xlink:href=\"#mf51f41a3f2\" x=\"180.339351\" y=\"115.890147\" style=\"fill: #1f77b4; stroke: #1f77b4\"/>\n     <use xlink:href=\"#mf51f41a3f2\" x=\"106.713592\" y=\"64.177408\" style=\"fill: #1f77b4; stroke: #1f77b4\"/>\n     <use xlink:href=\"#mf51f41a3f2\" x=\"124.152644\" y=\"60.934936\" style=\"fill: #1f77b4; stroke: #1f77b4\"/>\n     <use xlink:href=\"#mf51f41a3f2\" x=\"119.264175\" y=\"56.436971\" style=\"fill: #1f77b4; stroke: #1f77b4\"/>\n     <use xlink:href=\"#mf51f41a3f2\" x=\"138.366315\" y=\"73.2367\" style=\"fill: #1f77b4; stroke: #1f77b4\"/>\n     <use xlink:href=\"#mf51f41a3f2\" x=\"81.169575\" y=\"41.809881\" style=\"fill: #1f77b4; stroke: #1f77b4\"/>\n     <use xlink:href=\"#mf51f41a3f2\" x=\"127.024098\" y=\"70.784273\" style=\"fill: #1f77b4; stroke: #1f77b4\"/>\n     <use xlink:href=\"#mf51f41a3f2\" x=\"77.234302\" y=\"41.27055\" style=\"fill: #1f77b4; stroke: #1f77b4\"/>\n     <use xlink:href=\"#mf51f41a3f2\" x=\"121.690938\" y=\"66.409292\" style=\"fill: #1f77b4; stroke: #1f77b4\"/>\n     <use xlink:href=\"#mf51f41a3f2\" x=\"131.899254\" y=\"67.815331\" style=\"fill: #1f77b4; stroke: #1f77b4\"/>\n     <use xlink:href=\"#mf51f41a3f2\" x=\"116.459808\" y=\"64.054438\" style=\"fill: #1f77b4; stroke: #1f77b4\"/>\n     <use xlink:href=\"#mf51f41a3f2\" x=\"124.841532\" y=\"80.85286\" style=\"fill: #1f77b4; stroke: #1f77b4\"/>\n     <use xlink:href=\"#mf51f41a3f2\" x=\"133.01495\" y=\"79.175798\" style=\"fill: #1f77b4; stroke: #1f77b4\"/>\n     <use xlink:href=\"#mf51f41a3f2\" x=\"100.229568\" y=\"63.893887\" style=\"fill: #1f77b4; stroke: #1f77b4\"/>\n     <use xlink:href=\"#mf51f41a3f2\" x=\"130.087157\" y=\"69.585817\" style=\"fill: #1f77b4; stroke: #1f77b4\"/>\n     <use xlink:href=\"#mf51f41a3f2\" x=\"148.776369\" y=\"91.325968\" style=\"fill: #1f77b4; stroke: #1f77b4\"/>\n     <use xlink:href=\"#mf51f41a3f2\" x=\"150.453459\" y=\"104.339445\" style=\"fill: #1f77b4; stroke: #1f77b4\"/>\n     <use xlink:href=\"#mf51f41a3f2\" x=\"141.698529\" y=\"78.09647\" style=\"fill: #1f77b4; stroke: #1f77b4\"/>\n     <use xlink:href=\"#mf51f41a3f2\" x=\"128.383164\" y=\"70.266946\" style=\"fill: #1f77b4; stroke: #1f77b4\"/>\n     <use xlink:href=\"#mf51f41a3f2\" x=\"140.79093\" y=\"89.602208\" style=\"fill: #1f77b4; stroke: #1f77b4\"/>\n     <use xlink:href=\"#mf51f41a3f2\" x=\"138.875095\" y=\"88.294054\" style=\"fill: #1f77b4; stroke: #1f77b4\"/>\n     <use xlink:href=\"#mf51f41a3f2\" x=\"142.131259\" y=\"94.443128\" style=\"fill: #1f77b4; stroke: #1f77b4\"/>\n     <use xlink:href=\"#mf51f41a3f2\" x=\"92.992037\" y=\"53.066751\" style=\"fill: #1f77b4; stroke: #1f77b4\"/>\n     <use xlink:href=\"#mf51f41a3f2\" x=\"139.546105\" y=\"95.76922\" style=\"fill: #1f77b4; stroke: #1f77b4\"/>\n     <use xlink:href=\"#mf51f41a3f2\" x=\"151.805772\" y=\"100.033439\" style=\"fill: #1f77b4; stroke: #1f77b4\"/>\n     <use xlink:href=\"#mf51f41a3f2\" x=\"178.78621\" y=\"110.84076\" style=\"fill: #1f77b4; stroke: #1f77b4\"/>\n     <use xlink:href=\"#mf51f41a3f2\" x=\"105.043173\" y=\"58.700497\" style=\"fill: #1f77b4; stroke: #1f77b4\"/>\n     <use xlink:href=\"#mf51f41a3f2\" x=\"113.50089\" y=\"77.844431\" style=\"fill: #1f77b4; stroke: #1f77b4\"/>\n     <use xlink:href=\"#mf51f41a3f2\" x=\"106.155722\" y=\"39.006829\" style=\"fill: #1f77b4; stroke: #1f77b4\"/>\n     <use xlink:href=\"#mf51f41a3f2\" x=\"117.590302\" y=\"68.113267\" style=\"fill: #1f77b4; stroke: #1f77b4\"/>\n     <use xlink:href=\"#mf51f41a3f2\" x=\"109.168123\" y=\"60.266807\" style=\"fill: #1f77b4; stroke: #1f77b4\"/>\n     <use xlink:href=\"#mf51f41a3f2\" x=\"141.653529\" y=\"83.445381\" style=\"fill: #1f77b4; stroke: #1f77b4\"/>\n     <use xlink:href=\"#mf51f41a3f2\" x=\"131.961551\" y=\"81.084801\" style=\"fill: #1f77b4; stroke: #1f77b4\"/>\n     <use xlink:href=\"#mf51f41a3f2\" x=\"143.458529\" y=\"84.96497\" style=\"fill: #1f77b4; stroke: #1f77b4\"/>\n     <use xlink:href=\"#mf51f41a3f2\" x=\"108.05905\" y=\"79.674514\" style=\"fill: #1f77b4; stroke: #1f77b4\"/>\n     <use xlink:href=\"#mf51f41a3f2\" x=\"102.984234\" y=\"62.683201\" style=\"fill: #1f77b4; stroke: #1f77b4\"/>\n     <use xlink:href=\"#mf51f41a3f2\" x=\"170.646426\" y=\"116.302323\" style=\"fill: #1f77b4; stroke: #1f77b4\"/>\n     <use xlink:href=\"#mf51f41a3f2\" x=\"164.094165\" y=\"113.318822\" style=\"fill: #1f77b4; stroke: #1f77b4\"/>\n     <use xlink:href=\"#mf51f41a3f2\" x=\"140.102195\" y=\"87.557708\" style=\"fill: #1f77b4; stroke: #1f77b4\"/>\n     <use xlink:href=\"#mf51f41a3f2\" x=\"115.103321\" y=\"59.592852\" style=\"fill: #1f77b4; stroke: #1f77b4\"/>\n     <use xlink:href=\"#mf51f41a3f2\" x=\"105.074171\" y=\"65.841768\" style=\"fill: #1f77b4; stroke: #1f77b4\"/>\n     <use xlink:href=\"#mf51f41a3f2\" x=\"116.554985\" y=\"70.793495\" style=\"fill: #1f77b4; stroke: #1f77b4\"/>\n     <use xlink:href=\"#mf51f41a3f2\" x=\"126.879699\" y=\"64.407894\" style=\"fill: #1f77b4; stroke: #1f77b4\"/>\n     <use xlink:href=\"#mf51f41a3f2\" x=\"115.96161\" y=\"62.511903\" style=\"fill: #1f77b4; stroke: #1f77b4\"/>\n     <use xlink:href=\"#mf51f41a3f2\" x=\"123.967284\" y=\"82.726831\" style=\"fill: #1f77b4; stroke: #1f77b4\"/>\n     <use xlink:href=\"#mf51f41a3f2\" x=\"99.270091\" y=\"42.592973\" style=\"fill: #1f77b4; stroke: #1f77b4\"/>\n     <use xlink:href=\"#mf51f41a3f2\" x=\"115.644623\" y=\"65.188499\" style=\"fill: #1f77b4; stroke: #1f77b4\"/>\n     <use xlink:href=\"#mf51f41a3f2\" x=\"117.329454\" y=\"70.188118\" style=\"fill: #1f77b4; stroke: #1f77b4\"/>\n     <use xlink:href=\"#mf51f41a3f2\" x=\"176.865874\" y=\"95.282383\" style=\"fill: #1f77b4; stroke: #1f77b4\"/>\n     <use xlink:href=\"#mf51f41a3f2\" x=\"147.386668\" y=\"75.98949\" style=\"fill: #1f77b4; stroke: #1f77b4\"/>\n     <use xlink:href=\"#mf51f41a3f2\" x=\"91.901369\" y=\"61.42557\" style=\"fill: #1f77b4; stroke: #1f77b4\"/>\n     <use xlink:href=\"#mf51f41a3f2\" x=\"87.920064\" y=\"33.978423\" style=\"fill: #1f77b4; stroke: #1f77b4\"/>\n     <use xlink:href=\"#mf51f41a3f2\" x=\"192.397687\" y=\"110.917913\" style=\"fill: #1f77b4; stroke: #1f77b4\"/>\n     <use xlink:href=\"#mf51f41a3f2\" x=\"133.347117\" y=\"88.959222\" style=\"fill: #1f77b4; stroke: #1f77b4\"/>\n     <use xlink:href=\"#mf51f41a3f2\" x=\"138.555195\" y=\"81.754069\" style=\"fill: #1f77b4; stroke: #1f77b4\"/>\n     <use xlink:href=\"#mf51f41a3f2\" x=\"121.786382\" y=\"74.938178\" style=\"fill: #1f77b4; stroke: #1f77b4\"/>\n     <use xlink:href=\"#mf51f41a3f2\" x=\"71.646548\" y=\"40.624029\" style=\"fill: #1f77b4; stroke: #1f77b4\"/>\n     <use xlink:href=\"#mf51f41a3f2\" x=\"136.930087\" y=\"72.997981\" style=\"fill: #1f77b4; stroke: #1f77b4\"/>\n     <use xlink:href=\"#mf51f41a3f2\" x=\"112.927674\" y=\"75.605452\" style=\"fill: #1f77b4; stroke: #1f77b4\"/>\n     <use xlink:href=\"#mf51f41a3f2\" x=\"145.676683\" y=\"85.800943\" style=\"fill: #1f77b4; stroke: #1f77b4\"/>\n     <use xlink:href=\"#mf51f41a3f2\" x=\"135.023359\" y=\"83.351334\" style=\"fill: #1f77b4; stroke: #1f77b4\"/>\n     <use xlink:href=\"#mf51f41a3f2\" x=\"155.601173\" y=\"89.439659\" style=\"fill: #1f77b4; stroke: #1f77b4\"/>\n     <use xlink:href=\"#mf51f41a3f2\" x=\"99.503783\" y=\"54.642454\" style=\"fill: #1f77b4; stroke: #1f77b4\"/>\n     <use xlink:href=\"#mf51f41a3f2\" x=\"136.495276\" y=\"87.929329\" style=\"fill: #1f77b4; stroke: #1f77b4\"/>\n     <use xlink:href=\"#mf51f41a3f2\" x=\"154.937969\" y=\"89.491531\" style=\"fill: #1f77b4; stroke: #1f77b4\"/>\n     <use xlink:href=\"#mf51f41a3f2\" x=\"160.183108\" y=\"103.463768\" style=\"fill: #1f77b4; stroke: #1f77b4\"/>\n     <use xlink:href=\"#mf51f41a3f2\" x=\"125.588151\" y=\"64.84503\" style=\"fill: #1f77b4; stroke: #1f77b4\"/>\n     <use xlink:href=\"#mf51f41a3f2\" x=\"120.682536\" y=\"65.259429\" style=\"fill: #1f77b4; stroke: #1f77b4\"/>\n     <use xlink:href=\"#mf51f41a3f2\" x=\"146.32089\" y=\"97.874598\" style=\"fill: #1f77b4; stroke: #1f77b4\"/>\n     <use xlink:href=\"#mf51f41a3f2\" x=\"124.945651\" y=\"60.450201\" style=\"fill: #1f77b4; stroke: #1f77b4\"/>\n     <use xlink:href=\"#mf51f41a3f2\" x=\"146.631729\" y=\"91.159614\" style=\"fill: #1f77b4; stroke: #1f77b4\"/>\n     <use xlink:href=\"#mf51f41a3f2\" x=\"151.312228\" y=\"101.294788\" style=\"fill: #1f77b4; stroke: #1f77b4\"/>\n     <use xlink:href=\"#mf51f41a3f2\" x=\"177.19278\" y=\"121.023496\" style=\"fill: #1f77b4; stroke: #1f77b4\"/>\n     <use xlink:href=\"#mf51f41a3f2\" x=\"103.879028\" y=\"70.277627\" style=\"fill: #1f77b4; stroke: #1f77b4\"/>\n     <use xlink:href=\"#mf51f41a3f2\" x=\"106.013135\" y=\"71.71929\" style=\"fill: #1f77b4; stroke: #1f77b4\"/>\n     <use xlink:href=\"#mf51f41a3f2\" x=\"134.070664\" y=\"98.314437\" style=\"fill: #1f77b4; stroke: #1f77b4\"/>\n     <use xlink:href=\"#mf51f41a3f2\" x=\"162.085141\" y=\"115.649185\" style=\"fill: #1f77b4; stroke: #1f77b4\"/>\n     <use xlink:href=\"#mf51f41a3f2\" x=\"164.407684\" y=\"101.189873\" style=\"fill: #1f77b4; stroke: #1f77b4\"/>\n     <use xlink:href=\"#mf51f41a3f2\" x=\"120.199724\" y=\"73.012417\" style=\"fill: #1f77b4; stroke: #1f77b4\"/>\n     <use xlink:href=\"#mf51f41a3f2\" x=\"120.121153\" y=\"97.918935\" style=\"fill: #1f77b4; stroke: #1f77b4\"/>\n     <use xlink:href=\"#mf51f41a3f2\" x=\"92.935281\" y=\"58.738888\" style=\"fill: #1f77b4; stroke: #1f77b4\"/>\n     <use xlink:href=\"#mf51f41a3f2\" x=\"77.222905\" y=\"55.463063\" style=\"fill: #1f77b4; stroke: #1f77b4\"/>\n     <use xlink:href=\"#mf51f41a3f2\" x=\"122.488714\" y=\"77.181122\" style=\"fill: #1f77b4; stroke: #1f77b4\"/>\n     <use xlink:href=\"#mf51f41a3f2\" x=\"143.559122\" y=\"78.650577\" style=\"fill: #1f77b4; stroke: #1f77b4\"/>\n     <use xlink:href=\"#mf51f41a3f2\" x=\"101.888191\" y=\"52.079546\" style=\"fill: #1f77b4; stroke: #1f77b4\"/>\n     <use xlink:href=\"#mf51f41a3f2\" x=\"127.590897\" y=\"61.34439\" style=\"fill: #1f77b4; stroke: #1f77b4\"/>\n     <use xlink:href=\"#mf51f41a3f2\" x=\"95.110202\" y=\"51.689296\" style=\"fill: #1f77b4; stroke: #1f77b4\"/>\n     <use xlink:href=\"#mf51f41a3f2\" x=\"158.876952\" y=\"88.937041\" style=\"fill: #1f77b4; stroke: #1f77b4\"/>\n     <use xlink:href=\"#mf51f41a3f2\" x=\"173.779548\" y=\"110.594051\" style=\"fill: #1f77b4; stroke: #1f77b4\"/>\n     <use xlink:href=\"#mf51f41a3f2\" x=\"129.632048\" y=\"74.912707\" style=\"fill: #1f77b4; stroke: #1f77b4\"/>\n     <use xlink:href=\"#mf51f41a3f2\" x=\"143.114668\" y=\"102.84616\" style=\"fill: #1f77b4; stroke: #1f77b4\"/>\n     <use xlink:href=\"#mf51f41a3f2\" x=\"107.472482\" y=\"78.11968\" style=\"fill: #1f77b4; stroke: #1f77b4\"/>\n     <use xlink:href=\"#mf51f41a3f2\" x=\"111.622675\" y=\"72.02541\" style=\"fill: #1f77b4; stroke: #1f77b4\"/>\n     <use xlink:href=\"#mf51f41a3f2\" x=\"165.033319\" y=\"108.407209\" style=\"fill: #1f77b4; stroke: #1f77b4\"/>\n     <use xlink:href=\"#mf51f41a3f2\" x=\"101.936544\" y=\"60.641446\" style=\"fill: #1f77b4; stroke: #1f77b4\"/>\n     <use xlink:href=\"#mf51f41a3f2\" x=\"66.99719\" y=\"21.485175\" style=\"fill: #1f77b4; stroke: #1f77b4\"/>\n     <use xlink:href=\"#mf51f41a3f2\" x=\"123.997536\" y=\"71.400198\" style=\"fill: #1f77b4; stroke: #1f77b4\"/>\n     <use xlink:href=\"#mf51f41a3f2\" x=\"136.0559\" y=\"75.500347\" style=\"fill: #1f77b4; stroke: #1f77b4\"/>\n     <use xlink:href=\"#mf51f41a3f2\" x=\"98.549717\" y=\"64.072232\" style=\"fill: #1f77b4; stroke: #1f77b4\"/>\n     <use xlink:href=\"#mf51f41a3f2\" x=\"136.755575\" y=\"68.717113\" style=\"fill: #1f77b4; stroke: #1f77b4\"/>\n     <use xlink:href=\"#mf51f41a3f2\" x=\"133.456264\" y=\"87.364443\" style=\"fill: #1f77b4; stroke: #1f77b4\"/>\n     <use xlink:href=\"#mf51f41a3f2\" x=\"134.427958\" y=\"81.564783\" style=\"fill: #1f77b4; stroke: #1f77b4\"/>\n     <use xlink:href=\"#mf51f41a3f2\" x=\"93.017273\" y=\"60.488038\" style=\"fill: #1f77b4; stroke: #1f77b4\"/>\n     <use xlink:href=\"#mf51f41a3f2\" x=\"147.758421\" y=\"98.022285\" style=\"fill: #1f77b4; stroke: #1f77b4\"/>\n     <use xlink:href=\"#mf51f41a3f2\" x=\"108.116387\" y=\"54.091116\" style=\"fill: #1f77b4; stroke: #1f77b4\"/>\n     <use xlink:href=\"#mf51f41a3f2\" x=\"145.388066\" y=\"90.434577\" style=\"fill: #1f77b4; stroke: #1f77b4\"/>\n     <use xlink:href=\"#mf51f41a3f2\" x=\"91.394858\" y=\"57.304557\" style=\"fill: #1f77b4; stroke: #1f77b4\"/>\n     <use xlink:href=\"#mf51f41a3f2\" x=\"137.595598\" y=\"81.598757\" style=\"fill: #1f77b4; stroke: #1f77b4\"/>\n     <use xlink:href=\"#mf51f41a3f2\" x=\"95.845186\" y=\"54.986398\" style=\"fill: #1f77b4; stroke: #1f77b4\"/>\n     <use xlink:href=\"#mf51f41a3f2\" x=\"102.393066\" y=\"67.472369\" style=\"fill: #1f77b4; stroke: #1f77b4\"/>\n     <use xlink:href=\"#mf51f41a3f2\" x=\"113.954906\" y=\"66.75233\" style=\"fill: #1f77b4; stroke: #1f77b4\"/>\n     <use xlink:href=\"#mf51f41a3f2\" x=\"139.372687\" y=\"84.3861\" style=\"fill: #1f77b4; stroke: #1f77b4\"/>\n     <use xlink:href=\"#mf51f41a3f2\" x=\"130.624619\" y=\"75.997139\" style=\"fill: #1f77b4; stroke: #1f77b4\"/>\n     <use xlink:href=\"#mf51f41a3f2\" x=\"151.354849\" y=\"83.192905\" style=\"fill: #1f77b4; stroke: #1f77b4\"/>\n     <use xlink:href=\"#mf51f41a3f2\" x=\"109.310898\" y=\"67.732431\" style=\"fill: #1f77b4; stroke: #1f77b4\"/>\n     <use xlink:href=\"#mf51f41a3f2\" x=\"117.849554\" y=\"64.182778\" style=\"fill: #1f77b4; stroke: #1f77b4\"/>\n     <use xlink:href=\"#mf51f41a3f2\" x=\"159.147067\" y=\"95.184937\" style=\"fill: #1f77b4; stroke: #1f77b4\"/>\n     <use xlink:href=\"#mf51f41a3f2\" x=\"37.81946\" y=\"31.491971\" style=\"fill: #1f77b4; stroke: #1f77b4\"/>\n     <use xlink:href=\"#mf51f41a3f2\" x=\"161.953121\" y=\"111.87065\" style=\"fill: #1f77b4; stroke: #1f77b4\"/>\n     <use xlink:href=\"#mf51f41a3f2\" x=\"126.41907\" y=\"78.616877\" style=\"fill: #1f77b4; stroke: #1f77b4\"/>\n     <use xlink:href=\"#mf51f41a3f2\" x=\"75.417887\" y=\"29.540034\" style=\"fill: #1f77b4; stroke: #1f77b4\"/>\n     <use xlink:href=\"#mf51f41a3f2\" x=\"128.458954\" y=\"84.842822\" style=\"fill: #1f77b4; stroke: #1f77b4\"/>\n     <use xlink:href=\"#mf51f41a3f2\" x=\"138.292334\" y=\"87.33759\" style=\"fill: #1f77b4; stroke: #1f77b4\"/>\n     <use xlink:href=\"#mf51f41a3f2\" x=\"100.726944\" y=\"72.054347\" style=\"fill: #1f77b4; stroke: #1f77b4\"/>\n     <use xlink:href=\"#mf51f41a3f2\" x=\"100.811707\" y=\"68.746232\" style=\"fill: #1f77b4; stroke: #1f77b4\"/>\n     <use xlink:href=\"#mf51f41a3f2\" x=\"123.967975\" y=\"70.831291\" style=\"fill: #1f77b4; stroke: #1f77b4\"/>\n     <use xlink:href=\"#mf51f41a3f2\" x=\"142.166674\" y=\"59.872152\" style=\"fill: #1f77b4; stroke: #1f77b4\"/>\n     <use xlink:href=\"#mf51f41a3f2\" x=\"174.486534\" y=\"116.029381\" style=\"fill: #1f77b4; stroke: #1f77b4\"/>\n     <use xlink:href=\"#mf51f41a3f2\" x=\"94.846849\" y=\"53.195862\" style=\"fill: #1f77b4; stroke: #1f77b4\"/>\n     <use xlink:href=\"#mf51f41a3f2\" x=\"141.347027\" y=\"91.376442\" style=\"fill: #1f77b4; stroke: #1f77b4\"/>\n     <use xlink:href=\"#mf51f41a3f2\" x=\"139.483313\" y=\"77.261157\" style=\"fill: #1f77b4; stroke: #1f77b4\"/>\n     <use xlink:href=\"#mf51f41a3f2\" x=\"146.905663\" y=\"96.785994\" style=\"fill: #1f77b4; stroke: #1f77b4\"/>\n     <use xlink:href=\"#mf51f41a3f2\" x=\"73.424503\" y=\"28.098887\" style=\"fill: #1f77b4; stroke: #1f77b4\"/>\n     <use xlink:href=\"#mf51f41a3f2\" x=\"96.900012\" y=\"32.524725\" style=\"fill: #1f77b4; stroke: #1f77b4\"/>\n     <use xlink:href=\"#mf51f41a3f2\" x=\"128.114449\" y=\"69.773153\" style=\"fill: #1f77b4; stroke: #1f77b4\"/>\n     <use xlink:href=\"#mf51f41a3f2\" x=\"130.456249\" y=\"75.753373\" style=\"fill: #1f77b4; stroke: #1f77b4\"/>\n     <use xlink:href=\"#mf51f41a3f2\" x=\"176.777689\" y=\"106.114839\" style=\"fill: #1f77b4; stroke: #1f77b4\"/>\n     <use xlink:href=\"#mf51f41a3f2\" x=\"134.946735\" y=\"66.969647\" style=\"fill: #1f77b4; stroke: #1f77b4\"/>\n     <use xlink:href=\"#mf51f41a3f2\" x=\"116.717204\" y=\"82.363483\" style=\"fill: #1f77b4; stroke: #1f77b4\"/>\n     <use xlink:href=\"#mf51f41a3f2\" x=\"145.58791\" y=\"92.235408\" style=\"fill: #1f77b4; stroke: #1f77b4\"/>\n     <use xlink:href=\"#mf51f41a3f2\" x=\"140.813334\" y=\"71.141228\" style=\"fill: #1f77b4; stroke: #1f77b4\"/>\n     <use xlink:href=\"#mf51f41a3f2\" x=\"89.474133\" y=\"58.236179\" style=\"fill: #1f77b4; stroke: #1f77b4\"/>\n     <use xlink:href=\"#mf51f41a3f2\" x=\"161.531988\" y=\"96.215039\" style=\"fill: #1f77b4; stroke: #1f77b4\"/>\n     <use xlink:href=\"#mf51f41a3f2\" x=\"100.028246\" y=\"53.029259\" style=\"fill: #1f77b4; stroke: #1f77b4\"/>\n     <use xlink:href=\"#mf51f41a3f2\" x=\"75.483651\" y=\"37.720463\" style=\"fill: #1f77b4; stroke: #1f77b4\"/>\n     <use xlink:href=\"#mf51f41a3f2\" x=\"122.221314\" y=\"74.074959\" style=\"fill: #1f77b4; stroke: #1f77b4\"/>\n     <use xlink:href=\"#mf51f41a3f2\" x=\"143.666603\" y=\"75.772054\" style=\"fill: #1f77b4; stroke: #1f77b4\"/>\n     <use xlink:href=\"#mf51f41a3f2\" x=\"90.887134\" y=\"41.392388\" style=\"fill: #1f77b4; stroke: #1f77b4\"/>\n     <use xlink:href=\"#mf51f41a3f2\" x=\"130.760556\" y=\"77.731411\" style=\"fill: #1f77b4; stroke: #1f77b4\"/>\n     <use xlink:href=\"#mf51f41a3f2\" x=\"178.050821\" y=\"109.955861\" style=\"fill: #1f77b4; stroke: #1f77b4\"/>\n     <use xlink:href=\"#mf51f41a3f2\" x=\"133.05421\" y=\"83.342862\" style=\"fill: #1f77b4; stroke: #1f77b4\"/>\n     <use xlink:href=\"#mf51f41a3f2\" x=\"116.83356\" y=\"87.238945\" style=\"fill: #1f77b4; stroke: #1f77b4\"/>\n     <use xlink:href=\"#mf51f41a3f2\" x=\"138.425448\" y=\"88.602857\" style=\"fill: #1f77b4; stroke: #1f77b4\"/>\n     <use xlink:href=\"#mf51f41a3f2\" x=\"109.540692\" y=\"76.277417\" style=\"fill: #1f77b4; stroke: #1f77b4\"/>\n     <use xlink:href=\"#mf51f41a3f2\" x=\"93.320856\" y=\"29.699694\" style=\"fill: #1f77b4; stroke: #1f77b4\"/>\n     <use xlink:href=\"#mf51f41a3f2\" x=\"107.30994\" y=\"55.467735\" style=\"fill: #1f77b4; stroke: #1f77b4\"/>\n     <use xlink:href=\"#mf51f41a3f2\" x=\"138.167224\" y=\"107.008492\" style=\"fill: #1f77b4; stroke: #1f77b4\"/>\n     <use xlink:href=\"#mf51f41a3f2\" x=\"111.09671\" y=\"72.278168\" style=\"fill: #1f77b4; stroke: #1f77b4\"/>\n     <use xlink:href=\"#mf51f41a3f2\" x=\"101.353046\" y=\"59.826048\" style=\"fill: #1f77b4; stroke: #1f77b4\"/>\n     <use xlink:href=\"#mf51f41a3f2\" x=\"135.400409\" y=\"74.743219\" style=\"fill: #1f77b4; stroke: #1f77b4\"/>\n     <use xlink:href=\"#mf51f41a3f2\" x=\"109.840174\" y=\"77.454091\" style=\"fill: #1f77b4; stroke: #1f77b4\"/>\n     <use xlink:href=\"#mf51f41a3f2\" x=\"121.590268\" y=\"73.422015\" style=\"fill: #1f77b4; stroke: #1f77b4\"/>\n     <use xlink:href=\"#mf51f41a3f2\" x=\"103.000924\" y=\"54.958364\" style=\"fill: #1f77b4; stroke: #1f77b4\"/>\n     <use xlink:href=\"#mf51f41a3f2\" x=\"92.222813\" y=\"48.619482\" style=\"fill: #1f77b4; stroke: #1f77b4\"/>\n     <use xlink:href=\"#mf51f41a3f2\" x=\"90.567712\" y=\"60.873993\" style=\"fill: #1f77b4; stroke: #1f77b4\"/>\n     <use xlink:href=\"#mf51f41a3f2\" x=\"114.436307\" y=\"59.626295\" style=\"fill: #1f77b4; stroke: #1f77b4\"/>\n     <use xlink:href=\"#mf51f41a3f2\" x=\"146.45001\" y=\"91.483085\" style=\"fill: #1f77b4; stroke: #1f77b4\"/>\n     <use xlink:href=\"#mf51f41a3f2\" x=\"114.66761\" y=\"82.206013\" style=\"fill: #1f77b4; stroke: #1f77b4\"/>\n     <use xlink:href=\"#mf51f41a3f2\" x=\"143.700615\" y=\"97.894688\" style=\"fill: #1f77b4; stroke: #1f77b4\"/>\n     <use xlink:href=\"#mf51f41a3f2\" x=\"114.760851\" y=\"62.017193\" style=\"fill: #1f77b4; stroke: #1f77b4\"/>\n     <use xlink:href=\"#mf51f41a3f2\" x=\"162.837261\" y=\"96.189961\" style=\"fill: #1f77b4; stroke: #1f77b4\"/>\n     <use xlink:href=\"#mf51f41a3f2\" x=\"116.868038\" y=\"79.875707\" style=\"fill: #1f77b4; stroke: #1f77b4\"/>\n     <use xlink:href=\"#mf51f41a3f2\" x=\"85.633763\" y=\"55.013999\" style=\"fill: #1f77b4; stroke: #1f77b4\"/>\n     <use xlink:href=\"#mf51f41a3f2\" x=\"151.630741\" y=\"90.364182\" style=\"fill: #1f77b4; stroke: #1f77b4\"/>\n     <use xlink:href=\"#mf51f41a3f2\" x=\"100.380985\" y=\"72.069365\" style=\"fill: #1f77b4; stroke: #1f77b4\"/>\n     <use xlink:href=\"#mf51f41a3f2\" x=\"140.606762\" y=\"72.222424\" style=\"fill: #1f77b4; stroke: #1f77b4\"/>\n     <use xlink:href=\"#mf51f41a3f2\" x=\"108.550615\" y=\"77.519849\" style=\"fill: #1f77b4; stroke: #1f77b4\"/>\n     <use xlink:href=\"#mf51f41a3f2\" x=\"92.82078\" y=\"71.608524\" style=\"fill: #1f77b4; stroke: #1f77b4\"/>\n     <use xlink:href=\"#mf51f41a3f2\" x=\"113.694513\" y=\"66.660067\" style=\"fill: #1f77b4; stroke: #1f77b4\"/>\n     <use xlink:href=\"#mf51f41a3f2\" x=\"80.8649\" y=\"56.559695\" style=\"fill: #1f77b4; stroke: #1f77b4\"/>\n     <use xlink:href=\"#mf51f41a3f2\" x=\"112.788681\" y=\"74.873983\" style=\"fill: #1f77b4; stroke: #1f77b4\"/>\n     <use xlink:href=\"#mf51f41a3f2\" x=\"153.217575\" y=\"102.894962\" style=\"fill: #1f77b4; stroke: #1f77b4\"/>\n     <use xlink:href=\"#mf51f41a3f2\" x=\"178.150781\" y=\"129.893197\" style=\"fill: #1f77b4; stroke: #1f77b4\"/>\n     <use xlink:href=\"#mf51f41a3f2\" x=\"101.245976\" y=\"60.253152\" style=\"fill: #1f77b4; stroke: #1f77b4\"/>\n     <use xlink:href=\"#mf51f41a3f2\" x=\"115.129455\" y=\"65.564069\" style=\"fill: #1f77b4; stroke: #1f77b4\"/>\n     <use xlink:href=\"#mf51f41a3f2\" x=\"104.463947\" y=\"83.578402\" style=\"fill: #1f77b4; stroke: #1f77b4\"/>\n     <use xlink:href=\"#mf51f41a3f2\" x=\"95.135976\" y=\"54.157314\" style=\"fill: #1f77b4; stroke: #1f77b4\"/>\n     <use xlink:href=\"#mf51f41a3f2\" x=\"118.601951\" y=\"61.246511\" style=\"fill: #1f77b4; stroke: #1f77b4\"/>\n     <use xlink:href=\"#mf51f41a3f2\" x=\"140.171858\" y=\"91.722325\" style=\"fill: #1f77b4; stroke: #1f77b4\"/>\n     <use xlink:href=\"#mf51f41a3f2\" x=\"147.014858\" y=\"81.310317\" style=\"fill: #1f77b4; stroke: #1f77b4\"/>\n     <use xlink:href=\"#mf51f41a3f2\" x=\"112.583722\" y=\"79.891221\" style=\"fill: #1f77b4; stroke: #1f77b4\"/>\n     <use xlink:href=\"#mf51f41a3f2\" x=\"156.65285\" y=\"113.243294\" style=\"fill: #1f77b4; stroke: #1f77b4\"/>\n     <use xlink:href=\"#mf51f41a3f2\" x=\"113.186976\" y=\"76.872963\" style=\"fill: #1f77b4; stroke: #1f77b4\"/>\n     <use xlink:href=\"#mf51f41a3f2\" x=\"85.944039\" y=\"44.858547\" style=\"fill: #1f77b4; stroke: #1f77b4\"/>\n     <use xlink:href=\"#mf51f41a3f2\" x=\"127.323494\" y=\"66.434406\" style=\"fill: #1f77b4; stroke: #1f77b4\"/>\n     <use xlink:href=\"#mf51f41a3f2\" x=\"120.543057\" y=\"84.890248\" style=\"fill: #1f77b4; stroke: #1f77b4\"/>\n     <use xlink:href=\"#mf51f41a3f2\" x=\"118.752748\" y=\"76.077011\" style=\"fill: #1f77b4; stroke: #1f77b4\"/>\n     <use xlink:href=\"#mf51f41a3f2\" x=\"151.472103\" y=\"99.76958\" style=\"fill: #1f77b4; stroke: #1f77b4\"/>\n     <use xlink:href=\"#mf51f41a3f2\" x=\"71.276386\" y=\"38.882634\" style=\"fill: #1f77b4; stroke: #1f77b4\"/>\n     <use xlink:href=\"#mf51f41a3f2\" x=\"113.106094\" y=\"81.310901\" style=\"fill: #1f77b4; stroke: #1f77b4\"/>\n     <use xlink:href=\"#mf51f41a3f2\" x=\"113.42573\" y=\"55.734463\" style=\"fill: #1f77b4; stroke: #1f77b4\"/>\n     <use xlink:href=\"#mf51f41a3f2\" x=\"122.338654\" y=\"97.427218\" style=\"fill: #1f77b4; stroke: #1f77b4\"/>\n     <use xlink:href=\"#mf51f41a3f2\" x=\"138.663781\" y=\"87.559901\" style=\"fill: #1f77b4; stroke: #1f77b4\"/>\n     <use xlink:href=\"#mf51f41a3f2\" x=\"153.375956\" y=\"83.775965\" style=\"fill: #1f77b4; stroke: #1f77b4\"/>\n     <use xlink:href=\"#mf51f41a3f2\" x=\"106.848925\" y=\"76.702465\" style=\"fill: #1f77b4; stroke: #1f77b4\"/>\n     <use xlink:href=\"#mf51f41a3f2\" x=\"88.258368\" y=\"48.405316\" style=\"fill: #1f77b4; stroke: #1f77b4\"/>\n     <use xlink:href=\"#mf51f41a3f2\" x=\"120.138179\" y=\"56.509503\" style=\"fill: #1f77b4; stroke: #1f77b4\"/>\n     <use xlink:href=\"#mf51f41a3f2\" x=\"113.910488\" y=\"66.77298\" style=\"fill: #1f77b4; stroke: #1f77b4\"/>\n     <use xlink:href=\"#mf51f41a3f2\" x=\"117.560916\" y=\"59.735628\" style=\"fill: #1f77b4; stroke: #1f77b4\"/>\n     <use xlink:href=\"#mf51f41a3f2\" x=\"102.656503\" y=\"51.199128\" style=\"fill: #1f77b4; stroke: #1f77b4\"/>\n     <use xlink:href=\"#mf51f41a3f2\" x=\"106.167453\" y=\"64.498924\" style=\"fill: #1f77b4; stroke: #1f77b4\"/>\n     <use xlink:href=\"#mf51f41a3f2\" x=\"79.319856\" y=\"32.816185\" style=\"fill: #1f77b4; stroke: #1f77b4\"/>\n     <use xlink:href=\"#mf51f41a3f2\" x=\"117.820343\" y=\"73.12664\" style=\"fill: #1f77b4; stroke: #1f77b4\"/>\n     <use xlink:href=\"#mf51f41a3f2\" x=\"142.223615\" y=\"91.532304\" style=\"fill: #1f77b4; stroke: #1f77b4\"/>\n     <use xlink:href=\"#mf51f41a3f2\" x=\"152.330871\" y=\"81.109986\" style=\"fill: #1f77b4; stroke: #1f77b4\"/>\n     <use xlink:href=\"#mf51f41a3f2\" x=\"144.319166\" y=\"93.189759\" style=\"fill: #1f77b4; stroke: #1f77b4\"/>\n     <use xlink:href=\"#mf51f41a3f2\" x=\"116.506281\" y=\"75.652628\" style=\"fill: #1f77b4; stroke: #1f77b4\"/>\n     <use xlink:href=\"#mf51f41a3f2\" x=\"86.087595\" y=\"48.61412\" style=\"fill: #1f77b4; stroke: #1f77b4\"/>\n     <use xlink:href=\"#mf51f41a3f2\" x=\"77.83284\" y=\"45.184408\" style=\"fill: #1f77b4; stroke: #1f77b4\"/>\n     <use xlink:href=\"#mf51f41a3f2\" x=\"176.548417\" y=\"98.918627\" style=\"fill: #1f77b4; stroke: #1f77b4\"/>\n     <use xlink:href=\"#mf51f41a3f2\" x=\"113.579719\" y=\"67.296702\" style=\"fill: #1f77b4; stroke: #1f77b4\"/>\n     <use xlink:href=\"#mf51f41a3f2\" x=\"126.008993\" y=\"69.726668\" style=\"fill: #1f77b4; stroke: #1f77b4\"/>\n     <use xlink:href=\"#mf51f41a3f2\" x=\"117.639675\" y=\"71.280753\" style=\"fill: #1f77b4; stroke: #1f77b4\"/>\n     <use xlink:href=\"#mf51f41a3f2\" x=\"92.886647\" y=\"57.264132\" style=\"fill: #1f77b4; stroke: #1f77b4\"/>\n     <use xlink:href=\"#mf51f41a3f2\" x=\"138.460051\" y=\"92.0022\" style=\"fill: #1f77b4; stroke: #1f77b4\"/>\n     <use xlink:href=\"#mf51f41a3f2\" x=\"107.237033\" y=\"62.546049\" style=\"fill: #1f77b4; stroke: #1f77b4\"/>\n     <use xlink:href=\"#mf51f41a3f2\" x=\"107.445759\" y=\"62.979224\" style=\"fill: #1f77b4; stroke: #1f77b4\"/>\n     <use xlink:href=\"#mf51f41a3f2\" x=\"94.073237\" y=\"79.24092\" style=\"fill: #1f77b4; stroke: #1f77b4\"/>\n     <use xlink:href=\"#mf51f41a3f2\" x=\"159.982232\" y=\"88.762676\" style=\"fill: #1f77b4; stroke: #1f77b4\"/>\n     <use xlink:href=\"#mf51f41a3f2\" x=\"113.316125\" y=\"45.77444\" style=\"fill: #1f77b4; stroke: #1f77b4\"/>\n     <use xlink:href=\"#mf51f41a3f2\" x=\"176.549332\" y=\"125.189108\" style=\"fill: #1f77b4; stroke: #1f77b4\"/>\n     <use xlink:href=\"#mf51f41a3f2\" x=\"83.897862\" y=\"66.588359\" style=\"fill: #1f77b4; stroke: #1f77b4\"/>\n     <use xlink:href=\"#mf51f41a3f2\" x=\"106.886829\" y=\"50.579388\" style=\"fill: #1f77b4; stroke: #1f77b4\"/>\n     <use xlink:href=\"#mf51f41a3f2\" x=\"126.626928\" y=\"78.627049\" style=\"fill: #1f77b4; stroke: #1f77b4\"/>\n     <use xlink:href=\"#mf51f41a3f2\" x=\"139.163434\" y=\"88.933795\" style=\"fill: #1f77b4; stroke: #1f77b4\"/>\n     <use xlink:href=\"#mf51f41a3f2\" x=\"180.23563\" y=\"107.465472\" style=\"fill: #1f77b4; stroke: #1f77b4\"/>\n     <use xlink:href=\"#mf51f41a3f2\" x=\"69.970865\" y=\"45.667666\" style=\"fill: #1f77b4; stroke: #1f77b4\"/>\n     <use xlink:href=\"#mf51f41a3f2\" x=\"124.141895\" y=\"67.271564\" style=\"fill: #1f77b4; stroke: #1f77b4\"/>\n     <use xlink:href=\"#mf51f41a3f2\" x=\"139.819641\" y=\"99.896706\" style=\"fill: #1f77b4; stroke: #1f77b4\"/>\n     <use xlink:href=\"#mf51f41a3f2\" x=\"116.713493\" y=\"62.810176\" style=\"fill: #1f77b4; stroke: #1f77b4\"/>\n     <use xlink:href=\"#mf51f41a3f2\" x=\"149.178323\" y=\"71.261922\" style=\"fill: #1f77b4; stroke: #1f77b4\"/>\n     <use xlink:href=\"#mf51f41a3f2\" x=\"107.993454\" y=\"64.810037\" style=\"fill: #1f77b4; stroke: #1f77b4\"/>\n     <use xlink:href=\"#mf51f41a3f2\" x=\"139.992643\" y=\"70.729588\" style=\"fill: #1f77b4; stroke: #1f77b4\"/>\n     <use xlink:href=\"#mf51f41a3f2\" x=\"104.191161\" y=\"80.553355\" style=\"fill: #1f77b4; stroke: #1f77b4\"/>\n     <use xlink:href=\"#mf51f41a3f2\" x=\"62.925887\" y=\"17.375392\" style=\"fill: #1f77b4; stroke: #1f77b4\"/>\n     <use xlink:href=\"#mf51f41a3f2\" x=\"119.517718\" y=\"75.366499\" style=\"fill: #1f77b4; stroke: #1f77b4\"/>\n     <use xlink:href=\"#mf51f41a3f2\" x=\"140.437755\" y=\"94.825208\" style=\"fill: #1f77b4; stroke: #1f77b4\"/>\n     <use xlink:href=\"#mf51f41a3f2\" x=\"91.228378\" y=\"51.609951\" style=\"fill: #1f77b4; stroke: #1f77b4\"/>\n     <use xlink:href=\"#mf51f41a3f2\" x=\"144.260741\" y=\"82.839523\" style=\"fill: #1f77b4; stroke: #1f77b4\"/>\n     <use xlink:href=\"#mf51f41a3f2\" x=\"158.031871\" y=\"85.546577\" style=\"fill: #1f77b4; stroke: #1f77b4\"/>\n     <use xlink:href=\"#mf51f41a3f2\" x=\"166.131459\" y=\"105.17341\" style=\"fill: #1f77b4; stroke: #1f77b4\"/>\n     <use xlink:href=\"#mf51f41a3f2\" x=\"135.13303\" y=\"76.702825\" style=\"fill: #1f77b4; stroke: #1f77b4\"/>\n     <use xlink:href=\"#mf51f41a3f2\" x=\"168.37892\" y=\"81.658232\" style=\"fill: #1f77b4; stroke: #1f77b4\"/>\n     <use xlink:href=\"#mf51f41a3f2\" x=\"96.478005\" y=\"53.162525\" style=\"fill: #1f77b4; stroke: #1f77b4\"/>\n     <use xlink:href=\"#mf51f41a3f2\" x=\"87.2129\" y=\"65.010185\" style=\"fill: #1f77b4; stroke: #1f77b4\"/>\n     <use xlink:href=\"#mf51f41a3f2\" x=\"108.770921\" y=\"58.997971\" style=\"fill: #1f77b4; stroke: #1f77b4\"/>\n     <use xlink:href=\"#mf51f41a3f2\" x=\"147.478066\" y=\"99.356566\" style=\"fill: #1f77b4; stroke: #1f77b4\"/>\n     <use xlink:href=\"#mf51f41a3f2\" x=\"94.255018\" y=\"58.853339\" style=\"fill: #1f77b4; stroke: #1f77b4\"/>\n     <use xlink:href=\"#mf51f41a3f2\" x=\"129.095577\" y=\"88.619067\" style=\"fill: #1f77b4; stroke: #1f77b4\"/>\n     <use xlink:href=\"#mf51f41a3f2\" x=\"97.832012\" y=\"56.700055\" style=\"fill: #1f77b4; stroke: #1f77b4\"/>\n     <use xlink:href=\"#mf51f41a3f2\" x=\"120.21138\" y=\"84.996947\" style=\"fill: #1f77b4; stroke: #1f77b4\"/>\n     <use xlink:href=\"#mf51f41a3f2\" x=\"138.920665\" y=\"107.576118\" style=\"fill: #1f77b4; stroke: #1f77b4\"/>\n     <use xlink:href=\"#mf51f41a3f2\" x=\"118.877937\" y=\"72.179554\" style=\"fill: #1f77b4; stroke: #1f77b4\"/>\n     <use xlink:href=\"#mf51f41a3f2\" x=\"162.838086\" y=\"72.12888\" style=\"fill: #1f77b4; stroke: #1f77b4\"/>\n     <use xlink:href=\"#mf51f41a3f2\" x=\"138.434538\" y=\"83.571031\" style=\"fill: #1f77b4; stroke: #1f77b4\"/>\n     <use xlink:href=\"#mf51f41a3f2\" x=\"123.359047\" y=\"88.97995\" style=\"fill: #1f77b4; stroke: #1f77b4\"/>\n     <use xlink:href=\"#mf51f41a3f2\" x=\"98.072687\" y=\"56.70325\" style=\"fill: #1f77b4; stroke: #1f77b4\"/>\n     <use xlink:href=\"#mf51f41a3f2\" x=\"123.779488\" y=\"84.753231\" style=\"fill: #1f77b4; stroke: #1f77b4\"/>\n     <use xlink:href=\"#mf51f41a3f2\" x=\"89.38044\" y=\"26.14276\" style=\"fill: #1f77b4; stroke: #1f77b4\"/>\n     <use xlink:href=\"#mf51f41a3f2\" x=\"147.497114\" y=\"91.611614\" style=\"fill: #1f77b4; stroke: #1f77b4\"/>\n     <use xlink:href=\"#mf51f41a3f2\" x=\"162.503589\" y=\"93.344553\" style=\"fill: #1f77b4; stroke: #1f77b4\"/>\n     <use xlink:href=\"#mf51f41a3f2\" x=\"134.744455\" y=\"58.067001\" style=\"fill: #1f77b4; stroke: #1f77b4\"/>\n     <use xlink:href=\"#mf51f41a3f2\" x=\"105.017602\" y=\"70.439491\" style=\"fill: #1f77b4; stroke: #1f77b4\"/>\n     <use xlink:href=\"#mf51f41a3f2\" x=\"114.705417\" y=\"57.747725\" style=\"fill: #1f77b4; stroke: #1f77b4\"/>\n     <use xlink:href=\"#mf51f41a3f2\" x=\"125.44225\" y=\"90.425407\" style=\"fill: #1f77b4; stroke: #1f77b4\"/>\n     <use xlink:href=\"#mf51f41a3f2\" x=\"96.963412\" y=\"40.725742\" style=\"fill: #1f77b4; stroke: #1f77b4\"/>\n     <use xlink:href=\"#mf51f41a3f2\" x=\"128.034803\" y=\"62.367234\" style=\"fill: #1f77b4; stroke: #1f77b4\"/>\n     <use xlink:href=\"#mf51f41a3f2\" x=\"91.78815\" y=\"49.644683\" style=\"fill: #1f77b4; stroke: #1f77b4\"/>\n     <use xlink:href=\"#mf51f41a3f2\" x=\"119.739154\" y=\"76.809691\" style=\"fill: #1f77b4; stroke: #1f77b4\"/>\n     <use xlink:href=\"#mf51f41a3f2\" x=\"148.269929\" y=\"95.516029\" style=\"fill: #1f77b4; stroke: #1f77b4\"/>\n     <use xlink:href=\"#mf51f41a3f2\" x=\"83.537295\" y=\"45.823427\" style=\"fill: #1f77b4; stroke: #1f77b4\"/>\n     <use xlink:href=\"#mf51f41a3f2\" x=\"83.453763\" y=\"60.725603\" style=\"fill: #1f77b4; stroke: #1f77b4\"/>\n     <use xlink:href=\"#mf51f41a3f2\" x=\"90.681694\" y=\"55.11478\" style=\"fill: #1f77b4; stroke: #1f77b4\"/>\n     <use xlink:href=\"#mf51f41a3f2\" x=\"103.44956\" y=\"60.857963\" style=\"fill: #1f77b4; stroke: #1f77b4\"/>\n     <use xlink:href=\"#mf51f41a3f2\" x=\"134.153756\" y=\"75.507054\" style=\"fill: #1f77b4; stroke: #1f77b4\"/>\n     <use xlink:href=\"#mf51f41a3f2\" x=\"89.527736\" y=\"55.858001\" style=\"fill: #1f77b4; stroke: #1f77b4\"/>\n     <use xlink:href=\"#mf51f41a3f2\" x=\"108.652881\" y=\"70.22791\" style=\"fill: #1f77b4; stroke: #1f77b4\"/>\n     <use xlink:href=\"#mf51f41a3f2\" x=\"77.069584\" y=\"38.14444\" style=\"fill: #1f77b4; stroke: #1f77b4\"/>\n     <use xlink:href=\"#mf51f41a3f2\" x=\"89.186856\" y=\"45.496051\" style=\"fill: #1f77b4; stroke: #1f77b4\"/>\n     <use xlink:href=\"#mf51f41a3f2\" x=\"134.267728\" y=\"74.826668\" style=\"fill: #1f77b4; stroke: #1f77b4\"/>\n     <use xlink:href=\"#mf51f41a3f2\" x=\"113.694427\" y=\"76.457369\" style=\"fill: #1f77b4; stroke: #1f77b4\"/>\n     <use xlink:href=\"#mf51f41a3f2\" x=\"115.634853\" y=\"63.34747\" style=\"fill: #1f77b4; stroke: #1f77b4\"/>\n     <use xlink:href=\"#mf51f41a3f2\" x=\"101.06228\" y=\"64.135425\" style=\"fill: #1f77b4; stroke: #1f77b4\"/>\n     <use xlink:href=\"#mf51f41a3f2\" x=\"84.357765\" y=\"43.550882\" style=\"fill: #1f77b4; stroke: #1f77b4\"/>\n     <use xlink:href=\"#mf51f41a3f2\" x=\"127.980617\" y=\"78.045812\" style=\"fill: #1f77b4; stroke: #1f77b4\"/>\n     <use xlink:href=\"#mf51f41a3f2\" x=\"135.115808\" y=\"96.523717\" style=\"fill: #1f77b4; stroke: #1f77b4\"/>\n     <use xlink:href=\"#mf51f41a3f2\" x=\"170.536045\" y=\"106.248963\" style=\"fill: #1f77b4; stroke: #1f77b4\"/>\n     <use xlink:href=\"#mf51f41a3f2\" x=\"140.602482\" y=\"89.425446\" style=\"fill: #1f77b4; stroke: #1f77b4\"/>\n     <use xlink:href=\"#mf51f41a3f2\" x=\"105.354376\" y=\"64.349978\" style=\"fill: #1f77b4; stroke: #1f77b4\"/>\n     <use xlink:href=\"#mf51f41a3f2\" x=\"110.538709\" y=\"53.133762\" style=\"fill: #1f77b4; stroke: #1f77b4\"/>\n     <use xlink:href=\"#mf51f41a3f2\" x=\"142.579221\" y=\"90.929579\" style=\"fill: #1f77b4; stroke: #1f77b4\"/>\n     <use xlink:href=\"#mf51f41a3f2\" x=\"153.258972\" y=\"93.140979\" style=\"fill: #1f77b4; stroke: #1f77b4\"/>\n     <use xlink:href=\"#mf51f41a3f2\" x=\"106.460335\" y=\"64.809041\" style=\"fill: #1f77b4; stroke: #1f77b4\"/>\n     <use xlink:href=\"#mf51f41a3f2\" x=\"107.316492\" y=\"67.114383\" style=\"fill: #1f77b4; stroke: #1f77b4\"/>\n     <use xlink:href=\"#mf51f41a3f2\" x=\"105.27383\" y=\"59.894959\" style=\"fill: #1f77b4; stroke: #1f77b4\"/>\n     <use xlink:href=\"#mf51f41a3f2\" x=\"100.847246\" y=\"67.839119\" style=\"fill: #1f77b4; stroke: #1f77b4\"/>\n     <use xlink:href=\"#mf51f41a3f2\" x=\"102.753924\" y=\"74.641939\" style=\"fill: #1f77b4; stroke: #1f77b4\"/>\n     <use xlink:href=\"#mf51f41a3f2\" x=\"181.190564\" y=\"113.150616\" style=\"fill: #1f77b4; stroke: #1f77b4\"/>\n     <use xlink:href=\"#mf51f41a3f2\" x=\"97.756565\" y=\"54.983159\" style=\"fill: #1f77b4; stroke: #1f77b4\"/>\n     <use xlink:href=\"#mf51f41a3f2\" x=\"97.847064\" y=\"62.217956\" style=\"fill: #1f77b4; stroke: #1f77b4\"/>\n     <use xlink:href=\"#mf51f41a3f2\" x=\"94.658659\" y=\"63.616946\" style=\"fill: #1f77b4; stroke: #1f77b4\"/>\n     <use xlink:href=\"#mf51f41a3f2\" x=\"114.085101\" y=\"70.436763\" style=\"fill: #1f77b4; stroke: #1f77b4\"/>\n     <use xlink:href=\"#mf51f41a3f2\" x=\"165.175494\" y=\"101.989436\" style=\"fill: #1f77b4; stroke: #1f77b4\"/>\n     <use xlink:href=\"#mf51f41a3f2\" x=\"131.76334\" y=\"66.624024\" style=\"fill: #1f77b4; stroke: #1f77b4\"/>\n     <use xlink:href=\"#mf51f41a3f2\" x=\"131.015737\" y=\"71.541391\" style=\"fill: #1f77b4; stroke: #1f77b4\"/>\n     <use xlink:href=\"#mf51f41a3f2\" x=\"143.644455\" y=\"101.800016\" style=\"fill: #1f77b4; stroke: #1f77b4\"/>\n     <use xlink:href=\"#mf51f41a3f2\" x=\"171.833917\" y=\"92.034179\" style=\"fill: #1f77b4; stroke: #1f77b4\"/>\n     <use xlink:href=\"#mf51f41a3f2\" x=\"133.075063\" y=\"82.385418\" style=\"fill: #1f77b4; stroke: #1f77b4\"/>\n     <use xlink:href=\"#mf51f41a3f2\" x=\"121.41852\" y=\"73.355922\" style=\"fill: #1f77b4; stroke: #1f77b4\"/>\n     <use xlink:href=\"#mf51f41a3f2\" x=\"118.25805\" y=\"59.947796\" style=\"fill: #1f77b4; stroke: #1f77b4\"/>\n     <use xlink:href=\"#mf51f41a3f2\" x=\"58.990421\" y=\"37.510741\" style=\"fill: #1f77b4; stroke: #1f77b4\"/>\n     <use xlink:href=\"#mf51f41a3f2\" x=\"134.977208\" y=\"69.731815\" style=\"fill: #1f77b4; stroke: #1f77b4\"/>\n     <use xlink:href=\"#mf51f41a3f2\" x=\"150.592413\" y=\"100.606489\" style=\"fill: #1f77b4; stroke: #1f77b4\"/>\n     <use xlink:href=\"#mf51f41a3f2\" x=\"150.618989\" y=\"98.189119\" style=\"fill: #1f77b4; stroke: #1f77b4\"/>\n     <use xlink:href=\"#mf51f41a3f2\" x=\"83.850939\" y=\"51.036722\" style=\"fill: #1f77b4; stroke: #1f77b4\"/>\n     <use xlink:href=\"#mf51f41a3f2\" x=\"141.027992\" y=\"86.231845\" style=\"fill: #1f77b4; stroke: #1f77b4\"/>\n     <use xlink:href=\"#mf51f41a3f2\" x=\"154.247501\" y=\"88.274551\" style=\"fill: #1f77b4; stroke: #1f77b4\"/>\n     <use xlink:href=\"#mf51f41a3f2\" x=\"160.121656\" y=\"95.94365\" style=\"fill: #1f77b4; stroke: #1f77b4\"/>\n     <use xlink:href=\"#mf51f41a3f2\" x=\"115.357437\" y=\"72.276476\" style=\"fill: #1f77b4; stroke: #1f77b4\"/>\n     <use xlink:href=\"#mf51f41a3f2\" x=\"154.957254\" y=\"123.847582\" style=\"fill: #1f77b4; stroke: #1f77b4\"/>\n     <use xlink:href=\"#mf51f41a3f2\" x=\"114.457526\" y=\"81.081629\" style=\"fill: #1f77b4; stroke: #1f77b4\"/>\n     <use xlink:href=\"#mf51f41a3f2\" x=\"141.79867\" y=\"91.633253\" style=\"fill: #1f77b4; stroke: #1f77b4\"/>\n     <use xlink:href=\"#mf51f41a3f2\" x=\"105.975879\" y=\"53.238039\" style=\"fill: #1f77b4; stroke: #1f77b4\"/>\n     <use xlink:href=\"#mf51f41a3f2\" x=\"143.845967\" y=\"102.912603\" style=\"fill: #1f77b4; stroke: #1f77b4\"/>\n     <use xlink:href=\"#mf51f41a3f2\" x=\"81.062169\" y=\"48.544404\" style=\"fill: #1f77b4; stroke: #1f77b4\"/>\n     <use xlink:href=\"#mf51f41a3f2\" x=\"143.938656\" y=\"94.333773\" style=\"fill: #1f77b4; stroke: #1f77b4\"/>\n     <use xlink:href=\"#mf51f41a3f2\" x=\"148.639178\" y=\"82.433939\" style=\"fill: #1f77b4; stroke: #1f77b4\"/>\n     <use xlink:href=\"#mf51f41a3f2\" x=\"104.696868\" y=\"70.228886\" style=\"fill: #1f77b4; stroke: #1f77b4\"/>\n     <use xlink:href=\"#mf51f41a3f2\" x=\"142.132813\" y=\"65.055614\" style=\"fill: #1f77b4; stroke: #1f77b4\"/>\n     <use xlink:href=\"#mf51f41a3f2\" x=\"212.554171\" y=\"134.767415\" style=\"fill: #1f77b4; stroke: #1f77b4\"/>\n     <use xlink:href=\"#mf51f41a3f2\" x=\"126.767024\" y=\"83.736678\" style=\"fill: #1f77b4; stroke: #1f77b4\"/>\n     <use xlink:href=\"#mf51f41a3f2\" x=\"128.9979\" y=\"79.995154\" style=\"fill: #1f77b4; stroke: #1f77b4\"/>\n     <use xlink:href=\"#mf51f41a3f2\" x=\"134.85313\" y=\"71.793778\" style=\"fill: #1f77b4; stroke: #1f77b4\"/>\n     <use xlink:href=\"#mf51f41a3f2\" x=\"146.686251\" y=\"112.453102\" style=\"fill: #1f77b4; stroke: #1f77b4\"/>\n     <use xlink:href=\"#mf51f41a3f2\" x=\"134.243655\" y=\"87.561655\" style=\"fill: #1f77b4; stroke: #1f77b4\"/>\n     <use xlink:href=\"#mf51f41a3f2\" x=\"162.514819\" y=\"119.525991\" style=\"fill: #1f77b4; stroke: #1f77b4\"/>\n     <use xlink:href=\"#mf51f41a3f2\" x=\"105.343463\" y=\"55.275504\" style=\"fill: #1f77b4; stroke: #1f77b4\"/>\n     <use xlink:href=\"#mf51f41a3f2\" x=\"124.765927\" y=\"56.900747\" style=\"fill: #1f77b4; stroke: #1f77b4\"/>\n     <use xlink:href=\"#mf51f41a3f2\" x=\"127.65571\" y=\"69.791161\" style=\"fill: #1f77b4; stroke: #1f77b4\"/>\n     <use xlink:href=\"#mf51f41a3f2\" x=\"156.990409\" y=\"106.974208\" style=\"fill: #1f77b4; stroke: #1f77b4\"/>\n     <use xlink:href=\"#mf51f41a3f2\" x=\"137.683053\" y=\"59.598513\" style=\"fill: #1f77b4; stroke: #1f77b4\"/>\n     <use xlink:href=\"#mf51f41a3f2\" x=\"123.915766\" y=\"74.065714\" style=\"fill: #1f77b4; stroke: #1f77b4\"/>\n     <use xlink:href=\"#mf51f41a3f2\" x=\"137.765211\" y=\"84.697679\" style=\"fill: #1f77b4; stroke: #1f77b4\"/>\n     <use xlink:href=\"#mf51f41a3f2\" x=\"146.386799\" y=\"75.621389\" style=\"fill: #1f77b4; stroke: #1f77b4\"/>\n     <use xlink:href=\"#mf51f41a3f2\" x=\"137.171285\" y=\"85.880496\" style=\"fill: #1f77b4; stroke: #1f77b4\"/>\n     <use xlink:href=\"#mf51f41a3f2\" x=\"85.960331\" y=\"36.435862\" style=\"fill: #1f77b4; stroke: #1f77b4\"/>\n     <use xlink:href=\"#mf51f41a3f2\" x=\"114.405802\" y=\"60.980648\" style=\"fill: #1f77b4; stroke: #1f77b4\"/>\n     <use xlink:href=\"#mf51f41a3f2\" x=\"168.127272\" y=\"99.523217\" style=\"fill: #1f77b4; stroke: #1f77b4\"/>\n     <use xlink:href=\"#mf51f41a3f2\" x=\"96.746279\" y=\"56.328637\" style=\"fill: #1f77b4; stroke: #1f77b4\"/>\n     <use xlink:href=\"#mf51f41a3f2\" x=\"83.837603\" y=\"34.799367\" style=\"fill: #1f77b4; stroke: #1f77b4\"/>\n     <use xlink:href=\"#mf51f41a3f2\" x=\"154.056257\" y=\"93.200932\" style=\"fill: #1f77b4; stroke: #1f77b4\"/>\n     <use xlink:href=\"#mf51f41a3f2\" x=\"150.923236\" y=\"87.194196\" style=\"fill: #1f77b4; stroke: #1f77b4\"/>\n     <use xlink:href=\"#mf51f41a3f2\" x=\"124.899187\" y=\"87.557726\" style=\"fill: #1f77b4; stroke: #1f77b4\"/>\n     <use xlink:href=\"#mf51f41a3f2\" x=\"119.333908\" y=\"75.961279\" style=\"fill: #1f77b4; stroke: #1f77b4\"/>\n     <use xlink:href=\"#mf51f41a3f2\" x=\"103.826032\" y=\"59.708928\" style=\"fill: #1f77b4; stroke: #1f77b4\"/>\n     <use xlink:href=\"#mf51f41a3f2\" x=\"107.277251\" y=\"52.514849\" style=\"fill: #1f77b4; stroke: #1f77b4\"/>\n     <use xlink:href=\"#mf51f41a3f2\" x=\"91.496879\" y=\"65.019082\" style=\"fill: #1f77b4; stroke: #1f77b4\"/>\n     <use xlink:href=\"#mf51f41a3f2\" x=\"178.858209\" y=\"110.268087\" style=\"fill: #1f77b4; stroke: #1f77b4\"/>\n     <use xlink:href=\"#mf51f41a3f2\" x=\"127.204153\" y=\"97.792768\" style=\"fill: #1f77b4; stroke: #1f77b4\"/>\n     <use xlink:href=\"#mf51f41a3f2\" x=\"138.543441\" y=\"109.42428\" style=\"fill: #1f77b4; stroke: #1f77b4\"/>\n     <use xlink:href=\"#mf51f41a3f2\" x=\"115.483687\" y=\"65.366003\" style=\"fill: #1f77b4; stroke: #1f77b4\"/>\n     <use xlink:href=\"#mf51f41a3f2\" x=\"93.543864\" y=\"55.427629\" style=\"fill: #1f77b4; stroke: #1f77b4\"/>\n     <use xlink:href=\"#mf51f41a3f2\" x=\"90.487578\" y=\"57.087933\" style=\"fill: #1f77b4; stroke: #1f77b4\"/>\n     <use xlink:href=\"#mf51f41a3f2\" x=\"117.006073\" y=\"70.663758\" style=\"fill: #1f77b4; stroke: #1f77b4\"/>\n     <use xlink:href=\"#mf51f41a3f2\" x=\"125.513595\" y=\"84.529227\" style=\"fill: #1f77b4; stroke: #1f77b4\"/>\n     <use xlink:href=\"#mf51f41a3f2\" x=\"116.634817\" y=\"72.486678\" style=\"fill: #1f77b4; stroke: #1f77b4\"/>\n     <use xlink:href=\"#mf51f41a3f2\" x=\"162.313611\" y=\"108.820253\" style=\"fill: #1f77b4; stroke: #1f77b4\"/>\n     <use xlink:href=\"#mf51f41a3f2\" x=\"97.186534\" y=\"63.322519\" style=\"fill: #1f77b4; stroke: #1f77b4\"/>\n     <use xlink:href=\"#mf51f41a3f2\" x=\"136.334173\" y=\"86.375789\" style=\"fill: #1f77b4; stroke: #1f77b4\"/>\n     <use xlink:href=\"#mf51f41a3f2\" x=\"102.112424\" y=\"56.577116\" style=\"fill: #1f77b4; stroke: #1f77b4\"/>\n     <use xlink:href=\"#mf51f41a3f2\" x=\"156.602197\" y=\"106.48956\" style=\"fill: #1f77b4; stroke: #1f77b4\"/>\n     <use xlink:href=\"#mf51f41a3f2\" x=\"106.637456\" y=\"67.418987\" style=\"fill: #1f77b4; stroke: #1f77b4\"/>\n     <use xlink:href=\"#mf51f41a3f2\" x=\"52.779713\" y=\"23.622728\" style=\"fill: #1f77b4; stroke: #1f77b4\"/>\n     <use xlink:href=\"#mf51f41a3f2\" x=\"137.391692\" y=\"73.402151\" style=\"fill: #1f77b4; stroke: #1f77b4\"/>\n     <use xlink:href=\"#mf51f41a3f2\" x=\"97.123271\" y=\"49.072419\" style=\"fill: #1f77b4; stroke: #1f77b4\"/>\n     <use xlink:href=\"#mf51f41a3f2\" x=\"140.665769\" y=\"84.560081\" style=\"fill: #1f77b4; stroke: #1f77b4\"/>\n     <use xlink:href=\"#mf51f41a3f2\" x=\"102.218602\" y=\"50.809952\" style=\"fill: #1f77b4; stroke: #1f77b4\"/>\n     <use xlink:href=\"#mf51f41a3f2\" x=\"112.43781\" y=\"74.867206\" style=\"fill: #1f77b4; stroke: #1f77b4\"/>\n     <use xlink:href=\"#mf51f41a3f2\" x=\"136.292758\" y=\"58.622627\" style=\"fill: #1f77b4; stroke: #1f77b4\"/>\n     <use xlink:href=\"#mf51f41a3f2\" x=\"106.685776\" y=\"59.38648\" style=\"fill: #1f77b4; stroke: #1f77b4\"/>\n     <use xlink:href=\"#mf51f41a3f2\" x=\"100.577714\" y=\"52.749642\" style=\"fill: #1f77b4; stroke: #1f77b4\"/>\n     <use xlink:href=\"#mf51f41a3f2\" x=\"148.149572\" y=\"94.914522\" style=\"fill: #1f77b4; stroke: #1f77b4\"/>\n     <use xlink:href=\"#mf51f41a3f2\" x=\"152.089877\" y=\"85.328542\" style=\"fill: #1f77b4; stroke: #1f77b4\"/>\n     <use xlink:href=\"#mf51f41a3f2\" x=\"168.006324\" y=\"112.867983\" style=\"fill: #1f77b4; stroke: #1f77b4\"/>\n     <use xlink:href=\"#mf51f41a3f2\" x=\"86.907231\" y=\"58.646399\" style=\"fill: #1f77b4; stroke: #1f77b4\"/>\n     <use xlink:href=\"#mf51f41a3f2\" x=\"123.812281\" y=\"91.161578\" style=\"fill: #1f77b4; stroke: #1f77b4\"/>\n     <use xlink:href=\"#mf51f41a3f2\" x=\"135.831466\" y=\"86.559127\" style=\"fill: #1f77b4; stroke: #1f77b4\"/>\n     <use xlink:href=\"#mf51f41a3f2\" x=\"138.448694\" y=\"99.366194\" style=\"fill: #1f77b4; stroke: #1f77b4\"/>\n     <use xlink:href=\"#mf51f41a3f2\" x=\"159.119277\" y=\"85.922362\" style=\"fill: #1f77b4; stroke: #1f77b4\"/>\n     <use xlink:href=\"#mf51f41a3f2\" x=\"122.841223\" y=\"65.433048\" style=\"fill: #1f77b4; stroke: #1f77b4\"/>\n     <use xlink:href=\"#mf51f41a3f2\" x=\"124.926058\" y=\"76.22987\" style=\"fill: #1f77b4; stroke: #1f77b4\"/>\n     <use xlink:href=\"#mf51f41a3f2\" x=\"103.084273\" y=\"56.389053\" style=\"fill: #1f77b4; stroke: #1f77b4\"/>\n     <use xlink:href=\"#mf51f41a3f2\" x=\"128.781613\" y=\"80.057231\" style=\"fill: #1f77b4; stroke: #1f77b4\"/>\n     <use xlink:href=\"#mf51f41a3f2\" x=\"121.120254\" y=\"90.859928\" style=\"fill: #1f77b4; stroke: #1f77b4\"/>\n     <use xlink:href=\"#mf51f41a3f2\" x=\"109.326871\" y=\"82.367634\" style=\"fill: #1f77b4; stroke: #1f77b4\"/>\n     <use xlink:href=\"#mf51f41a3f2\" x=\"111.317168\" y=\"77.349082\" style=\"fill: #1f77b4; stroke: #1f77b4\"/>\n     <use xlink:href=\"#mf51f41a3f2\" x=\"159.912275\" y=\"89.221737\" style=\"fill: #1f77b4; stroke: #1f77b4\"/>\n     <use xlink:href=\"#mf51f41a3f2\" x=\"97.472436\" y=\"54.05109\" style=\"fill: #1f77b4; stroke: #1f77b4\"/>\n     <use xlink:href=\"#mf51f41a3f2\" x=\"154.293152\" y=\"77.210276\" style=\"fill: #1f77b4; stroke: #1f77b4\"/>\n     <use xlink:href=\"#mf51f41a3f2\" x=\"146.669416\" y=\"86.202481\" style=\"fill: #1f77b4; stroke: #1f77b4\"/>\n     <use xlink:href=\"#mf51f41a3f2\" x=\"100.032153\" y=\"63.186637\" style=\"fill: #1f77b4; stroke: #1f77b4\"/>\n     <use xlink:href=\"#mf51f41a3f2\" x=\"112.913778\" y=\"53.815197\" style=\"fill: #1f77b4; stroke: #1f77b4\"/>\n     <use xlink:href=\"#mf51f41a3f2\" x=\"122.593006\" y=\"82.449203\" style=\"fill: #1f77b4; stroke: #1f77b4\"/>\n     <use xlink:href=\"#mf51f41a3f2\" x=\"94.039192\" y=\"68.430831\" style=\"fill: #1f77b4; stroke: #1f77b4\"/>\n     <use xlink:href=\"#mf51f41a3f2\" x=\"125.245823\" y=\"69.061893\" style=\"fill: #1f77b4; stroke: #1f77b4\"/>\n     <use xlink:href=\"#mf51f41a3f2\" x=\"133.563119\" y=\"86.664915\" style=\"fill: #1f77b4; stroke: #1f77b4\"/>\n     <use xlink:href=\"#mf51f41a3f2\" x=\"145.233434\" y=\"85.353284\" style=\"fill: #1f77b4; stroke: #1f77b4\"/>\n     <use xlink:href=\"#mf51f41a3f2\" x=\"114.331601\" y=\"68.891269\" style=\"fill: #1f77b4; stroke: #1f77b4\"/>\n     <use xlink:href=\"#mf51f41a3f2\" x=\"76.725315\" y=\"49.807831\" style=\"fill: #1f77b4; stroke: #1f77b4\"/>\n     <use xlink:href=\"#mf51f41a3f2\" x=\"124.668248\" y=\"96.040845\" style=\"fill: #1f77b4; stroke: #1f77b4\"/>\n     <use xlink:href=\"#mf51f41a3f2\" x=\"149.117307\" y=\"97.170794\" style=\"fill: #1f77b4; stroke: #1f77b4\"/>\n     <use xlink:href=\"#mf51f41a3f2\" x=\"90.389889\" y=\"51.84785\" style=\"fill: #1f77b4; stroke: #1f77b4\"/>\n     <use xlink:href=\"#mf51f41a3f2\" x=\"71.594155\" y=\"39.866426\" style=\"fill: #1f77b4; stroke: #1f77b4\"/>\n     <use xlink:href=\"#mf51f41a3f2\" x=\"122.991808\" y=\"85.68919\" style=\"fill: #1f77b4; stroke: #1f77b4\"/>\n     <use xlink:href=\"#mf51f41a3f2\" x=\"136.839089\" y=\"57.570835\" style=\"fill: #1f77b4; stroke: #1f77b4\"/>\n     <use xlink:href=\"#mf51f41a3f2\" x=\"149.09979\" y=\"81.703119\" style=\"fill: #1f77b4; stroke: #1f77b4\"/>\n     <use xlink:href=\"#mf51f41a3f2\" x=\"108.727072\" y=\"61.70697\" style=\"fill: #1f77b4; stroke: #1f77b4\"/>\n     <use xlink:href=\"#mf51f41a3f2\" x=\"92.452464\" y=\"44.933531\" style=\"fill: #1f77b4; stroke: #1f77b4\"/>\n     <use xlink:href=\"#mf51f41a3f2\" x=\"90.733758\" y=\"34.876542\" style=\"fill: #1f77b4; stroke: #1f77b4\"/>\n     <use xlink:href=\"#mf51f41a3f2\" x=\"118.313735\" y=\"64.016891\" style=\"fill: #1f77b4; stroke: #1f77b4\"/>\n     <use xlink:href=\"#mf51f41a3f2\" x=\"144.596672\" y=\"94.842868\" style=\"fill: #1f77b4; stroke: #1f77b4\"/>\n     <use xlink:href=\"#mf51f41a3f2\" x=\"121.262066\" y=\"67.644028\" style=\"fill: #1f77b4; stroke: #1f77b4\"/>\n     <use xlink:href=\"#mf51f41a3f2\" x=\"146.994911\" y=\"115.148997\" style=\"fill: #1f77b4; stroke: #1f77b4\"/>\n     <use xlink:href=\"#mf51f41a3f2\" x=\"99.909036\" y=\"65.357591\" style=\"fill: #1f77b4; stroke: #1f77b4\"/>\n     <use xlink:href=\"#mf51f41a3f2\" x=\"135.18836\" y=\"91.265275\" style=\"fill: #1f77b4; stroke: #1f77b4\"/>\n     <use xlink:href=\"#mf51f41a3f2\" x=\"112.973266\" y=\"63.242777\" style=\"fill: #1f77b4; stroke: #1f77b4\"/>\n     <use xlink:href=\"#mf51f41a3f2\" x=\"79.919821\" y=\"40.629272\" style=\"fill: #1f77b4; stroke: #1f77b4\"/>\n     <use xlink:href=\"#mf51f41a3f2\" x=\"94.613173\" y=\"48.487267\" style=\"fill: #1f77b4; stroke: #1f77b4\"/>\n     <use xlink:href=\"#mf51f41a3f2\" x=\"77.936784\" y=\"27.258726\" style=\"fill: #1f77b4; stroke: #1f77b4\"/>\n     <use xlink:href=\"#mf51f41a3f2\" x=\"175.393937\" y=\"101.017726\" style=\"fill: #1f77b4; stroke: #1f77b4\"/>\n     <use xlink:href=\"#mf51f41a3f2\" x=\"89.664957\" y=\"30.631119\" style=\"fill: #1f77b4; stroke: #1f77b4\"/>\n     <use xlink:href=\"#mf51f41a3f2\" x=\"102.692416\" y=\"50.012207\" style=\"fill: #1f77b4; stroke: #1f77b4\"/>\n     <use xlink:href=\"#mf51f41a3f2\" x=\"70.272283\" y=\"46.679328\" style=\"fill: #1f77b4; stroke: #1f77b4\"/>\n     <use xlink:href=\"#mf51f41a3f2\" x=\"117.857752\" y=\"93.54715\" style=\"fill: #1f77b4; stroke: #1f77b4\"/>\n     <use xlink:href=\"#mf51f41a3f2\" x=\"172.414758\" y=\"99.320513\" style=\"fill: #1f77b4; stroke: #1f77b4\"/>\n     <use xlink:href=\"#mf51f41a3f2\" x=\"112.081259\" y=\"57.630363\" style=\"fill: #1f77b4; stroke: #1f77b4\"/>\n     <use xlink:href=\"#mf51f41a3f2\" x=\"152.155257\" y=\"98.864817\" style=\"fill: #1f77b4; stroke: #1f77b4\"/>\n     <use xlink:href=\"#mf51f41a3f2\" x=\"102.450119\" y=\"54.992902\" style=\"fill: #1f77b4; stroke: #1f77b4\"/>\n     <use xlink:href=\"#mf51f41a3f2\" x=\"160.144139\" y=\"82.905974\" style=\"fill: #1f77b4; stroke: #1f77b4\"/>\n     <use xlink:href=\"#mf51f41a3f2\" x=\"139.647063\" y=\"87.933624\" style=\"fill: #1f77b4; stroke: #1f77b4\"/>\n     <use xlink:href=\"#mf51f41a3f2\" x=\"80.057213\" y=\"42.481625\" style=\"fill: #1f77b4; stroke: #1f77b4\"/>\n     <use xlink:href=\"#mf51f41a3f2\" x=\"161.177929\" y=\"88.022004\" style=\"fill: #1f77b4; stroke: #1f77b4\"/>\n     <use xlink:href=\"#mf51f41a3f2\" x=\"126.268579\" y=\"88.812125\" style=\"fill: #1f77b4; stroke: #1f77b4\"/>\n     <use xlink:href=\"#mf51f41a3f2\" x=\"153.576262\" y=\"103.872501\" style=\"fill: #1f77b4; stroke: #1f77b4\"/>\n     <use xlink:href=\"#mf51f41a3f2\" x=\"109.954176\" y=\"54.457817\" style=\"fill: #1f77b4; stroke: #1f77b4\"/>\n     <use xlink:href=\"#mf51f41a3f2\" x=\"109.855094\" y=\"67.883412\" style=\"fill: #1f77b4; stroke: #1f77b4\"/>\n     <use xlink:href=\"#mf51f41a3f2\" x=\"154.302244\" y=\"100.639295\" style=\"fill: #1f77b4; stroke: #1f77b4\"/>\n     <use xlink:href=\"#mf51f41a3f2\" x=\"110.759621\" y=\"47.242896\" style=\"fill: #1f77b4; stroke: #1f77b4\"/>\n     <use xlink:href=\"#mf51f41a3f2\" x=\"110.864038\" y=\"61.816965\" style=\"fill: #1f77b4; stroke: #1f77b4\"/>\n     <use xlink:href=\"#mf51f41a3f2\" x=\"137.198254\" y=\"84.06981\" style=\"fill: #1f77b4; stroke: #1f77b4\"/>\n     <use xlink:href=\"#mf51f41a3f2\" x=\"96.43992\" y=\"61.438903\" style=\"fill: #1f77b4; stroke: #1f77b4\"/>\n     <use xlink:href=\"#mf51f41a3f2\" x=\"121.248323\" y=\"63.408594\" style=\"fill: #1f77b4; stroke: #1f77b4\"/>\n     <use xlink:href=\"#mf51f41a3f2\" x=\"142.07725\" y=\"105.277036\" style=\"fill: #1f77b4; stroke: #1f77b4\"/>\n     <use xlink:href=\"#mf51f41a3f2\" x=\"143.070035\" y=\"94.969274\" style=\"fill: #1f77b4; stroke: #1f77b4\"/>\n     <use xlink:href=\"#mf51f41a3f2\" x=\"151.701413\" y=\"85.427335\" style=\"fill: #1f77b4; stroke: #1f77b4\"/>\n     <use xlink:href=\"#mf51f41a3f2\" x=\"124.61775\" y=\"67.163204\" style=\"fill: #1f77b4; stroke: #1f77b4\"/>\n     <use xlink:href=\"#mf51f41a3f2\" x=\"130.555821\" y=\"97.423125\" style=\"fill: #1f77b4; stroke: #1f77b4\"/>\n     <use xlink:href=\"#mf51f41a3f2\" x=\"141.462737\" y=\"97.314228\" style=\"fill: #1f77b4; stroke: #1f77b4\"/>\n     <use xlink:href=\"#mf51f41a3f2\" x=\"108.23515\" y=\"75.997691\" style=\"fill: #1f77b4; stroke: #1f77b4\"/>\n     <use xlink:href=\"#mf51f41a3f2\" x=\"98.380732\" y=\"81.512241\" style=\"fill: #1f77b4; stroke: #1f77b4\"/>\n     <use xlink:href=\"#mf51f41a3f2\" x=\"141.895799\" y=\"88.398387\" style=\"fill: #1f77b4; stroke: #1f77b4\"/>\n     <use xlink:href=\"#mf51f41a3f2\" x=\"129.604953\" y=\"90.187513\" style=\"fill: #1f77b4; stroke: #1f77b4\"/>\n     <use xlink:href=\"#mf51f41a3f2\" x=\"88.344312\" y=\"59.358265\" style=\"fill: #1f77b4; stroke: #1f77b4\"/>\n     <use xlink:href=\"#mf51f41a3f2\" x=\"140.437003\" y=\"66.622435\" style=\"fill: #1f77b4; stroke: #1f77b4\"/>\n     <use xlink:href=\"#mf51f41a3f2\" x=\"140.077033\" y=\"72.337779\" style=\"fill: #1f77b4; stroke: #1f77b4\"/>\n     <use xlink:href=\"#mf51f41a3f2\" x=\"117.065799\" y=\"70.276085\" style=\"fill: #1f77b4; stroke: #1f77b4\"/>\n     <use xlink:href=\"#mf51f41a3f2\" x=\"197.260964\" y=\"132.377622\" style=\"fill: #1f77b4; stroke: #1f77b4\"/>\n     <use xlink:href=\"#mf51f41a3f2\" x=\"141.296867\" y=\"73.320927\" style=\"fill: #1f77b4; stroke: #1f77b4\"/>\n     <use xlink:href=\"#mf51f41a3f2\" x=\"168.436813\" y=\"93.737677\" style=\"fill: #1f77b4; stroke: #1f77b4\"/>\n     <use xlink:href=\"#mf51f41a3f2\" x=\"55.344329\" y=\"14.736408\" style=\"fill: #1f77b4; stroke: #1f77b4\"/>\n     <use xlink:href=\"#mf51f41a3f2\" x=\"151.511638\" y=\"94.971651\" style=\"fill: #1f77b4; stroke: #1f77b4\"/>\n     <use xlink:href=\"#mf51f41a3f2\" x=\"120.07246\" y=\"83.829842\" style=\"fill: #1f77b4; stroke: #1f77b4\"/>\n     <use xlink:href=\"#mf51f41a3f2\" x=\"107.23903\" y=\"58.155721\" style=\"fill: #1f77b4; stroke: #1f77b4\"/>\n     <use xlink:href=\"#mf51f41a3f2\" x=\"119.284586\" y=\"79.718405\" style=\"fill: #1f77b4; stroke: #1f77b4\"/>\n     <use xlink:href=\"#mf51f41a3f2\" x=\"123.484847\" y=\"81.060966\" style=\"fill: #1f77b4; stroke: #1f77b4\"/>\n     <use xlink:href=\"#mf51f41a3f2\" x=\"123.040916\" y=\"76.433189\" style=\"fill: #1f77b4; stroke: #1f77b4\"/>\n     <use xlink:href=\"#mf51f41a3f2\" x=\"144.132552\" y=\"104.462317\" style=\"fill: #1f77b4; stroke: #1f77b4\"/>\n     <use xlink:href=\"#mf51f41a3f2\" x=\"123.224473\" y=\"84.944001\" style=\"fill: #1f77b4; stroke: #1f77b4\"/>\n     <use xlink:href=\"#mf51f41a3f2\" x=\"145.995494\" y=\"91.925694\" style=\"fill: #1f77b4; stroke: #1f77b4\"/>\n     <use xlink:href=\"#mf51f41a3f2\" x=\"97.993165\" y=\"54.724272\" style=\"fill: #1f77b4; stroke: #1f77b4\"/>\n     <use xlink:href=\"#mf51f41a3f2\" x=\"112.132497\" y=\"59.063015\" style=\"fill: #1f77b4; stroke: #1f77b4\"/>\n     <use xlink:href=\"#mf51f41a3f2\" x=\"134.782958\" y=\"86.438295\" style=\"fill: #1f77b4; stroke: #1f77b4\"/>\n     <use xlink:href=\"#mf51f41a3f2\" x=\"143.115789\" y=\"86.346615\" style=\"fill: #1f77b4; stroke: #1f77b4\"/>\n     <use xlink:href=\"#mf51f41a3f2\" x=\"139.493134\" y=\"84.715024\" style=\"fill: #1f77b4; stroke: #1f77b4\"/>\n     <use xlink:href=\"#mf51f41a3f2\" x=\"128.475654\" y=\"73.757316\" style=\"fill: #1f77b4; stroke: #1f77b4\"/>\n     <use xlink:href=\"#mf51f41a3f2\" x=\"150.459494\" y=\"82.643027\" style=\"fill: #1f77b4; stroke: #1f77b4\"/>\n     <use xlink:href=\"#mf51f41a3f2\" x=\"156.824402\" y=\"98.691559\" style=\"fill: #1f77b4; stroke: #1f77b4\"/>\n     <use xlink:href=\"#mf51f41a3f2\" x=\"107.734912\" y=\"62.117408\" style=\"fill: #1f77b4; stroke: #1f77b4\"/>\n     <use xlink:href=\"#mf51f41a3f2\" x=\"144.047118\" y=\"90.418333\" style=\"fill: #1f77b4; stroke: #1f77b4\"/>\n     <use xlink:href=\"#mf51f41a3f2\" x=\"82.381307\" y=\"61.898869\" style=\"fill: #1f77b4; stroke: #1f77b4\"/>\n     <use xlink:href=\"#mf51f41a3f2\" x=\"129.105028\" y=\"98.552721\" style=\"fill: #1f77b4; stroke: #1f77b4\"/>\n     <use xlink:href=\"#mf51f41a3f2\" x=\"136.23882\" y=\"73.441901\" style=\"fill: #1f77b4; stroke: #1f77b4\"/>\n     <use xlink:href=\"#mf51f41a3f2\" x=\"130.574786\" y=\"78.848194\" style=\"fill: #1f77b4; stroke: #1f77b4\"/>\n     <use xlink:href=\"#mf51f41a3f2\" x=\"106.020637\" y=\"60.172476\" style=\"fill: #1f77b4; stroke: #1f77b4\"/>\n     <use xlink:href=\"#mf51f41a3f2\" x=\"144.161762\" y=\"60.169629\" style=\"fill: #1f77b4; stroke: #1f77b4\"/>\n     <use xlink:href=\"#mf51f41a3f2\" x=\"170.347149\" y=\"115.878637\" style=\"fill: #1f77b4; stroke: #1f77b4\"/>\n     <use xlink:href=\"#mf51f41a3f2\" x=\"149.373042\" y=\"112.212433\" style=\"fill: #1f77b4; stroke: #1f77b4\"/>\n     <use xlink:href=\"#mf51f41a3f2\" x=\"82.020914\" y=\"41.588749\" style=\"fill: #1f77b4; stroke: #1f77b4\"/>\n     <use xlink:href=\"#mf51f41a3f2\" x=\"127.560683\" y=\"81.890782\" style=\"fill: #1f77b4; stroke: #1f77b4\"/>\n     <use xlink:href=\"#mf51f41a3f2\" x=\"154.988268\" y=\"122.017756\" style=\"fill: #1f77b4; stroke: #1f77b4\"/>\n     <use xlink:href=\"#mf51f41a3f2\" x=\"123.788564\" y=\"64.683348\" style=\"fill: #1f77b4; stroke: #1f77b4\"/>\n     <use xlink:href=\"#mf51f41a3f2\" x=\"100.460286\" y=\"52.342549\" style=\"fill: #1f77b4; stroke: #1f77b4\"/>\n     <use xlink:href=\"#mf51f41a3f2\" x=\"139.183154\" y=\"77.622803\" style=\"fill: #1f77b4; stroke: #1f77b4\"/>\n     <use xlink:href=\"#mf51f41a3f2\" x=\"107.784613\" y=\"65.341569\" style=\"fill: #1f77b4; stroke: #1f77b4\"/>\n     <use xlink:href=\"#mf51f41a3f2\" x=\"112.858786\" y=\"66.733121\" style=\"fill: #1f77b4; stroke: #1f77b4\"/>\n     <use xlink:href=\"#mf51f41a3f2\" x=\"156.867638\" y=\"109.429841\" style=\"fill: #1f77b4; stroke: #1f77b4\"/>\n     <use xlink:href=\"#mf51f41a3f2\" x=\"89.36178\" y=\"68.018713\" style=\"fill: #1f77b4; stroke: #1f77b4\"/>\n     <use xlink:href=\"#mf51f41a3f2\" x=\"153.292769\" y=\"107.657482\" style=\"fill: #1f77b4; stroke: #1f77b4\"/>\n     <use xlink:href=\"#mf51f41a3f2\" x=\"172.514608\" y=\"109.385222\" style=\"fill: #1f77b4; stroke: #1f77b4\"/>\n     <use xlink:href=\"#mf51f41a3f2\" x=\"147.438606\" y=\"81.958687\" style=\"fill: #1f77b4; stroke: #1f77b4\"/>\n     <use xlink:href=\"#mf51f41a3f2\" x=\"126.380195\" y=\"72.464521\" style=\"fill: #1f77b4; stroke: #1f77b4\"/>\n     <use xlink:href=\"#mf51f41a3f2\" x=\"123.629965\" y=\"67.629041\" style=\"fill: #1f77b4; stroke: #1f77b4\"/>\n     <use xlink:href=\"#mf51f41a3f2\" x=\"86.613293\" y=\"63.043531\" style=\"fill: #1f77b4; stroke: #1f77b4\"/>\n     <use xlink:href=\"#mf51f41a3f2\" x=\"188.057751\" y=\"119.129462\" style=\"fill: #1f77b4; stroke: #1f77b4\"/>\n     <use xlink:href=\"#mf51f41a3f2\" x=\"105.032045\" y=\"65.910009\" style=\"fill: #1f77b4; stroke: #1f77b4\"/>\n     <use xlink:href=\"#mf51f41a3f2\" x=\"100.846594\" y=\"43.139634\" style=\"fill: #1f77b4; stroke: #1f77b4\"/>\n     <use xlink:href=\"#mf51f41a3f2\" x=\"72.313967\" y=\"37.598127\" style=\"fill: #1f77b4; stroke: #1f77b4\"/>\n     <use xlink:href=\"#mf51f41a3f2\" x=\"165.890236\" y=\"104.716014\" style=\"fill: #1f77b4; stroke: #1f77b4\"/>\n     <use xlink:href=\"#mf51f41a3f2\" x=\"104.05777\" y=\"64.438197\" style=\"fill: #1f77b4; stroke: #1f77b4\"/>\n     <use xlink:href=\"#mf51f41a3f2\" x=\"164.797935\" y=\"112.134819\" style=\"fill: #1f77b4; stroke: #1f77b4\"/>\n     <use xlink:href=\"#mf51f41a3f2\" x=\"121.535435\" y=\"84.181107\" style=\"fill: #1f77b4; stroke: #1f77b4\"/>\n     <use xlink:href=\"#mf51f41a3f2\" x=\"104.737115\" y=\"59.9861\" style=\"fill: #1f77b4; stroke: #1f77b4\"/>\n     <use xlink:href=\"#mf51f41a3f2\" x=\"149.736166\" y=\"108.803992\" style=\"fill: #1f77b4; stroke: #1f77b4\"/>\n     <use xlink:href=\"#mf51f41a3f2\" x=\"80.51213\" y=\"42.205198\" style=\"fill: #1f77b4; stroke: #1f77b4\"/>\n     <use xlink:href=\"#mf51f41a3f2\" x=\"132.978619\" y=\"80.773118\" style=\"fill: #1f77b4; stroke: #1f77b4\"/>\n     <use xlink:href=\"#mf51f41a3f2\" x=\"131.254171\" y=\"76.499565\" style=\"fill: #1f77b4; stroke: #1f77b4\"/>\n     <use xlink:href=\"#mf51f41a3f2\" x=\"110.440206\" y=\"71.309768\" style=\"fill: #1f77b4; stroke: #1f77b4\"/>\n     <use xlink:href=\"#mf51f41a3f2\" x=\"87.752138\" y=\"61.858249\" style=\"fill: #1f77b4; stroke: #1f77b4\"/>\n     <use xlink:href=\"#mf51f41a3f2\" x=\"139.987217\" y=\"107.070189\" style=\"fill: #1f77b4; stroke: #1f77b4\"/>\n     <use xlink:href=\"#mf51f41a3f2\" x=\"161.158628\" y=\"102.176593\" style=\"fill: #1f77b4; stroke: #1f77b4\"/>\n     <use xlink:href=\"#mf51f41a3f2\" x=\"150.505851\" y=\"112.687817\" style=\"fill: #1f77b4; stroke: #1f77b4\"/>\n     <use xlink:href=\"#mf51f41a3f2\" x=\"143.283915\" y=\"95.331666\" style=\"fill: #1f77b4; stroke: #1f77b4\"/>\n     <use xlink:href=\"#mf51f41a3f2\" x=\"122.871612\" y=\"74.397768\" style=\"fill: #1f77b4; stroke: #1f77b4\"/>\n     <use xlink:href=\"#mf51f41a3f2\" x=\"134.013845\" y=\"85.961357\" style=\"fill: #1f77b4; stroke: #1f77b4\"/>\n     <use xlink:href=\"#mf51f41a3f2\" x=\"103.546734\" y=\"69.747242\" style=\"fill: #1f77b4; stroke: #1f77b4\"/>\n     <use xlink:href=\"#mf51f41a3f2\" x=\"110.771685\" y=\"81.209811\" style=\"fill: #1f77b4; stroke: #1f77b4\"/>\n     <use xlink:href=\"#mf51f41a3f2\" x=\"152.498215\" y=\"109.882646\" style=\"fill: #1f77b4; stroke: #1f77b4\"/>\n     <use xlink:href=\"#mf51f41a3f2\" x=\"112.129793\" y=\"63.197429\" style=\"fill: #1f77b4; stroke: #1f77b4\"/>\n     <use xlink:href=\"#mf51f41a3f2\" x=\"135.265966\" y=\"74.333052\" style=\"fill: #1f77b4; stroke: #1f77b4\"/>\n     <use xlink:href=\"#mf51f41a3f2\" x=\"170.164089\" y=\"137.765927\" style=\"fill: #1f77b4; stroke: #1f77b4\"/>\n     <use xlink:href=\"#mf51f41a3f2\" x=\"97.10349\" y=\"66.353089\" style=\"fill: #1f77b4; stroke: #1f77b4\"/>\n     <use xlink:href=\"#mf51f41a3f2\" x=\"134.533714\" y=\"64.508589\" style=\"fill: #1f77b4; stroke: #1f77b4\"/>\n     <use xlink:href=\"#mf51f41a3f2\" x=\"107.457965\" y=\"68.41376\" style=\"fill: #1f77b4; stroke: #1f77b4\"/>\n     <use xlink:href=\"#mf51f41a3f2\" x=\"151.831269\" y=\"114.044087\" style=\"fill: #1f77b4; stroke: #1f77b4\"/>\n     <use xlink:href=\"#mf51f41a3f2\" x=\"113.087988\" y=\"49.541028\" style=\"fill: #1f77b4; stroke: #1f77b4\"/>\n     <use xlink:href=\"#mf51f41a3f2\" x=\"127.945242\" y=\"68.127896\" style=\"fill: #1f77b4; stroke: #1f77b4\"/>\n     <use xlink:href=\"#mf51f41a3f2\" x=\"116.361252\" y=\"60.33998\" style=\"fill: #1f77b4; stroke: #1f77b4\"/>\n     <use xlink:href=\"#mf51f41a3f2\" x=\"97.795817\" y=\"52.139689\" style=\"fill: #1f77b4; stroke: #1f77b4\"/>\n     <use xlink:href=\"#mf51f41a3f2\" x=\"131.148424\" y=\"79.266127\" style=\"fill: #1f77b4; stroke: #1f77b4\"/>\n     <use xlink:href=\"#mf51f41a3f2\" x=\"157.796899\" y=\"110.037658\" style=\"fill: #1f77b4; stroke: #1f77b4\"/>\n     <use xlink:href=\"#mf51f41a3f2\" x=\"154.31585\" y=\"110.81874\" style=\"fill: #1f77b4; stroke: #1f77b4\"/>\n     <use xlink:href=\"#mf51f41a3f2\" x=\"133.894931\" y=\"73.852776\" style=\"fill: #1f77b4; stroke: #1f77b4\"/>\n     <use xlink:href=\"#mf51f41a3f2\" x=\"105.169124\" y=\"51.23655\" style=\"fill: #1f77b4; stroke: #1f77b4\"/>\n     <use xlink:href=\"#mf51f41a3f2\" x=\"180.695725\" y=\"124.288321\" style=\"fill: #1f77b4; stroke: #1f77b4\"/>\n     <use xlink:href=\"#mf51f41a3f2\" x=\"148.272056\" y=\"81.183862\" style=\"fill: #1f77b4; stroke: #1f77b4\"/>\n     <use xlink:href=\"#mf51f41a3f2\" x=\"119.999788\" y=\"62.186895\" style=\"fill: #1f77b4; stroke: #1f77b4\"/>\n     <use xlink:href=\"#mf51f41a3f2\" x=\"133.412306\" y=\"71.397475\" style=\"fill: #1f77b4; stroke: #1f77b4\"/>\n     <use xlink:href=\"#mf51f41a3f2\" x=\"91.411428\" y=\"57.323878\" style=\"fill: #1f77b4; stroke: #1f77b4\"/>\n     <use xlink:href=\"#mf51f41a3f2\" x=\"136.790323\" y=\"89.764873\" style=\"fill: #1f77b4; stroke: #1f77b4\"/>\n     <use xlink:href=\"#mf51f41a3f2\" x=\"98.305237\" y=\"46.339898\" style=\"fill: #1f77b4; stroke: #1f77b4\"/>\n     <use xlink:href=\"#mf51f41a3f2\" x=\"173.443109\" y=\"95.892005\" style=\"fill: #1f77b4; stroke: #1f77b4\"/>\n     <use xlink:href=\"#mf51f41a3f2\" x=\"144.670823\" y=\"84.729787\" style=\"fill: #1f77b4; stroke: #1f77b4\"/>\n     <use xlink:href=\"#mf51f41a3f2\" x=\"128.972002\" y=\"88.540125\" style=\"fill: #1f77b4; stroke: #1f77b4\"/>\n     <use xlink:href=\"#mf51f41a3f2\" x=\"138.127179\" y=\"99.450511\" style=\"fill: #1f77b4; stroke: #1f77b4\"/>\n     <use xlink:href=\"#mf51f41a3f2\" x=\"115.043191\" y=\"72.361515\" style=\"fill: #1f77b4; stroke: #1f77b4\"/>\n     <use xlink:href=\"#mf51f41a3f2\" x=\"74.68398\" y=\"56.232396\" style=\"fill: #1f77b4; stroke: #1f77b4\"/>\n     <use xlink:href=\"#mf51f41a3f2\" x=\"134.479014\" y=\"71.597529\" style=\"fill: #1f77b4; stroke: #1f77b4\"/>\n     <use xlink:href=\"#mf51f41a3f2\" x=\"124.022941\" y=\"43.298001\" style=\"fill: #1f77b4; stroke: #1f77b4\"/>\n     <use xlink:href=\"#mf51f41a3f2\" x=\"124.909296\" y=\"64.451421\" style=\"fill: #1f77b4; stroke: #1f77b4\"/>\n     <use xlink:href=\"#mf51f41a3f2\" x=\"136.688164\" y=\"106.406383\" style=\"fill: #1f77b4; stroke: #1f77b4\"/>\n     <use xlink:href=\"#mf51f41a3f2\" x=\"63.968215\" y=\"39.36896\" style=\"fill: #1f77b4; stroke: #1f77b4\"/>\n     <use xlink:href=\"#mf51f41a3f2\" x=\"102.299646\" y=\"70.756535\" style=\"fill: #1f77b4; stroke: #1f77b4\"/>\n     <use xlink:href=\"#mf51f41a3f2\" x=\"135.899169\" y=\"73.749856\" style=\"fill: #1f77b4; stroke: #1f77b4\"/>\n     <use xlink:href=\"#mf51f41a3f2\" x=\"128.786244\" y=\"93.880212\" style=\"fill: #1f77b4; stroke: #1f77b4\"/>\n     <use xlink:href=\"#mf51f41a3f2\" x=\"99.072114\" y=\"69.471469\" style=\"fill: #1f77b4; stroke: #1f77b4\"/>\n     <use xlink:href=\"#mf51f41a3f2\" x=\"63.339149\" y=\"35.370629\" style=\"fill: #1f77b4; stroke: #1f77b4\"/>\n     <use xlink:href=\"#mf51f41a3f2\" x=\"184.846782\" y=\"120.366884\" style=\"fill: #1f77b4; stroke: #1f77b4\"/>\n     <use xlink:href=\"#mf51f41a3f2\" x=\"130.852093\" y=\"72.074421\" style=\"fill: #1f77b4; stroke: #1f77b4\"/>\n     <use xlink:href=\"#mf51f41a3f2\" x=\"142.448127\" y=\"79.496167\" style=\"fill: #1f77b4; stroke: #1f77b4\"/>\n     <use xlink:href=\"#mf51f41a3f2\" x=\"116.211101\" y=\"70.8594\" style=\"fill: #1f77b4; stroke: #1f77b4\"/>\n     <use xlink:href=\"#mf51f41a3f2\" x=\"192.987944\" y=\"102.637066\" style=\"fill: #1f77b4; stroke: #1f77b4\"/>\n     <use xlink:href=\"#mf51f41a3f2\" x=\"161.448211\" y=\"106.389954\" style=\"fill: #1f77b4; stroke: #1f77b4\"/>\n     <use xlink:href=\"#mf51f41a3f2\" x=\"149.84878\" y=\"94.679458\" style=\"fill: #1f77b4; stroke: #1f77b4\"/>\n     <use xlink:href=\"#mf51f41a3f2\" x=\"101.926522\" y=\"61.136456\" style=\"fill: #1f77b4; stroke: #1f77b4\"/>\n     <use xlink:href=\"#mf51f41a3f2\" x=\"148.995995\" y=\"102.280192\" style=\"fill: #1f77b4; stroke: #1f77b4\"/>\n     <use xlink:href=\"#mf51f41a3f2\" x=\"95.157181\" y=\"65.907691\" style=\"fill: #1f77b4; stroke: #1f77b4\"/>\n     <use xlink:href=\"#mf51f41a3f2\" x=\"167.832919\" y=\"102.009624\" style=\"fill: #1f77b4; stroke: #1f77b4\"/>\n     <use xlink:href=\"#mf51f41a3f2\" x=\"120.265169\" y=\"83.890807\" style=\"fill: #1f77b4; stroke: #1f77b4\"/>\n     <use xlink:href=\"#mf51f41a3f2\" x=\"107.240286\" y=\"66.042154\" style=\"fill: #1f77b4; stroke: #1f77b4\"/>\n     <use xlink:href=\"#mf51f41a3f2\" x=\"87.763848\" y=\"50.765102\" style=\"fill: #1f77b4; stroke: #1f77b4\"/>\n     <use xlink:href=\"#mf51f41a3f2\" x=\"137.386452\" y=\"74.761159\" style=\"fill: #1f77b4; stroke: #1f77b4\"/>\n     <use xlink:href=\"#mf51f41a3f2\" x=\"142.853978\" y=\"85.017244\" style=\"fill: #1f77b4; stroke: #1f77b4\"/>\n     <use xlink:href=\"#mf51f41a3f2\" x=\"111.28397\" y=\"72.804761\" style=\"fill: #1f77b4; stroke: #1f77b4\"/>\n     <use xlink:href=\"#mf51f41a3f2\" x=\"133.212368\" y=\"70.34925\" style=\"fill: #1f77b4; stroke: #1f77b4\"/>\n     <use xlink:href=\"#mf51f41a3f2\" x=\"120.795301\" y=\"76.042508\" style=\"fill: #1f77b4; stroke: #1f77b4\"/>\n     <use xlink:href=\"#mf51f41a3f2\" x=\"105.366809\" y=\"51.985879\" style=\"fill: #1f77b4; stroke: #1f77b4\"/>\n     <use xlink:href=\"#mf51f41a3f2\" x=\"99.796236\" y=\"68.513461\" style=\"fill: #1f77b4; stroke: #1f77b4\"/>\n     <use xlink:href=\"#mf51f41a3f2\" x=\"143.033679\" y=\"73.141113\" style=\"fill: #1f77b4; stroke: #1f77b4\"/>\n     <use xlink:href=\"#mf51f41a3f2\" x=\"126.735844\" y=\"89.013848\" style=\"fill: #1f77b4; stroke: #1f77b4\"/>\n     <use xlink:href=\"#mf51f41a3f2\" x=\"141.330356\" y=\"88.724187\" style=\"fill: #1f77b4; stroke: #1f77b4\"/>\n     <use xlink:href=\"#mf51f41a3f2\" x=\"136.914497\" y=\"80.626339\" style=\"fill: #1f77b4; stroke: #1f77b4\"/>\n     <use xlink:href=\"#mf51f41a3f2\" x=\"172.160247\" y=\"111.247115\" style=\"fill: #1f77b4; stroke: #1f77b4\"/>\n     <use xlink:href=\"#mf51f41a3f2\" x=\"126.516738\" y=\"88.505707\" style=\"fill: #1f77b4; stroke: #1f77b4\"/>\n     <use xlink:href=\"#mf51f41a3f2\" x=\"127.277478\" y=\"91.113829\" style=\"fill: #1f77b4; stroke: #1f77b4\"/>\n     <use xlink:href=\"#mf51f41a3f2\" x=\"139.228398\" y=\"83.482059\" style=\"fill: #1f77b4; stroke: #1f77b4\"/>\n     <use xlink:href=\"#mf51f41a3f2\" x=\"84.642253\" y=\"26.448215\" style=\"fill: #1f77b4; stroke: #1f77b4\"/>\n     <use xlink:href=\"#mf51f41a3f2\" x=\"118.791904\" y=\"68.005819\" style=\"fill: #1f77b4; stroke: #1f77b4\"/>\n     <use xlink:href=\"#mf51f41a3f2\" x=\"115.441234\" y=\"48.178718\" style=\"fill: #1f77b4; stroke: #1f77b4\"/>\n     <use xlink:href=\"#mf51f41a3f2\" x=\"111.201725\" y=\"67.02224\" style=\"fill: #1f77b4; stroke: #1f77b4\"/>\n     <use xlink:href=\"#mf51f41a3f2\" x=\"133.028859\" y=\"75.157828\" style=\"fill: #1f77b4; stroke: #1f77b4\"/>\n     <use xlink:href=\"#mf51f41a3f2\" x=\"107.205079\" y=\"67.023665\" style=\"fill: #1f77b4; stroke: #1f77b4\"/>\n     <use xlink:href=\"#mf51f41a3f2\" x=\"118.184041\" y=\"59.511732\" style=\"fill: #1f77b4; stroke: #1f77b4\"/>\n     <use xlink:href=\"#mf51f41a3f2\" x=\"105.301269\" y=\"54.596833\" style=\"fill: #1f77b4; stroke: #1f77b4\"/>\n     <use xlink:href=\"#mf51f41a3f2\" x=\"103.900253\" y=\"66.952719\" style=\"fill: #1f77b4; stroke: #1f77b4\"/>\n     <use xlink:href=\"#mf51f41a3f2\" x=\"61.602958\" y=\"18.272681\" style=\"fill: #1f77b4; stroke: #1f77b4\"/>\n     <use xlink:href=\"#mf51f41a3f2\" x=\"166.613561\" y=\"101.373682\" style=\"fill: #1f77b4; stroke: #1f77b4\"/>\n     <use xlink:href=\"#mf51f41a3f2\" x=\"100.137444\" y=\"64.546191\" style=\"fill: #1f77b4; stroke: #1f77b4\"/>\n     <use xlink:href=\"#mf51f41a3f2\" x=\"88.546805\" y=\"77.197818\" style=\"fill: #1f77b4; stroke: #1f77b4\"/>\n     <use xlink:href=\"#mf51f41a3f2\" x=\"103.019799\" y=\"58.913355\" style=\"fill: #1f77b4; stroke: #1f77b4\"/>\n     <use xlink:href=\"#mf51f41a3f2\" x=\"123.468473\" y=\"68.901233\" style=\"fill: #1f77b4; stroke: #1f77b4\"/>\n     <use xlink:href=\"#mf51f41a3f2\" x=\"134.912416\" y=\"88.331741\" style=\"fill: #1f77b4; stroke: #1f77b4\"/>\n     <use xlink:href=\"#mf51f41a3f2\" x=\"84.699862\" y=\"47.066646\" style=\"fill: #1f77b4; stroke: #1f77b4\"/>\n     <use xlink:href=\"#mf51f41a3f2\" x=\"79.462295\" y=\"52.180039\" style=\"fill: #1f77b4; stroke: #1f77b4\"/>\n     <use xlink:href=\"#mf51f41a3f2\" x=\"118.031651\" y=\"81.50854\" style=\"fill: #1f77b4; stroke: #1f77b4\"/>\n     <use xlink:href=\"#mf51f41a3f2\" x=\"92.298882\" y=\"48.919414\" style=\"fill: #1f77b4; stroke: #1f77b4\"/>\n     <use xlink:href=\"#mf51f41a3f2\" x=\"94.528701\" y=\"42.048554\" style=\"fill: #1f77b4; stroke: #1f77b4\"/>\n     <use xlink:href=\"#mf51f41a3f2\" x=\"167.52999\" y=\"102.194541\" style=\"fill: #1f77b4; stroke: #1f77b4\"/>\n     <use xlink:href=\"#mf51f41a3f2\" x=\"105.30248\" y=\"58.357714\" style=\"fill: #1f77b4; stroke: #1f77b4\"/>\n     <use xlink:href=\"#mf51f41a3f2\" x=\"86.32145\" y=\"63.162093\" style=\"fill: #1f77b4; stroke: #1f77b4\"/>\n     <use xlink:href=\"#mf51f41a3f2\" x=\"83.481692\" y=\"47.518986\" style=\"fill: #1f77b4; stroke: #1f77b4\"/>\n     <use xlink:href=\"#mf51f41a3f2\" x=\"173.192169\" y=\"102.026245\" style=\"fill: #1f77b4; stroke: #1f77b4\"/>\n     <use xlink:href=\"#mf51f41a3f2\" x=\"73.507886\" y=\"33.657322\" style=\"fill: #1f77b4; stroke: #1f77b4\"/>\n     <use xlink:href=\"#mf51f41a3f2\" x=\"165.189668\" y=\"112.653567\" style=\"fill: #1f77b4; stroke: #1f77b4\"/>\n     <use xlink:href=\"#mf51f41a3f2\" x=\"135.582881\" y=\"81.808271\" style=\"fill: #1f77b4; stroke: #1f77b4\"/>\n     <use xlink:href=\"#mf51f41a3f2\" x=\"163.115186\" y=\"101.682158\" style=\"fill: #1f77b4; stroke: #1f77b4\"/>\n     <use xlink:href=\"#mf51f41a3f2\" x=\"115.838439\" y=\"49.630444\" style=\"fill: #1f77b4; stroke: #1f77b4\"/>\n     <use xlink:href=\"#mf51f41a3f2\" x=\"141.790158\" y=\"105.420381\" style=\"fill: #1f77b4; stroke: #1f77b4\"/>\n     <use xlink:href=\"#mf51f41a3f2\" x=\"114.106603\" y=\"70.383456\" style=\"fill: #1f77b4; stroke: #1f77b4\"/>\n     <use xlink:href=\"#mf51f41a3f2\" x=\"100.405567\" y=\"61.306244\" style=\"fill: #1f77b4; stroke: #1f77b4\"/>\n     <use xlink:href=\"#mf51f41a3f2\" x=\"160.437194\" y=\"100.672154\" style=\"fill: #1f77b4; stroke: #1f77b4\"/>\n     <use xlink:href=\"#mf51f41a3f2\" x=\"142.802181\" y=\"94.727529\" style=\"fill: #1f77b4; stroke: #1f77b4\"/>\n     <use xlink:href=\"#mf51f41a3f2\" x=\"162.323853\" y=\"97.479759\" style=\"fill: #1f77b4; stroke: #1f77b4\"/>\n     <use xlink:href=\"#mf51f41a3f2\" x=\"78.555604\" y=\"49.100062\" style=\"fill: #1f77b4; stroke: #1f77b4\"/>\n     <use xlink:href=\"#mf51f41a3f2\" x=\"104.525805\" y=\"67.611659\" style=\"fill: #1f77b4; stroke: #1f77b4\"/>\n     <use xlink:href=\"#mf51f41a3f2\" x=\"103.436579\" y=\"55.221076\" style=\"fill: #1f77b4; stroke: #1f77b4\"/>\n     <use xlink:href=\"#mf51f41a3f2\" x=\"133.548893\" y=\"100.662831\" style=\"fill: #1f77b4; stroke: #1f77b4\"/>\n     <use xlink:href=\"#mf51f41a3f2\" x=\"124.992235\" y=\"75.678567\" style=\"fill: #1f77b4; stroke: #1f77b4\"/>\n     <use xlink:href=\"#mf51f41a3f2\" x=\"155.035877\" y=\"76.176657\" style=\"fill: #1f77b4; stroke: #1f77b4\"/>\n     <use xlink:href=\"#mf51f41a3f2\" x=\"68.183966\" y=\"35.877402\" style=\"fill: #1f77b4; stroke: #1f77b4\"/>\n     <use xlink:href=\"#mf51f41a3f2\" x=\"146.246877\" y=\"94.495178\" style=\"fill: #1f77b4; stroke: #1f77b4\"/>\n     <use xlink:href=\"#mf51f41a3f2\" x=\"137.503471\" y=\"67.542567\" style=\"fill: #1f77b4; stroke: #1f77b4\"/>\n     <use xlink:href=\"#mf51f41a3f2\" x=\"159.134693\" y=\"92.466983\" style=\"fill: #1f77b4; stroke: #1f77b4\"/>\n     <use xlink:href=\"#mf51f41a3f2\" x=\"119.918204\" y=\"72.995287\" style=\"fill: #1f77b4; stroke: #1f77b4\"/>\n     <use xlink:href=\"#mf51f41a3f2\" x=\"141.790973\" y=\"78.739714\" style=\"fill: #1f77b4; stroke: #1f77b4\"/>\n     <use xlink:href=\"#mf51f41a3f2\" x=\"162.567791\" y=\"119.991272\" style=\"fill: #1f77b4; stroke: #1f77b4\"/>\n     <use xlink:href=\"#mf51f41a3f2\" x=\"198.542115\" y=\"118.503913\" style=\"fill: #1f77b4; stroke: #1f77b4\"/>\n     <use xlink:href=\"#mf51f41a3f2\" x=\"145.344039\" y=\"88.978618\" style=\"fill: #1f77b4; stroke: #1f77b4\"/>\n     <use xlink:href=\"#mf51f41a3f2\" x=\"159.990357\" y=\"106.10873\" style=\"fill: #1f77b4; stroke: #1f77b4\"/>\n     <use xlink:href=\"#mf51f41a3f2\" x=\"153.750607\" y=\"78.112941\" style=\"fill: #1f77b4; stroke: #1f77b4\"/>\n     <use xlink:href=\"#mf51f41a3f2\" x=\"129.310705\" y=\"81.228892\" style=\"fill: #1f77b4; stroke: #1f77b4\"/>\n     <use xlink:href=\"#mf51f41a3f2\" x=\"110.836656\" y=\"71.42574\" style=\"fill: #1f77b4; stroke: #1f77b4\"/>\n     <use xlink:href=\"#mf51f41a3f2\" x=\"146.758297\" y=\"107.78233\" style=\"fill: #1f77b4; stroke: #1f77b4\"/>\n     <use xlink:href=\"#mf51f41a3f2\" x=\"120.024105\" y=\"62.415651\" style=\"fill: #1f77b4; stroke: #1f77b4\"/>\n     <use xlink:href=\"#mf51f41a3f2\" x=\"115.108483\" y=\"70.712707\" style=\"fill: #1f77b4; stroke: #1f77b4\"/>\n     <use xlink:href=\"#mf51f41a3f2\" x=\"125.555411\" y=\"88.506335\" style=\"fill: #1f77b4; stroke: #1f77b4\"/>\n     <use xlink:href=\"#mf51f41a3f2\" x=\"108.454522\" y=\"62.274792\" style=\"fill: #1f77b4; stroke: #1f77b4\"/>\n     <use xlink:href=\"#mf51f41a3f2\" x=\"115.712884\" y=\"77.477782\" style=\"fill: #1f77b4; stroke: #1f77b4\"/>\n     <use xlink:href=\"#mf51f41a3f2\" x=\"121.12435\" y=\"73.996027\" style=\"fill: #1f77b4; stroke: #1f77b4\"/>\n     <use xlink:href=\"#mf51f41a3f2\" x=\"106.028986\" y=\"75.612517\" style=\"fill: #1f77b4; stroke: #1f77b4\"/>\n     <use xlink:href=\"#mf51f41a3f2\" x=\"83.345978\" y=\"37.444177\" style=\"fill: #1f77b4; stroke: #1f77b4\"/>\n     <use xlink:href=\"#mf51f41a3f2\" x=\"129.996103\" y=\"57.909051\" style=\"fill: #1f77b4; stroke: #1f77b4\"/>\n     <use xlink:href=\"#mf51f41a3f2\" x=\"81.264507\" y=\"44.486164\" style=\"fill: #1f77b4; stroke: #1f77b4\"/>\n     <use xlink:href=\"#mf51f41a3f2\" x=\"122.379464\" y=\"80.379736\" style=\"fill: #1f77b4; stroke: #1f77b4\"/>\n     <use xlink:href=\"#mf51f41a3f2\" x=\"167.008025\" y=\"98.091161\" style=\"fill: #1f77b4; stroke: #1f77b4\"/>\n     <use xlink:href=\"#mf51f41a3f2\" x=\"127.822967\" y=\"80.563485\" style=\"fill: #1f77b4; stroke: #1f77b4\"/>\n     <use xlink:href=\"#mf51f41a3f2\" x=\"125.407086\" y=\"58.558359\" style=\"fill: #1f77b4; stroke: #1f77b4\"/>\n     <use xlink:href=\"#mf51f41a3f2\" x=\"137.751155\" y=\"87.638739\" style=\"fill: #1f77b4; stroke: #1f77b4\"/>\n     <use xlink:href=\"#mf51f41a3f2\" x=\"118.85477\" y=\"59.5487\" style=\"fill: #1f77b4; stroke: #1f77b4\"/>\n     <use xlink:href=\"#mf51f41a3f2\" x=\"142.538705\" y=\"78.110402\" style=\"fill: #1f77b4; stroke: #1f77b4\"/>\n     <use xlink:href=\"#mf51f41a3f2\" x=\"131.538409\" y=\"74.984728\" style=\"fill: #1f77b4; stroke: #1f77b4\"/>\n     <use xlink:href=\"#mf51f41a3f2\" x=\"115.573708\" y=\"65.060143\" style=\"fill: #1f77b4; stroke: #1f77b4\"/>\n     <use xlink:href=\"#mf51f41a3f2\" x=\"97.171035\" y=\"65.922065\" style=\"fill: #1f77b4; stroke: #1f77b4\"/>\n     <use xlink:href=\"#mf51f41a3f2\" x=\"150.991479\" y=\"100.193816\" style=\"fill: #1f77b4; stroke: #1f77b4\"/>\n     <use xlink:href=\"#mf51f41a3f2\" x=\"110.843412\" y=\"69.501559\" style=\"fill: #1f77b4; stroke: #1f77b4\"/>\n     <use xlink:href=\"#mf51f41a3f2\" x=\"144.102559\" y=\"92.814886\" style=\"fill: #1f77b4; stroke: #1f77b4\"/>\n     <use xlink:href=\"#mf51f41a3f2\" x=\"112.884408\" y=\"85.220167\" style=\"fill: #1f77b4; stroke: #1f77b4\"/>\n     <use xlink:href=\"#mf51f41a3f2\" x=\"84.324712\" y=\"38.420109\" style=\"fill: #1f77b4; stroke: #1f77b4\"/>\n     <use xlink:href=\"#mf51f41a3f2\" x=\"132.963148\" y=\"90.529969\" style=\"fill: #1f77b4; stroke: #1f77b4\"/>\n     <use xlink:href=\"#mf51f41a3f2\" x=\"107.09646\" y=\"75.380441\" style=\"fill: #1f77b4; stroke: #1f77b4\"/>\n     <use xlink:href=\"#mf51f41a3f2\" x=\"117.144019\" y=\"88.378032\" style=\"fill: #1f77b4; stroke: #1f77b4\"/>\n     <use xlink:href=\"#mf51f41a3f2\" x=\"77.0715\" y=\"48.24495\" style=\"fill: #1f77b4; stroke: #1f77b4\"/>\n     <use xlink:href=\"#mf51f41a3f2\" x=\"140.073051\" y=\"99.717686\" style=\"fill: #1f77b4; stroke: #1f77b4\"/>\n     <use xlink:href=\"#mf51f41a3f2\" x=\"147.282222\" y=\"112.567952\" style=\"fill: #1f77b4; stroke: #1f77b4\"/>\n     <use xlink:href=\"#mf51f41a3f2\" x=\"133.965674\" y=\"97.361847\" style=\"fill: #1f77b4; stroke: #1f77b4\"/>\n     <use xlink:href=\"#mf51f41a3f2\" x=\"94.749636\" y=\"72.27591\" style=\"fill: #1f77b4; stroke: #1f77b4\"/>\n     <use xlink:href=\"#mf51f41a3f2\" x=\"113.227164\" y=\"66.830447\" style=\"fill: #1f77b4; stroke: #1f77b4\"/>\n     <use xlink:href=\"#mf51f41a3f2\" x=\"104.484355\" y=\"70.767911\" style=\"fill: #1f77b4; stroke: #1f77b4\"/>\n     <use xlink:href=\"#mf51f41a3f2\" x=\"157.10834\" y=\"78.417996\" style=\"fill: #1f77b4; stroke: #1f77b4\"/>\n     <use xlink:href=\"#mf51f41a3f2\" x=\"102.267149\" y=\"65.161547\" style=\"fill: #1f77b4; stroke: #1f77b4\"/>\n     <use xlink:href=\"#mf51f41a3f2\" x=\"84.994463\" y=\"68.787436\" style=\"fill: #1f77b4; stroke: #1f77b4\"/>\n     <use xlink:href=\"#mf51f41a3f2\" x=\"78.462904\" y=\"52.650309\" style=\"fill: #1f77b4; stroke: #1f77b4\"/>\n     <use xlink:href=\"#mf51f41a3f2\" x=\"108.400766\" y=\"44.694012\" style=\"fill: #1f77b4; stroke: #1f77b4\"/>\n     <use xlink:href=\"#mf51f41a3f2\" x=\"145.183127\" y=\"96.775058\" style=\"fill: #1f77b4; stroke: #1f77b4\"/>\n     <use xlink:href=\"#mf51f41a3f2\" x=\"102.41413\" y=\"49.446443\" style=\"fill: #1f77b4; stroke: #1f77b4\"/>\n     <use xlink:href=\"#mf51f41a3f2\" x=\"102.441159\" y=\"85.476903\" style=\"fill: #1f77b4; stroke: #1f77b4\"/>\n     <use xlink:href=\"#mf51f41a3f2\" x=\"144.327655\" y=\"96.316175\" style=\"fill: #1f77b4; stroke: #1f77b4\"/>\n     <use xlink:href=\"#mf51f41a3f2\" x=\"111.487383\" y=\"71.164725\" style=\"fill: #1f77b4; stroke: #1f77b4\"/>\n     <use xlink:href=\"#mf51f41a3f2\" x=\"142.327428\" y=\"85.274742\" style=\"fill: #1f77b4; stroke: #1f77b4\"/>\n     <use xlink:href=\"#mf51f41a3f2\" x=\"125.48808\" y=\"71.572641\" style=\"fill: #1f77b4; stroke: #1f77b4\"/>\n     <use xlink:href=\"#mf51f41a3f2\" x=\"132.203785\" y=\"81.099459\" style=\"fill: #1f77b4; stroke: #1f77b4\"/>\n     <use xlink:href=\"#mf51f41a3f2\" x=\"95.243868\" y=\"36.756283\" style=\"fill: #1f77b4; stroke: #1f77b4\"/>\n     <use xlink:href=\"#mf51f41a3f2\" x=\"71.403981\" y=\"64.517829\" style=\"fill: #1f77b4; stroke: #1f77b4\"/>\n     <use xlink:href=\"#mf51f41a3f2\" x=\"101.915805\" y=\"56.418818\" style=\"fill: #1f77b4; stroke: #1f77b4\"/>\n     <use xlink:href=\"#mf51f41a3f2\" x=\"112.69185\" y=\"62.113551\" style=\"fill: #1f77b4; stroke: #1f77b4\"/>\n     <use xlink:href=\"#mf51f41a3f2\" x=\"134.351077\" y=\"86.582437\" style=\"fill: #1f77b4; stroke: #1f77b4\"/>\n     <use xlink:href=\"#mf51f41a3f2\" x=\"117.47837\" y=\"61.864014\" style=\"fill: #1f77b4; stroke: #1f77b4\"/>\n     <use xlink:href=\"#mf51f41a3f2\" x=\"111.031117\" y=\"77.52676\" style=\"fill: #1f77b4; stroke: #1f77b4\"/>\n     <use xlink:href=\"#mf51f41a3f2\" x=\"168.315784\" y=\"107.360598\" style=\"fill: #1f77b4; stroke: #1f77b4\"/>\n     <use xlink:href=\"#mf51f41a3f2\" x=\"101.280076\" y=\"55.538772\" style=\"fill: #1f77b4; stroke: #1f77b4\"/>\n     <use xlink:href=\"#mf51f41a3f2\" x=\"171.114589\" y=\"98.712917\" style=\"fill: #1f77b4; stroke: #1f77b4\"/>\n     <use xlink:href=\"#mf51f41a3f2\" x=\"154.12082\" y=\"97.53577\" style=\"fill: #1f77b4; stroke: #1f77b4\"/>\n     <use xlink:href=\"#mf51f41a3f2\" x=\"94.219453\" y=\"57.907416\" style=\"fill: #1f77b4; stroke: #1f77b4\"/>\n     <use xlink:href=\"#mf51f41a3f2\" x=\"117.061546\" y=\"77.188777\" style=\"fill: #1f77b4; stroke: #1f77b4\"/>\n     <use xlink:href=\"#mf51f41a3f2\" x=\"144.61917\" y=\"74.324559\" style=\"fill: #1f77b4; stroke: #1f77b4\"/>\n     <use xlink:href=\"#mf51f41a3f2\" x=\"107.117978\" y=\"48.694238\" style=\"fill: #1f77b4; stroke: #1f77b4\"/>\n     <use xlink:href=\"#mf51f41a3f2\" x=\"60.710651\" y=\"15.196405\" style=\"fill: #1f77b4; stroke: #1f77b4\"/>\n     <use xlink:href=\"#mf51f41a3f2\" x=\"101.078825\" y=\"71.252314\" style=\"fill: #1f77b4; stroke: #1f77b4\"/>\n     <use xlink:href=\"#mf51f41a3f2\" x=\"130.871773\" y=\"81.139274\" style=\"fill: #1f77b4; stroke: #1f77b4\"/>\n     <use xlink:href=\"#mf51f41a3f2\" x=\"78.908369\" y=\"54.388995\" style=\"fill: #1f77b4; stroke: #1f77b4\"/>\n     <use xlink:href=\"#mf51f41a3f2\" x=\"132.104473\" y=\"88.969941\" style=\"fill: #1f77b4; stroke: #1f77b4\"/>\n     <use xlink:href=\"#mf51f41a3f2\" x=\"104.002923\" y=\"63.260035\" style=\"fill: #1f77b4; stroke: #1f77b4\"/>\n     <use xlink:href=\"#mf51f41a3f2\" x=\"147.976478\" y=\"80.25689\" style=\"fill: #1f77b4; stroke: #1f77b4\"/>\n     <use xlink:href=\"#mf51f41a3f2\" x=\"89.676081\" y=\"27.740312\" style=\"fill: #1f77b4; stroke: #1f77b4\"/>\n     <use xlink:href=\"#mf51f41a3f2\" x=\"96.848105\" y=\"67.678823\" style=\"fill: #1f77b4; stroke: #1f77b4\"/>\n     <use xlink:href=\"#mf51f41a3f2\" x=\"96.723163\" y=\"66.023586\" style=\"fill: #1f77b4; stroke: #1f77b4\"/>\n     <use xlink:href=\"#mf51f41a3f2\" x=\"123.059023\" y=\"64.932872\" style=\"fill: #1f77b4; stroke: #1f77b4\"/>\n     <use xlink:href=\"#mf51f41a3f2\" x=\"102.139858\" y=\"41.560417\" style=\"fill: #1f77b4; stroke: #1f77b4\"/>\n     <use xlink:href=\"#mf51f41a3f2\" x=\"110.102211\" y=\"58.937496\" style=\"fill: #1f77b4; stroke: #1f77b4\"/>\n     <use xlink:href=\"#mf51f41a3f2\" x=\"38.897923\" y=\"19.178119\" style=\"fill: #1f77b4; stroke: #1f77b4\"/>\n     <use xlink:href=\"#mf51f41a3f2\" x=\"91.318151\" y=\"58.540692\" style=\"fill: #1f77b4; stroke: #1f77b4\"/>\n     <use xlink:href=\"#mf51f41a3f2\" x=\"153.240841\" y=\"88.498416\" style=\"fill: #1f77b4; stroke: #1f77b4\"/>\n     <use xlink:href=\"#mf51f41a3f2\" x=\"113.743053\" y=\"73.95832\" style=\"fill: #1f77b4; stroke: #1f77b4\"/>\n     <use xlink:href=\"#mf51f41a3f2\" x=\"91.099729\" y=\"39.333235\" style=\"fill: #1f77b4; stroke: #1f77b4\"/>\n     <use xlink:href=\"#mf51f41a3f2\" x=\"97.298199\" y=\"50.765107\" style=\"fill: #1f77b4; stroke: #1f77b4\"/>\n     <use xlink:href=\"#mf51f41a3f2\" x=\"149.263839\" y=\"90.087284\" style=\"fill: #1f77b4; stroke: #1f77b4\"/>\n     <use xlink:href=\"#mf51f41a3f2\" x=\"113.326866\" y=\"76.309205\" style=\"fill: #1f77b4; stroke: #1f77b4\"/>\n     <use xlink:href=\"#mf51f41a3f2\" x=\"82.184373\" y=\"36.84519\" style=\"fill: #1f77b4; stroke: #1f77b4\"/>\n     <use xlink:href=\"#mf51f41a3f2\" x=\"161.377423\" y=\"84.666807\" style=\"fill: #1f77b4; stroke: #1f77b4\"/>\n     <use xlink:href=\"#mf51f41a3f2\" x=\"111.65863\" y=\"55.654085\" style=\"fill: #1f77b4; stroke: #1f77b4\"/>\n     <use xlink:href=\"#mf51f41a3f2\" x=\"107.629696\" y=\"61.805171\" style=\"fill: #1f77b4; stroke: #1f77b4\"/>\n     <use xlink:href=\"#mf51f41a3f2\" x=\"121.54132\" y=\"64.00798\" style=\"fill: #1f77b4; stroke: #1f77b4\"/>\n     <use xlink:href=\"#mf51f41a3f2\" x=\"144.584793\" y=\"67.647002\" style=\"fill: #1f77b4; stroke: #1f77b4\"/>\n     <use xlink:href=\"#mf51f41a3f2\" x=\"122.496792\" y=\"68.823775\" style=\"fill: #1f77b4; stroke: #1f77b4\"/>\n     <use xlink:href=\"#mf51f41a3f2\" x=\"106.869032\" y=\"41.137509\" style=\"fill: #1f77b4; stroke: #1f77b4\"/>\n     <use xlink:href=\"#mf51f41a3f2\" x=\"132.919727\" y=\"51.240631\" style=\"fill: #1f77b4; stroke: #1f77b4\"/>\n     <use xlink:href=\"#mf51f41a3f2\" x=\"176.037701\" y=\"120.519064\" style=\"fill: #1f77b4; stroke: #1f77b4\"/>\n     <use xlink:href=\"#mf51f41a3f2\" x=\"166.023493\" y=\"108.437326\" style=\"fill: #1f77b4; stroke: #1f77b4\"/>\n     <use xlink:href=\"#mf51f41a3f2\" x=\"102.883253\" y=\"52.65448\" style=\"fill: #1f77b4; stroke: #1f77b4\"/>\n     <use xlink:href=\"#mf51f41a3f2\" x=\"111.363024\" y=\"50.638529\" style=\"fill: #1f77b4; stroke: #1f77b4\"/>\n     <use xlink:href=\"#mf51f41a3f2\" x=\"93.199972\" y=\"44.380376\" style=\"fill: #1f77b4; stroke: #1f77b4\"/>\n     <use xlink:href=\"#mf51f41a3f2\" x=\"141.004364\" y=\"83.36095\" style=\"fill: #1f77b4; stroke: #1f77b4\"/>\n     <use xlink:href=\"#mf51f41a3f2\" x=\"131.873425\" y=\"88.801707\" style=\"fill: #1f77b4; stroke: #1f77b4\"/>\n     <use xlink:href=\"#mf51f41a3f2\" x=\"152.998065\" y=\"117.174868\" style=\"fill: #1f77b4; stroke: #1f77b4\"/>\n     <use xlink:href=\"#mf51f41a3f2\" x=\"140.213374\" y=\"82.964092\" style=\"fill: #1f77b4; stroke: #1f77b4\"/>\n     <use xlink:href=\"#mf51f41a3f2\" x=\"135.008881\" y=\"85.954879\" style=\"fill: #1f77b4; stroke: #1f77b4\"/>\n     <use xlink:href=\"#mf51f41a3f2\" x=\"156.418924\" y=\"92.008962\" style=\"fill: #1f77b4; stroke: #1f77b4\"/>\n     <use xlink:href=\"#mf51f41a3f2\" x=\"121.973333\" y=\"64.89158\" style=\"fill: #1f77b4; stroke: #1f77b4\"/>\n     <use xlink:href=\"#mf51f41a3f2\" x=\"93.769883\" y=\"58.794377\" style=\"fill: #1f77b4; stroke: #1f77b4\"/>\n     <use xlink:href=\"#mf51f41a3f2\" x=\"92.040268\" y=\"61.867767\" style=\"fill: #1f77b4; stroke: #1f77b4\"/>\n     <use xlink:href=\"#mf51f41a3f2\" x=\"137.48874\" y=\"62.483196\" style=\"fill: #1f77b4; stroke: #1f77b4\"/>\n     <use xlink:href=\"#mf51f41a3f2\" x=\"125.106964\" y=\"67.874099\" style=\"fill: #1f77b4; stroke: #1f77b4\"/>\n     <use xlink:href=\"#mf51f41a3f2\" x=\"152.913397\" y=\"91.212417\" style=\"fill: #1f77b4; stroke: #1f77b4\"/>\n     <use xlink:href=\"#mf51f41a3f2\" x=\"139.184426\" y=\"86.269944\" style=\"fill: #1f77b4; stroke: #1f77b4\"/>\n     <use xlink:href=\"#mf51f41a3f2\" x=\"91.483214\" y=\"57.537519\" style=\"fill: #1f77b4; stroke: #1f77b4\"/>\n     <use xlink:href=\"#mf51f41a3f2\" x=\"119.274467\" y=\"87.520864\" style=\"fill: #1f77b4; stroke: #1f77b4\"/>\n     <use xlink:href=\"#mf51f41a3f2\" x=\"113.37131\" y=\"66.027581\" style=\"fill: #1f77b4; stroke: #1f77b4\"/>\n     <use xlink:href=\"#mf51f41a3f2\" x=\"166.572003\" y=\"88.347165\" style=\"fill: #1f77b4; stroke: #1f77b4\"/>\n     <use xlink:href=\"#mf51f41a3f2\" x=\"132.097038\" y=\"70.149663\" style=\"fill: #1f77b4; stroke: #1f77b4\"/>\n     <use xlink:href=\"#mf51f41a3f2\" x=\"118.291457\" y=\"76.530121\" style=\"fill: #1f77b4; stroke: #1f77b4\"/>\n     <use xlink:href=\"#mf51f41a3f2\" x=\"120.933409\" y=\"87.158876\" style=\"fill: #1f77b4; stroke: #1f77b4\"/>\n     <use xlink:href=\"#mf51f41a3f2\" x=\"148.835894\" y=\"119.098521\" style=\"fill: #1f77b4; stroke: #1f77b4\"/>\n     <use xlink:href=\"#mf51f41a3f2\" x=\"142.815915\" y=\"106.84657\" style=\"fill: #1f77b4; stroke: #1f77b4\"/>\n     <use xlink:href=\"#mf51f41a3f2\" x=\"160.067471\" y=\"90.156906\" style=\"fill: #1f77b4; stroke: #1f77b4\"/>\n     <use xlink:href=\"#mf51f41a3f2\" x=\"100.565655\" y=\"60.471756\" style=\"fill: #1f77b4; stroke: #1f77b4\"/>\n     <use xlink:href=\"#mf51f41a3f2\" x=\"151.396519\" y=\"95.455312\" style=\"fill: #1f77b4; stroke: #1f77b4\"/>\n     <use xlink:href=\"#mf51f41a3f2\" x=\"113.932398\" y=\"64.011277\" style=\"fill: #1f77b4; stroke: #1f77b4\"/>\n     <use xlink:href=\"#mf51f41a3f2\" x=\"135.554356\" y=\"79.617357\" style=\"fill: #1f77b4; stroke: #1f77b4\"/>\n     <use xlink:href=\"#mf51f41a3f2\" x=\"144.11524\" y=\"92.864337\" style=\"fill: #1f77b4; stroke: #1f77b4\"/>\n     <use xlink:href=\"#mf51f41a3f2\" x=\"80.200431\" y=\"43.162474\" style=\"fill: #1f77b4; stroke: #1f77b4\"/>\n     <use xlink:href=\"#mf51f41a3f2\" x=\"123.487084\" y=\"68.023818\" style=\"fill: #1f77b4; stroke: #1f77b4\"/>\n     <use xlink:href=\"#mf51f41a3f2\" x=\"126.456981\" y=\"85.476029\" style=\"fill: #1f77b4; stroke: #1f77b4\"/>\n     <use xlink:href=\"#mf51f41a3f2\" x=\"91.989303\" y=\"42.962464\" style=\"fill: #1f77b4; stroke: #1f77b4\"/>\n     <use xlink:href=\"#mf51f41a3f2\" x=\"170.388202\" y=\"81.032934\" style=\"fill: #1f77b4; stroke: #1f77b4\"/>\n     <use xlink:href=\"#mf51f41a3f2\" x=\"115.836872\" y=\"58.260071\" style=\"fill: #1f77b4; stroke: #1f77b4\"/>\n     <use xlink:href=\"#mf51f41a3f2\" x=\"135.801172\" y=\"81.721808\" style=\"fill: #1f77b4; stroke: #1f77b4\"/>\n     <use xlink:href=\"#mf51f41a3f2\" x=\"141.084216\" y=\"83.780507\" style=\"fill: #1f77b4; stroke: #1f77b4\"/>\n     <use xlink:href=\"#mf51f41a3f2\" x=\"112.037438\" y=\"58.967225\" style=\"fill: #1f77b4; stroke: #1f77b4\"/>\n     <use xlink:href=\"#mf51f41a3f2\" x=\"86.351426\" y=\"53.435555\" style=\"fill: #1f77b4; stroke: #1f77b4\"/>\n     <use xlink:href=\"#mf51f41a3f2\" x=\"115.470618\" y=\"81.764304\" style=\"fill: #1f77b4; stroke: #1f77b4\"/>\n     <use xlink:href=\"#mf51f41a3f2\" x=\"110.825616\" y=\"43.774568\" style=\"fill: #1f77b4; stroke: #1f77b4\"/>\n     <use xlink:href=\"#mf51f41a3f2\" x=\"148.20775\" y=\"77.318351\" style=\"fill: #1f77b4; stroke: #1f77b4\"/>\n     <use xlink:href=\"#mf51f41a3f2\" x=\"107.732985\" y=\"45.626055\" style=\"fill: #1f77b4; stroke: #1f77b4\"/>\n     <use xlink:href=\"#mf51f41a3f2\" x=\"153.57118\" y=\"100.133642\" style=\"fill: #1f77b4; stroke: #1f77b4\"/>\n     <use xlink:href=\"#mf51f41a3f2\" x=\"106.37219\" y=\"66.188658\" style=\"fill: #1f77b4; stroke: #1f77b4\"/>\n     <use xlink:href=\"#mf51f41a3f2\" x=\"127.929018\" y=\"70.001646\" style=\"fill: #1f77b4; stroke: #1f77b4\"/>\n     <use xlink:href=\"#mf51f41a3f2\" x=\"104.010849\" y=\"54.71423\" style=\"fill: #1f77b4; stroke: #1f77b4\"/>\n     <use xlink:href=\"#mf51f41a3f2\" x=\"111.070669\" y=\"55.226623\" style=\"fill: #1f77b4; stroke: #1f77b4\"/>\n     <use xlink:href=\"#mf51f41a3f2\" x=\"123.732187\" y=\"79.355372\" style=\"fill: #1f77b4; stroke: #1f77b4\"/>\n     <use xlink:href=\"#mf51f41a3f2\" x=\"50.234022\" y=\"23.373278\" style=\"fill: #1f77b4; stroke: #1f77b4\"/>\n     <use xlink:href=\"#mf51f41a3f2\" x=\"94.947809\" y=\"65.008116\" style=\"fill: #1f77b4; stroke: #1f77b4\"/>\n     <use xlink:href=\"#mf51f41a3f2\" x=\"151.775576\" y=\"94.08685\" style=\"fill: #1f77b4; stroke: #1f77b4\"/>\n     <use xlink:href=\"#mf51f41a3f2\" x=\"81.40731\" y=\"55.219101\" style=\"fill: #1f77b4; stroke: #1f77b4\"/>\n     <use xlink:href=\"#mf51f41a3f2\" x=\"106.254648\" y=\"76.918867\" style=\"fill: #1f77b4; stroke: #1f77b4\"/>\n     <use xlink:href=\"#mf51f41a3f2\" x=\"95.992046\" y=\"40.639125\" style=\"fill: #1f77b4; stroke: #1f77b4\"/>\n     <use xlink:href=\"#mf51f41a3f2\" x=\"136.836301\" y=\"91.012108\" style=\"fill: #1f77b4; stroke: #1f77b4\"/>\n     <use xlink:href=\"#mf51f41a3f2\" x=\"102.156239\" y=\"66.715951\" style=\"fill: #1f77b4; stroke: #1f77b4\"/>\n     <use xlink:href=\"#mf51f41a3f2\" x=\"132.194423\" y=\"95.43122\" style=\"fill: #1f77b4; stroke: #1f77b4\"/>\n     <use xlink:href=\"#mf51f41a3f2\" x=\"114.484808\" y=\"69.896383\" style=\"fill: #1f77b4; stroke: #1f77b4\"/>\n     <use xlink:href=\"#mf51f41a3f2\" x=\"125.52322\" y=\"86.090563\" style=\"fill: #1f77b4; stroke: #1f77b4\"/>\n     <use xlink:href=\"#mf51f41a3f2\" x=\"86.647757\" y=\"60.427869\" style=\"fill: #1f77b4; stroke: #1f77b4\"/>\n     <use xlink:href=\"#mf51f41a3f2\" x=\"104.305417\" y=\"72.28236\" style=\"fill: #1f77b4; stroke: #1f77b4\"/>\n     <use xlink:href=\"#mf51f41a3f2\" x=\"149.046677\" y=\"70.586765\" style=\"fill: #1f77b4; stroke: #1f77b4\"/>\n     <use xlink:href=\"#mf51f41a3f2\" x=\"126.954452\" y=\"94.488628\" style=\"fill: #1f77b4; stroke: #1f77b4\"/>\n     <use xlink:href=\"#mf51f41a3f2\" x=\"116.286528\" y=\"74.216835\" style=\"fill: #1f77b4; stroke: #1f77b4\"/>\n     <use xlink:href=\"#mf51f41a3f2\" x=\"141.127559\" y=\"84.487803\" style=\"fill: #1f77b4; stroke: #1f77b4\"/>\n     <use xlink:href=\"#mf51f41a3f2\" x=\"93.698686\" y=\"49.935151\" style=\"fill: #1f77b4; stroke: #1f77b4\"/>\n     <use xlink:href=\"#mf51f41a3f2\" x=\"113.775164\" y=\"72.801561\" style=\"fill: #1f77b4; stroke: #1f77b4\"/>\n     <use xlink:href=\"#mf51f41a3f2\" x=\"215.364915\" y=\"139.5\" style=\"fill: #1f77b4; stroke: #1f77b4\"/>\n     <use xlink:href=\"#mf51f41a3f2\" x=\"105.189897\" y=\"76.413118\" style=\"fill: #1f77b4; stroke: #1f77b4\"/>\n     <use xlink:href=\"#mf51f41a3f2\" x=\"137.023392\" y=\"88.002182\" style=\"fill: #1f77b4; stroke: #1f77b4\"/>\n     <use xlink:href=\"#mf51f41a3f2\" x=\"96.021819\" y=\"60.31145\" style=\"fill: #1f77b4; stroke: #1f77b4\"/>\n     <use xlink:href=\"#mf51f41a3f2\" x=\"98.656196\" y=\"52.978657\" style=\"fill: #1f77b4; stroke: #1f77b4\"/>\n     <use xlink:href=\"#mf51f41a3f2\" x=\"138.148842\" y=\"96.436771\" style=\"fill: #1f77b4; stroke: #1f77b4\"/>\n     <use xlink:href=\"#mf51f41a3f2\" x=\"121.361174\" y=\"64.475393\" style=\"fill: #1f77b4; stroke: #1f77b4\"/>\n     <use xlink:href=\"#mf51f41a3f2\" x=\"132.033069\" y=\"79.719009\" style=\"fill: #1f77b4; stroke: #1f77b4\"/>\n     <use xlink:href=\"#mf51f41a3f2\" x=\"145.925016\" y=\"92.683275\" style=\"fill: #1f77b4; stroke: #1f77b4\"/>\n     <use xlink:href=\"#mf51f41a3f2\" x=\"148.657163\" y=\"98.790278\" style=\"fill: #1f77b4; stroke: #1f77b4\"/>\n     <use xlink:href=\"#mf51f41a3f2\" x=\"122.828625\" y=\"72.567269\" style=\"fill: #1f77b4; stroke: #1f77b4\"/>\n     <use xlink:href=\"#mf51f41a3f2\" x=\"117.727204\" y=\"69.406013\" style=\"fill: #1f77b4; stroke: #1f77b4\"/>\n     <use xlink:href=\"#mf51f41a3f2\" x=\"116.611351\" y=\"68.669135\" style=\"fill: #1f77b4; stroke: #1f77b4\"/>\n     <use xlink:href=\"#mf51f41a3f2\" x=\"115.75377\" y=\"51.880979\" style=\"fill: #1f77b4; stroke: #1f77b4\"/>\n     <use xlink:href=\"#mf51f41a3f2\" x=\"159.261471\" y=\"96.958728\" style=\"fill: #1f77b4; stroke: #1f77b4\"/>\n     <use xlink:href=\"#mf51f41a3f2\" x=\"144.353672\" y=\"86.987414\" style=\"fill: #1f77b4; stroke: #1f77b4\"/>\n     <use xlink:href=\"#mf51f41a3f2\" x=\"136.279691\" y=\"109.899078\" style=\"fill: #1f77b4; stroke: #1f77b4\"/>\n     <use xlink:href=\"#mf51f41a3f2\" x=\"133.718702\" y=\"65.306971\" style=\"fill: #1f77b4; stroke: #1f77b4\"/>\n     <use xlink:href=\"#mf51f41a3f2\" x=\"134.142191\" y=\"100.698032\" style=\"fill: #1f77b4; stroke: #1f77b4\"/>\n     <use xlink:href=\"#mf51f41a3f2\" x=\"99.744193\" y=\"72.535259\" style=\"fill: #1f77b4; stroke: #1f77b4\"/>\n     <use xlink:href=\"#mf51f41a3f2\" x=\"121.270745\" y=\"71.822137\" style=\"fill: #1f77b4; stroke: #1f77b4\"/>\n     <use xlink:href=\"#mf51f41a3f2\" x=\"115.540787\" y=\"64.428951\" style=\"fill: #1f77b4; stroke: #1f77b4\"/>\n     <use xlink:href=\"#mf51f41a3f2\" x=\"145.155315\" y=\"102.565147\" style=\"fill: #1f77b4; stroke: #1f77b4\"/>\n     <use xlink:href=\"#mf51f41a3f2\" x=\"107.652049\" y=\"66.158869\" style=\"fill: #1f77b4; stroke: #1f77b4\"/>\n     <use xlink:href=\"#mf51f41a3f2\" x=\"130.436223\" y=\"44.785509\" style=\"fill: #1f77b4; stroke: #1f77b4\"/>\n     <use xlink:href=\"#mf51f41a3f2\" x=\"147.745389\" y=\"88.943651\" style=\"fill: #1f77b4; stroke: #1f77b4\"/>\n     <use xlink:href=\"#mf51f41a3f2\" x=\"47.442647\" y=\"13.5\" style=\"fill: #1f77b4; stroke: #1f77b4\"/>\n     <use xlink:href=\"#mf51f41a3f2\" x=\"106.275667\" y=\"69.08057\" style=\"fill: #1f77b4; stroke: #1f77b4\"/>\n     <use xlink:href=\"#mf51f41a3f2\" x=\"74.492582\" y=\"51.827574\" style=\"fill: #1f77b4; stroke: #1f77b4\"/>\n     <use xlink:href=\"#mf51f41a3f2\" x=\"128.709185\" y=\"84.394549\" style=\"fill: #1f77b4; stroke: #1f77b4\"/>\n     <use xlink:href=\"#mf51f41a3f2\" x=\"133.770695\" y=\"84.194801\" style=\"fill: #1f77b4; stroke: #1f77b4\"/>\n     <use xlink:href=\"#mf51f41a3f2\" x=\"136.037274\" y=\"69.622588\" style=\"fill: #1f77b4; stroke: #1f77b4\"/>\n     <use xlink:href=\"#mf51f41a3f2\" x=\"92.762366\" y=\"44.267398\" style=\"fill: #1f77b4; stroke: #1f77b4\"/>\n     <use xlink:href=\"#mf51f41a3f2\" x=\"75.325425\" y=\"34.120886\" style=\"fill: #1f77b4; stroke: #1f77b4\"/>\n     <use xlink:href=\"#mf51f41a3f2\" x=\"133.406506\" y=\"77.299077\" style=\"fill: #1f77b4; stroke: #1f77b4\"/>\n     <use xlink:href=\"#mf51f41a3f2\" x=\"154.166069\" y=\"103.124625\" style=\"fill: #1f77b4; stroke: #1f77b4\"/>\n     <use xlink:href=\"#mf51f41a3f2\" x=\"162.333089\" y=\"107.125746\" style=\"fill: #1f77b4; stroke: #1f77b4\"/>\n     <use xlink:href=\"#mf51f41a3f2\" x=\"171.659753\" y=\"103.676045\" style=\"fill: #1f77b4; stroke: #1f77b4\"/>\n     <use xlink:href=\"#mf51f41a3f2\" x=\"124.919224\" y=\"64.720907\" style=\"fill: #1f77b4; stroke: #1f77b4\"/>\n     <use xlink:href=\"#mf51f41a3f2\" x=\"152.028908\" y=\"85.867156\" style=\"fill: #1f77b4; stroke: #1f77b4\"/>\n     <use xlink:href=\"#mf51f41a3f2\" x=\"122.36705\" y=\"75.168374\" style=\"fill: #1f77b4; stroke: #1f77b4\"/>\n     <use xlink:href=\"#mf51f41a3f2\" x=\"91.7077\" y=\"54.013009\" style=\"fill: #1f77b4; stroke: #1f77b4\"/>\n     <use xlink:href=\"#mf51f41a3f2\" x=\"98.857613\" y=\"56.842818\" style=\"fill: #1f77b4; stroke: #1f77b4\"/>\n     <use xlink:href=\"#mf51f41a3f2\" x=\"96.857084\" y=\"53.115256\" style=\"fill: #1f77b4; stroke: #1f77b4\"/>\n     <use xlink:href=\"#mf51f41a3f2\" x=\"106.733872\" y=\"59.074487\" style=\"fill: #1f77b4; stroke: #1f77b4\"/>\n     <use xlink:href=\"#mf51f41a3f2\" x=\"85.97618\" y=\"18.896849\" style=\"fill: #1f77b4; stroke: #1f77b4\"/>\n     <use xlink:href=\"#mf51f41a3f2\" x=\"144.316058\" y=\"109.340332\" style=\"fill: #1f77b4; stroke: #1f77b4\"/>\n     <use xlink:href=\"#mf51f41a3f2\" x=\"97.548813\" y=\"50.34398\" style=\"fill: #1f77b4; stroke: #1f77b4\"/>\n     <use xlink:href=\"#mf51f41a3f2\" x=\"137.097151\" y=\"78.771467\" style=\"fill: #1f77b4; stroke: #1f77b4\"/>\n     <use xlink:href=\"#mf51f41a3f2\" x=\"110.705118\" y=\"74.290381\" style=\"fill: #1f77b4; stroke: #1f77b4\"/>\n     <use xlink:href=\"#mf51f41a3f2\" x=\"134.063163\" y=\"73.868595\" style=\"fill: #1f77b4; stroke: #1f77b4\"/>\n     <use xlink:href=\"#mf51f41a3f2\" x=\"131.424602\" y=\"73.916156\" style=\"fill: #1f77b4; stroke: #1f77b4\"/>\n     <use xlink:href=\"#mf51f41a3f2\" x=\"100.037427\" y=\"37.648448\" style=\"fill: #1f77b4; stroke: #1f77b4\"/>\n     <use xlink:href=\"#mf51f41a3f2\" x=\"138.595498\" y=\"102.70077\" style=\"fill: #1f77b4; stroke: #1f77b4\"/>\n     <use xlink:href=\"#mf51f41a3f2\" x=\"118.176981\" y=\"66.777252\" style=\"fill: #1f77b4; stroke: #1f77b4\"/>\n     <use xlink:href=\"#mf51f41a3f2\" x=\"123.001552\" y=\"93.675653\" style=\"fill: #1f77b4; stroke: #1f77b4\"/>\n     <use xlink:href=\"#mf51f41a3f2\" x=\"119.537553\" y=\"72.361214\" style=\"fill: #1f77b4; stroke: #1f77b4\"/>\n     <use xlink:href=\"#mf51f41a3f2\" x=\"147.798947\" y=\"98.121005\" style=\"fill: #1f77b4; stroke: #1f77b4\"/>\n     <use xlink:href=\"#mf51f41a3f2\" x=\"128.629398\" y=\"80.366896\" style=\"fill: #1f77b4; stroke: #1f77b4\"/>\n     <use xlink:href=\"#mf51f41a3f2\" x=\"123.208497\" y=\"56.349017\" style=\"fill: #1f77b4; stroke: #1f77b4\"/>\n     <use xlink:href=\"#mf51f41a3f2\" x=\"154.307103\" y=\"100.613103\" style=\"fill: #1f77b4; stroke: #1f77b4\"/>\n     <use xlink:href=\"#mf51f41a3f2\" x=\"117.584708\" y=\"63.917143\" style=\"fill: #1f77b4; stroke: #1f77b4\"/>\n     <use xlink:href=\"#mf51f41a3f2\" x=\"133.085274\" y=\"91.347261\" style=\"fill: #1f77b4; stroke: #1f77b4\"/>\n     <use xlink:href=\"#mf51f41a3f2\" x=\"162.474214\" y=\"93.129203\" style=\"fill: #1f77b4; stroke: #1f77b4\"/>\n     <use xlink:href=\"#mf51f41a3f2\" x=\"127.3354\" y=\"73.701901\" style=\"fill: #1f77b4; stroke: #1f77b4\"/>\n     <use xlink:href=\"#mf51f41a3f2\" x=\"163.39873\" y=\"106.046994\" style=\"fill: #1f77b4; stroke: #1f77b4\"/>\n     <use xlink:href=\"#mf51f41a3f2\" x=\"97.400734\" y=\"72.08309\" style=\"fill: #1f77b4; stroke: #1f77b4\"/>\n     <use xlink:href=\"#mf51f41a3f2\" x=\"136.709418\" y=\"61.423906\" style=\"fill: #1f77b4; stroke: #1f77b4\"/>\n     <use xlink:href=\"#mf51f41a3f2\" x=\"97.527426\" y=\"53.30015\" style=\"fill: #1f77b4; stroke: #1f77b4\"/>\n     <use xlink:href=\"#mf51f41a3f2\" x=\"149.086267\" y=\"101.02237\" style=\"fill: #1f77b4; stroke: #1f77b4\"/>\n     <use xlink:href=\"#mf51f41a3f2\" x=\"97.13016\" y=\"55.524219\" style=\"fill: #1f77b4; stroke: #1f77b4\"/>\n     <use xlink:href=\"#mf51f41a3f2\" x=\"95.492127\" y=\"46.650627\" style=\"fill: #1f77b4; stroke: #1f77b4\"/>\n     <use xlink:href=\"#mf51f41a3f2\" x=\"161.509434\" y=\"116.137811\" style=\"fill: #1f77b4; stroke: #1f77b4\"/>\n     <use xlink:href=\"#mf51f41a3f2\" x=\"110.350308\" y=\"53.985504\" style=\"fill: #1f77b4; stroke: #1f77b4\"/>\n     <use xlink:href=\"#mf51f41a3f2\" x=\"120.180248\" y=\"63.819967\" style=\"fill: #1f77b4; stroke: #1f77b4\"/>\n     <use xlink:href=\"#mf51f41a3f2\" x=\"102.13176\" y=\"42.974513\" style=\"fill: #1f77b4; stroke: #1f77b4\"/>\n     <use xlink:href=\"#mf51f41a3f2\" x=\"136.216874\" y=\"86.784624\" style=\"fill: #1f77b4; stroke: #1f77b4\"/>\n     <use xlink:href=\"#mf51f41a3f2\" x=\"109.429752\" y=\"57.517581\" style=\"fill: #1f77b4; stroke: #1f77b4\"/>\n     <use xlink:href=\"#mf51f41a3f2\" x=\"82.612453\" y=\"33.501825\" style=\"fill: #1f77b4; stroke: #1f77b4\"/>\n     <use xlink:href=\"#mf51f41a3f2\" x=\"66.626323\" y=\"37.895499\" style=\"fill: #1f77b4; stroke: #1f77b4\"/>\n     <use xlink:href=\"#mf51f41a3f2\" x=\"166.481724\" y=\"78.407072\" style=\"fill: #1f77b4; stroke: #1f77b4\"/>\n     <use xlink:href=\"#mf51f41a3f2\" x=\"131.681293\" y=\"76.012602\" style=\"fill: #1f77b4; stroke: #1f77b4\"/>\n     <use xlink:href=\"#mf51f41a3f2\" x=\"136.537999\" y=\"97.583819\" style=\"fill: #1f77b4; stroke: #1f77b4\"/>\n     <use xlink:href=\"#mf51f41a3f2\" x=\"124.675495\" y=\"83.403382\" style=\"fill: #1f77b4; stroke: #1f77b4\"/>\n     <use xlink:href=\"#mf51f41a3f2\" x=\"171.308992\" y=\"96.939752\" style=\"fill: #1f77b4; stroke: #1f77b4\"/>\n     <use xlink:href=\"#mf51f41a3f2\" x=\"123.929383\" y=\"64.277545\" style=\"fill: #1f77b4; stroke: #1f77b4\"/>\n     <use xlink:href=\"#mf51f41a3f2\" x=\"117.512604\" y=\"52.857462\" style=\"fill: #1f77b4; stroke: #1f77b4\"/>\n     <use xlink:href=\"#mf51f41a3f2\" x=\"106.144675\" y=\"61.987199\" style=\"fill: #1f77b4; stroke: #1f77b4\"/>\n     <use xlink:href=\"#mf51f41a3f2\" x=\"107.64863\" y=\"59.845356\" style=\"fill: #1f77b4; stroke: #1f77b4\"/>\n     <use xlink:href=\"#mf51f41a3f2\" x=\"54.035783\" y=\"47.434985\" style=\"fill: #1f77b4; stroke: #1f77b4\"/>\n     <use xlink:href=\"#mf51f41a3f2\" x=\"164.463573\" y=\"93.791284\" style=\"fill: #1f77b4; stroke: #1f77b4\"/>\n     <use xlink:href=\"#mf51f41a3f2\" x=\"119.588266\" y=\"80.199753\" style=\"fill: #1f77b4; stroke: #1f77b4\"/>\n     <use xlink:href=\"#mf51f41a3f2\" x=\"107.816813\" y=\"67.141389\" style=\"fill: #1f77b4; stroke: #1f77b4\"/>\n     <use xlink:href=\"#mf51f41a3f2\" x=\"96.218028\" y=\"61.005217\" style=\"fill: #1f77b4; stroke: #1f77b4\"/>\n     <use xlink:href=\"#mf51f41a3f2\" x=\"117.691057\" y=\"62.181909\" style=\"fill: #1f77b4; stroke: #1f77b4\"/>\n     <use xlink:href=\"#mf51f41a3f2\" x=\"91.372588\" y=\"65.40234\" style=\"fill: #1f77b4; stroke: #1f77b4\"/>\n     <use xlink:href=\"#mf51f41a3f2\" x=\"110.25204\" y=\"65.26169\" style=\"fill: #1f77b4; stroke: #1f77b4\"/>\n     <use xlink:href=\"#mf51f41a3f2\" x=\"134.230857\" y=\"87.912693\" style=\"fill: #1f77b4; stroke: #1f77b4\"/>\n     <use xlink:href=\"#mf51f41a3f2\" x=\"124.683054\" y=\"62.212251\" style=\"fill: #1f77b4; stroke: #1f77b4\"/>\n     <use xlink:href=\"#mf51f41a3f2\" x=\"123.145477\" y=\"48.375997\" style=\"fill: #1f77b4; stroke: #1f77b4\"/>\n     <use xlink:href=\"#mf51f41a3f2\" x=\"134.454856\" y=\"63.144626\" style=\"fill: #1f77b4; stroke: #1f77b4\"/>\n     <use xlink:href=\"#mf51f41a3f2\" x=\"118.357833\" y=\"79.277926\" style=\"fill: #1f77b4; stroke: #1f77b4\"/>\n     <use xlink:href=\"#mf51f41a3f2\" x=\"130.718254\" y=\"79.56156\" style=\"fill: #1f77b4; stroke: #1f77b4\"/>\n     <use xlink:href=\"#mf51f41a3f2\" x=\"129.56658\" y=\"105.352012\" style=\"fill: #1f77b4; stroke: #1f77b4\"/>\n     <use xlink:href=\"#mf51f41a3f2\" x=\"110.851393\" y=\"56.289775\" style=\"fill: #1f77b4; stroke: #1f77b4\"/>\n     <use xlink:href=\"#mf51f41a3f2\" x=\"112.322231\" y=\"76.633369\" style=\"fill: #1f77b4; stroke: #1f77b4\"/>\n     <use xlink:href=\"#mf51f41a3f2\" x=\"88.659154\" y=\"64.869306\" style=\"fill: #1f77b4; stroke: #1f77b4\"/>\n     <use xlink:href=\"#mf51f41a3f2\" x=\"97.49375\" y=\"51.274185\" style=\"fill: #1f77b4; stroke: #1f77b4\"/>\n     <use xlink:href=\"#mf51f41a3f2\" x=\"155.410264\" y=\"94.775327\" style=\"fill: #1f77b4; stroke: #1f77b4\"/>\n     <use xlink:href=\"#mf51f41a3f2\" x=\"101.865874\" y=\"61.047851\" style=\"fill: #1f77b4; stroke: #1f77b4\"/>\n     <use xlink:href=\"#mf51f41a3f2\" x=\"119.544506\" y=\"63.255693\" style=\"fill: #1f77b4; stroke: #1f77b4\"/>\n     <use xlink:href=\"#mf51f41a3f2\" x=\"103.394089\" y=\"50.850536\" style=\"fill: #1f77b4; stroke: #1f77b4\"/>\n     <use xlink:href=\"#mf51f41a3f2\" x=\"122.729059\" y=\"80.125926\" style=\"fill: #1f77b4; stroke: #1f77b4\"/>\n     <use xlink:href=\"#mf51f41a3f2\" x=\"105.545497\" y=\"63.437373\" style=\"fill: #1f77b4; stroke: #1f77b4\"/>\n     <use xlink:href=\"#mf51f41a3f2\" x=\"138.857009\" y=\"88.331367\" style=\"fill: #1f77b4; stroke: #1f77b4\"/>\n     <use xlink:href=\"#mf51f41a3f2\" x=\"173.82012\" y=\"97.463213\" style=\"fill: #1f77b4; stroke: #1f77b4\"/>\n     <use xlink:href=\"#mf51f41a3f2\" x=\"117.189277\" y=\"47.979056\" style=\"fill: #1f77b4; stroke: #1f77b4\"/>\n     <use xlink:href=\"#mf51f41a3f2\" x=\"137.459124\" y=\"81.921584\" style=\"fill: #1f77b4; stroke: #1f77b4\"/>\n     <use xlink:href=\"#mf51f41a3f2\" x=\"152.19087\" y=\"82.649369\" style=\"fill: #1f77b4; stroke: #1f77b4\"/>\n     <use xlink:href=\"#mf51f41a3f2\" x=\"89.908657\" y=\"54.167675\" style=\"fill: #1f77b4; stroke: #1f77b4\"/>\n    </g>\n   </g>\n   <g id=\"matplotlib.axis_1\">\n    <g id=\"xtick_1\">\n     <g id=\"line2d_1\">\n      <defs>\n       <path id=\"m96638f5913\" d=\"M 0 0 \nL 0 3.5 \n\" style=\"stroke: #000000; stroke-width: 0.8\"/>\n      </defs>\n      <g>\n       <use xlink:href=\"#m96638f5913\" x=\"67.606726\" y=\"145.8\" style=\"stroke: #000000; stroke-width: 0.8\"/>\n      </g>\n     </g>\n     <g id=\"text_1\">\n      <!-- −2 -->\n      <g transform=\"translate(60.235632 160.398438) scale(0.1 -0.1)\">\n       <defs>\n        <path id=\"DejaVuSans-2212\" d=\"M 678 2272 \nL 4684 2272 \nL 4684 1741 \nL 678 1741 \nL 678 2272 \nz\n\" transform=\"scale(0.015625)\"/>\n        <path id=\"DejaVuSans-32\" d=\"M 1228 531 \nL 3431 531 \nL 3431 0 \nL 469 0 \nL 469 531 \nQ 828 903 1448 1529 \nQ 2069 2156 2228 2338 \nQ 2531 2678 2651 2914 \nQ 2772 3150 2772 3378 \nQ 2772 3750 2511 3984 \nQ 2250 4219 1831 4219 \nQ 1534 4219 1204 4116 \nQ 875 4013 500 3803 \nL 500 4441 \nQ 881 4594 1212 4672 \nQ 1544 4750 1819 4750 \nQ 2544 4750 2975 4387 \nQ 3406 4025 3406 3419 \nQ 3406 3131 3298 2873 \nQ 3191 2616 2906 2266 \nQ 2828 2175 2409 1742 \nQ 1991 1309 1228 531 \nz\n\" transform=\"scale(0.015625)\"/>\n       </defs>\n       <use xlink:href=\"#DejaVuSans-2212\"/>\n       <use xlink:href=\"#DejaVuSans-32\" x=\"83.789062\"/>\n      </g>\n     </g>\n    </g>\n    <g id=\"xtick_2\">\n     <g id=\"line2d_2\">\n      <g>\n       <use xlink:href=\"#m96638f5913\" x=\"121.638751\" y=\"145.8\" style=\"stroke: #000000; stroke-width: 0.8\"/>\n      </g>\n     </g>\n     <g id=\"text_2\">\n      <!-- 0 -->\n      <g transform=\"translate(118.457501 160.398438) scale(0.1 -0.1)\">\n       <defs>\n        <path id=\"DejaVuSans-30\" d=\"M 2034 4250 \nQ 1547 4250 1301 3770 \nQ 1056 3291 1056 2328 \nQ 1056 1369 1301 889 \nQ 1547 409 2034 409 \nQ 2525 409 2770 889 \nQ 3016 1369 3016 2328 \nQ 3016 3291 2770 3770 \nQ 2525 4250 2034 4250 \nz\nM 2034 4750 \nQ 2819 4750 3233 4129 \nQ 3647 3509 3647 2328 \nQ 3647 1150 3233 529 \nQ 2819 -91 2034 -91 \nQ 1250 -91 836 529 \nQ 422 1150 422 2328 \nQ 422 3509 836 4129 \nQ 1250 4750 2034 4750 \nz\n\" transform=\"scale(0.015625)\"/>\n       </defs>\n       <use xlink:href=\"#DejaVuSans-30\"/>\n      </g>\n     </g>\n    </g>\n    <g id=\"xtick_3\">\n     <g id=\"line2d_3\">\n      <g>\n       <use xlink:href=\"#m96638f5913\" x=\"175.670776\" y=\"145.8\" style=\"stroke: #000000; stroke-width: 0.8\"/>\n      </g>\n     </g>\n     <g id=\"text_3\">\n      <!-- 2 -->\n      <g transform=\"translate(172.489526 160.398438) scale(0.1 -0.1)\">\n       <use xlink:href=\"#DejaVuSans-32\"/>\n      </g>\n     </g>\n    </g>\n   </g>\n   <g id=\"matplotlib.axis_2\">\n    <g id=\"ytick_1\">\n     <g id=\"line2d_4\">\n      <defs>\n       <path id=\"m356cc4be57\" d=\"M 0 0 \nL -3.5 0 \n\" style=\"stroke: #000000; stroke-width: 0.8\"/>\n      </defs>\n      <g>\n       <use xlink:href=\"#m356cc4be57\" x=\"28.942188\" y=\"123.397646\" style=\"stroke: #000000; stroke-width: 0.8\"/>\n      </g>\n     </g>\n     <g id=\"text_4\">\n      <!-- −5 -->\n      <g transform=\"translate(7.2 127.196864) scale(0.1 -0.1)\">\n       <defs>\n        <path id=\"DejaVuSans-35\" d=\"M 691 4666 \nL 3169 4666 \nL 3169 4134 \nL 1269 4134 \nL 1269 2991 \nQ 1406 3038 1543 3061 \nQ 1681 3084 1819 3084 \nQ 2600 3084 3056 2656 \nQ 3513 2228 3513 1497 \nQ 3513 744 3044 326 \nQ 2575 -91 1722 -91 \nQ 1428 -91 1123 -41 \nQ 819 9 494 109 \nL 494 744 \nQ 775 591 1075 516 \nQ 1375 441 1709 441 \nQ 2250 441 2565 725 \nQ 2881 1009 2881 1497 \nQ 2881 1984 2565 2268 \nQ 2250 2553 1709 2553 \nQ 1456 2553 1204 2497 \nQ 953 2441 691 2322 \nL 691 4666 \nz\n\" transform=\"scale(0.015625)\"/>\n       </defs>\n       <use xlink:href=\"#DejaVuSans-2212\"/>\n       <use xlink:href=\"#DejaVuSans-35\" x=\"83.789062\"/>\n      </g>\n     </g>\n    </g>\n    <g id=\"ytick_2\">\n     <g id=\"line2d_5\">\n      <g>\n       <use xlink:href=\"#m356cc4be57\" x=\"28.942188\" y=\"96.181751\" style=\"stroke: #000000; stroke-width: 0.8\"/>\n      </g>\n     </g>\n     <g id=\"text_5\">\n      <!-- 0 -->\n      <g transform=\"translate(15.579688 99.98097) scale(0.1 -0.1)\">\n       <use xlink:href=\"#DejaVuSans-30\"/>\n      </g>\n     </g>\n    </g>\n    <g id=\"ytick_3\">\n     <g id=\"line2d_6\">\n      <g>\n       <use xlink:href=\"#m356cc4be57\" x=\"28.942188\" y=\"68.965856\" style=\"stroke: #000000; stroke-width: 0.8\"/>\n      </g>\n     </g>\n     <g id=\"text_6\">\n      <!-- 5 -->\n      <g transform=\"translate(15.579688 72.765075) scale(0.1 -0.1)\">\n       <use xlink:href=\"#DejaVuSans-35\"/>\n      </g>\n     </g>\n    </g>\n    <g id=\"ytick_4\">\n     <g id=\"line2d_7\">\n      <g>\n       <use xlink:href=\"#m356cc4be57\" x=\"28.942188\" y=\"41.749961\" style=\"stroke: #000000; stroke-width: 0.8\"/>\n      </g>\n     </g>\n     <g id=\"text_7\">\n      <!-- 10 -->\n      <g transform=\"translate(9.217188 45.54918) scale(0.1 -0.1)\">\n       <defs>\n        <path id=\"DejaVuSans-31\" d=\"M 794 531 \nL 1825 531 \nL 1825 4091 \nL 703 3866 \nL 703 4441 \nL 1819 4666 \nL 2450 4666 \nL 2450 531 \nL 3481 531 \nL 3481 0 \nL 794 0 \nL 794 531 \nz\n\" transform=\"scale(0.015625)\"/>\n       </defs>\n       <use xlink:href=\"#DejaVuSans-31\"/>\n       <use xlink:href=\"#DejaVuSans-30\" x=\"63.623047\"/>\n      </g>\n     </g>\n    </g>\n    <g id=\"ytick_5\">\n     <g id=\"line2d_8\">\n      <g>\n       <use xlink:href=\"#m356cc4be57\" x=\"28.942188\" y=\"14.534067\" style=\"stroke: #000000; stroke-width: 0.8\"/>\n      </g>\n     </g>\n     <g id=\"text_8\">\n      <!-- 15 -->\n      <g transform=\"translate(9.217188 18.333285) scale(0.1 -0.1)\">\n       <use xlink:href=\"#DejaVuSans-31\"/>\n       <use xlink:href=\"#DejaVuSans-35\" x=\"63.623047\"/>\n      </g>\n     </g>\n    </g>\n   </g>\n   <g id=\"patch_3\">\n    <path d=\"M 28.942188 145.8 \nL 28.942188 7.2 \n\" style=\"fill: none; stroke: #000000; stroke-width: 0.8; stroke-linejoin: miter; stroke-linecap: square\"/>\n   </g>\n   <g id=\"patch_4\">\n    <path d=\"M 224.242188 145.8 \nL 224.242188 7.2 \n\" style=\"fill: none; stroke: #000000; stroke-width: 0.8; stroke-linejoin: miter; stroke-linecap: square\"/>\n   </g>\n   <g id=\"patch_5\">\n    <path d=\"M 28.942188 145.8 \nL 224.242188 145.8 \n\" style=\"fill: none; stroke: #000000; stroke-width: 0.8; stroke-linejoin: miter; stroke-linecap: square\"/>\n   </g>\n   <g id=\"patch_6\">\n    <path d=\"M 28.942188 7.2 \nL 224.242188 7.2 \n\" style=\"fill: none; stroke: #000000; stroke-width: 0.8; stroke-linejoin: miter; stroke-linecap: square\"/>\n   </g>\n  </g>\n </g>\n <defs>\n  <clipPath id=\"paff77f74ba\">\n   <rect x=\"28.942188\" y=\"7.2\" width=\"195.3\" height=\"138.6\"/>\n  </clipPath>\n </defs>\n</svg>\n"
     },
     "metadata": {},
     "output_type": "display_data"
    }
   ],
   "source": [
    "d2l.set_figsize()\n",
    "d2l.plt.scatter(features[:, 1].detach().numpy(), labels.detach().numpy(), 1);"
   ]
  },
  {
   "cell_type": "markdown",
   "id": "d28e67d3",
   "metadata": {
    "origin_pos": 13
   },
   "source": [
    "## 读取数据集\n",
    "\n",
    "回想一下，训练模型时要对数据集进行遍历，每次抽取一小批量样本，并使用它们来更新我们的模型。\n",
    "由于这个过程是训练机器学习算法的基础，所以有必要定义一个函数，\n",
    "该函数能打乱数据集中的样本并以小批量方式获取数据。\n",
    "\n",
    "在下面的代码中，我们[**定义一个`data_iter`函数，\n",
    "该函数接收批量大小、特征矩阵和标签向量作为输入，生成大小为`batch_size`的小批量**]。\n",
    "每个小批量包含一组特征和标签。\n"
   ]
  },
  {
   "cell_type": "code",
   "execution_count": 199,
   "id": "9505ff1c",
   "metadata": {
    "execution": {
     "iopub.execute_input": "2022-12-07T16:43:06.555825Z",
     "iopub.status.busy": "2022-12-07T16:43:06.555541Z",
     "iopub.status.idle": "2022-12-07T16:43:06.561066Z",
     "shell.execute_reply": "2022-12-07T16:43:06.560334Z"
    },
    "origin_pos": 14,
    "tab": [
     "pytorch"
    ],
    "ExecuteTime": {
     "end_time": "2023-07-31T07:20:47.953491Z",
     "start_time": "2023-07-31T07:20:47.821463Z"
    }
   },
   "outputs": [],
   "source": [
    "def data_iter(batch_size, features, labels):\n",
    "    num_examples = len(features)\n",
    "    indices = list(range(num_examples))\n",
    "    # 这些样本是随机读取的，没有特定的顺序\n",
    "    random.shuffle(indices)\n",
    "    for i in range(0, num_examples, batch_size):\n",
    "        batch_indices = torch.tensor(\n",
    "            indices[i: min(i + batch_size, num_examples)])\n",
    "        yield features[batch_indices], labels[batch_indices]"
   ]
  },
  {
   "cell_type": "markdown",
   "id": "edc07979",
   "metadata": {
    "origin_pos": 16
   },
   "source": [
    "通常，我们利用GPU并行运算的优势，处理合理大小的“小批量”。\n",
    "每个样本都可以并行地进行模型计算，且每个样本损失函数的梯度也可以被并行计算。\n",
    "GPU可以在处理几百个样本时，所花费的时间不比处理一个样本时多太多。\n",
    "\n",
    "我们直观感受一下小批量运算：读取第一个小批量数据样本并打印。\n",
    "每个批量的特征维度显示批量大小和输入特征数。\n",
    "同样的，批量的标签形状与`batch_size`相等。\n"
   ]
  },
  {
   "cell_type": "code",
   "execution_count": 200,
   "id": "3934d3c4",
   "metadata": {
    "execution": {
     "iopub.execute_input": "2022-12-07T16:43:06.565191Z",
     "iopub.status.busy": "2022-12-07T16:43:06.564923Z",
     "iopub.status.idle": "2022-12-07T16:43:06.571970Z",
     "shell.execute_reply": "2022-12-07T16:43:06.571038Z"
    },
    "origin_pos": 17,
    "tab": [
     "pytorch"
    ],
    "ExecuteTime": {
     "end_time": "2023-07-31T07:20:47.953660Z",
     "start_time": "2023-07-31T07:20:47.824654Z"
    }
   },
   "outputs": [
    {
     "name": "stdout",
     "output_type": "stream",
     "text": [
      "tensor([[ 0.1191, -0.2844],\n",
      "        [-2.0920, -0.1400],\n",
      "        [ 0.5155,  0.0677],\n",
      "        [-0.0604, -0.1480],\n",
      "        [-0.4249,  1.1296],\n",
      "        [ 0.3241,  1.1102],\n",
      "        [-1.2622,  0.6823],\n",
      "        [-1.0502,  0.0501],\n",
      "        [-0.4145,  0.2192],\n",
      "        [ 0.2618,  0.2294]]) \n",
      " tensor([[ 5.4067],\n",
      "        [ 0.4840],\n",
      "        [ 5.0119],\n",
      "        [ 4.5747],\n",
      "        [-0.4929],\n",
      "        [ 1.0688],\n",
      "        [-0.6496],\n",
      "        [ 1.9277],\n",
      "        [ 2.6255],\n",
      "        [ 3.9406]])\n"
     ]
    }
   ],
   "source": [
    "batch_size = 10\n",
    "\n",
    "for X, y in data_iter(batch_size, features, labels):\n",
    "    print(X, '\\n', y)\n",
    "    break"
   ]
  },
  {
   "cell_type": "markdown",
   "id": "f959e76b",
   "metadata": {
    "origin_pos": 18
   },
   "source": [
    "当我们运行迭代时，我们会连续地获得不同的小批量，直至遍历完整个数据集。\n",
    "上面实现的迭代对教学来说很好，但它的执行效率很低，可能会在实际问题上陷入麻烦。\n",
    "例如，它要求我们将所有数据加载到内存中，并执行大量的随机内存访问。\n",
    "在深度学习框架中实现的内置迭代器效率要高得多，\n",
    "它可以处理存储在文件中的数据和数据流提供的数据。\n",
    "\n",
    "## 初始化模型参数\n",
    "\n",
    "[**在我们开始用小批量随机梯度下降优化我们的模型参数之前**]，\n",
    "(**我们需要先有一些参数**)。\n",
    "在下面的代码中，我们通过从均值为0、标准差为0.01的正态分布中采样随机数来初始化权重，\n",
    "并将偏置初始化为0。\n"
   ]
  },
  {
   "cell_type": "code",
   "execution_count": 201,
   "id": "23a1437e",
   "metadata": {
    "execution": {
     "iopub.execute_input": "2022-12-07T16:43:06.575915Z",
     "iopub.status.busy": "2022-12-07T16:43:06.575647Z",
     "iopub.status.idle": "2022-12-07T16:43:06.580295Z",
     "shell.execute_reply": "2022-12-07T16:43:06.579544Z"
    },
    "origin_pos": 20,
    "tab": [
     "pytorch"
    ],
    "ExecuteTime": {
     "end_time": "2023-07-31T07:20:47.953699Z",
     "start_time": "2023-07-31T07:20:47.828388Z"
    }
   },
   "outputs": [],
   "source": [
    "w = torch.normal(0, 0.01, size=(2,1), requires_grad=True)\n",
    "b = torch.zeros(1, requires_grad=True)"
   ]
  },
  {
   "cell_type": "markdown",
   "id": "f6ad34a9",
   "metadata": {
    "origin_pos": 23
   },
   "source": [
    "在初始化参数之后，我们的任务是更新这些参数，直到这些参数足够拟合我们的数据。\n",
    "每次更新都需要计算损失函数关于模型参数的梯度。\n",
    "有了这个梯度，我们就可以向减小损失的方向更新每个参数。\n",
    "因为手动计算梯度很枯燥而且容易出错，所以没有人会手动计算梯度。\n",
    "我们使用 :numref:`sec_autograd`中引入的自动微分来计算梯度。\n",
    "\n",
    "## 定义模型\n",
    "\n",
    "接下来，我们必须[**定义模型，将模型的输入和参数同模型的输出关联起来。**]\n",
    "回想一下，要计算线性模型的输出，\n",
    "我们只需计算输入特征$\\mathbf{X}$和模型权重$\\mathbf{w}$的矩阵-向量乘法后加上偏置$b$。\n",
    "注意，上面的$\\mathbf{Xw}$是一个向量，而$b$是一个标量。\n",
    "回想一下 :numref:`subsec_broadcasting`中描述的广播机制：\n",
    "当我们用一个向量加一个标量时，标量会被加到向量的每个分量上。\n"
   ]
  },
  {
   "cell_type": "code",
   "execution_count": 202,
   "id": "67386d14",
   "metadata": {
    "execution": {
     "iopub.execute_input": "2022-12-07T16:43:06.583374Z",
     "iopub.status.busy": "2022-12-07T16:43:06.583103Z",
     "iopub.status.idle": "2022-12-07T16:43:06.587197Z",
     "shell.execute_reply": "2022-12-07T16:43:06.586376Z"
    },
    "origin_pos": 24,
    "tab": [
     "pytorch"
    ],
    "ExecuteTime": {
     "end_time": "2023-07-31T07:20:47.953729Z",
     "start_time": "2023-07-31T07:20:47.830762Z"
    }
   },
   "outputs": [],
   "source": [
    "def linreg(X, w, b):  #@save\n",
    "    \"\"\"线性回归模型\"\"\"\n",
    "    return torch.matmul(X, w) + b"
   ]
  },
  {
   "cell_type": "markdown",
   "id": "7a087a5b",
   "metadata": {
    "origin_pos": 25
   },
   "source": [
    "## [**定义损失函数**]\n",
    "\n",
    "因为需要计算损失函数的梯度，所以我们应该先定义损失函数。\n",
    "这里我们使用 :numref:`sec_linear_regression`中描述的平方损失函数。\n",
    "在实现中，我们需要将真实值`y`的形状转换为和预测值`y_hat`的形状相同。\n"
   ]
  },
  {
   "cell_type": "code",
   "execution_count": 203,
   "id": "b95eb605",
   "metadata": {
    "execution": {
     "iopub.execute_input": "2022-12-07T16:43:06.590200Z",
     "iopub.status.busy": "2022-12-07T16:43:06.589934Z",
     "iopub.status.idle": "2022-12-07T16:43:06.594002Z",
     "shell.execute_reply": "2022-12-07T16:43:06.593170Z"
    },
    "origin_pos": 26,
    "tab": [
     "pytorch"
    ],
    "ExecuteTime": {
     "end_time": "2023-07-31T07:20:47.954555Z",
     "start_time": "2023-07-31T07:20:47.833396Z"
    }
   },
   "outputs": [],
   "source": [
    "def squared_loss(y_hat, y):  #@save\n",
    "    \"\"\"均方损失\"\"\"\n",
    "    return (y_hat - y.reshape(y_hat.shape)) ** 2 / 2"
   ]
  },
  {
   "cell_type": "markdown",
   "id": "1919becd",
   "metadata": {
    "origin_pos": 27
   },
   "source": [
    "## (**定义优化算法**)\n",
    "\n",
    "正如我们在 :numref:`sec_linear_regression`中讨论的，线性回归有解析解。\n",
    "尽管线性回归有解析解，但本书中的其他模型却没有。\n",
    "这里我们介绍小批量随机梯度下降。\n",
    "\n",
    "在每一步中，使用从数据集中随机抽取的一个小批量，然后根据参数计算损失的梯度。\n",
    "接下来，朝着减少损失的方向更新我们的参数。\n",
    "下面的函数实现小批量随机梯度下降更新。\n",
    "该函数接受模型参数集合、学习速率和批量大小作为输入。每\n",
    "一步更新的大小由学习速率`lr`决定。\n",
    "因为我们计算的损失是一个批量样本的总和，所以我们用批量大小（`batch_size`）\n",
    "来规范化步长，这样步长大小就不会取决于我们对批量大小的选择。\n"
   ]
  },
  {
   "cell_type": "code",
   "execution_count": 204,
   "id": "a6360e87",
   "metadata": {
    "execution": {
     "iopub.execute_input": "2022-12-07T16:43:06.597167Z",
     "iopub.status.busy": "2022-12-07T16:43:06.596900Z",
     "iopub.status.idle": "2022-12-07T16:43:06.601385Z",
     "shell.execute_reply": "2022-12-07T16:43:06.600532Z"
    },
    "origin_pos": 29,
    "tab": [
     "pytorch"
    ],
    "ExecuteTime": {
     "end_time": "2023-07-31T07:20:47.954585Z",
     "start_time": "2023-07-31T07:20:47.836633Z"
    }
   },
   "outputs": [],
   "source": [
    "def sgd(params, lr, batch_size):  #@save\n",
    "    \"\"\"小批量随机梯度下降\"\"\"\n",
    "    with torch.no_grad():\n",
    "        for param in params:\n",
    "            param -= lr * param.grad / batch_size\n",
    "            param.grad.zero_()"
   ]
  },
  {
   "cell_type": "markdown",
   "id": "9e466d4d",
   "metadata": {
    "origin_pos": 32
   },
   "source": [
    "## 训练\n",
    "\n",
    "现在我们已经准备好了模型训练所有需要的要素，可以实现主要的[**训练过程**]部分了。\n",
    "理解这段代码至关重要，因为从事深度学习后，\n",
    "相同的训练过程几乎一遍又一遍地出现。\n",
    "在每次迭代中，我们读取一小批量训练样本，并通过我们的模型来获得一组预测。\n",
    "计算完损失后，我们开始反向传播，存储每个参数的梯度。\n",
    "最后，我们调用优化算法`sgd`来更新模型参数。\n",
    "\n",
    "概括一下，我们将执行以下循环：\n",
    "\n",
    "* 初始化参数\n",
    "* 重复以下训练，直到完成\n",
    "    * 计算梯度$\\mathbf{g} \\leftarrow \\partial_{(\\mathbf{w},b)} \\frac{1}{|\\mathcal{B}|} \\sum_{i \\in \\mathcal{B}} l(\\mathbf{x}^{(i)}, y^{(i)}, \\mathbf{w}, b)$\n",
    "    * 更新参数$(\\mathbf{w}, b) \\leftarrow (\\mathbf{w}, b) - \\eta \\mathbf{g}$\n",
    "\n",
    "在每个*迭代周期*（epoch）中，我们使用`data_iter`函数遍历整个数据集，\n",
    "并将训练数据集中所有样本都使用一次（假设样本数能够被批量大小整除）。\n",
    "这里的迭代周期个数`num_epochs`和学习率`lr`都是超参数，分别设为3和0.03。\n",
    "设置超参数很棘手，需要通过反复试验进行调整。\n",
    "我们现在忽略这些细节，以后会在 :numref:`chap_optimization`中详细介绍。\n"
   ]
  },
  {
   "cell_type": "code",
   "execution_count": 205,
   "id": "102331db",
   "metadata": {
    "execution": {
     "iopub.execute_input": "2022-12-07T16:43:06.604403Z",
     "iopub.status.busy": "2022-12-07T16:43:06.604136Z",
     "iopub.status.idle": "2022-12-07T16:43:06.608339Z",
     "shell.execute_reply": "2022-12-07T16:43:06.607465Z"
    },
    "origin_pos": 33,
    "tab": [
     "pytorch"
    ],
    "ExecuteTime": {
     "end_time": "2023-07-31T07:20:47.956150Z",
     "start_time": "2023-07-31T07:20:47.846117Z"
    }
   },
   "outputs": [],
   "source": [
    "lr = 0.03\n",
    "num_epochs = 3\n",
    "net = linreg\n",
    "loss = squared_loss"
   ]
  },
  {
   "cell_type": "code",
   "execution_count": 206,
   "id": "97d6ac25",
   "metadata": {
    "execution": {
     "iopub.execute_input": "2022-12-07T16:43:06.611713Z",
     "iopub.status.busy": "2022-12-07T16:43:06.611103Z",
     "iopub.status.idle": "2022-12-07T16:43:06.718470Z",
     "shell.execute_reply": "2022-12-07T16:43:06.717660Z"
    },
    "origin_pos": 35,
    "tab": [
     "pytorch"
    ],
    "ExecuteTime": {
     "end_time": "2023-07-31T07:20:47.956933Z",
     "start_time": "2023-07-31T07:20:47.849276Z"
    }
   },
   "outputs": [
    {
     "name": "stdout",
     "output_type": "stream",
     "text": [
      "epoch 1, loss 0.054247\n",
      "epoch 2, loss 0.000246\n",
      "epoch 3, loss 0.000047\n"
     ]
    }
   ],
   "source": [
    "for epoch in range(num_epochs):\n",
    "    for X, y in data_iter(batch_size, features, labels):\n",
    "        l = loss(net(X, w, b), y)  # X和y的小批量损失\n",
    "        # 因为l形状是(batch_size,1)，而不是一个标量。l中的所有元素被加到一起，\n",
    "        # 并以此计算关于[w,b]的梯度\n",
    "        l.sum().backward()\n",
    "        sgd([w, b], lr, batch_size)  # 使用参数的梯度更新参数\n",
    "    with torch.no_grad():\n",
    "        train_l = loss(net(features, w, b), labels)\n",
    "        print(f'epoch {epoch + 1}, loss {float(train_l.mean()):f}')"
   ]
  },
  {
   "cell_type": "markdown",
   "id": "c49ff328",
   "metadata": {
    "origin_pos": 38
   },
   "source": [
    "因为我们使用的是自己合成的数据集，所以我们知道真正的参数是什么。\n",
    "因此，我们可以通过[**比较真实参数和通过训练学到的参数来评估训练的成功程度**]。\n",
    "事实上，真实参数和通过训练学到的参数确实非常接近。\n"
   ]
  },
  {
   "cell_type": "code",
   "execution_count": 207,
   "id": "20cfe26e",
   "metadata": {
    "execution": {
     "iopub.execute_input": "2022-12-07T16:43:06.722173Z",
     "iopub.status.busy": "2022-12-07T16:43:06.721608Z",
     "iopub.status.idle": "2022-12-07T16:43:06.727216Z",
     "shell.execute_reply": "2022-12-07T16:43:06.726417Z"
    },
    "origin_pos": 39,
    "tab": [
     "pytorch"
    ],
    "ExecuteTime": {
     "end_time": "2023-07-31T07:20:47.956987Z",
     "start_time": "2023-07-31T07:20:47.868337Z"
    }
   },
   "outputs": [
    {
     "name": "stdout",
     "output_type": "stream",
     "text": [
      "w的估计误差: tensor([ 0.0005, -0.0008], grad_fn=<SubBackward0>)\n",
      "b的估计误差: tensor([0.0014], grad_fn=<RsubBackward1>)\n"
     ]
    }
   ],
   "source": [
    "print(f'w的估计误差: {true_w - w.reshape(true_w.shape)}')\n",
    "print(f'b的估计误差: {true_b - b}')"
   ]
  },
  {
   "cell_type": "markdown",
   "id": "256e4aea",
   "metadata": {
    "origin_pos": 40
   },
   "source": [
    "注意，我们不应该想当然地认为我们能够完美地求解参数。\n",
    "在机器学习中，我们通常不太关心恢复真正的参数，而更关心如何高度准确预测参数。\n",
    "幸运的是，即使是在复杂的优化问题上，随机梯度下降通常也能找到非常好的解。\n",
    "其中一个原因是，在深度网络中存在许多参数组合能够实现高度精确的预测。\n",
    "\n",
    "## 小结\n",
    "\n",
    "* 我们学习了深度网络是如何实现和优化的。在这一过程中只使用张量和自动微分，不需要定义层或复杂的优化器。\n",
    "* 这一节只触及到了表面知识。在下面的部分中，我们将基于刚刚介绍的概念描述其他模型，并学习如何更简洁地实现其他模型。\n",
    "\n",
    "## 练习\n",
    "\n",
    "1. 如果我们将权重初始化为零，会发生什么。算法仍然有效吗？\n",
    "1. 假设试图为电压和电流的关系建立一个模型。自动微分可以用来学习模型的参数吗?\n",
    "1. 能基于[普朗克定律](https://en.wikipedia.org/wiki/Planck%27s_law)使用光谱能量密度来确定物体的温度吗？\n",
    "1. 计算二阶导数时可能会遇到什么问题？这些问题可以如何解决？\n",
    "1. 为什么在`squared_loss`函数中需要使用`reshape`函数？\n",
    "1. 尝试使用不同的学习率，观察损失函数值下降的快慢。\n",
    "1. 如果样本个数不能被批量大小整除，`data_iter`函数的行为会有什么变化？\n"
   ]
  },
  {
   "cell_type": "markdown",
   "id": "084dd552",
   "metadata": {
    "origin_pos": 42,
    "tab": [
     "pytorch"
    ]
   },
   "source": [
    "[Discussions](https://discuss.d2l.ai/t/1778)\n"
   ]
  },
  {
   "cell_type": "code",
   "execution_count": 207,
   "outputs": [],
   "source": [],
   "metadata": {
    "collapsed": false,
    "ExecuteTime": {
     "end_time": "2023-07-31T07:20:47.964856Z",
     "start_time": "2023-07-31T07:20:47.879885Z"
    }
   }
  }
 ],
 "metadata": {
  "language_info": {
   "name": "python"
  },
  "kernelspec": {
   "name": "python3",
   "language": "python",
   "display_name": "Python 3 (ipykernel)"
  }
 },
 "nbformat": 4,
 "nbformat_minor": 5
}
