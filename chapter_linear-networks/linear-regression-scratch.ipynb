{
 "cells": [
  {
   "cell_type": "markdown",
   "id": "d90261b4",
   "metadata": {
    "origin_pos": 0
   },
   "source": [
    "# 线性回归的从零开始实现\n",
    ":label:`sec_linear_scratch`\n",
    "\n",
    "在了解线性回归的关键思想之后，我们可以开始通过代码来动手实现线性回归了。\n",
    "在这一节中，(**我们将从零开始实现整个方法，\n",
    "包括数据流水线、模型、损失函数和小批量随机梯度下降优化器**)。\n",
    "虽然现代的深度学习框架几乎可以自动化地进行所有这些工作，但从零开始实现可以确保我们真正知道自己在做什么。\n",
    "同时，了解更细致的工作原理将方便我们自定义模型、自定义层或自定义损失函数。\n",
    "在这一节中，我们将只使用张量和自动求导。\n",
    "在之后的章节中，我们会充分利用深度学习框架的优势，介绍更简洁的实现方式。\n"
   ]
  },
  {
   "cell_type": "code",
   "execution_count": 1,
   "id": "5afac710",
   "metadata": {
    "execution": {
     "iopub.execute_input": "2022-12-07T16:43:03.768491Z",
     "iopub.status.busy": "2022-12-07T16:43:03.768163Z",
     "iopub.status.idle": "2022-12-07T16:43:06.309758Z",
     "shell.execute_reply": "2022-12-07T16:43:06.308920Z"
    },
    "origin_pos": 2,
    "tab": [
     "pytorch"
    ],
    "ExecuteTime": {
     "end_time": "2023-09-01T07:15:01.915305Z",
     "start_time": "2023-09-01T07:14:58.304507Z"
    }
   },
   "outputs": [],
   "source": [
    "%matplotlib inline\n",
    "import random\n",
    "import torch\n",
    "from d2l import torch as d2l"
   ]
  },
  {
   "cell_type": "markdown",
   "id": "9737c61d",
   "metadata": {
    "origin_pos": 5
   },
   "source": [
    "## 生成数据集\n",
    "\n",
    "为了简单起见，我们将[**根据带有噪声的线性模型构造一个人造数据集。**]\n",
    "我们的任务是使用这个有限样本的数据集来恢复这个模型的参数。\n",
    "我们将使用低维数据，这样可以很容易地将其可视化。\n",
    "在下面的代码中，我们生成一个包含1000个样本的数据集，\n",
    "每个样本包含从标准正态分布中采样的2个特征。\n",
    "我们的合成数据集是一个矩阵$\\mathbf{X}\\in \\mathbb{R}^{1000 \\times 2}$。\n",
    "\n",
    "(**我们使用线性模型参数$\\mathbf{w} = [2, -3.4]^\\top$、$b = 4.2$\n",
    "和噪声项$\\epsilon$生成数据集及其标签：\n",
    "\n",
    "$$\\mathbf{y}= \\mathbf{X} \\mathbf{w} + b + \\mathbf\\epsilon.$$\n",
    "**)\n",
    "\n",
    "$\\epsilon$可以视为模型预测和标签时的潜在观测误差。\n",
    "在这里我们认为标准假设成立，即$\\epsilon$服从均值为0的正态分布。\n",
    "为了简化问题，我们将标准差设为0.01。\n",
    "下面的代码生成合成数据集。\n"
   ]
  },
  {
   "cell_type": "code",
   "execution_count": 2,
   "id": "a12aa0dc",
   "metadata": {
    "execution": {
     "iopub.execute_input": "2022-12-07T16:43:06.314470Z",
     "iopub.status.busy": "2022-12-07T16:43:06.313919Z",
     "iopub.status.idle": "2022-12-07T16:43:06.319119Z",
     "shell.execute_reply": "2022-12-07T16:43:06.318364Z"
    },
    "origin_pos": 6,
    "tab": [
     "pytorch"
    ],
    "ExecuteTime": {
     "end_time": "2023-09-01T07:15:01.921628Z",
     "start_time": "2023-09-01T07:15:01.915680Z"
    }
   },
   "outputs": [],
   "source": [
    "def synthetic_data(w, b, num_examples):  #@save\n",
    "    \"\"\"生成y=Xw+b+噪声\"\"\"\n",
    "    X = torch.normal(0, 1, (num_examples, len(w)))\n",
    "    y = torch.matmul(X, w) + b\n",
    "    y += torch.normal(0, 0.01, y.shape)\n",
    "    return X, y.reshape((-1, 1))"
   ]
  },
  {
   "cell_type": "code",
   "execution_count": 3,
   "id": "c825e9f2",
   "metadata": {
    "execution": {
     "iopub.execute_input": "2022-12-07T16:43:06.322894Z",
     "iopub.status.busy": "2022-12-07T16:43:06.322362Z",
     "iopub.status.idle": "2022-12-07T16:43:06.346342Z",
     "shell.execute_reply": "2022-12-07T16:43:06.345545Z"
    },
    "origin_pos": 8,
    "tab": [
     "pytorch"
    ],
    "ExecuteTime": {
     "end_time": "2023-09-01T07:15:01.923547Z",
     "start_time": "2023-09-01T07:15:01.918626Z"
    }
   },
   "outputs": [
    {
     "data": {
      "text/plain": "(tensor([0.6510, 0.4680]), torch.Size([1000, 1]))"
     },
     "execution_count": 3,
     "metadata": {},
     "output_type": "execute_result"
    }
   ],
   "source": [
    "true_w = torch.tensor([2, -3.4])\n",
    "true_b = 4.2\n",
    "features, labels = synthetic_data(true_w, true_b, 1000)\n",
    "features[0], labels.shape"
   ]
  },
  {
   "cell_type": "markdown",
   "id": "8f793e73",
   "metadata": {
    "origin_pos": 9
   },
   "source": [
    "注意，[**`features`中的每一行都包含一个二维数据样本，\n",
    "`labels`中的每一行都包含一维标签值（一个标量）**]。\n"
   ]
  },
  {
   "cell_type": "code",
   "execution_count": 4,
   "id": "ff9bf839",
   "metadata": {
    "execution": {
     "iopub.execute_input": "2022-12-07T16:43:06.350058Z",
     "iopub.status.busy": "2022-12-07T16:43:06.349622Z",
     "iopub.status.idle": "2022-12-07T16:43:06.356271Z",
     "shell.execute_reply": "2022-12-07T16:43:06.355499Z"
    },
    "origin_pos": 10,
    "tab": [
     "pytorch"
    ],
    "ExecuteTime": {
     "end_time": "2023-09-01T07:15:01.928871Z",
     "start_time": "2023-09-01T07:15:01.924576Z"
    }
   },
   "outputs": [
    {
     "name": "stdout",
     "output_type": "stream",
     "text": [
      "features: tensor([0.6510, 0.4680]) \n",
      "label: tensor([3.9144])\n"
     ]
    }
   ],
   "source": [
    "print('features:', features[0],'\\nlabel:', labels[0])"
   ]
  },
  {
   "cell_type": "markdown",
   "id": "fceaa9b1",
   "metadata": {
    "origin_pos": 11
   },
   "source": [
    "通过生成第二个特征`features[:, 1]`和`labels`的散点图，\n",
    "可以直观观察到两者之间的线性关系。\n"
   ]
  },
  {
   "cell_type": "code",
   "execution_count": 5,
   "id": "ec27cda9",
   "metadata": {
    "execution": {
     "iopub.execute_input": "2022-12-07T16:43:06.360566Z",
     "iopub.status.busy": "2022-12-07T16:43:06.360291Z",
     "iopub.status.idle": "2022-12-07T16:43:06.547379Z",
     "shell.execute_reply": "2022-12-07T16:43:06.546494Z"
    },
    "origin_pos": 12,
    "tab": [
     "pytorch"
    ],
    "ExecuteTime": {
     "end_time": "2023-09-01T07:15:01.991307Z",
     "start_time": "2023-09-01T07:15:01.930771Z"
    }
   },
   "outputs": [
    {
     "data": {
      "text/plain": "<Figure size 350x250 with 1 Axes>",
      "image/svg+xml": "<?xml version=\"1.0\" encoding=\"utf-8\" standalone=\"no\"?>\n<!DOCTYPE svg PUBLIC \"-//W3C//DTD SVG 1.1//EN\"\n  \"http://www.w3.org/Graphics/SVG/1.1/DTD/svg11.dtd\">\n<svg xmlns:xlink=\"http://www.w3.org/1999/xlink\" width=\"237.804688pt\" height=\"169.678125pt\" viewBox=\"0 0 237.804688 169.678125\" xmlns=\"http://www.w3.org/2000/svg\" version=\"1.1\">\n <metadata>\n  <rdf:RDF xmlns:dc=\"http://purl.org/dc/elements/1.1/\" xmlns:cc=\"http://creativecommons.org/ns#\" xmlns:rdf=\"http://www.w3.org/1999/02/22-rdf-syntax-ns#\">\n   <cc:Work>\n    <dc:type rdf:resource=\"http://purl.org/dc/dcmitype/StillImage\"/>\n    <dc:date>2023-09-01T15:15:01.968819</dc:date>\n    <dc:format>image/svg+xml</dc:format>\n    <dc:creator>\n     <cc:Agent>\n      <dc:title>Matplotlib v3.7.1, https://matplotlib.org/</dc:title>\n     </cc:Agent>\n    </dc:creator>\n   </cc:Work>\n  </rdf:RDF>\n </metadata>\n <defs>\n  <style type=\"text/css\">*{stroke-linejoin: round; stroke-linecap: butt}</style>\n </defs>\n <g id=\"figure_1\">\n  <g id=\"patch_1\">\n   <path d=\"M 0 169.678125 \nL 237.804688 169.678125 \nL 237.804688 0 \nL 0 0 \nz\n\" style=\"fill: #ffffff\"/>\n  </g>\n  <g id=\"axes_1\">\n   <g id=\"patch_2\">\n    <path d=\"M 35.304688 145.8 \nL 230.604688 145.8 \nL 230.604688 7.2 \nL 35.304688 7.2 \nz\n\" style=\"fill: #ffffff\"/>\n   </g>\n   <g id=\"PathCollection_1\">\n    <defs>\n     <path id=\"m2a96e0e4b7\" d=\"M 0 0.5 \nC 0.132602 0.5 0.25979 0.447317 0.353553 0.353553 \nC 0.447317 0.25979 0.5 0.132602 0.5 0 \nC 0.5 -0.132602 0.447317 -0.25979 0.353553 -0.353553 \nC 0.25979 -0.447317 0.132602 -0.5 0 -0.5 \nC -0.132602 -0.5 -0.25979 -0.447317 -0.353553 -0.353553 \nC -0.447317 -0.25979 -0.5 -0.132602 -0.5 0 \nC -0.5 0.132602 -0.447317 0.25979 -0.353553 0.353553 \nC -0.25979 0.447317 -0.132602 0.5 0 0.5 \nz\n\" style=\"stroke: #1f77b4\"/>\n    </defs>\n    <g clip-path=\"url(#p1babd0e0cc)\">\n     <use xlink:href=\"#m2a96e0e4b7\" x=\"147.11345\" y=\"74.146872\" style=\"fill: #1f77b4; stroke: #1f77b4\"/>\n     <use xlink:href=\"#m2a96e0e4b7\" x=\"96.994458\" y=\"71.453664\" style=\"fill: #1f77b4; stroke: #1f77b4\"/>\n     <use xlink:href=\"#m2a96e0e4b7\" x=\"155.720982\" y=\"104.144876\" style=\"fill: #1f77b4; stroke: #1f77b4\"/>\n     <use xlink:href=\"#m2a96e0e4b7\" x=\"173.473555\" y=\"86.331082\" style=\"fill: #1f77b4; stroke: #1f77b4\"/>\n     <use xlink:href=\"#m2a96e0e4b7\" x=\"133.087975\" y=\"91.988459\" style=\"fill: #1f77b4; stroke: #1f77b4\"/>\n     <use xlink:href=\"#m2a96e0e4b7\" x=\"149.063768\" y=\"70.500162\" style=\"fill: #1f77b4; stroke: #1f77b4\"/>\n     <use xlink:href=\"#m2a96e0e4b7\" x=\"153.700958\" y=\"90.457608\" style=\"fill: #1f77b4; stroke: #1f77b4\"/>\n     <use xlink:href=\"#m2a96e0e4b7\" x=\"108.933164\" y=\"84.30564\" style=\"fill: #1f77b4; stroke: #1f77b4\"/>\n     <use xlink:href=\"#m2a96e0e4b7\" x=\"150.910309\" y=\"90.110386\" style=\"fill: #1f77b4; stroke: #1f77b4\"/>\n     <use xlink:href=\"#m2a96e0e4b7\" x=\"101.682726\" y=\"63.752775\" style=\"fill: #1f77b4; stroke: #1f77b4\"/>\n     <use xlink:href=\"#m2a96e0e4b7\" x=\"153.965865\" y=\"67.703298\" style=\"fill: #1f77b4; stroke: #1f77b4\"/>\n     <use xlink:href=\"#m2a96e0e4b7\" x=\"120.991381\" y=\"70.287804\" style=\"fill: #1f77b4; stroke: #1f77b4\"/>\n     <use xlink:href=\"#m2a96e0e4b7\" x=\"132.67211\" y=\"68.435665\" style=\"fill: #1f77b4; stroke: #1f77b4\"/>\n     <use xlink:href=\"#m2a96e0e4b7\" x=\"127.377834\" y=\"51.939537\" style=\"fill: #1f77b4; stroke: #1f77b4\"/>\n     <use xlink:href=\"#m2a96e0e4b7\" x=\"117.344003\" y=\"63.40456\" style=\"fill: #1f77b4; stroke: #1f77b4\"/>\n     <use xlink:href=\"#m2a96e0e4b7\" x=\"136.356846\" y=\"72.21283\" style=\"fill: #1f77b4; stroke: #1f77b4\"/>\n     <use xlink:href=\"#m2a96e0e4b7\" x=\"152.92761\" y=\"77.20214\" style=\"fill: #1f77b4; stroke: #1f77b4\"/>\n     <use xlink:href=\"#m2a96e0e4b7\" x=\"143.955206\" y=\"70.975491\" style=\"fill: #1f77b4; stroke: #1f77b4\"/>\n     <use xlink:href=\"#m2a96e0e4b7\" x=\"91.419816\" y=\"54.910363\" style=\"fill: #1f77b4; stroke: #1f77b4\"/>\n     <use xlink:href=\"#m2a96e0e4b7\" x=\"155.534432\" y=\"66.735911\" style=\"fill: #1f77b4; stroke: #1f77b4\"/>\n     <use xlink:href=\"#m2a96e0e4b7\" x=\"129.238094\" y=\"74.28563\" style=\"fill: #1f77b4; stroke: #1f77b4\"/>\n     <use xlink:href=\"#m2a96e0e4b7\" x=\"142.914794\" y=\"72.462114\" style=\"fill: #1f77b4; stroke: #1f77b4\"/>\n     <use xlink:href=\"#m2a96e0e4b7\" x=\"209.756437\" y=\"114.287756\" style=\"fill: #1f77b4; stroke: #1f77b4\"/>\n     <use xlink:href=\"#m2a96e0e4b7\" x=\"123.666968\" y=\"75.411114\" style=\"fill: #1f77b4; stroke: #1f77b4\"/>\n     <use xlink:href=\"#m2a96e0e4b7\" x=\"130.590871\" y=\"66.407152\" style=\"fill: #1f77b4; stroke: #1f77b4\"/>\n     <use xlink:href=\"#m2a96e0e4b7\" x=\"177.487225\" y=\"94.759465\" style=\"fill: #1f77b4; stroke: #1f77b4\"/>\n     <use xlink:href=\"#m2a96e0e4b7\" x=\"132.215284\" y=\"73.124614\" style=\"fill: #1f77b4; stroke: #1f77b4\"/>\n     <use xlink:href=\"#m2a96e0e4b7\" x=\"125.689171\" y=\"69.708315\" style=\"fill: #1f77b4; stroke: #1f77b4\"/>\n     <use xlink:href=\"#m2a96e0e4b7\" x=\"138.036359\" y=\"81.922577\" style=\"fill: #1f77b4; stroke: #1f77b4\"/>\n     <use xlink:href=\"#m2a96e0e4b7\" x=\"131.242029\" y=\"89.766741\" style=\"fill: #1f77b4; stroke: #1f77b4\"/>\n     <use xlink:href=\"#m2a96e0e4b7\" x=\"125.479232\" y=\"82.597434\" style=\"fill: #1f77b4; stroke: #1f77b4\"/>\n     <use xlink:href=\"#m2a96e0e4b7\" x=\"152.419018\" y=\"71.302926\" style=\"fill: #1f77b4; stroke: #1f77b4\"/>\n     <use xlink:href=\"#m2a96e0e4b7\" x=\"127.318522\" y=\"81.155882\" style=\"fill: #1f77b4; stroke: #1f77b4\"/>\n     <use xlink:href=\"#m2a96e0e4b7\" x=\"119.980843\" y=\"41.44217\" style=\"fill: #1f77b4; stroke: #1f77b4\"/>\n     <use xlink:href=\"#m2a96e0e4b7\" x=\"172.569028\" y=\"86.900388\" style=\"fill: #1f77b4; stroke: #1f77b4\"/>\n     <use xlink:href=\"#m2a96e0e4b7\" x=\"174.384484\" y=\"98.877275\" style=\"fill: #1f77b4; stroke: #1f77b4\"/>\n     <use xlink:href=\"#m2a96e0e4b7\" x=\"91.065131\" y=\"22.593435\" style=\"fill: #1f77b4; stroke: #1f77b4\"/>\n     <use xlink:href=\"#m2a96e0e4b7\" x=\"163.488041\" y=\"85.336034\" style=\"fill: #1f77b4; stroke: #1f77b4\"/>\n     <use xlink:href=\"#m2a96e0e4b7\" x=\"140.366392\" y=\"87.053134\" style=\"fill: #1f77b4; stroke: #1f77b4\"/>\n     <use xlink:href=\"#m2a96e0e4b7\" x=\"118.092936\" y=\"67.230219\" style=\"fill: #1f77b4; stroke: #1f77b4\"/>\n     <use xlink:href=\"#m2a96e0e4b7\" x=\"120.046806\" y=\"69.870903\" style=\"fill: #1f77b4; stroke: #1f77b4\"/>\n     <use xlink:href=\"#m2a96e0e4b7\" x=\"126.687838\" y=\"68.757945\" style=\"fill: #1f77b4; stroke: #1f77b4\"/>\n     <use xlink:href=\"#m2a96e0e4b7\" x=\"169.124193\" y=\"111.023094\" style=\"fill: #1f77b4; stroke: #1f77b4\"/>\n     <use xlink:href=\"#m2a96e0e4b7\" x=\"142.704829\" y=\"74.359083\" style=\"fill: #1f77b4; stroke: #1f77b4\"/>\n     <use xlink:href=\"#m2a96e0e4b7\" x=\"138.829436\" y=\"75.559459\" style=\"fill: #1f77b4; stroke: #1f77b4\"/>\n     <use xlink:href=\"#m2a96e0e4b7\" x=\"108.563245\" y=\"62.442474\" style=\"fill: #1f77b4; stroke: #1f77b4\"/>\n     <use xlink:href=\"#m2a96e0e4b7\" x=\"121.895897\" y=\"62.917834\" style=\"fill: #1f77b4; stroke: #1f77b4\"/>\n     <use xlink:href=\"#m2a96e0e4b7\" x=\"128.777851\" y=\"59.250741\" style=\"fill: #1f77b4; stroke: #1f77b4\"/>\n     <use xlink:href=\"#m2a96e0e4b7\" x=\"94.164639\" y=\"35.94773\" style=\"fill: #1f77b4; stroke: #1f77b4\"/>\n     <use xlink:href=\"#m2a96e0e4b7\" x=\"111.112408\" y=\"68.836282\" style=\"fill: #1f77b4; stroke: #1f77b4\"/>\n     <use xlink:href=\"#m2a96e0e4b7\" x=\"129.533885\" y=\"68.863517\" style=\"fill: #1f77b4; stroke: #1f77b4\"/>\n     <use xlink:href=\"#m2a96e0e4b7\" x=\"148.846186\" y=\"85.33311\" style=\"fill: #1f77b4; stroke: #1f77b4\"/>\n     <use xlink:href=\"#m2a96e0e4b7\" x=\"150.11334\" y=\"68.676356\" style=\"fill: #1f77b4; stroke: #1f77b4\"/>\n     <use xlink:href=\"#m2a96e0e4b7\" x=\"169.556796\" y=\"77.713906\" style=\"fill: #1f77b4; stroke: #1f77b4\"/>\n     <use xlink:href=\"#m2a96e0e4b7\" x=\"103.991841\" y=\"68.331639\" style=\"fill: #1f77b4; stroke: #1f77b4\"/>\n     <use xlink:href=\"#m2a96e0e4b7\" x=\"137.239472\" y=\"76.684518\" style=\"fill: #1f77b4; stroke: #1f77b4\"/>\n     <use xlink:href=\"#m2a96e0e4b7\" x=\"149.810594\" y=\"70.211433\" style=\"fill: #1f77b4; stroke: #1f77b4\"/>\n     <use xlink:href=\"#m2a96e0e4b7\" x=\"126.431686\" y=\"66.498847\" style=\"fill: #1f77b4; stroke: #1f77b4\"/>\n     <use xlink:href=\"#m2a96e0e4b7\" x=\"99.334933\" y=\"50.904739\" style=\"fill: #1f77b4; stroke: #1f77b4\"/>\n     <use xlink:href=\"#m2a96e0e4b7\" x=\"116.223924\" y=\"61.913693\" style=\"fill: #1f77b4; stroke: #1f77b4\"/>\n     <use xlink:href=\"#m2a96e0e4b7\" x=\"44.18196\" y=\"33.355319\" style=\"fill: #1f77b4; stroke: #1f77b4\"/>\n     <use xlink:href=\"#m2a96e0e4b7\" x=\"131.593407\" y=\"93.166456\" style=\"fill: #1f77b4; stroke: #1f77b4\"/>\n     <use xlink:href=\"#m2a96e0e4b7\" x=\"146.458368\" y=\"93.841651\" style=\"fill: #1f77b4; stroke: #1f77b4\"/>\n     <use xlink:href=\"#m2a96e0e4b7\" x=\"152.885654\" y=\"78.959069\" style=\"fill: #1f77b4; stroke: #1f77b4\"/>\n     <use xlink:href=\"#m2a96e0e4b7\" x=\"94.628844\" y=\"46.949167\" style=\"fill: #1f77b4; stroke: #1f77b4\"/>\n     <use xlink:href=\"#m2a96e0e4b7\" x=\"108.148524\" y=\"64.562596\" style=\"fill: #1f77b4; stroke: #1f77b4\"/>\n     <use xlink:href=\"#m2a96e0e4b7\" x=\"113.212571\" y=\"74.329573\" style=\"fill: #1f77b4; stroke: #1f77b4\"/>\n     <use xlink:href=\"#m2a96e0e4b7\" x=\"150.761799\" y=\"75.297815\" style=\"fill: #1f77b4; stroke: #1f77b4\"/>\n     <use xlink:href=\"#m2a96e0e4b7\" x=\"104.552163\" y=\"54.026113\" style=\"fill: #1f77b4; stroke: #1f77b4\"/>\n     <use xlink:href=\"#m2a96e0e4b7\" x=\"109.609118\" y=\"70.87403\" style=\"fill: #1f77b4; stroke: #1f77b4\"/>\n     <use xlink:href=\"#m2a96e0e4b7\" x=\"157.974149\" y=\"84.057889\" style=\"fill: #1f77b4; stroke: #1f77b4\"/>\n     <use xlink:href=\"#m2a96e0e4b7\" x=\"136.314556\" y=\"73.516274\" style=\"fill: #1f77b4; stroke: #1f77b4\"/>\n     <use xlink:href=\"#m2a96e0e4b7\" x=\"107.868039\" y=\"60.162632\" style=\"fill: #1f77b4; stroke: #1f77b4\"/>\n     <use xlink:href=\"#m2a96e0e4b7\" x=\"121.915006\" y=\"71.767141\" style=\"fill: #1f77b4; stroke: #1f77b4\"/>\n     <use xlink:href=\"#m2a96e0e4b7\" x=\"125.598756\" y=\"59.460514\" style=\"fill: #1f77b4; stroke: #1f77b4\"/>\n     <use xlink:href=\"#m2a96e0e4b7\" x=\"115.659694\" y=\"72.525779\" style=\"fill: #1f77b4; stroke: #1f77b4\"/>\n     <use xlink:href=\"#m2a96e0e4b7\" x=\"172.989311\" y=\"81.668346\" style=\"fill: #1f77b4; stroke: #1f77b4\"/>\n     <use xlink:href=\"#m2a96e0e4b7\" x=\"128.015616\" y=\"75.124182\" style=\"fill: #1f77b4; stroke: #1f77b4\"/>\n     <use xlink:href=\"#m2a96e0e4b7\" x=\"129.676803\" y=\"86.491192\" style=\"fill: #1f77b4; stroke: #1f77b4\"/>\n     <use xlink:href=\"#m2a96e0e4b7\" x=\"145.005059\" y=\"78.801157\" style=\"fill: #1f77b4; stroke: #1f77b4\"/>\n     <use xlink:href=\"#m2a96e0e4b7\" x=\"181.453379\" y=\"91.360547\" style=\"fill: #1f77b4; stroke: #1f77b4\"/>\n     <use xlink:href=\"#m2a96e0e4b7\" x=\"156.45776\" y=\"81.722955\" style=\"fill: #1f77b4; stroke: #1f77b4\"/>\n     <use xlink:href=\"#m2a96e0e4b7\" x=\"99.353501\" y=\"40.821086\" style=\"fill: #1f77b4; stroke: #1f77b4\"/>\n     <use xlink:href=\"#m2a96e0e4b7\" x=\"168.326922\" y=\"96.398957\" style=\"fill: #1f77b4; stroke: #1f77b4\"/>\n     <use xlink:href=\"#m2a96e0e4b7\" x=\"169.816271\" y=\"95.350721\" style=\"fill: #1f77b4; stroke: #1f77b4\"/>\n     <use xlink:href=\"#m2a96e0e4b7\" x=\"137.833804\" y=\"82.832954\" style=\"fill: #1f77b4; stroke: #1f77b4\"/>\n     <use xlink:href=\"#m2a96e0e4b7\" x=\"202.752067\" y=\"103.332969\" style=\"fill: #1f77b4; stroke: #1f77b4\"/>\n     <use xlink:href=\"#m2a96e0e4b7\" x=\"146.175371\" y=\"70.440529\" style=\"fill: #1f77b4; stroke: #1f77b4\"/>\n     <use xlink:href=\"#m2a96e0e4b7\" x=\"121.130752\" y=\"66.822751\" style=\"fill: #1f77b4; stroke: #1f77b4\"/>\n     <use xlink:href=\"#m2a96e0e4b7\" x=\"91.304426\" y=\"30.375078\" style=\"fill: #1f77b4; stroke: #1f77b4\"/>\n     <use xlink:href=\"#m2a96e0e4b7\" x=\"147.729976\" y=\"95.68745\" style=\"fill: #1f77b4; stroke: #1f77b4\"/>\n     <use xlink:href=\"#m2a96e0e4b7\" x=\"106.518644\" y=\"57.582498\" style=\"fill: #1f77b4; stroke: #1f77b4\"/>\n     <use xlink:href=\"#m2a96e0e4b7\" x=\"156.633868\" y=\"112.500856\" style=\"fill: #1f77b4; stroke: #1f77b4\"/>\n     <use xlink:href=\"#m2a96e0e4b7\" x=\"109.078342\" y=\"43.115786\" style=\"fill: #1f77b4; stroke: #1f77b4\"/>\n     <use xlink:href=\"#m2a96e0e4b7\" x=\"160.849768\" y=\"92.651309\" style=\"fill: #1f77b4; stroke: #1f77b4\"/>\n     <use xlink:href=\"#m2a96e0e4b7\" x=\"97.307503\" y=\"44.067308\" style=\"fill: #1f77b4; stroke: #1f77b4\"/>\n     <use xlink:href=\"#m2a96e0e4b7\" x=\"144.973057\" y=\"80.573439\" style=\"fill: #1f77b4; stroke: #1f77b4\"/>\n     <use xlink:href=\"#m2a96e0e4b7\" x=\"129.040932\" y=\"63.898672\" style=\"fill: #1f77b4; stroke: #1f77b4\"/>\n     <use xlink:href=\"#m2a96e0e4b7\" x=\"178.526326\" y=\"93.572725\" style=\"fill: #1f77b4; stroke: #1f77b4\"/>\n     <use xlink:href=\"#m2a96e0e4b7\" x=\"127.432015\" y=\"54.841734\" style=\"fill: #1f77b4; stroke: #1f77b4\"/>\n     <use xlink:href=\"#m2a96e0e4b7\" x=\"148.685931\" y=\"80.309264\" style=\"fill: #1f77b4; stroke: #1f77b4\"/>\n     <use xlink:href=\"#m2a96e0e4b7\" x=\"145.421989\" y=\"68.862074\" style=\"fill: #1f77b4; stroke: #1f77b4\"/>\n     <use xlink:href=\"#m2a96e0e4b7\" x=\"137.511487\" y=\"65.245538\" style=\"fill: #1f77b4; stroke: #1f77b4\"/>\n     <use xlink:href=\"#m2a96e0e4b7\" x=\"169.956493\" y=\"113.648393\" style=\"fill: #1f77b4; stroke: #1f77b4\"/>\n     <use xlink:href=\"#m2a96e0e4b7\" x=\"100.780277\" y=\"62.642799\" style=\"fill: #1f77b4; stroke: #1f77b4\"/>\n     <use xlink:href=\"#m2a96e0e4b7\" x=\"177.822705\" y=\"95.534777\" style=\"fill: #1f77b4; stroke: #1f77b4\"/>\n     <use xlink:href=\"#m2a96e0e4b7\" x=\"121.602004\" y=\"47.755782\" style=\"fill: #1f77b4; stroke: #1f77b4\"/>\n     <use xlink:href=\"#m2a96e0e4b7\" x=\"116.248745\" y=\"65.58316\" style=\"fill: #1f77b4; stroke: #1f77b4\"/>\n     <use xlink:href=\"#m2a96e0e4b7\" x=\"141.49226\" y=\"76.829791\" style=\"fill: #1f77b4; stroke: #1f77b4\"/>\n     <use xlink:href=\"#m2a96e0e4b7\" x=\"134.900934\" y=\"78.65888\" style=\"fill: #1f77b4; stroke: #1f77b4\"/>\n     <use xlink:href=\"#m2a96e0e4b7\" x=\"134.046345\" y=\"102.18018\" style=\"fill: #1f77b4; stroke: #1f77b4\"/>\n     <use xlink:href=\"#m2a96e0e4b7\" x=\"180.513093\" y=\"102.613546\" style=\"fill: #1f77b4; stroke: #1f77b4\"/>\n     <use xlink:href=\"#m2a96e0e4b7\" x=\"221.727415\" y=\"137.127493\" style=\"fill: #1f77b4; stroke: #1f77b4\"/>\n     <use xlink:href=\"#m2a96e0e4b7\" x=\"158.817923\" y=\"77.759825\" style=\"fill: #1f77b4; stroke: #1f77b4\"/>\n     <use xlink:href=\"#m2a96e0e4b7\" x=\"95.136757\" y=\"48.673489\" style=\"fill: #1f77b4; stroke: #1f77b4\"/>\n     <use xlink:href=\"#m2a96e0e4b7\" x=\"145.001842\" y=\"87.596739\" style=\"fill: #1f77b4; stroke: #1f77b4\"/>\n     <use xlink:href=\"#m2a96e0e4b7\" x=\"148.080092\" y=\"75.848933\" style=\"fill: #1f77b4; stroke: #1f77b4\"/>\n     <use xlink:href=\"#m2a96e0e4b7\" x=\"181.968203\" y=\"96.118086\" style=\"fill: #1f77b4; stroke: #1f77b4\"/>\n     <use xlink:href=\"#m2a96e0e4b7\" x=\"128.012584\" y=\"53.953177\" style=\"fill: #1f77b4; stroke: #1f77b4\"/>\n     <use xlink:href=\"#m2a96e0e4b7\" x=\"120.100186\" y=\"69.32948\" style=\"fill: #1f77b4; stroke: #1f77b4\"/>\n     <use xlink:href=\"#m2a96e0e4b7\" x=\"120.593376\" y=\"75.692102\" style=\"fill: #1f77b4; stroke: #1f77b4\"/>\n     <use xlink:href=\"#m2a96e0e4b7\" x=\"107.197566\" y=\"41.996587\" style=\"fill: #1f77b4; stroke: #1f77b4\"/>\n     <use xlink:href=\"#m2a96e0e4b7\" x=\"77.321309\" y=\"32.221124\" style=\"fill: #1f77b4; stroke: #1f77b4\"/>\n     <use xlink:href=\"#m2a96e0e4b7\" x=\"120.065879\" y=\"56.883215\" style=\"fill: #1f77b4; stroke: #1f77b4\"/>\n     <use xlink:href=\"#m2a96e0e4b7\" x=\"181.682525\" y=\"96.552651\" style=\"fill: #1f77b4; stroke: #1f77b4\"/>\n     <use xlink:href=\"#m2a96e0e4b7\" x=\"106.459008\" y=\"50.676098\" style=\"fill: #1f77b4; stroke: #1f77b4\"/>\n     <use xlink:href=\"#m2a96e0e4b7\" x=\"120.240059\" y=\"69.984844\" style=\"fill: #1f77b4; stroke: #1f77b4\"/>\n     <use xlink:href=\"#m2a96e0e4b7\" x=\"155.46347\" y=\"82.863054\" style=\"fill: #1f77b4; stroke: #1f77b4\"/>\n     <use xlink:href=\"#m2a96e0e4b7\" x=\"149.975839\" y=\"61.394827\" style=\"fill: #1f77b4; stroke: #1f77b4\"/>\n     <use xlink:href=\"#m2a96e0e4b7\" x=\"100.658066\" y=\"53.539358\" style=\"fill: #1f77b4; stroke: #1f77b4\"/>\n     <use xlink:href=\"#m2a96e0e4b7\" x=\"134.370294\" y=\"70.641136\" style=\"fill: #1f77b4; stroke: #1f77b4\"/>\n     <use xlink:href=\"#m2a96e0e4b7\" x=\"95.783843\" y=\"53.239934\" style=\"fill: #1f77b4; stroke: #1f77b4\"/>\n     <use xlink:href=\"#m2a96e0e4b7\" x=\"163.267004\" y=\"106.408373\" style=\"fill: #1f77b4; stroke: #1f77b4\"/>\n     <use xlink:href=\"#m2a96e0e4b7\" x=\"139.716117\" y=\"72.351599\" style=\"fill: #1f77b4; stroke: #1f77b4\"/>\n     <use xlink:href=\"#m2a96e0e4b7\" x=\"105.685573\" y=\"56.152056\" style=\"fill: #1f77b4; stroke: #1f77b4\"/>\n     <use xlink:href=\"#m2a96e0e4b7\" x=\"96.879515\" y=\"38.708973\" style=\"fill: #1f77b4; stroke: #1f77b4\"/>\n     <use xlink:href=\"#m2a96e0e4b7\" x=\"131.656513\" y=\"62.872489\" style=\"fill: #1f77b4; stroke: #1f77b4\"/>\n     <use xlink:href=\"#m2a96e0e4b7\" x=\"154.868116\" y=\"95.221523\" style=\"fill: #1f77b4; stroke: #1f77b4\"/>\n     <use xlink:href=\"#m2a96e0e4b7\" x=\"143.157975\" y=\"89.78993\" style=\"fill: #1f77b4; stroke: #1f77b4\"/>\n     <use xlink:href=\"#m2a96e0e4b7\" x=\"178.327763\" y=\"96.262943\" style=\"fill: #1f77b4; stroke: #1f77b4\"/>\n     <use xlink:href=\"#m2a96e0e4b7\" x=\"113.830694\" y=\"69.261287\" style=\"fill: #1f77b4; stroke: #1f77b4\"/>\n     <use xlink:href=\"#m2a96e0e4b7\" x=\"91.136342\" y=\"40.150389\" style=\"fill: #1f77b4; stroke: #1f77b4\"/>\n     <use xlink:href=\"#m2a96e0e4b7\" x=\"98.536242\" y=\"54.289177\" style=\"fill: #1f77b4; stroke: #1f77b4\"/>\n     <use xlink:href=\"#m2a96e0e4b7\" x=\"159.03847\" y=\"90.802966\" style=\"fill: #1f77b4; stroke: #1f77b4\"/>\n     <use xlink:href=\"#m2a96e0e4b7\" x=\"142.07475\" y=\"72.015888\" style=\"fill: #1f77b4; stroke: #1f77b4\"/>\n     <use xlink:href=\"#m2a96e0e4b7\" x=\"147.904488\" y=\"93.901163\" style=\"fill: #1f77b4; stroke: #1f77b4\"/>\n     <use xlink:href=\"#m2a96e0e4b7\" x=\"96.273006\" y=\"73.128667\" style=\"fill: #1f77b4; stroke: #1f77b4\"/>\n     <use xlink:href=\"#m2a96e0e4b7\" x=\"141.963816\" y=\"89.628756\" style=\"fill: #1f77b4; stroke: #1f77b4\"/>\n     <use xlink:href=\"#m2a96e0e4b7\" x=\"143.051274\" y=\"67.909571\" style=\"fill: #1f77b4; stroke: #1f77b4\"/>\n     <use xlink:href=\"#m2a96e0e4b7\" x=\"137.426066\" y=\"67.396936\" style=\"fill: #1f77b4; stroke: #1f77b4\"/>\n     <use xlink:href=\"#m2a96e0e4b7\" x=\"126.524042\" y=\"55.460448\" style=\"fill: #1f77b4; stroke: #1f77b4\"/>\n     <use xlink:href=\"#m2a96e0e4b7\" x=\"125.782785\" y=\"64.890255\" style=\"fill: #1f77b4; stroke: #1f77b4\"/>\n     <use xlink:href=\"#m2a96e0e4b7\" x=\"125.93515\" y=\"73.150551\" style=\"fill: #1f77b4; stroke: #1f77b4\"/>\n     <use xlink:href=\"#m2a96e0e4b7\" x=\"114.557199\" y=\"65.733159\" style=\"fill: #1f77b4; stroke: #1f77b4\"/>\n     <use xlink:href=\"#m2a96e0e4b7\" x=\"111.79615\" y=\"66.859269\" style=\"fill: #1f77b4; stroke: #1f77b4\"/>\n     <use xlink:href=\"#m2a96e0e4b7\" x=\"111.390446\" y=\"73.75693\" style=\"fill: #1f77b4; stroke: #1f77b4\"/>\n     <use xlink:href=\"#m2a96e0e4b7\" x=\"130.710784\" y=\"40.921533\" style=\"fill: #1f77b4; stroke: #1f77b4\"/>\n     <use xlink:href=\"#m2a96e0e4b7\" x=\"101.720979\" y=\"48.357556\" style=\"fill: #1f77b4; stroke: #1f77b4\"/>\n     <use xlink:href=\"#m2a96e0e4b7\" x=\"146.172389\" y=\"88.790508\" style=\"fill: #1f77b4; stroke: #1f77b4\"/>\n     <use xlink:href=\"#m2a96e0e4b7\" x=\"137.441866\" y=\"58.885541\" style=\"fill: #1f77b4; stroke: #1f77b4\"/>\n     <use xlink:href=\"#m2a96e0e4b7\" x=\"158.073842\" y=\"111.568765\" style=\"fill: #1f77b4; stroke: #1f77b4\"/>\n     <use xlink:href=\"#m2a96e0e4b7\" x=\"153.274174\" y=\"80.253282\" style=\"fill: #1f77b4; stroke: #1f77b4\"/>\n     <use xlink:href=\"#m2a96e0e4b7\" x=\"98.765213\" y=\"54.612215\" style=\"fill: #1f77b4; stroke: #1f77b4\"/>\n     <use xlink:href=\"#m2a96e0e4b7\" x=\"111.609727\" y=\"59.128951\" style=\"fill: #1f77b4; stroke: #1f77b4\"/>\n     <use xlink:href=\"#m2a96e0e4b7\" x=\"131.791505\" y=\"79.055722\" style=\"fill: #1f77b4; stroke: #1f77b4\"/>\n     <use xlink:href=\"#m2a96e0e4b7\" x=\"173.215173\" y=\"100.470112\" style=\"fill: #1f77b4; stroke: #1f77b4\"/>\n     <use xlink:href=\"#m2a96e0e4b7\" x=\"171.725989\" y=\"105.971228\" style=\"fill: #1f77b4; stroke: #1f77b4\"/>\n     <use xlink:href=\"#m2a96e0e4b7\" x=\"139.118782\" y=\"58.728829\" style=\"fill: #1f77b4; stroke: #1f77b4\"/>\n     <use xlink:href=\"#m2a96e0e4b7\" x=\"120.698238\" y=\"82.859174\" style=\"fill: #1f77b4; stroke: #1f77b4\"/>\n     <use xlink:href=\"#m2a96e0e4b7\" x=\"89.888835\" y=\"44.360086\" style=\"fill: #1f77b4; stroke: #1f77b4\"/>\n     <use xlink:href=\"#m2a96e0e4b7\" x=\"130.957166\" y=\"56.127447\" style=\"fill: #1f77b4; stroke: #1f77b4\"/>\n     <use xlink:href=\"#m2a96e0e4b7\" x=\"201.650623\" y=\"113.883265\" style=\"fill: #1f77b4; stroke: #1f77b4\"/>\n     <use xlink:href=\"#m2a96e0e4b7\" x=\"129.111282\" y=\"51.48309\" style=\"fill: #1f77b4; stroke: #1f77b4\"/>\n     <use xlink:href=\"#m2a96e0e4b7\" x=\"150.207258\" y=\"101.642925\" style=\"fill: #1f77b4; stroke: #1f77b4\"/>\n     <use xlink:href=\"#m2a96e0e4b7\" x=\"185.546595\" y=\"111.734581\" style=\"fill: #1f77b4; stroke: #1f77b4\"/>\n     <use xlink:href=\"#m2a96e0e4b7\" x=\"169.11656\" y=\"92.392262\" style=\"fill: #1f77b4; stroke: #1f77b4\"/>\n     <use xlink:href=\"#m2a96e0e4b7\" x=\"124.077968\" y=\"85.781193\" style=\"fill: #1f77b4; stroke: #1f77b4\"/>\n     <use xlink:href=\"#m2a96e0e4b7\" x=\"147.163639\" y=\"82.476367\" style=\"fill: #1f77b4; stroke: #1f77b4\"/>\n     <use xlink:href=\"#m2a96e0e4b7\" x=\"155.120275\" y=\"94.301265\" style=\"fill: #1f77b4; stroke: #1f77b4\"/>\n     <use xlink:href=\"#m2a96e0e4b7\" x=\"82.677758\" y=\"43.444321\" style=\"fill: #1f77b4; stroke: #1f77b4\"/>\n     <use xlink:href=\"#m2a96e0e4b7\" x=\"164.94216\" y=\"91.77613\" style=\"fill: #1f77b4; stroke: #1f77b4\"/>\n     <use xlink:href=\"#m2a96e0e4b7\" x=\"129.951034\" y=\"74.026654\" style=\"fill: #1f77b4; stroke: #1f77b4\"/>\n     <use xlink:href=\"#m2a96e0e4b7\" x=\"143.430293\" y=\"80.58572\" style=\"fill: #1f77b4; stroke: #1f77b4\"/>\n     <use xlink:href=\"#m2a96e0e4b7\" x=\"152.862779\" y=\"86.34282\" style=\"fill: #1f77b4; stroke: #1f77b4\"/>\n     <use xlink:href=\"#m2a96e0e4b7\" x=\"137.438983\" y=\"92.442765\" style=\"fill: #1f77b4; stroke: #1f77b4\"/>\n     <use xlink:href=\"#m2a96e0e4b7\" x=\"141.096986\" y=\"66.61294\" style=\"fill: #1f77b4; stroke: #1f77b4\"/>\n     <use xlink:href=\"#m2a96e0e4b7\" x=\"160.63669\" y=\"75.182802\" style=\"fill: #1f77b4; stroke: #1f77b4\"/>\n     <use xlink:href=\"#m2a96e0e4b7\" x=\"136.972486\" y=\"64.998711\" style=\"fill: #1f77b4; stroke: #1f77b4\"/>\n     <use xlink:href=\"#m2a96e0e4b7\" x=\"164.37063\" y=\"82.924382\" style=\"fill: #1f77b4; stroke: #1f77b4\"/>\n     <use xlink:href=\"#m2a96e0e4b7\" x=\"141.031079\" y=\"74.17083\" style=\"fill: #1f77b4; stroke: #1f77b4\"/>\n     <use xlink:href=\"#m2a96e0e4b7\" x=\"59.344532\" y=\"23.495153\" style=\"fill: #1f77b4; stroke: #1f77b4\"/>\n     <use xlink:href=\"#m2a96e0e4b7\" x=\"147.598224\" y=\"93.577657\" style=\"fill: #1f77b4; stroke: #1f77b4\"/>\n     <use xlink:href=\"#m2a96e0e4b7\" x=\"136.677333\" y=\"73.139355\" style=\"fill: #1f77b4; stroke: #1f77b4\"/>\n     <use xlink:href=\"#m2a96e0e4b7\" x=\"117.861951\" y=\"72.855585\" style=\"fill: #1f77b4; stroke: #1f77b4\"/>\n     <use xlink:href=\"#m2a96e0e4b7\" x=\"126.540803\" y=\"67.630408\" style=\"fill: #1f77b4; stroke: #1f77b4\"/>\n     <use xlink:href=\"#m2a96e0e4b7\" x=\"180.518637\" y=\"110.890786\" style=\"fill: #1f77b4; stroke: #1f77b4\"/>\n     <use xlink:href=\"#m2a96e0e4b7\" x=\"159.765951\" y=\"76.83314\" style=\"fill: #1f77b4; stroke: #1f77b4\"/>\n     <use xlink:href=\"#m2a96e0e4b7\" x=\"105.409026\" y=\"44.553285\" style=\"fill: #1f77b4; stroke: #1f77b4\"/>\n     <use xlink:href=\"#m2a96e0e4b7\" x=\"134.882396\" y=\"68.103631\" style=\"fill: #1f77b4; stroke: #1f77b4\"/>\n     <use xlink:href=\"#m2a96e0e4b7\" x=\"78.305285\" y=\"39.970193\" style=\"fill: #1f77b4; stroke: #1f77b4\"/>\n     <use xlink:href=\"#m2a96e0e4b7\" x=\"182.547584\" y=\"108.197499\" style=\"fill: #1f77b4; stroke: #1f77b4\"/>\n     <use xlink:href=\"#m2a96e0e4b7\" x=\"140.197189\" y=\"92.375655\" style=\"fill: #1f77b4; stroke: #1f77b4\"/>\n     <use xlink:href=\"#m2a96e0e4b7\" x=\"124.837643\" y=\"63.902649\" style=\"fill: #1f77b4; stroke: #1f77b4\"/>\n     <use xlink:href=\"#m2a96e0e4b7\" x=\"139.883587\" y=\"90.437091\" style=\"fill: #1f77b4; stroke: #1f77b4\"/>\n     <use xlink:href=\"#m2a96e0e4b7\" x=\"192.065912\" y=\"113.960469\" style=\"fill: #1f77b4; stroke: #1f77b4\"/>\n     <use xlink:href=\"#m2a96e0e4b7\" x=\"150.028678\" y=\"67.982585\" style=\"fill: #1f77b4; stroke: #1f77b4\"/>\n     <use xlink:href=\"#m2a96e0e4b7\" x=\"142.896854\" y=\"95.64916\" style=\"fill: #1f77b4; stroke: #1f77b4\"/>\n     <use xlink:href=\"#m2a96e0e4b7\" x=\"159.42986\" y=\"99.372931\" style=\"fill: #1f77b4; stroke: #1f77b4\"/>\n     <use xlink:href=\"#m2a96e0e4b7\" x=\"107.0567\" y=\"62.725609\" style=\"fill: #1f77b4; stroke: #1f77b4\"/>\n     <use xlink:href=\"#m2a96e0e4b7\" x=\"106.618516\" y=\"57.558738\" style=\"fill: #1f77b4; stroke: #1f77b4\"/>\n     <use xlink:href=\"#m2a96e0e4b7\" x=\"121.05513\" y=\"63.628337\" style=\"fill: #1f77b4; stroke: #1f77b4\"/>\n     <use xlink:href=\"#m2a96e0e4b7\" x=\"162.249724\" y=\"90.591731\" style=\"fill: #1f77b4; stroke: #1f77b4\"/>\n     <use xlink:href=\"#m2a96e0e4b7\" x=\"122.974157\" y=\"62.269468\" style=\"fill: #1f77b4; stroke: #1f77b4\"/>\n     <use xlink:href=\"#m2a96e0e4b7\" x=\"136.646194\" y=\"75.845414\" style=\"fill: #1f77b4; stroke: #1f77b4\"/>\n     <use xlink:href=\"#m2a96e0e4b7\" x=\"83.995528\" y=\"59.786269\" style=\"fill: #1f77b4; stroke: #1f77b4\"/>\n     <use xlink:href=\"#m2a96e0e4b7\" x=\"96.339774\" y=\"48.276132\" style=\"fill: #1f77b4; stroke: #1f77b4\"/>\n     <use xlink:href=\"#m2a96e0e4b7\" x=\"123.591426\" y=\"60.526227\" style=\"fill: #1f77b4; stroke: #1f77b4\"/>\n     <use xlink:href=\"#m2a96e0e4b7\" x=\"127.575607\" y=\"65.136972\" style=\"fill: #1f77b4; stroke: #1f77b4\"/>\n     <use xlink:href=\"#m2a96e0e4b7\" x=\"129.841799\" y=\"73.010751\" style=\"fill: #1f77b4; stroke: #1f77b4\"/>\n     <use xlink:href=\"#m2a96e0e4b7\" x=\"145.270272\" y=\"75.507494\" style=\"fill: #1f77b4; stroke: #1f77b4\"/>\n     <use xlink:href=\"#m2a96e0e4b7\" x=\"83.131307\" y=\"45.629169\" style=\"fill: #1f77b4; stroke: #1f77b4\"/>\n     <use xlink:href=\"#m2a96e0e4b7\" x=\"103.992716\" y=\"57.954233\" style=\"fill: #1f77b4; stroke: #1f77b4\"/>\n     <use xlink:href=\"#m2a96e0e4b7\" x=\"101.513251\" y=\"71.274281\" style=\"fill: #1f77b4; stroke: #1f77b4\"/>\n     <use xlink:href=\"#m2a96e0e4b7\" x=\"125.110791\" y=\"58.683951\" style=\"fill: #1f77b4; stroke: #1f77b4\"/>\n     <use xlink:href=\"#m2a96e0e4b7\" x=\"121.45278\" y=\"64.463623\" style=\"fill: #1f77b4; stroke: #1f77b4\"/>\n     <use xlink:href=\"#m2a96e0e4b7\" x=\"125.804312\" y=\"63.190716\" style=\"fill: #1f77b4; stroke: #1f77b4\"/>\n     <use xlink:href=\"#m2a96e0e4b7\" x=\"180.161424\" y=\"96.781481\" style=\"fill: #1f77b4; stroke: #1f77b4\"/>\n     <use xlink:href=\"#m2a96e0e4b7\" x=\"130.051397\" y=\"62.800165\" style=\"fill: #1f77b4; stroke: #1f77b4\"/>\n     <use xlink:href=\"#m2a96e0e4b7\" x=\"147.597831\" y=\"114.863096\" style=\"fill: #1f77b4; stroke: #1f77b4\"/>\n     <use xlink:href=\"#m2a96e0e4b7\" x=\"150.02543\" y=\"67.937841\" style=\"fill: #1f77b4; stroke: #1f77b4\"/>\n     <use xlink:href=\"#m2a96e0e4b7\" x=\"140.022756\" y=\"87.667139\" style=\"fill: #1f77b4; stroke: #1f77b4\"/>\n     <use xlink:href=\"#m2a96e0e4b7\" x=\"195.847303\" y=\"87.393575\" style=\"fill: #1f77b4; stroke: #1f77b4\"/>\n     <use xlink:href=\"#m2a96e0e4b7\" x=\"137.286642\" y=\"88.775581\" style=\"fill: #1f77b4; stroke: #1f77b4\"/>\n     <use xlink:href=\"#m2a96e0e4b7\" x=\"152.18498\" y=\"81.358985\" style=\"fill: #1f77b4; stroke: #1f77b4\"/>\n     <use xlink:href=\"#m2a96e0e4b7\" x=\"121.258014\" y=\"71.961902\" style=\"fill: #1f77b4; stroke: #1f77b4\"/>\n     <use xlink:href=\"#m2a96e0e4b7\" x=\"116.400104\" y=\"72.693794\" style=\"fill: #1f77b4; stroke: #1f77b4\"/>\n     <use xlink:href=\"#m2a96e0e4b7\" x=\"115.450055\" y=\"39.485428\" style=\"fill: #1f77b4; stroke: #1f77b4\"/>\n     <use xlink:href=\"#m2a96e0e4b7\" x=\"110.007637\" y=\"43.681998\" style=\"fill: #1f77b4; stroke: #1f77b4\"/>\n     <use xlink:href=\"#m2a96e0e4b7\" x=\"102.745028\" y=\"44.685123\" style=\"fill: #1f77b4; stroke: #1f77b4\"/>\n     <use xlink:href=\"#m2a96e0e4b7\" x=\"138.293998\" y=\"83.136141\" style=\"fill: #1f77b4; stroke: #1f77b4\"/>\n     <use xlink:href=\"#m2a96e0e4b7\" x=\"58.525155\" y=\"44.855882\" style=\"fill: #1f77b4; stroke: #1f77b4\"/>\n     <use xlink:href=\"#m2a96e0e4b7\" x=\"62.31066\" y=\"18.752625\" style=\"fill: #1f77b4; stroke: #1f77b4\"/>\n     <use xlink:href=\"#m2a96e0e4b7\" x=\"131.984647\" y=\"76.778831\" style=\"fill: #1f77b4; stroke: #1f77b4\"/>\n     <use xlink:href=\"#m2a96e0e4b7\" x=\"206.639173\" y=\"124.904332\" style=\"fill: #1f77b4; stroke: #1f77b4\"/>\n     <use xlink:href=\"#m2a96e0e4b7\" x=\"136.891424\" y=\"75.806325\" style=\"fill: #1f77b4; stroke: #1f77b4\"/>\n     <use xlink:href=\"#m2a96e0e4b7\" x=\"148.503311\" y=\"79.319145\" style=\"fill: #1f77b4; stroke: #1f77b4\"/>\n     <use xlink:href=\"#m2a96e0e4b7\" x=\"164.638419\" y=\"107.565504\" style=\"fill: #1f77b4; stroke: #1f77b4\"/>\n     <use xlink:href=\"#m2a96e0e4b7\" x=\"170.223988\" y=\"89.1513\" style=\"fill: #1f77b4; stroke: #1f77b4\"/>\n     <use xlink:href=\"#m2a96e0e4b7\" x=\"130.291598\" y=\"61.2792\" style=\"fill: #1f77b4; stroke: #1f77b4\"/>\n     <use xlink:href=\"#m2a96e0e4b7\" x=\"162.102527\" y=\"85.780004\" style=\"fill: #1f77b4; stroke: #1f77b4\"/>\n     <use xlink:href=\"#m2a96e0e4b7\" x=\"167.356854\" y=\"91.96597\" style=\"fill: #1f77b4; stroke: #1f77b4\"/>\n     <use xlink:href=\"#m2a96e0e4b7\" x=\"90.719311\" y=\"52.265857\" style=\"fill: #1f77b4; stroke: #1f77b4\"/>\n     <use xlink:href=\"#m2a96e0e4b7\" x=\"131.373511\" y=\"74.312945\" style=\"fill: #1f77b4; stroke: #1f77b4\"/>\n     <use xlink:href=\"#m2a96e0e4b7\" x=\"155.802706\" y=\"79.804303\" style=\"fill: #1f77b4; stroke: #1f77b4\"/>\n     <use xlink:href=\"#m2a96e0e4b7\" x=\"155.144271\" y=\"88.48952\" style=\"fill: #1f77b4; stroke: #1f77b4\"/>\n     <use xlink:href=\"#m2a96e0e4b7\" x=\"130.006035\" y=\"55.869706\" style=\"fill: #1f77b4; stroke: #1f77b4\"/>\n     <use xlink:href=\"#m2a96e0e4b7\" x=\"180.983948\" y=\"98.974935\" style=\"fill: #1f77b4; stroke: #1f77b4\"/>\n     <use xlink:href=\"#m2a96e0e4b7\" x=\"161.151835\" y=\"71.790385\" style=\"fill: #1f77b4; stroke: #1f77b4\"/>\n     <use xlink:href=\"#m2a96e0e4b7\" x=\"161.391271\" y=\"88.024406\" style=\"fill: #1f77b4; stroke: #1f77b4\"/>\n     <use xlink:href=\"#m2a96e0e4b7\" x=\"129.997687\" y=\"66.594072\" style=\"fill: #1f77b4; stroke: #1f77b4\"/>\n     <use xlink:href=\"#m2a96e0e4b7\" x=\"156.458484\" y=\"73.338327\" style=\"fill: #1f77b4; stroke: #1f77b4\"/>\n     <use xlink:href=\"#m2a96e0e4b7\" x=\"198.519738\" y=\"102.542658\" style=\"fill: #1f77b4; stroke: #1f77b4\"/>\n     <use xlink:href=\"#m2a96e0e4b7\" x=\"151.621789\" y=\"89.503229\" style=\"fill: #1f77b4; stroke: #1f77b4\"/>\n     <use xlink:href=\"#m2a96e0e4b7\" x=\"65.652194\" y=\"51.931917\" style=\"fill: #1f77b4; stroke: #1f77b4\"/>\n     <use xlink:href=\"#m2a96e0e4b7\" x=\"112.731848\" y=\"67.945435\" style=\"fill: #1f77b4; stroke: #1f77b4\"/>\n     <use xlink:href=\"#m2a96e0e4b7\" x=\"172.453294\" y=\"104.367494\" style=\"fill: #1f77b4; stroke: #1f77b4\"/>\n     <use xlink:href=\"#m2a96e0e4b7\" x=\"146.004469\" y=\"65.358697\" style=\"fill: #1f77b4; stroke: #1f77b4\"/>\n     <use xlink:href=\"#m2a96e0e4b7\" x=\"115.727099\" y=\"62.337002\" style=\"fill: #1f77b4; stroke: #1f77b4\"/>\n     <use xlink:href=\"#m2a96e0e4b7\" x=\"135.3093\" y=\"82.454074\" style=\"fill: #1f77b4; stroke: #1f77b4\"/>\n     <use xlink:href=\"#m2a96e0e4b7\" x=\"180.87437\" y=\"124.06029\" style=\"fill: #1f77b4; stroke: #1f77b4\"/>\n     <use xlink:href=\"#m2a96e0e4b7\" x=\"139.757594\" y=\"76.734032\" style=\"fill: #1f77b4; stroke: #1f77b4\"/>\n     <use xlink:href=\"#m2a96e0e4b7\" x=\"93.695494\" y=\"35.188515\" style=\"fill: #1f77b4; stroke: #1f77b4\"/>\n     <use xlink:href=\"#m2a96e0e4b7\" x=\"82.159944\" y=\"42.859094\" style=\"fill: #1f77b4; stroke: #1f77b4\"/>\n     <use xlink:href=\"#m2a96e0e4b7\" x=\"130.443009\" y=\"86.565716\" style=\"fill: #1f77b4; stroke: #1f77b4\"/>\n     <use xlink:href=\"#m2a96e0e4b7\" x=\"116.784197\" y=\"79.188041\" style=\"fill: #1f77b4; stroke: #1f77b4\"/>\n     <use xlink:href=\"#m2a96e0e4b7\" x=\"123.051906\" y=\"58.932334\" style=\"fill: #1f77b4; stroke: #1f77b4\"/>\n     <use xlink:href=\"#m2a96e0e4b7\" x=\"100.128898\" y=\"53.898693\" style=\"fill: #1f77b4; stroke: #1f77b4\"/>\n     <use xlink:href=\"#m2a96e0e4b7\" x=\"204.345736\" y=\"105.037402\" style=\"fill: #1f77b4; stroke: #1f77b4\"/>\n     <use xlink:href=\"#m2a96e0e4b7\" x=\"164.416516\" y=\"104.646749\" style=\"fill: #1f77b4; stroke: #1f77b4\"/>\n     <use xlink:href=\"#m2a96e0e4b7\" x=\"145.493012\" y=\"92.287561\" style=\"fill: #1f77b4; stroke: #1f77b4\"/>\n     <use xlink:href=\"#m2a96e0e4b7\" x=\"108.227792\" y=\"76.925683\" style=\"fill: #1f77b4; stroke: #1f77b4\"/>\n     <use xlink:href=\"#m2a96e0e4b7\" x=\"134.158923\" y=\"68.491405\" style=\"fill: #1f77b4; stroke: #1f77b4\"/>\n     <use xlink:href=\"#m2a96e0e4b7\" x=\"153.753143\" y=\"80.447802\" style=\"fill: #1f77b4; stroke: #1f77b4\"/>\n     <use xlink:href=\"#m2a96e0e4b7\" x=\"103.019888\" y=\"59.061259\" style=\"fill: #1f77b4; stroke: #1f77b4\"/>\n     <use xlink:href=\"#m2a96e0e4b7\" x=\"116.562599\" y=\"62.831174\" style=\"fill: #1f77b4; stroke: #1f77b4\"/>\n     <use xlink:href=\"#m2a96e0e4b7\" x=\"111.490817\" y=\"49.529779\" style=\"fill: #1f77b4; stroke: #1f77b4\"/>\n     <use xlink:href=\"#m2a96e0e4b7\" x=\"121.690526\" y=\"67.77805\" style=\"fill: #1f77b4; stroke: #1f77b4\"/>\n     <use xlink:href=\"#m2a96e0e4b7\" x=\"159.71084\" y=\"90.249579\" style=\"fill: #1f77b4; stroke: #1f77b4\"/>\n     <use xlink:href=\"#m2a96e0e4b7\" x=\"115.14347\" y=\"68.829848\" style=\"fill: #1f77b4; stroke: #1f77b4\"/>\n     <use xlink:href=\"#m2a96e0e4b7\" x=\"66.820801\" y=\"42.894283\" style=\"fill: #1f77b4; stroke: #1f77b4\"/>\n     <use xlink:href=\"#m2a96e0e4b7\" x=\"131.382966\" y=\"62.749721\" style=\"fill: #1f77b4; stroke: #1f77b4\"/>\n     <use xlink:href=\"#m2a96e0e4b7\" x=\"118.661524\" y=\"71.552516\" style=\"fill: #1f77b4; stroke: #1f77b4\"/>\n     <use xlink:href=\"#m2a96e0e4b7\" x=\"81.766316\" y=\"26.318777\" style=\"fill: #1f77b4; stroke: #1f77b4\"/>\n     <use xlink:href=\"#m2a96e0e4b7\" x=\"115.617886\" y=\"78.524613\" style=\"fill: #1f77b4; stroke: #1f77b4\"/>\n     <use xlink:href=\"#m2a96e0e4b7\" x=\"58.857466\" y=\"26.838225\" style=\"fill: #1f77b4; stroke: #1f77b4\"/>\n     <use xlink:href=\"#m2a96e0e4b7\" x=\"110.828748\" y=\"68.538926\" style=\"fill: #1f77b4; stroke: #1f77b4\"/>\n     <use xlink:href=\"#m2a96e0e4b7\" x=\"147.047001\" y=\"93.725137\" style=\"fill: #1f77b4; stroke: #1f77b4\"/>\n     <use xlink:href=\"#m2a96e0e4b7\" x=\"197.825643\" y=\"122.140858\" style=\"fill: #1f77b4; stroke: #1f77b4\"/>\n     <use xlink:href=\"#m2a96e0e4b7\" x=\"197.271851\" y=\"106.74008\" style=\"fill: #1f77b4; stroke: #1f77b4\"/>\n     <use xlink:href=\"#m2a96e0e4b7\" x=\"141.727447\" y=\"87.962774\" style=\"fill: #1f77b4; stroke: #1f77b4\"/>\n     <use xlink:href=\"#m2a96e0e4b7\" x=\"188.328146\" y=\"120.055826\" style=\"fill: #1f77b4; stroke: #1f77b4\"/>\n     <use xlink:href=\"#m2a96e0e4b7\" x=\"188.74653\" y=\"92.218505\" style=\"fill: #1f77b4; stroke: #1f77b4\"/>\n     <use xlink:href=\"#m2a96e0e4b7\" x=\"149.23834\" y=\"81.598508\" style=\"fill: #1f77b4; stroke: #1f77b4\"/>\n     <use xlink:href=\"#m2a96e0e4b7\" x=\"127.295208\" y=\"67.580087\" style=\"fill: #1f77b4; stroke: #1f77b4\"/>\n     <use xlink:href=\"#m2a96e0e4b7\" x=\"144.858668\" y=\"83.468333\" style=\"fill: #1f77b4; stroke: #1f77b4\"/>\n     <use xlink:href=\"#m2a96e0e4b7\" x=\"213.382114\" y=\"115.155588\" style=\"fill: #1f77b4; stroke: #1f77b4\"/>\n     <use xlink:href=\"#m2a96e0e4b7\" x=\"138.46458\" y=\"94.987147\" style=\"fill: #1f77b4; stroke: #1f77b4\"/>\n     <use xlink:href=\"#m2a96e0e4b7\" x=\"157.309571\" y=\"87.114458\" style=\"fill: #1f77b4; stroke: #1f77b4\"/>\n     <use xlink:href=\"#m2a96e0e4b7\" x=\"123.338245\" y=\"69.592701\" style=\"fill: #1f77b4; stroke: #1f77b4\"/>\n     <use xlink:href=\"#m2a96e0e4b7\" x=\"109.7653\" y=\"47.172817\" style=\"fill: #1f77b4; stroke: #1f77b4\"/>\n     <use xlink:href=\"#m2a96e0e4b7\" x=\"125.434626\" y=\"76.843362\" style=\"fill: #1f77b4; stroke: #1f77b4\"/>\n     <use xlink:href=\"#m2a96e0e4b7\" x=\"73.024966\" y=\"23.886174\" style=\"fill: #1f77b4; stroke: #1f77b4\"/>\n     <use xlink:href=\"#m2a96e0e4b7\" x=\"118.149437\" y=\"64.097647\" style=\"fill: #1f77b4; stroke: #1f77b4\"/>\n     <use xlink:href=\"#m2a96e0e4b7\" x=\"131.754618\" y=\"60.215041\" style=\"fill: #1f77b4; stroke: #1f77b4\"/>\n     <use xlink:href=\"#m2a96e0e4b7\" x=\"98.353475\" y=\"43.059264\" style=\"fill: #1f77b4; stroke: #1f77b4\"/>\n     <use xlink:href=\"#m2a96e0e4b7\" x=\"118.070516\" y=\"75.925333\" style=\"fill: #1f77b4; stroke: #1f77b4\"/>\n     <use xlink:href=\"#m2a96e0e4b7\" x=\"122.65351\" y=\"55.05898\" style=\"fill: #1f77b4; stroke: #1f77b4\"/>\n     <use xlink:href=\"#m2a96e0e4b7\" x=\"139.450497\" y=\"91.961588\" style=\"fill: #1f77b4; stroke: #1f77b4\"/>\n     <use xlink:href=\"#m2a96e0e4b7\" x=\"131.046839\" y=\"57.879157\" style=\"fill: #1f77b4; stroke: #1f77b4\"/>\n     <use xlink:href=\"#m2a96e0e4b7\" x=\"118.566672\" y=\"65.698848\" style=\"fill: #1f77b4; stroke: #1f77b4\"/>\n     <use xlink:href=\"#m2a96e0e4b7\" x=\"82.479989\" y=\"63.781217\" style=\"fill: #1f77b4; stroke: #1f77b4\"/>\n     <use xlink:href=\"#m2a96e0e4b7\" x=\"167.408001\" y=\"108.825969\" style=\"fill: #1f77b4; stroke: #1f77b4\"/>\n     <use xlink:href=\"#m2a96e0e4b7\" x=\"139.839701\" y=\"67.629382\" style=\"fill: #1f77b4; stroke: #1f77b4\"/>\n     <use xlink:href=\"#m2a96e0e4b7\" x=\"177.918093\" y=\"97.024898\" style=\"fill: #1f77b4; stroke: #1f77b4\"/>\n     <use xlink:href=\"#m2a96e0e4b7\" x=\"75.498977\" y=\"27.471004\" style=\"fill: #1f77b4; stroke: #1f77b4\"/>\n     <use xlink:href=\"#m2a96e0e4b7\" x=\"162.912641\" y=\"84.711554\" style=\"fill: #1f77b4; stroke: #1f77b4\"/>\n     <use xlink:href=\"#m2a96e0e4b7\" x=\"136.088812\" y=\"74.521938\" style=\"fill: #1f77b4; stroke: #1f77b4\"/>\n     <use xlink:href=\"#m2a96e0e4b7\" x=\"118.753174\" y=\"61.020597\" style=\"fill: #1f77b4; stroke: #1f77b4\"/>\n     <use xlink:href=\"#m2a96e0e4b7\" x=\"147.579547\" y=\"81.505173\" style=\"fill: #1f77b4; stroke: #1f77b4\"/>\n     <use xlink:href=\"#m2a96e0e4b7\" x=\"92.354544\" y=\"73.833388\" style=\"fill: #1f77b4; stroke: #1f77b4\"/>\n     <use xlink:href=\"#m2a96e0e4b7\" x=\"102.377348\" y=\"41.490447\" style=\"fill: #1f77b4; stroke: #1f77b4\"/>\n     <use xlink:href=\"#m2a96e0e4b7\" x=\"97.469942\" y=\"53.3949\" style=\"fill: #1f77b4; stroke: #1f77b4\"/>\n     <use xlink:href=\"#m2a96e0e4b7\" x=\"88.127022\" y=\"36.217176\" style=\"fill: #1f77b4; stroke: #1f77b4\"/>\n     <use xlink:href=\"#m2a96e0e4b7\" x=\"124.54703\" y=\"59.891526\" style=\"fill: #1f77b4; stroke: #1f77b4\"/>\n     <use xlink:href=\"#m2a96e0e4b7\" x=\"121.583645\" y=\"75.497138\" style=\"fill: #1f77b4; stroke: #1f77b4\"/>\n     <use xlink:href=\"#m2a96e0e4b7\" x=\"169.492603\" y=\"86.556131\" style=\"fill: #1f77b4; stroke: #1f77b4\"/>\n     <use xlink:href=\"#m2a96e0e4b7\" x=\"175.330097\" y=\"106.550514\" style=\"fill: #1f77b4; stroke: #1f77b4\"/>\n     <use xlink:href=\"#m2a96e0e4b7\" x=\"191.229846\" y=\"105.949918\" style=\"fill: #1f77b4; stroke: #1f77b4\"/>\n     <use xlink:href=\"#m2a96e0e4b7\" x=\"172.146097\" y=\"106.124124\" style=\"fill: #1f77b4; stroke: #1f77b4\"/>\n     <use xlink:href=\"#m2a96e0e4b7\" x=\"165.916088\" y=\"87.925355\" style=\"fill: #1f77b4; stroke: #1f77b4\"/>\n     <use xlink:href=\"#m2a96e0e4b7\" x=\"137.683611\" y=\"82.638479\" style=\"fill: #1f77b4; stroke: #1f77b4\"/>\n     <use xlink:href=\"#m2a96e0e4b7\" x=\"153.920323\" y=\"94.891255\" style=\"fill: #1f77b4; stroke: #1f77b4\"/>\n     <use xlink:href=\"#m2a96e0e4b7\" x=\"162.384168\" y=\"98.671371\" style=\"fill: #1f77b4; stroke: #1f77b4\"/>\n     <use xlink:href=\"#m2a96e0e4b7\" x=\"149.616166\" y=\"77.814138\" style=\"fill: #1f77b4; stroke: #1f77b4\"/>\n     <use xlink:href=\"#m2a96e0e4b7\" x=\"155.32825\" y=\"83.588899\" style=\"fill: #1f77b4; stroke: #1f77b4\"/>\n     <use xlink:href=\"#m2a96e0e4b7\" x=\"126.645191\" y=\"81.361575\" style=\"fill: #1f77b4; stroke: #1f77b4\"/>\n     <use xlink:href=\"#m2a96e0e4b7\" x=\"130.661672\" y=\"58.539602\" style=\"fill: #1f77b4; stroke: #1f77b4\"/>\n     <use xlink:href=\"#m2a96e0e4b7\" x=\"152.912687\" y=\"85.343273\" style=\"fill: #1f77b4; stroke: #1f77b4\"/>\n     <use xlink:href=\"#m2a96e0e4b7\" x=\"114.808722\" y=\"47.364747\" style=\"fill: #1f77b4; stroke: #1f77b4\"/>\n     <use xlink:href=\"#m2a96e0e4b7\" x=\"128.330433\" y=\"80.132065\" style=\"fill: #1f77b4; stroke: #1f77b4\"/>\n     <use xlink:href=\"#m2a96e0e4b7\" x=\"142.977107\" y=\"79.053621\" style=\"fill: #1f77b4; stroke: #1f77b4\"/>\n     <use xlink:href=\"#m2a96e0e4b7\" x=\"109.270345\" y=\"56.568198\" style=\"fill: #1f77b4; stroke: #1f77b4\"/>\n     <use xlink:href=\"#m2a96e0e4b7\" x=\"129.309514\" y=\"79.295108\" style=\"fill: #1f77b4; stroke: #1f77b4\"/>\n     <use xlink:href=\"#m2a96e0e4b7\" x=\"117.533075\" y=\"62.582531\" style=\"fill: #1f77b4; stroke: #1f77b4\"/>\n     <use xlink:href=\"#m2a96e0e4b7\" x=\"162.47925\" y=\"66.014736\" style=\"fill: #1f77b4; stroke: #1f77b4\"/>\n     <use xlink:href=\"#m2a96e0e4b7\" x=\"128.05972\" y=\"81.401027\" style=\"fill: #1f77b4; stroke: #1f77b4\"/>\n     <use xlink:href=\"#m2a96e0e4b7\" x=\"150.866365\" y=\"63.591093\" style=\"fill: #1f77b4; stroke: #1f77b4\"/>\n     <use xlink:href=\"#m2a96e0e4b7\" x=\"98.664453\" y=\"61.989766\" style=\"fill: #1f77b4; stroke: #1f77b4\"/>\n     <use xlink:href=\"#m2a96e0e4b7\" x=\"140.741494\" y=\"65.370723\" style=\"fill: #1f77b4; stroke: #1f77b4\"/>\n     <use xlink:href=\"#m2a96e0e4b7\" x=\"107.752057\" y=\"63.379625\" style=\"fill: #1f77b4; stroke: #1f77b4\"/>\n     <use xlink:href=\"#m2a96e0e4b7\" x=\"122.932253\" y=\"61.581759\" style=\"fill: #1f77b4; stroke: #1f77b4\"/>\n     <use xlink:href=\"#m2a96e0e4b7\" x=\"172.466675\" y=\"101.419622\" style=\"fill: #1f77b4; stroke: #1f77b4\"/>\n     <use xlink:href=\"#m2a96e0e4b7\" x=\"117.657477\" y=\"55.39493\" style=\"fill: #1f77b4; stroke: #1f77b4\"/>\n     <use xlink:href=\"#m2a96e0e4b7\" x=\"98.072895\" y=\"58.414045\" style=\"fill: #1f77b4; stroke: #1f77b4\"/>\n     <use xlink:href=\"#m2a96e0e4b7\" x=\"172.245431\" y=\"112.040007\" style=\"fill: #1f77b4; stroke: #1f77b4\"/>\n     <use xlink:href=\"#m2a96e0e4b7\" x=\"120.932733\" y=\"62.156722\" style=\"fill: #1f77b4; stroke: #1f77b4\"/>\n     <use xlink:href=\"#m2a96e0e4b7\" x=\"151.900514\" y=\"80.903078\" style=\"fill: #1f77b4; stroke: #1f77b4\"/>\n     <use xlink:href=\"#m2a96e0e4b7\" x=\"112.863212\" y=\"49.975518\" style=\"fill: #1f77b4; stroke: #1f77b4\"/>\n     <use xlink:href=\"#m2a96e0e4b7\" x=\"124.046326\" y=\"48.336504\" style=\"fill: #1f77b4; stroke: #1f77b4\"/>\n     <use xlink:href=\"#m2a96e0e4b7\" x=\"87.415614\" y=\"51.152227\" style=\"fill: #1f77b4; stroke: #1f77b4\"/>\n     <use xlink:href=\"#m2a96e0e4b7\" x=\"146.670894\" y=\"74.482264\" style=\"fill: #1f77b4; stroke: #1f77b4\"/>\n     <use xlink:href=\"#m2a96e0e4b7\" x=\"104.84998\" y=\"44.36845\" style=\"fill: #1f77b4; stroke: #1f77b4\"/>\n     <use xlink:href=\"#m2a96e0e4b7\" x=\"89.015825\" y=\"56.921477\" style=\"fill: #1f77b4; stroke: #1f77b4\"/>\n     <use xlink:href=\"#m2a96e0e4b7\" x=\"174.48537\" y=\"114.809473\" style=\"fill: #1f77b4; stroke: #1f77b4\"/>\n     <use xlink:href=\"#m2a96e0e4b7\" x=\"111.327389\" y=\"47.272649\" style=\"fill: #1f77b4; stroke: #1f77b4\"/>\n     <use xlink:href=\"#m2a96e0e4b7\" x=\"141.029693\" y=\"74.043239\" style=\"fill: #1f77b4; stroke: #1f77b4\"/>\n     <use xlink:href=\"#m2a96e0e4b7\" x=\"141.588612\" y=\"71.315506\" style=\"fill: #1f77b4; stroke: #1f77b4\"/>\n     <use xlink:href=\"#m2a96e0e4b7\" x=\"148.45036\" y=\"90.98972\" style=\"fill: #1f77b4; stroke: #1f77b4\"/>\n     <use xlink:href=\"#m2a96e0e4b7\" x=\"139.854635\" y=\"95.88479\" style=\"fill: #1f77b4; stroke: #1f77b4\"/>\n     <use xlink:href=\"#m2a96e0e4b7\" x=\"83.388536\" y=\"38.179825\" style=\"fill: #1f77b4; stroke: #1f77b4\"/>\n     <use xlink:href=\"#m2a96e0e4b7\" x=\"152.021622\" y=\"87.270749\" style=\"fill: #1f77b4; stroke: #1f77b4\"/>\n     <use xlink:href=\"#m2a96e0e4b7\" x=\"129.784103\" y=\"71.576087\" style=\"fill: #1f77b4; stroke: #1f77b4\"/>\n     <use xlink:href=\"#m2a96e0e4b7\" x=\"141.995849\" y=\"61.703053\" style=\"fill: #1f77b4; stroke: #1f77b4\"/>\n     <use xlink:href=\"#m2a96e0e4b7\" x=\"135.051819\" y=\"75.264779\" style=\"fill: #1f77b4; stroke: #1f77b4\"/>\n     <use xlink:href=\"#m2a96e0e4b7\" x=\"158.955759\" y=\"78.957316\" style=\"fill: #1f77b4; stroke: #1f77b4\"/>\n     <use xlink:href=\"#m2a96e0e4b7\" x=\"69.518453\" y=\"60.272921\" style=\"fill: #1f77b4; stroke: #1f77b4\"/>\n     <use xlink:href=\"#m2a96e0e4b7\" x=\"158.855485\" y=\"83.34384\" style=\"fill: #1f77b4; stroke: #1f77b4\"/>\n     <use xlink:href=\"#m2a96e0e4b7\" x=\"85.816787\" y=\"37.575341\" style=\"fill: #1f77b4; stroke: #1f77b4\"/>\n     <use xlink:href=\"#m2a96e0e4b7\" x=\"102.256166\" y=\"50.526004\" style=\"fill: #1f77b4; stroke: #1f77b4\"/>\n     <use xlink:href=\"#m2a96e0e4b7\" x=\"129.525552\" y=\"74.965394\" style=\"fill: #1f77b4; stroke: #1f77b4\"/>\n     <use xlink:href=\"#m2a96e0e4b7\" x=\"97.014761\" y=\"76.604188\" style=\"fill: #1f77b4; stroke: #1f77b4\"/>\n     <use xlink:href=\"#m2a96e0e4b7\" x=\"167.424177\" y=\"100.529829\" style=\"fill: #1f77b4; stroke: #1f77b4\"/>\n     <use xlink:href=\"#m2a96e0e4b7\" x=\"142.880983\" y=\"77.910197\" style=\"fill: #1f77b4; stroke: #1f77b4\"/>\n     <use xlink:href=\"#m2a96e0e4b7\" x=\"72.835757\" y=\"56.886329\" style=\"fill: #1f77b4; stroke: #1f77b4\"/>\n     <use xlink:href=\"#m2a96e0e4b7\" x=\"108.248432\" y=\"56.106935\" style=\"fill: #1f77b4; stroke: #1f77b4\"/>\n     <use xlink:href=\"#m2a96e0e4b7\" x=\"199.219121\" y=\"93.567942\" style=\"fill: #1f77b4; stroke: #1f77b4\"/>\n     <use xlink:href=\"#m2a96e0e4b7\" x=\"49.071628\" y=\"18.806938\" style=\"fill: #1f77b4; stroke: #1f77b4\"/>\n     <use xlink:href=\"#m2a96e0e4b7\" x=\"114.010464\" y=\"67.650274\" style=\"fill: #1f77b4; stroke: #1f77b4\"/>\n     <use xlink:href=\"#m2a96e0e4b7\" x=\"172.674266\" y=\"93.626887\" style=\"fill: #1f77b4; stroke: #1f77b4\"/>\n     <use xlink:href=\"#m2a96e0e4b7\" x=\"119.529598\" y=\"69.31644\" style=\"fill: #1f77b4; stroke: #1f77b4\"/>\n     <use xlink:href=\"#m2a96e0e4b7\" x=\"187.068058\" y=\"116.855189\" style=\"fill: #1f77b4; stroke: #1f77b4\"/>\n     <use xlink:href=\"#m2a96e0e4b7\" x=\"109.466306\" y=\"69.080475\" style=\"fill: #1f77b4; stroke: #1f77b4\"/>\n     <use xlink:href=\"#m2a96e0e4b7\" x=\"105.138762\" y=\"51.310084\" style=\"fill: #1f77b4; stroke: #1f77b4\"/>\n     <use xlink:href=\"#m2a96e0e4b7\" x=\"130.097731\" y=\"74.953893\" style=\"fill: #1f77b4; stroke: #1f77b4\"/>\n     <use xlink:href=\"#m2a96e0e4b7\" x=\"146.518817\" y=\"77.288135\" style=\"fill: #1f77b4; stroke: #1f77b4\"/>\n     <use xlink:href=\"#m2a96e0e4b7\" x=\"140.003488\" y=\"75.412746\" style=\"fill: #1f77b4; stroke: #1f77b4\"/>\n     <use xlink:href=\"#m2a96e0e4b7\" x=\"112.970908\" y=\"54.47633\" style=\"fill: #1f77b4; stroke: #1f77b4\"/>\n     <use xlink:href=\"#m2a96e0e4b7\" x=\"114.675036\" y=\"52.243117\" style=\"fill: #1f77b4; stroke: #1f77b4\"/>\n     <use xlink:href=\"#m2a96e0e4b7\" x=\"143.007957\" y=\"66.786953\" style=\"fill: #1f77b4; stroke: #1f77b4\"/>\n     <use xlink:href=\"#m2a96e0e4b7\" x=\"78.707741\" y=\"63.836713\" style=\"fill: #1f77b4; stroke: #1f77b4\"/>\n     <use xlink:href=\"#m2a96e0e4b7\" x=\"135.530841\" y=\"72.859586\" style=\"fill: #1f77b4; stroke: #1f77b4\"/>\n     <use xlink:href=\"#m2a96e0e4b7\" x=\"159.556978\" y=\"86.644789\" style=\"fill: #1f77b4; stroke: #1f77b4\"/>\n     <use xlink:href=\"#m2a96e0e4b7\" x=\"89.03127\" y=\"56.871444\" style=\"fill: #1f77b4; stroke: #1f77b4\"/>\n     <use xlink:href=\"#m2a96e0e4b7\" x=\"171.346866\" y=\"94.349776\" style=\"fill: #1f77b4; stroke: #1f77b4\"/>\n     <use xlink:href=\"#m2a96e0e4b7\" x=\"133.408324\" y=\"72.396054\" style=\"fill: #1f77b4; stroke: #1f77b4\"/>\n     <use xlink:href=\"#m2a96e0e4b7\" x=\"130.224568\" y=\"79.141215\" style=\"fill: #1f77b4; stroke: #1f77b4\"/>\n     <use xlink:href=\"#m2a96e0e4b7\" x=\"181.218914\" y=\"106.637751\" style=\"fill: #1f77b4; stroke: #1f77b4\"/>\n     <use xlink:href=\"#m2a96e0e4b7\" x=\"139.346875\" y=\"80.914701\" style=\"fill: #1f77b4; stroke: #1f77b4\"/>\n     <use xlink:href=\"#m2a96e0e4b7\" x=\"152.996022\" y=\"75.395021\" style=\"fill: #1f77b4; stroke: #1f77b4\"/>\n     <use xlink:href=\"#m2a96e0e4b7\" x=\"116.798035\" y=\"48.13445\" style=\"fill: #1f77b4; stroke: #1f77b4\"/>\n     <use xlink:href=\"#m2a96e0e4b7\" x=\"161.702409\" y=\"88.627856\" style=\"fill: #1f77b4; stroke: #1f77b4\"/>\n     <use xlink:href=\"#m2a96e0e4b7\" x=\"166.624964\" y=\"85.545059\" style=\"fill: #1f77b4; stroke: #1f77b4\"/>\n     <use xlink:href=\"#m2a96e0e4b7\" x=\"147.054226\" y=\"80.445525\" style=\"fill: #1f77b4; stroke: #1f77b4\"/>\n     <use xlink:href=\"#m2a96e0e4b7\" x=\"135.731459\" y=\"94.018833\" style=\"fill: #1f77b4; stroke: #1f77b4\"/>\n     <use xlink:href=\"#m2a96e0e4b7\" x=\"122.733067\" y=\"73.148528\" style=\"fill: #1f77b4; stroke: #1f77b4\"/>\n     <use xlink:href=\"#m2a96e0e4b7\" x=\"129.785073\" y=\"61.606556\" style=\"fill: #1f77b4; stroke: #1f77b4\"/>\n     <use xlink:href=\"#m2a96e0e4b7\" x=\"110.625467\" y=\"44.168462\" style=\"fill: #1f77b4; stroke: #1f77b4\"/>\n     <use xlink:href=\"#m2a96e0e4b7\" x=\"122.404551\" y=\"60.276173\" style=\"fill: #1f77b4; stroke: #1f77b4\"/>\n     <use xlink:href=\"#m2a96e0e4b7\" x=\"154.440178\" y=\"82.179302\" style=\"fill: #1f77b4; stroke: #1f77b4\"/>\n     <use xlink:href=\"#m2a96e0e4b7\" x=\"66.340209\" y=\"39.712103\" style=\"fill: #1f77b4; stroke: #1f77b4\"/>\n     <use xlink:href=\"#m2a96e0e4b7\" x=\"123.164251\" y=\"67.493037\" style=\"fill: #1f77b4; stroke: #1f77b4\"/>\n     <use xlink:href=\"#m2a96e0e4b7\" x=\"100.719186\" y=\"62.298273\" style=\"fill: #1f77b4; stroke: #1f77b4\"/>\n     <use xlink:href=\"#m2a96e0e4b7\" x=\"120.78198\" y=\"56.913378\" style=\"fill: #1f77b4; stroke: #1f77b4\"/>\n     <use xlink:href=\"#m2a96e0e4b7\" x=\"114.964217\" y=\"66.805044\" style=\"fill: #1f77b4; stroke: #1f77b4\"/>\n     <use xlink:href=\"#m2a96e0e4b7\" x=\"165.20053\" y=\"106.657655\" style=\"fill: #1f77b4; stroke: #1f77b4\"/>\n     <use xlink:href=\"#m2a96e0e4b7\" x=\"136.977787\" y=\"91.168564\" style=\"fill: #1f77b4; stroke: #1f77b4\"/>\n     <use xlink:href=\"#m2a96e0e4b7\" x=\"130.179646\" y=\"68.583977\" style=\"fill: #1f77b4; stroke: #1f77b4\"/>\n     <use xlink:href=\"#m2a96e0e4b7\" x=\"87.131432\" y=\"64.992504\" style=\"fill: #1f77b4; stroke: #1f77b4\"/>\n     <use xlink:href=\"#m2a96e0e4b7\" x=\"88.278397\" y=\"60.299185\" style=\"fill: #1f77b4; stroke: #1f77b4\"/>\n     <use xlink:href=\"#m2a96e0e4b7\" x=\"168.65992\" y=\"101.414566\" style=\"fill: #1f77b4; stroke: #1f77b4\"/>\n     <use xlink:href=\"#m2a96e0e4b7\" x=\"83.359144\" y=\"49.101966\" style=\"fill: #1f77b4; stroke: #1f77b4\"/>\n     <use xlink:href=\"#m2a96e0e4b7\" x=\"78.456517\" y=\"41.518102\" style=\"fill: #1f77b4; stroke: #1f77b4\"/>\n     <use xlink:href=\"#m2a96e0e4b7\" x=\"122.9251\" y=\"86.754039\" style=\"fill: #1f77b4; stroke: #1f77b4\"/>\n     <use xlink:href=\"#m2a96e0e4b7\" x=\"162.048897\" y=\"80.626841\" style=\"fill: #1f77b4; stroke: #1f77b4\"/>\n     <use xlink:href=\"#m2a96e0e4b7\" x=\"142.991135\" y=\"57.556935\" style=\"fill: #1f77b4; stroke: #1f77b4\"/>\n     <use xlink:href=\"#m2a96e0e4b7\" x=\"97.619367\" y=\"53.404495\" style=\"fill: #1f77b4; stroke: #1f77b4\"/>\n     <use xlink:href=\"#m2a96e0e4b7\" x=\"129.805076\" y=\"68.513804\" style=\"fill: #1f77b4; stroke: #1f77b4\"/>\n     <use xlink:href=\"#m2a96e0e4b7\" x=\"156.593171\" y=\"72.585484\" style=\"fill: #1f77b4; stroke: #1f77b4\"/>\n     <use xlink:href=\"#m2a96e0e4b7\" x=\"133.238983\" y=\"78.67909\" style=\"fill: #1f77b4; stroke: #1f77b4\"/>\n     <use xlink:href=\"#m2a96e0e4b7\" x=\"102.820001\" y=\"60.072796\" style=\"fill: #1f77b4; stroke: #1f77b4\"/>\n     <use xlink:href=\"#m2a96e0e4b7\" x=\"88.079469\" y=\"40.255995\" style=\"fill: #1f77b4; stroke: #1f77b4\"/>\n     <use xlink:href=\"#m2a96e0e4b7\" x=\"145.3099\" y=\"73.461102\" style=\"fill: #1f77b4; stroke: #1f77b4\"/>\n     <use xlink:href=\"#m2a96e0e4b7\" x=\"176.559551\" y=\"88.315958\" style=\"fill: #1f77b4; stroke: #1f77b4\"/>\n     <use xlink:href=\"#m2a96e0e4b7\" x=\"124.3559\" y=\"68.144667\" style=\"fill: #1f77b4; stroke: #1f77b4\"/>\n     <use xlink:href=\"#m2a96e0e4b7\" x=\"129.822456\" y=\"58.020264\" style=\"fill: #1f77b4; stroke: #1f77b4\"/>\n     <use xlink:href=\"#m2a96e0e4b7\" x=\"167.599697\" y=\"96.602508\" style=\"fill: #1f77b4; stroke: #1f77b4\"/>\n     <use xlink:href=\"#m2a96e0e4b7\" x=\"138.157914\" y=\"68.391633\" style=\"fill: #1f77b4; stroke: #1f77b4\"/>\n     <use xlink:href=\"#m2a96e0e4b7\" x=\"127.530602\" y=\"79.264599\" style=\"fill: #1f77b4; stroke: #1f77b4\"/>\n     <use xlink:href=\"#m2a96e0e4b7\" x=\"97.616338\" y=\"38.618002\" style=\"fill: #1f77b4; stroke: #1f77b4\"/>\n     <use xlink:href=\"#m2a96e0e4b7\" x=\"103.838077\" y=\"56.607805\" style=\"fill: #1f77b4; stroke: #1f77b4\"/>\n     <use xlink:href=\"#m2a96e0e4b7\" x=\"185.08964\" y=\"117.486209\" style=\"fill: #1f77b4; stroke: #1f77b4\"/>\n     <use xlink:href=\"#m2a96e0e4b7\" x=\"158.136255\" y=\"76.261898\" style=\"fill: #1f77b4; stroke: #1f77b4\"/>\n     <use xlink:href=\"#m2a96e0e4b7\" x=\"198.688959\" y=\"107.257199\" style=\"fill: #1f77b4; stroke: #1f77b4\"/>\n     <use xlink:href=\"#m2a96e0e4b7\" x=\"109.512542\" y=\"75.690759\" style=\"fill: #1f77b4; stroke: #1f77b4\"/>\n     <use xlink:href=\"#m2a96e0e4b7\" x=\"62.689743\" y=\"40.439159\" style=\"fill: #1f77b4; stroke: #1f77b4\"/>\n     <use xlink:href=\"#m2a96e0e4b7\" x=\"132.490268\" y=\"50.470537\" style=\"fill: #1f77b4; stroke: #1f77b4\"/>\n     <use xlink:href=\"#m2a96e0e4b7\" x=\"58.667635\" y=\"28.942007\" style=\"fill: #1f77b4; stroke: #1f77b4\"/>\n     <use xlink:href=\"#m2a96e0e4b7\" x=\"133.77008\" y=\"58.805458\" style=\"fill: #1f77b4; stroke: #1f77b4\"/>\n     <use xlink:href=\"#m2a96e0e4b7\" x=\"99.86522\" y=\"63.032274\" style=\"fill: #1f77b4; stroke: #1f77b4\"/>\n     <use xlink:href=\"#m2a96e0e4b7\" x=\"141.637739\" y=\"71.999183\" style=\"fill: #1f77b4; stroke: #1f77b4\"/>\n     <use xlink:href=\"#m2a96e0e4b7\" x=\"109.743691\" y=\"64.14481\" style=\"fill: #1f77b4; stroke: #1f77b4\"/>\n     <use xlink:href=\"#m2a96e0e4b7\" x=\"102.771297\" y=\"61.092328\" style=\"fill: #1f77b4; stroke: #1f77b4\"/>\n     <use xlink:href=\"#m2a96e0e4b7\" x=\"95.332995\" y=\"64.131975\" style=\"fill: #1f77b4; stroke: #1f77b4\"/>\n     <use xlink:href=\"#m2a96e0e4b7\" x=\"116.988984\" y=\"55.800205\" style=\"fill: #1f77b4; stroke: #1f77b4\"/>\n     <use xlink:href=\"#m2a96e0e4b7\" x=\"95.701937\" y=\"36.178327\" style=\"fill: #1f77b4; stroke: #1f77b4\"/>\n     <use xlink:href=\"#m2a96e0e4b7\" x=\"162.900959\" y=\"97.150575\" style=\"fill: #1f77b4; stroke: #1f77b4\"/>\n     <use xlink:href=\"#m2a96e0e4b7\" x=\"128.03802\" y=\"64.992446\" style=\"fill: #1f77b4; stroke: #1f77b4\"/>\n     <use xlink:href=\"#m2a96e0e4b7\" x=\"155.978987\" y=\"65.031982\" style=\"fill: #1f77b4; stroke: #1f77b4\"/>\n     <use xlink:href=\"#m2a96e0e4b7\" x=\"161.472052\" y=\"75.933081\" style=\"fill: #1f77b4; stroke: #1f77b4\"/>\n     <use xlink:href=\"#m2a96e0e4b7\" x=\"120.174005\" y=\"63.931602\" style=\"fill: #1f77b4; stroke: #1f77b4\"/>\n     <use xlink:href=\"#m2a96e0e4b7\" x=\"149.384086\" y=\"82.084595\" style=\"fill: #1f77b4; stroke: #1f77b4\"/>\n     <use xlink:href=\"#m2a96e0e4b7\" x=\"106.159291\" y=\"64.913785\" style=\"fill: #1f77b4; stroke: #1f77b4\"/>\n     <use xlink:href=\"#m2a96e0e4b7\" x=\"80.805237\" y=\"37.166217\" style=\"fill: #1f77b4; stroke: #1f77b4\"/>\n     <use xlink:href=\"#m2a96e0e4b7\" x=\"201.179954\" y=\"139.058016\" style=\"fill: #1f77b4; stroke: #1f77b4\"/>\n     <use xlink:href=\"#m2a96e0e4b7\" x=\"171.788351\" y=\"77.064111\" style=\"fill: #1f77b4; stroke: #1f77b4\"/>\n     <use xlink:href=\"#m2a96e0e4b7\" x=\"114.728972\" y=\"59.412253\" style=\"fill: #1f77b4; stroke: #1f77b4\"/>\n     <use xlink:href=\"#m2a96e0e4b7\" x=\"100.086307\" y=\"58.16917\" style=\"fill: #1f77b4; stroke: #1f77b4\"/>\n     <use xlink:href=\"#m2a96e0e4b7\" x=\"120.053237\" y=\"63.965035\" style=\"fill: #1f77b4; stroke: #1f77b4\"/>\n     <use xlink:href=\"#m2a96e0e4b7\" x=\"148.62524\" y=\"79.439134\" style=\"fill: #1f77b4; stroke: #1f77b4\"/>\n     <use xlink:href=\"#m2a96e0e4b7\" x=\"152.72032\" y=\"82.25694\" style=\"fill: #1f77b4; stroke: #1f77b4\"/>\n     <use xlink:href=\"#m2a96e0e4b7\" x=\"188.970139\" y=\"93.727532\" style=\"fill: #1f77b4; stroke: #1f77b4\"/>\n     <use xlink:href=\"#m2a96e0e4b7\" x=\"157.275797\" y=\"72.54241\" style=\"fill: #1f77b4; stroke: #1f77b4\"/>\n     <use xlink:href=\"#m2a96e0e4b7\" x=\"124.065254\" y=\"65.603603\" style=\"fill: #1f77b4; stroke: #1f77b4\"/>\n     <use xlink:href=\"#m2a96e0e4b7\" x=\"121.528828\" y=\"70.004375\" style=\"fill: #1f77b4; stroke: #1f77b4\"/>\n     <use xlink:href=\"#m2a96e0e4b7\" x=\"91.196812\" y=\"63.631328\" style=\"fill: #1f77b4; stroke: #1f77b4\"/>\n     <use xlink:href=\"#m2a96e0e4b7\" x=\"118.242453\" y=\"78.537853\" style=\"fill: #1f77b4; stroke: #1f77b4\"/>\n     <use xlink:href=\"#m2a96e0e4b7\" x=\"149.216758\" y=\"88.217464\" style=\"fill: #1f77b4; stroke: #1f77b4\"/>\n     <use xlink:href=\"#m2a96e0e4b7\" x=\"127.44121\" y=\"65.591501\" style=\"fill: #1f77b4; stroke: #1f77b4\"/>\n     <use xlink:href=\"#m2a96e0e4b7\" x=\"138.876962\" y=\"67.142041\" style=\"fill: #1f77b4; stroke: #1f77b4\"/>\n     <use xlink:href=\"#m2a96e0e4b7\" x=\"76.53052\" y=\"46.335231\" style=\"fill: #1f77b4; stroke: #1f77b4\"/>\n     <use xlink:href=\"#m2a96e0e4b7\" x=\"132.513499\" y=\"71.844344\" style=\"fill: #1f77b4; stroke: #1f77b4\"/>\n     <use xlink:href=\"#m2a96e0e4b7\" x=\"145.08177\" y=\"89.595468\" style=\"fill: #1f77b4; stroke: #1f77b4\"/>\n     <use xlink:href=\"#m2a96e0e4b7\" x=\"195.503432\" y=\"116.132203\" style=\"fill: #1f77b4; stroke: #1f77b4\"/>\n     <use xlink:href=\"#m2a96e0e4b7\" x=\"63.534381\" y=\"38.06012\" style=\"fill: #1f77b4; stroke: #1f77b4\"/>\n     <use xlink:href=\"#m2a96e0e4b7\" x=\"188.494656\" y=\"132.696193\" style=\"fill: #1f77b4; stroke: #1f77b4\"/>\n     <use xlink:href=\"#m2a96e0e4b7\" x=\"119.930557\" y=\"73.151732\" style=\"fill: #1f77b4; stroke: #1f77b4\"/>\n     <use xlink:href=\"#m2a96e0e4b7\" x=\"115.338899\" y=\"73.583582\" style=\"fill: #1f77b4; stroke: #1f77b4\"/>\n     <use xlink:href=\"#m2a96e0e4b7\" x=\"111.540979\" y=\"59.624946\" style=\"fill: #1f77b4; stroke: #1f77b4\"/>\n     <use xlink:href=\"#m2a96e0e4b7\" x=\"147.998378\" y=\"98.546705\" style=\"fill: #1f77b4; stroke: #1f77b4\"/>\n     <use xlink:href=\"#m2a96e0e4b7\" x=\"178.748805\" y=\"100.464974\" style=\"fill: #1f77b4; stroke: #1f77b4\"/>\n     <use xlink:href=\"#m2a96e0e4b7\" x=\"105.04813\" y=\"58.587815\" style=\"fill: #1f77b4; stroke: #1f77b4\"/>\n     <use xlink:href=\"#m2a96e0e4b7\" x=\"115.827135\" y=\"84.02686\" style=\"fill: #1f77b4; stroke: #1f77b4\"/>\n     <use xlink:href=\"#m2a96e0e4b7\" x=\"127.555603\" y=\"73.706541\" style=\"fill: #1f77b4; stroke: #1f77b4\"/>\n     <use xlink:href=\"#m2a96e0e4b7\" x=\"162.969787\" y=\"73.995665\" style=\"fill: #1f77b4; stroke: #1f77b4\"/>\n     <use xlink:href=\"#m2a96e0e4b7\" x=\"97.220635\" y=\"47.948661\" style=\"fill: #1f77b4; stroke: #1f77b4\"/>\n     <use xlink:href=\"#m2a96e0e4b7\" x=\"159.604047\" y=\"83.901403\" style=\"fill: #1f77b4; stroke: #1f77b4\"/>\n     <use xlink:href=\"#m2a96e0e4b7\" x=\"114.978082\" y=\"56.914921\" style=\"fill: #1f77b4; stroke: #1f77b4\"/>\n     <use xlink:href=\"#m2a96e0e4b7\" x=\"113.639337\" y=\"60.934413\" style=\"fill: #1f77b4; stroke: #1f77b4\"/>\n     <use xlink:href=\"#m2a96e0e4b7\" x=\"162.036111\" y=\"98.358074\" style=\"fill: #1f77b4; stroke: #1f77b4\"/>\n     <use xlink:href=\"#m2a96e0e4b7\" x=\"142.868847\" y=\"70.446198\" style=\"fill: #1f77b4; stroke: #1f77b4\"/>\n     <use xlink:href=\"#m2a96e0e4b7\" x=\"119.146632\" y=\"54.998472\" style=\"fill: #1f77b4; stroke: #1f77b4\"/>\n     <use xlink:href=\"#m2a96e0e4b7\" x=\"140.963343\" y=\"79.368088\" style=\"fill: #1f77b4; stroke: #1f77b4\"/>\n     <use xlink:href=\"#m2a96e0e4b7\" x=\"110.275824\" y=\"49.522503\" style=\"fill: #1f77b4; stroke: #1f77b4\"/>\n     <use xlink:href=\"#m2a96e0e4b7\" x=\"126.336477\" y=\"54.617938\" style=\"fill: #1f77b4; stroke: #1f77b4\"/>\n     <use xlink:href=\"#m2a96e0e4b7\" x=\"142.274667\" y=\"82.256674\" style=\"fill: #1f77b4; stroke: #1f77b4\"/>\n     <use xlink:href=\"#m2a96e0e4b7\" x=\"172.985272\" y=\"92.741741\" style=\"fill: #1f77b4; stroke: #1f77b4\"/>\n     <use xlink:href=\"#m2a96e0e4b7\" x=\"134.57261\" y=\"79.161453\" style=\"fill: #1f77b4; stroke: #1f77b4\"/>\n     <use xlink:href=\"#m2a96e0e4b7\" x=\"150.422799\" y=\"83.173444\" style=\"fill: #1f77b4; stroke: #1f77b4\"/>\n     <use xlink:href=\"#m2a96e0e4b7\" x=\"121.051291\" y=\"70.87622\" style=\"fill: #1f77b4; stroke: #1f77b4\"/>\n     <use xlink:href=\"#m2a96e0e4b7\" x=\"173.108661\" y=\"95.281054\" style=\"fill: #1f77b4; stroke: #1f77b4\"/>\n     <use xlink:href=\"#m2a96e0e4b7\" x=\"130.744453\" y=\"82.361539\" style=\"fill: #1f77b4; stroke: #1f77b4\"/>\n     <use xlink:href=\"#m2a96e0e4b7\" x=\"113.333924\" y=\"52.16395\" style=\"fill: #1f77b4; stroke: #1f77b4\"/>\n     <use xlink:href=\"#m2a96e0e4b7\" x=\"82.442302\" y=\"42.880895\" style=\"fill: #1f77b4; stroke: #1f77b4\"/>\n     <use xlink:href=\"#m2a96e0e4b7\" x=\"108.451999\" y=\"57.952272\" style=\"fill: #1f77b4; stroke: #1f77b4\"/>\n     <use xlink:href=\"#m2a96e0e4b7\" x=\"119.594302\" y=\"75.227525\" style=\"fill: #1f77b4; stroke: #1f77b4\"/>\n     <use xlink:href=\"#m2a96e0e4b7\" x=\"173.362514\" y=\"89.506253\" style=\"fill: #1f77b4; stroke: #1f77b4\"/>\n     <use xlink:href=\"#m2a96e0e4b7\" x=\"139.832675\" y=\"75.20072\" style=\"fill: #1f77b4; stroke: #1f77b4\"/>\n     <use xlink:href=\"#m2a96e0e4b7\" x=\"140.829684\" y=\"65.981677\" style=\"fill: #1f77b4; stroke: #1f77b4\"/>\n     <use xlink:href=\"#m2a96e0e4b7\" x=\"136.910378\" y=\"84.84409\" style=\"fill: #1f77b4; stroke: #1f77b4\"/>\n     <use xlink:href=\"#m2a96e0e4b7\" x=\"97.927065\" y=\"62.46871\" style=\"fill: #1f77b4; stroke: #1f77b4\"/>\n     <use xlink:href=\"#m2a96e0e4b7\" x=\"119.27198\" y=\"61.922656\" style=\"fill: #1f77b4; stroke: #1f77b4\"/>\n     <use xlink:href=\"#m2a96e0e4b7\" x=\"176.688059\" y=\"92.075653\" style=\"fill: #1f77b4; stroke: #1f77b4\"/>\n     <use xlink:href=\"#m2a96e0e4b7\" x=\"155.654861\" y=\"92.588235\" style=\"fill: #1f77b4; stroke: #1f77b4\"/>\n     <use xlink:href=\"#m2a96e0e4b7\" x=\"140.98772\" y=\"53.910161\" style=\"fill: #1f77b4; stroke: #1f77b4\"/>\n     <use xlink:href=\"#m2a96e0e4b7\" x=\"156.996712\" y=\"86.83405\" style=\"fill: #1f77b4; stroke: #1f77b4\"/>\n     <use xlink:href=\"#m2a96e0e4b7\" x=\"171.027161\" y=\"102.900688\" style=\"fill: #1f77b4; stroke: #1f77b4\"/>\n     <use xlink:href=\"#m2a96e0e4b7\" x=\"133.403799\" y=\"71.16473\" style=\"fill: #1f77b4; stroke: #1f77b4\"/>\n     <use xlink:href=\"#m2a96e0e4b7\" x=\"77.593387\" y=\"32.750615\" style=\"fill: #1f77b4; stroke: #1f77b4\"/>\n     <use xlink:href=\"#m2a96e0e4b7\" x=\"110.348333\" y=\"57.009777\" style=\"fill: #1f77b4; stroke: #1f77b4\"/>\n     <use xlink:href=\"#m2a96e0e4b7\" x=\"219.216031\" y=\"139.5\" style=\"fill: #1f77b4; stroke: #1f77b4\"/>\n     <use xlink:href=\"#m2a96e0e4b7\" x=\"160.003407\" y=\"104.139762\" style=\"fill: #1f77b4; stroke: #1f77b4\"/>\n     <use xlink:href=\"#m2a96e0e4b7\" x=\"144.613795\" y=\"77.724345\" style=\"fill: #1f77b4; stroke: #1f77b4\"/>\n     <use xlink:href=\"#m2a96e0e4b7\" x=\"155.176539\" y=\"96.608839\" style=\"fill: #1f77b4; stroke: #1f77b4\"/>\n     <use xlink:href=\"#m2a96e0e4b7\" x=\"135.759879\" y=\"74.269634\" style=\"fill: #1f77b4; stroke: #1f77b4\"/>\n     <use xlink:href=\"#m2a96e0e4b7\" x=\"137.182783\" y=\"58.827198\" style=\"fill: #1f77b4; stroke: #1f77b4\"/>\n     <use xlink:href=\"#m2a96e0e4b7\" x=\"99.609979\" y=\"64.077485\" style=\"fill: #1f77b4; stroke: #1f77b4\"/>\n     <use xlink:href=\"#m2a96e0e4b7\" x=\"125.363225\" y=\"74.571575\" style=\"fill: #1f77b4; stroke: #1f77b4\"/>\n     <use xlink:href=\"#m2a96e0e4b7\" x=\"155.689765\" y=\"87.075605\" style=\"fill: #1f77b4; stroke: #1f77b4\"/>\n     <use xlink:href=\"#m2a96e0e4b7\" x=\"155.54578\" y=\"70.459808\" style=\"fill: #1f77b4; stroke: #1f77b4\"/>\n     <use xlink:href=\"#m2a96e0e4b7\" x=\"172.063014\" y=\"119.677735\" style=\"fill: #1f77b4; stroke: #1f77b4\"/>\n     <use xlink:href=\"#m2a96e0e4b7\" x=\"117.723312\" y=\"61.343993\" style=\"fill: #1f77b4; stroke: #1f77b4\"/>\n     <use xlink:href=\"#m2a96e0e4b7\" x=\"171.258414\" y=\"78.356132\" style=\"fill: #1f77b4; stroke: #1f77b4\"/>\n     <use xlink:href=\"#m2a96e0e4b7\" x=\"135.792182\" y=\"62.078941\" style=\"fill: #1f77b4; stroke: #1f77b4\"/>\n     <use xlink:href=\"#m2a96e0e4b7\" x=\"113.774695\" y=\"58.570008\" style=\"fill: #1f77b4; stroke: #1f77b4\"/>\n     <use xlink:href=\"#m2a96e0e4b7\" x=\"161.988301\" y=\"99.014202\" style=\"fill: #1f77b4; stroke: #1f77b4\"/>\n     <use xlink:href=\"#m2a96e0e4b7\" x=\"75.967965\" y=\"31.092611\" style=\"fill: #1f77b4; stroke: #1f77b4\"/>\n     <use xlink:href=\"#m2a96e0e4b7\" x=\"150.928514\" y=\"70.392515\" style=\"fill: #1f77b4; stroke: #1f77b4\"/>\n     <use xlink:href=\"#m2a96e0e4b7\" x=\"85.088224\" y=\"42.616941\" style=\"fill: #1f77b4; stroke: #1f77b4\"/>\n     <use xlink:href=\"#m2a96e0e4b7\" x=\"124.911308\" y=\"72.770027\" style=\"fill: #1f77b4; stroke: #1f77b4\"/>\n     <use xlink:href=\"#m2a96e0e4b7\" x=\"168.931096\" y=\"98.177604\" style=\"fill: #1f77b4; stroke: #1f77b4\"/>\n     <use xlink:href=\"#m2a96e0e4b7\" x=\"126.427859\" y=\"75.805172\" style=\"fill: #1f77b4; stroke: #1f77b4\"/>\n     <use xlink:href=\"#m2a96e0e4b7\" x=\"84.214484\" y=\"41.096062\" style=\"fill: #1f77b4; stroke: #1f77b4\"/>\n     <use xlink:href=\"#m2a96e0e4b7\" x=\"118.474043\" y=\"56.768525\" style=\"fill: #1f77b4; stroke: #1f77b4\"/>\n     <use xlink:href=\"#m2a96e0e4b7\" x=\"98.551283\" y=\"46.620561\" style=\"fill: #1f77b4; stroke: #1f77b4\"/>\n     <use xlink:href=\"#m2a96e0e4b7\" x=\"137.872192\" y=\"71.491864\" style=\"fill: #1f77b4; stroke: #1f77b4\"/>\n     <use xlink:href=\"#m2a96e0e4b7\" x=\"136.210894\" y=\"76.896069\" style=\"fill: #1f77b4; stroke: #1f77b4\"/>\n     <use xlink:href=\"#m2a96e0e4b7\" x=\"138.421581\" y=\"68.245203\" style=\"fill: #1f77b4; stroke: #1f77b4\"/>\n     <use xlink:href=\"#m2a96e0e4b7\" x=\"168.878077\" y=\"88.603132\" style=\"fill: #1f77b4; stroke: #1f77b4\"/>\n     <use xlink:href=\"#m2a96e0e4b7\" x=\"115.545578\" y=\"67.484227\" style=\"fill: #1f77b4; stroke: #1f77b4\"/>\n     <use xlink:href=\"#m2a96e0e4b7\" x=\"105.668777\" y=\"51.923075\" style=\"fill: #1f77b4; stroke: #1f77b4\"/>\n     <use xlink:href=\"#m2a96e0e4b7\" x=\"186.702557\" y=\"109.032291\" style=\"fill: #1f77b4; stroke: #1f77b4\"/>\n     <use xlink:href=\"#m2a96e0e4b7\" x=\"188.663834\" y=\"101.717969\" style=\"fill: #1f77b4; stroke: #1f77b4\"/>\n     <use xlink:href=\"#m2a96e0e4b7\" x=\"136.524937\" y=\"73.463436\" style=\"fill: #1f77b4; stroke: #1f77b4\"/>\n     <use xlink:href=\"#m2a96e0e4b7\" x=\"109.390593\" y=\"63.241037\" style=\"fill: #1f77b4; stroke: #1f77b4\"/>\n     <use xlink:href=\"#m2a96e0e4b7\" x=\"145.423123\" y=\"71.522108\" style=\"fill: #1f77b4; stroke: #1f77b4\"/>\n     <use xlink:href=\"#m2a96e0e4b7\" x=\"176.747748\" y=\"93.522313\" style=\"fill: #1f77b4; stroke: #1f77b4\"/>\n     <use xlink:href=\"#m2a96e0e4b7\" x=\"175.028427\" y=\"95.931686\" style=\"fill: #1f77b4; stroke: #1f77b4\"/>\n     <use xlink:href=\"#m2a96e0e4b7\" x=\"192.010687\" y=\"107.289599\" style=\"fill: #1f77b4; stroke: #1f77b4\"/>\n     <use xlink:href=\"#m2a96e0e4b7\" x=\"72.460057\" y=\"41.419467\" style=\"fill: #1f77b4; stroke: #1f77b4\"/>\n     <use xlink:href=\"#m2a96e0e4b7\" x=\"142.171903\" y=\"91.363213\" style=\"fill: #1f77b4; stroke: #1f77b4\"/>\n     <use xlink:href=\"#m2a96e0e4b7\" x=\"129.522865\" y=\"77.667126\" style=\"fill: #1f77b4; stroke: #1f77b4\"/>\n     <use xlink:href=\"#m2a96e0e4b7\" x=\"141.151459\" y=\"91.124423\" style=\"fill: #1f77b4; stroke: #1f77b4\"/>\n     <use xlink:href=\"#m2a96e0e4b7\" x=\"154.812157\" y=\"100.223702\" style=\"fill: #1f77b4; stroke: #1f77b4\"/>\n     <use xlink:href=\"#m2a96e0e4b7\" x=\"80.4535\" y=\"39.221402\" style=\"fill: #1f77b4; stroke: #1f77b4\"/>\n     <use xlink:href=\"#m2a96e0e4b7\" x=\"149.820994\" y=\"78.999733\" style=\"fill: #1f77b4; stroke: #1f77b4\"/>\n     <use xlink:href=\"#m2a96e0e4b7\" x=\"96.771951\" y=\"64.555763\" style=\"fill: #1f77b4; stroke: #1f77b4\"/>\n     <use xlink:href=\"#m2a96e0e4b7\" x=\"78.857327\" y=\"44.344092\" style=\"fill: #1f77b4; stroke: #1f77b4\"/>\n     <use xlink:href=\"#m2a96e0e4b7\" x=\"63.30023\" y=\"54.91205\" style=\"fill: #1f77b4; stroke: #1f77b4\"/>\n     <use xlink:href=\"#m2a96e0e4b7\" x=\"117.190927\" y=\"56.151824\" style=\"fill: #1f77b4; stroke: #1f77b4\"/>\n     <use xlink:href=\"#m2a96e0e4b7\" x=\"73.193289\" y=\"41.172929\" style=\"fill: #1f77b4; stroke: #1f77b4\"/>\n     <use xlink:href=\"#m2a96e0e4b7\" x=\"169.339607\" y=\"80.157307\" style=\"fill: #1f77b4; stroke: #1f77b4\"/>\n     <use xlink:href=\"#m2a96e0e4b7\" x=\"171.299793\" y=\"91.607727\" style=\"fill: #1f77b4; stroke: #1f77b4\"/>\n     <use xlink:href=\"#m2a96e0e4b7\" x=\"165.523766\" y=\"93.184919\" style=\"fill: #1f77b4; stroke: #1f77b4\"/>\n     <use xlink:href=\"#m2a96e0e4b7\" x=\"148.390481\" y=\"67.976898\" style=\"fill: #1f77b4; stroke: #1f77b4\"/>\n     <use xlink:href=\"#m2a96e0e4b7\" x=\"104.827438\" y=\"55.638717\" style=\"fill: #1f77b4; stroke: #1f77b4\"/>\n     <use xlink:href=\"#m2a96e0e4b7\" x=\"157.088586\" y=\"81.573462\" style=\"fill: #1f77b4; stroke: #1f77b4\"/>\n     <use xlink:href=\"#m2a96e0e4b7\" x=\"144.198679\" y=\"75.079017\" style=\"fill: #1f77b4; stroke: #1f77b4\"/>\n     <use xlink:href=\"#m2a96e0e4b7\" x=\"142.3237\" y=\"57.724034\" style=\"fill: #1f77b4; stroke: #1f77b4\"/>\n     <use xlink:href=\"#m2a96e0e4b7\" x=\"136.204267\" y=\"86.630272\" style=\"fill: #1f77b4; stroke: #1f77b4\"/>\n     <use xlink:href=\"#m2a96e0e4b7\" x=\"138.506235\" y=\"72.76485\" style=\"fill: #1f77b4; stroke: #1f77b4\"/>\n     <use xlink:href=\"#m2a96e0e4b7\" x=\"159.726656\" y=\"97.527225\" style=\"fill: #1f77b4; stroke: #1f77b4\"/>\n     <use xlink:href=\"#m2a96e0e4b7\" x=\"124.309757\" y=\"49.215119\" style=\"fill: #1f77b4; stroke: #1f77b4\"/>\n     <use xlink:href=\"#m2a96e0e4b7\" x=\"121.611571\" y=\"86.43652\" style=\"fill: #1f77b4; stroke: #1f77b4\"/>\n     <use xlink:href=\"#m2a96e0e4b7\" x=\"123.61877\" y=\"66.498155\" style=\"fill: #1f77b4; stroke: #1f77b4\"/>\n     <use xlink:href=\"#m2a96e0e4b7\" x=\"163.741339\" y=\"63.066378\" style=\"fill: #1f77b4; stroke: #1f77b4\"/>\n     <use xlink:href=\"#m2a96e0e4b7\" x=\"153.936994\" y=\"111.192617\" style=\"fill: #1f77b4; stroke: #1f77b4\"/>\n     <use xlink:href=\"#m2a96e0e4b7\" x=\"153.986927\" y=\"90.037333\" style=\"fill: #1f77b4; stroke: #1f77b4\"/>\n     <use xlink:href=\"#m2a96e0e4b7\" x=\"176.370317\" y=\"99.32257\" style=\"fill: #1f77b4; stroke: #1f77b4\"/>\n     <use xlink:href=\"#m2a96e0e4b7\" x=\"73.150623\" y=\"37.32917\" style=\"fill: #1f77b4; stroke: #1f77b4\"/>\n     <use xlink:href=\"#m2a96e0e4b7\" x=\"142.751047\" y=\"72.241897\" style=\"fill: #1f77b4; stroke: #1f77b4\"/>\n     <use xlink:href=\"#m2a96e0e4b7\" x=\"175.320246\" y=\"92.133441\" style=\"fill: #1f77b4; stroke: #1f77b4\"/>\n     <use xlink:href=\"#m2a96e0e4b7\" x=\"80.936996\" y=\"53.731643\" style=\"fill: #1f77b4; stroke: #1f77b4\"/>\n     <use xlink:href=\"#m2a96e0e4b7\" x=\"101.169033\" y=\"37.551794\" style=\"fill: #1f77b4; stroke: #1f77b4\"/>\n     <use xlink:href=\"#m2a96e0e4b7\" x=\"149.870923\" y=\"80.973017\" style=\"fill: #1f77b4; stroke: #1f77b4\"/>\n     <use xlink:href=\"#m2a96e0e4b7\" x=\"68.793846\" y=\"24.750237\" style=\"fill: #1f77b4; stroke: #1f77b4\"/>\n     <use xlink:href=\"#m2a96e0e4b7\" x=\"139.638247\" y=\"91.182416\" style=\"fill: #1f77b4; stroke: #1f77b4\"/>\n     <use xlink:href=\"#m2a96e0e4b7\" x=\"113.257297\" y=\"57.050603\" style=\"fill: #1f77b4; stroke: #1f77b4\"/>\n     <use xlink:href=\"#m2a96e0e4b7\" x=\"113.938205\" y=\"45.398729\" style=\"fill: #1f77b4; stroke: #1f77b4\"/>\n     <use xlink:href=\"#m2a96e0e4b7\" x=\"137.662654\" y=\"64.041549\" style=\"fill: #1f77b4; stroke: #1f77b4\"/>\n     <use xlink:href=\"#m2a96e0e4b7\" x=\"138.378892\" y=\"64.852928\" style=\"fill: #1f77b4; stroke: #1f77b4\"/>\n     <use xlink:href=\"#m2a96e0e4b7\" x=\"85.761723\" y=\"53.606974\" style=\"fill: #1f77b4; stroke: #1f77b4\"/>\n     <use xlink:href=\"#m2a96e0e4b7\" x=\"95.500187\" y=\"53.874153\" style=\"fill: #1f77b4; stroke: #1f77b4\"/>\n     <use xlink:href=\"#m2a96e0e4b7\" x=\"129.25953\" y=\"66.038571\" style=\"fill: #1f77b4; stroke: #1f77b4\"/>\n     <use xlink:href=\"#m2a96e0e4b7\" x=\"127.546409\" y=\"53.347854\" style=\"fill: #1f77b4; stroke: #1f77b4\"/>\n     <use xlink:href=\"#m2a96e0e4b7\" x=\"101.545942\" y=\"73.483225\" style=\"fill: #1f77b4; stroke: #1f77b4\"/>\n     <use xlink:href=\"#m2a96e0e4b7\" x=\"140.136202\" y=\"90.19192\" style=\"fill: #1f77b4; stroke: #1f77b4\"/>\n     <use xlink:href=\"#m2a96e0e4b7\" x=\"154.238179\" y=\"78.881749\" style=\"fill: #1f77b4; stroke: #1f77b4\"/>\n     <use xlink:href=\"#m2a96e0e4b7\" x=\"76.355669\" y=\"47.206675\" style=\"fill: #1f77b4; stroke: #1f77b4\"/>\n     <use xlink:href=\"#m2a96e0e4b7\" x=\"139.858529\" y=\"65.579896\" style=\"fill: #1f77b4; stroke: #1f77b4\"/>\n     <use xlink:href=\"#m2a96e0e4b7\" x=\"86.364684\" y=\"55.224526\" style=\"fill: #1f77b4; stroke: #1f77b4\"/>\n     <use xlink:href=\"#m2a96e0e4b7\" x=\"136.53755\" y=\"80.719441\" style=\"fill: #1f77b4; stroke: #1f77b4\"/>\n     <use xlink:href=\"#m2a96e0e4b7\" x=\"122.589728\" y=\"82.499839\" style=\"fill: #1f77b4; stroke: #1f77b4\"/>\n     <use xlink:href=\"#m2a96e0e4b7\" x=\"150.913644\" y=\"71.757746\" style=\"fill: #1f77b4; stroke: #1f77b4\"/>\n     <use xlink:href=\"#m2a96e0e4b7\" x=\"197.714562\" y=\"122.844805\" style=\"fill: #1f77b4; stroke: #1f77b4\"/>\n     <use xlink:href=\"#m2a96e0e4b7\" x=\"125.292918\" y=\"51.289319\" style=\"fill: #1f77b4; stroke: #1f77b4\"/>\n     <use xlink:href=\"#m2a96e0e4b7\" x=\"154.055546\" y=\"99.242229\" style=\"fill: #1f77b4; stroke: #1f77b4\"/>\n     <use xlink:href=\"#m2a96e0e4b7\" x=\"138.499819\" y=\"79.801801\" style=\"fill: #1f77b4; stroke: #1f77b4\"/>\n     <use xlink:href=\"#m2a96e0e4b7\" x=\"108.569289\" y=\"58.968575\" style=\"fill: #1f77b4; stroke: #1f77b4\"/>\n     <use xlink:href=\"#m2a96e0e4b7\" x=\"149.929629\" y=\"84.409433\" style=\"fill: #1f77b4; stroke: #1f77b4\"/>\n     <use xlink:href=\"#m2a96e0e4b7\" x=\"151.806727\" y=\"75.397202\" style=\"fill: #1f77b4; stroke: #1f77b4\"/>\n     <use xlink:href=\"#m2a96e0e4b7\" x=\"83.823392\" y=\"39.689353\" style=\"fill: #1f77b4; stroke: #1f77b4\"/>\n     <use xlink:href=\"#m2a96e0e4b7\" x=\"75.163569\" y=\"33.06819\" style=\"fill: #1f77b4; stroke: #1f77b4\"/>\n     <use xlink:href=\"#m2a96e0e4b7\" x=\"142.014193\" y=\"77.913709\" style=\"fill: #1f77b4; stroke: #1f77b4\"/>\n     <use xlink:href=\"#m2a96e0e4b7\" x=\"77.78256\" y=\"16.367006\" style=\"fill: #1f77b4; stroke: #1f77b4\"/>\n     <use xlink:href=\"#m2a96e0e4b7\" x=\"152.002412\" y=\"79.410795\" style=\"fill: #1f77b4; stroke: #1f77b4\"/>\n     <use xlink:href=\"#m2a96e0e4b7\" x=\"153.792116\" y=\"77.009718\" style=\"fill: #1f77b4; stroke: #1f77b4\"/>\n     <use xlink:href=\"#m2a96e0e4b7\" x=\"132.052495\" y=\"64.773532\" style=\"fill: #1f77b4; stroke: #1f77b4\"/>\n     <use xlink:href=\"#m2a96e0e4b7\" x=\"93.456432\" y=\"43.616024\" style=\"fill: #1f77b4; stroke: #1f77b4\"/>\n     <use xlink:href=\"#m2a96e0e4b7\" x=\"151.231182\" y=\"82.293408\" style=\"fill: #1f77b4; stroke: #1f77b4\"/>\n     <use xlink:href=\"#m2a96e0e4b7\" x=\"114.837069\" y=\"53.755737\" style=\"fill: #1f77b4; stroke: #1f77b4\"/>\n     <use xlink:href=\"#m2a96e0e4b7\" x=\"161.35972\" y=\"86.673147\" style=\"fill: #1f77b4; stroke: #1f77b4\"/>\n     <use xlink:href=\"#m2a96e0e4b7\" x=\"149.921783\" y=\"79.546165\" style=\"fill: #1f77b4; stroke: #1f77b4\"/>\n     <use xlink:href=\"#m2a96e0e4b7\" x=\"175.119451\" y=\"95.727161\" style=\"fill: #1f77b4; stroke: #1f77b4\"/>\n     <use xlink:href=\"#m2a96e0e4b7\" x=\"146.229353\" y=\"73.660556\" style=\"fill: #1f77b4; stroke: #1f77b4\"/>\n     <use xlink:href=\"#m2a96e0e4b7\" x=\"105.500753\" y=\"65.716418\" style=\"fill: #1f77b4; stroke: #1f77b4\"/>\n     <use xlink:href=\"#m2a96e0e4b7\" x=\"129.220584\" y=\"88.146821\" style=\"fill: #1f77b4; stroke: #1f77b4\"/>\n     <use xlink:href=\"#m2a96e0e4b7\" x=\"160.180211\" y=\"106.09836\" style=\"fill: #1f77b4; stroke: #1f77b4\"/>\n     <use xlink:href=\"#m2a96e0e4b7\" x=\"138.811223\" y=\"66.454776\" style=\"fill: #1f77b4; stroke: #1f77b4\"/>\n     <use xlink:href=\"#m2a96e0e4b7\" x=\"124.742863\" y=\"61.849866\" style=\"fill: #1f77b4; stroke: #1f77b4\"/>\n     <use xlink:href=\"#m2a96e0e4b7\" x=\"156.645807\" y=\"83.218178\" style=\"fill: #1f77b4; stroke: #1f77b4\"/>\n     <use xlink:href=\"#m2a96e0e4b7\" x=\"134.644136\" y=\"50.24788\" style=\"fill: #1f77b4; stroke: #1f77b4\"/>\n     <use xlink:href=\"#m2a96e0e4b7\" x=\"101.872629\" y=\"58.912494\" style=\"fill: #1f77b4; stroke: #1f77b4\"/>\n     <use xlink:href=\"#m2a96e0e4b7\" x=\"64.898563\" y=\"23.103569\" style=\"fill: #1f77b4; stroke: #1f77b4\"/>\n     <use xlink:href=\"#m2a96e0e4b7\" x=\"169.1331\" y=\"114.713253\" style=\"fill: #1f77b4; stroke: #1f77b4\"/>\n     <use xlink:href=\"#m2a96e0e4b7\" x=\"95.344534\" y=\"44.933174\" style=\"fill: #1f77b4; stroke: #1f77b4\"/>\n     <use xlink:href=\"#m2a96e0e4b7\" x=\"135.440442\" y=\"80.296629\" style=\"fill: #1f77b4; stroke: #1f77b4\"/>\n     <use xlink:href=\"#m2a96e0e4b7\" x=\"134.41375\" y=\"76.907888\" style=\"fill: #1f77b4; stroke: #1f77b4\"/>\n     <use xlink:href=\"#m2a96e0e4b7\" x=\"128.879127\" y=\"83.82766\" style=\"fill: #1f77b4; stroke: #1f77b4\"/>\n     <use xlink:href=\"#m2a96e0e4b7\" x=\"116.106649\" y=\"57.992721\" style=\"fill: #1f77b4; stroke: #1f77b4\"/>\n     <use xlink:href=\"#m2a96e0e4b7\" x=\"97.127347\" y=\"56.775613\" style=\"fill: #1f77b4; stroke: #1f77b4\"/>\n     <use xlink:href=\"#m2a96e0e4b7\" x=\"126.397855\" y=\"73.37045\" style=\"fill: #1f77b4; stroke: #1f77b4\"/>\n     <use xlink:href=\"#m2a96e0e4b7\" x=\"122.350079\" y=\"46.837774\" style=\"fill: #1f77b4; stroke: #1f77b4\"/>\n     <use xlink:href=\"#m2a96e0e4b7\" x=\"120.37192\" y=\"59.937854\" style=\"fill: #1f77b4; stroke: #1f77b4\"/>\n     <use xlink:href=\"#m2a96e0e4b7\" x=\"113.872041\" y=\"64.247831\" style=\"fill: #1f77b4; stroke: #1f77b4\"/>\n     <use xlink:href=\"#m2a96e0e4b7\" x=\"121.643073\" y=\"66.01903\" style=\"fill: #1f77b4; stroke: #1f77b4\"/>\n     <use xlink:href=\"#m2a96e0e4b7\" x=\"60.305601\" y=\"46.85173\" style=\"fill: #1f77b4; stroke: #1f77b4\"/>\n     <use xlink:href=\"#m2a96e0e4b7\" x=\"147.240561\" y=\"75.841385\" style=\"fill: #1f77b4; stroke: #1f77b4\"/>\n     <use xlink:href=\"#m2a96e0e4b7\" x=\"114.329019\" y=\"65.366417\" style=\"fill: #1f77b4; stroke: #1f77b4\"/>\n     <use xlink:href=\"#m2a96e0e4b7\" x=\"84.164663\" y=\"53.551368\" style=\"fill: #1f77b4; stroke: #1f77b4\"/>\n     <use xlink:href=\"#m2a96e0e4b7\" x=\"123.692098\" y=\"71.611939\" style=\"fill: #1f77b4; stroke: #1f77b4\"/>\n     <use xlink:href=\"#m2a96e0e4b7\" x=\"158.821864\" y=\"96.248284\" style=\"fill: #1f77b4; stroke: #1f77b4\"/>\n     <use xlink:href=\"#m2a96e0e4b7\" x=\"159.991506\" y=\"89.917009\" style=\"fill: #1f77b4; stroke: #1f77b4\"/>\n     <use xlink:href=\"#m2a96e0e4b7\" x=\"129.362849\" y=\"66.372254\" style=\"fill: #1f77b4; stroke: #1f77b4\"/>\n     <use xlink:href=\"#m2a96e0e4b7\" x=\"183.256656\" y=\"104.122543\" style=\"fill: #1f77b4; stroke: #1f77b4\"/>\n     <use xlink:href=\"#m2a96e0e4b7\" x=\"91.23643\" y=\"44.232131\" style=\"fill: #1f77b4; stroke: #1f77b4\"/>\n     <use xlink:href=\"#m2a96e0e4b7\" x=\"144.419402\" y=\"79.094635\" style=\"fill: #1f77b4; stroke: #1f77b4\"/>\n     <use xlink:href=\"#m2a96e0e4b7\" x=\"161.043974\" y=\"75.363693\" style=\"fill: #1f77b4; stroke: #1f77b4\"/>\n     <use xlink:href=\"#m2a96e0e4b7\" x=\"137.005433\" y=\"75.45404\" style=\"fill: #1f77b4; stroke: #1f77b4\"/>\n     <use xlink:href=\"#m2a96e0e4b7\" x=\"157.278433\" y=\"83.953675\" style=\"fill: #1f77b4; stroke: #1f77b4\"/>\n     <use xlink:href=\"#m2a96e0e4b7\" x=\"128.992895\" y=\"71.746593\" style=\"fill: #1f77b4; stroke: #1f77b4\"/>\n     <use xlink:href=\"#m2a96e0e4b7\" x=\"192.617683\" y=\"107.417825\" style=\"fill: #1f77b4; stroke: #1f77b4\"/>\n     <use xlink:href=\"#m2a96e0e4b7\" x=\"115.425379\" y=\"73.346772\" style=\"fill: #1f77b4; stroke: #1f77b4\"/>\n     <use xlink:href=\"#m2a96e0e4b7\" x=\"148.794396\" y=\"79.518718\" style=\"fill: #1f77b4; stroke: #1f77b4\"/>\n     <use xlink:href=\"#m2a96e0e4b7\" x=\"173.959\" y=\"106.206394\" style=\"fill: #1f77b4; stroke: #1f77b4\"/>\n     <use xlink:href=\"#m2a96e0e4b7\" x=\"128.324153\" y=\"91.965275\" style=\"fill: #1f77b4; stroke: #1f77b4\"/>\n     <use xlink:href=\"#m2a96e0e4b7\" x=\"53.941951\" y=\"26.182945\" style=\"fill: #1f77b4; stroke: #1f77b4\"/>\n     <use xlink:href=\"#m2a96e0e4b7\" x=\"102.265956\" y=\"56.241216\" style=\"fill: #1f77b4; stroke: #1f77b4\"/>\n     <use xlink:href=\"#m2a96e0e4b7\" x=\"92.677726\" y=\"58.282211\" style=\"fill: #1f77b4; stroke: #1f77b4\"/>\n     <use xlink:href=\"#m2a96e0e4b7\" x=\"63.788398\" y=\"25.873472\" style=\"fill: #1f77b4; stroke: #1f77b4\"/>\n     <use xlink:href=\"#m2a96e0e4b7\" x=\"111.187457\" y=\"44.246999\" style=\"fill: #1f77b4; stroke: #1f77b4\"/>\n     <use xlink:href=\"#m2a96e0e4b7\" x=\"127.863801\" y=\"71.687334\" style=\"fill: #1f77b4; stroke: #1f77b4\"/>\n     <use xlink:href=\"#m2a96e0e4b7\" x=\"128.821871\" y=\"70.367792\" style=\"fill: #1f77b4; stroke: #1f77b4\"/>\n     <use xlink:href=\"#m2a96e0e4b7\" x=\"141.971436\" y=\"74.238743\" style=\"fill: #1f77b4; stroke: #1f77b4\"/>\n     <use xlink:href=\"#m2a96e0e4b7\" x=\"171.650461\" y=\"97.543765\" style=\"fill: #1f77b4; stroke: #1f77b4\"/>\n     <use xlink:href=\"#m2a96e0e4b7\" x=\"131.55762\" y=\"72.107721\" style=\"fill: #1f77b4; stroke: #1f77b4\"/>\n     <use xlink:href=\"#m2a96e0e4b7\" x=\"123.494202\" y=\"54.767188\" style=\"fill: #1f77b4; stroke: #1f77b4\"/>\n     <use xlink:href=\"#m2a96e0e4b7\" x=\"168.994419\" y=\"107.062185\" style=\"fill: #1f77b4; stroke: #1f77b4\"/>\n     <use xlink:href=\"#m2a96e0e4b7\" x=\"143.375904\" y=\"75.942636\" style=\"fill: #1f77b4; stroke: #1f77b4\"/>\n     <use xlink:href=\"#m2a96e0e4b7\" x=\"95.272522\" y=\"42.978675\" style=\"fill: #1f77b4; stroke: #1f77b4\"/>\n     <use xlink:href=\"#m2a96e0e4b7\" x=\"131.81012\" y=\"80.459452\" style=\"fill: #1f77b4; stroke: #1f77b4\"/>\n     <use xlink:href=\"#m2a96e0e4b7\" x=\"102.308601\" y=\"42.204926\" style=\"fill: #1f77b4; stroke: #1f77b4\"/>\n     <use xlink:href=\"#m2a96e0e4b7\" x=\"103.020099\" y=\"47.00975\" style=\"fill: #1f77b4; stroke: #1f77b4\"/>\n     <use xlink:href=\"#m2a96e0e4b7\" x=\"120.895293\" y=\"47.918911\" style=\"fill: #1f77b4; stroke: #1f77b4\"/>\n     <use xlink:href=\"#m2a96e0e4b7\" x=\"144.64344\" y=\"83.420031\" style=\"fill: #1f77b4; stroke: #1f77b4\"/>\n     <use xlink:href=\"#m2a96e0e4b7\" x=\"159.789728\" y=\"72.757512\" style=\"fill: #1f77b4; stroke: #1f77b4\"/>\n     <use xlink:href=\"#m2a96e0e4b7\" x=\"167.725532\" y=\"97.410258\" style=\"fill: #1f77b4; stroke: #1f77b4\"/>\n     <use xlink:href=\"#m2a96e0e4b7\" x=\"134.374509\" y=\"68.137093\" style=\"fill: #1f77b4; stroke: #1f77b4\"/>\n     <use xlink:href=\"#m2a96e0e4b7\" x=\"98.626511\" y=\"63.804578\" style=\"fill: #1f77b4; stroke: #1f77b4\"/>\n     <use xlink:href=\"#m2a96e0e4b7\" x=\"160.516499\" y=\"96.595285\" style=\"fill: #1f77b4; stroke: #1f77b4\"/>\n     <use xlink:href=\"#m2a96e0e4b7\" x=\"129.671023\" y=\"70.721025\" style=\"fill: #1f77b4; stroke: #1f77b4\"/>\n     <use xlink:href=\"#m2a96e0e4b7\" x=\"157.352595\" y=\"97.358424\" style=\"fill: #1f77b4; stroke: #1f77b4\"/>\n     <use xlink:href=\"#m2a96e0e4b7\" x=\"140.567647\" y=\"68.496689\" style=\"fill: #1f77b4; stroke: #1f77b4\"/>\n     <use xlink:href=\"#m2a96e0e4b7\" x=\"109.068441\" y=\"74.321809\" style=\"fill: #1f77b4; stroke: #1f77b4\"/>\n     <use xlink:href=\"#m2a96e0e4b7\" x=\"143.772059\" y=\"74.253748\" style=\"fill: #1f77b4; stroke: #1f77b4\"/>\n     <use xlink:href=\"#m2a96e0e4b7\" x=\"75.790893\" y=\"42.985503\" style=\"fill: #1f77b4; stroke: #1f77b4\"/>\n     <use xlink:href=\"#m2a96e0e4b7\" x=\"118.348949\" y=\"46.403104\" style=\"fill: #1f77b4; stroke: #1f77b4\"/>\n     <use xlink:href=\"#m2a96e0e4b7\" x=\"165.022392\" y=\"95.120565\" style=\"fill: #1f77b4; stroke: #1f77b4\"/>\n     <use xlink:href=\"#m2a96e0e4b7\" x=\"76.34996\" y=\"28.816429\" style=\"fill: #1f77b4; stroke: #1f77b4\"/>\n     <use xlink:href=\"#m2a96e0e4b7\" x=\"180.589927\" y=\"96.007637\" style=\"fill: #1f77b4; stroke: #1f77b4\"/>\n     <use xlink:href=\"#m2a96e0e4b7\" x=\"158.355307\" y=\"101.307108\" style=\"fill: #1f77b4; stroke: #1f77b4\"/>\n     <use xlink:href=\"#m2a96e0e4b7\" x=\"142.683553\" y=\"82.507809\" style=\"fill: #1f77b4; stroke: #1f77b4\"/>\n     <use xlink:href=\"#m2a96e0e4b7\" x=\"176.363664\" y=\"93.461733\" style=\"fill: #1f77b4; stroke: #1f77b4\"/>\n     <use xlink:href=\"#m2a96e0e4b7\" x=\"122.964834\" y=\"72.032869\" style=\"fill: #1f77b4; stroke: #1f77b4\"/>\n     <use xlink:href=\"#m2a96e0e4b7\" x=\"116.112893\" y=\"45.604706\" style=\"fill: #1f77b4; stroke: #1f77b4\"/>\n     <use xlink:href=\"#m2a96e0e4b7\" x=\"94.438419\" y=\"44.289546\" style=\"fill: #1f77b4; stroke: #1f77b4\"/>\n     <use xlink:href=\"#m2a96e0e4b7\" x=\"117.881764\" y=\"42.882293\" style=\"fill: #1f77b4; stroke: #1f77b4\"/>\n     <use xlink:href=\"#m2a96e0e4b7\" x=\"158.248255\" y=\"83.526378\" style=\"fill: #1f77b4; stroke: #1f77b4\"/>\n     <use xlink:href=\"#m2a96e0e4b7\" x=\"149.930067\" y=\"74.668103\" style=\"fill: #1f77b4; stroke: #1f77b4\"/>\n     <use xlink:href=\"#m2a96e0e4b7\" x=\"152.302749\" y=\"76.324067\" style=\"fill: #1f77b4; stroke: #1f77b4\"/>\n     <use xlink:href=\"#m2a96e0e4b7\" x=\"138.218086\" y=\"66.58687\" style=\"fill: #1f77b4; stroke: #1f77b4\"/>\n     <use xlink:href=\"#m2a96e0e4b7\" x=\"83.568338\" y=\"36.583114\" style=\"fill: #1f77b4; stroke: #1f77b4\"/>\n     <use xlink:href=\"#m2a96e0e4b7\" x=\"126.316253\" y=\"58.599004\" style=\"fill: #1f77b4; stroke: #1f77b4\"/>\n     <use xlink:href=\"#m2a96e0e4b7\" x=\"110.0574\" y=\"67.72654\" style=\"fill: #1f77b4; stroke: #1f77b4\"/>\n     <use xlink:href=\"#m2a96e0e4b7\" x=\"139.845745\" y=\"88.195551\" style=\"fill: #1f77b4; stroke: #1f77b4\"/>\n     <use xlink:href=\"#m2a96e0e4b7\" x=\"166.76486\" y=\"115.550104\" style=\"fill: #1f77b4; stroke: #1f77b4\"/>\n     <use xlink:href=\"#m2a96e0e4b7\" x=\"101.555982\" y=\"54.162303\" style=\"fill: #1f77b4; stroke: #1f77b4\"/>\n     <use xlink:href=\"#m2a96e0e4b7\" x=\"88.677644\" y=\"59.396901\" style=\"fill: #1f77b4; stroke: #1f77b4\"/>\n     <use xlink:href=\"#m2a96e0e4b7\" x=\"175.892527\" y=\"109.330553\" style=\"fill: #1f77b4; stroke: #1f77b4\"/>\n     <use xlink:href=\"#m2a96e0e4b7\" x=\"167.854468\" y=\"94.877474\" style=\"fill: #1f77b4; stroke: #1f77b4\"/>\n     <use xlink:href=\"#m2a96e0e4b7\" x=\"83.994577\" y=\"47.630385\" style=\"fill: #1f77b4; stroke: #1f77b4\"/>\n     <use xlink:href=\"#m2a96e0e4b7\" x=\"168.99878\" y=\"88.788708\" style=\"fill: #1f77b4; stroke: #1f77b4\"/>\n     <use xlink:href=\"#m2a96e0e4b7\" x=\"108.805281\" y=\"62.816285\" style=\"fill: #1f77b4; stroke: #1f77b4\"/>\n     <use xlink:href=\"#m2a96e0e4b7\" x=\"136.499996\" y=\"80.242325\" style=\"fill: #1f77b4; stroke: #1f77b4\"/>\n     <use xlink:href=\"#m2a96e0e4b7\" x=\"159.527764\" y=\"85.571546\" style=\"fill: #1f77b4; stroke: #1f77b4\"/>\n     <use xlink:href=\"#m2a96e0e4b7\" x=\"154.03336\" y=\"69.465405\" style=\"fill: #1f77b4; stroke: #1f77b4\"/>\n     <use xlink:href=\"#m2a96e0e4b7\" x=\"193.795249\" y=\"90.824329\" style=\"fill: #1f77b4; stroke: #1f77b4\"/>\n     <use xlink:href=\"#m2a96e0e4b7\" x=\"113.902111\" y=\"77.460482\" style=\"fill: #1f77b4; stroke: #1f77b4\"/>\n     <use xlink:href=\"#m2a96e0e4b7\" x=\"179.335465\" y=\"102.102185\" style=\"fill: #1f77b4; stroke: #1f77b4\"/>\n     <use xlink:href=\"#m2a96e0e4b7\" x=\"101.125601\" y=\"49.051904\" style=\"fill: #1f77b4; stroke: #1f77b4\"/>\n     <use xlink:href=\"#m2a96e0e4b7\" x=\"95.818548\" y=\"38.679252\" style=\"fill: #1f77b4; stroke: #1f77b4\"/>\n     <use xlink:href=\"#m2a96e0e4b7\" x=\"135.886076\" y=\"76.435664\" style=\"fill: #1f77b4; stroke: #1f77b4\"/>\n     <use xlink:href=\"#m2a96e0e4b7\" x=\"120.372344\" y=\"56.449214\" style=\"fill: #1f77b4; stroke: #1f77b4\"/>\n     <use xlink:href=\"#m2a96e0e4b7\" x=\"179.026391\" y=\"98.477832\" style=\"fill: #1f77b4; stroke: #1f77b4\"/>\n     <use xlink:href=\"#m2a96e0e4b7\" x=\"118.558541\" y=\"58.020009\" style=\"fill: #1f77b4; stroke: #1f77b4\"/>\n     <use xlink:href=\"#m2a96e0e4b7\" x=\"155.413204\" y=\"85.592989\" style=\"fill: #1f77b4; stroke: #1f77b4\"/>\n     <use xlink:href=\"#m2a96e0e4b7\" x=\"182.23138\" y=\"86.461573\" style=\"fill: #1f77b4; stroke: #1f77b4\"/>\n     <use xlink:href=\"#m2a96e0e4b7\" x=\"203.307912\" y=\"88.765001\" style=\"fill: #1f77b4; stroke: #1f77b4\"/>\n     <use xlink:href=\"#m2a96e0e4b7\" x=\"148.694312\" y=\"96.962375\" style=\"fill: #1f77b4; stroke: #1f77b4\"/>\n     <use xlink:href=\"#m2a96e0e4b7\" x=\"135.503185\" y=\"70.676105\" style=\"fill: #1f77b4; stroke: #1f77b4\"/>\n     <use xlink:href=\"#m2a96e0e4b7\" x=\"125.63329\" y=\"75.283109\" style=\"fill: #1f77b4; stroke: #1f77b4\"/>\n     <use xlink:href=\"#m2a96e0e4b7\" x=\"128.095979\" y=\"82.852389\" style=\"fill: #1f77b4; stroke: #1f77b4\"/>\n     <use xlink:href=\"#m2a96e0e4b7\" x=\"127.661525\" y=\"69.643171\" style=\"fill: #1f77b4; stroke: #1f77b4\"/>\n     <use xlink:href=\"#m2a96e0e4b7\" x=\"128.262987\" y=\"87.79954\" style=\"fill: #1f77b4; stroke: #1f77b4\"/>\n     <use xlink:href=\"#m2a96e0e4b7\" x=\"137.725807\" y=\"90.495038\" style=\"fill: #1f77b4; stroke: #1f77b4\"/>\n     <use xlink:href=\"#m2a96e0e4b7\" x=\"167.348992\" y=\"103.928297\" style=\"fill: #1f77b4; stroke: #1f77b4\"/>\n     <use xlink:href=\"#m2a96e0e4b7\" x=\"145.736572\" y=\"92.917965\" style=\"fill: #1f77b4; stroke: #1f77b4\"/>\n     <use xlink:href=\"#m2a96e0e4b7\" x=\"103.989432\" y=\"46.861674\" style=\"fill: #1f77b4; stroke: #1f77b4\"/>\n     <use xlink:href=\"#m2a96e0e4b7\" x=\"141.341054\" y=\"75.223718\" style=\"fill: #1f77b4; stroke: #1f77b4\"/>\n     <use xlink:href=\"#m2a96e0e4b7\" x=\"118.316873\" y=\"77.941877\" style=\"fill: #1f77b4; stroke: #1f77b4\"/>\n     <use xlink:href=\"#m2a96e0e4b7\" x=\"136.761573\" y=\"55.739587\" style=\"fill: #1f77b4; stroke: #1f77b4\"/>\n     <use xlink:href=\"#m2a96e0e4b7\" x=\"118.491905\" y=\"62.396521\" style=\"fill: #1f77b4; stroke: #1f77b4\"/>\n     <use xlink:href=\"#m2a96e0e4b7\" x=\"187.14398\" y=\"98.860554\" style=\"fill: #1f77b4; stroke: #1f77b4\"/>\n     <use xlink:href=\"#m2a96e0e4b7\" x=\"96.621112\" y=\"53.300221\" style=\"fill: #1f77b4; stroke: #1f77b4\"/>\n     <use xlink:href=\"#m2a96e0e4b7\" x=\"171.035936\" y=\"95.208413\" style=\"fill: #1f77b4; stroke: #1f77b4\"/>\n     <use xlink:href=\"#m2a96e0e4b7\" x=\"99.01624\" y=\"26.7371\" style=\"fill: #1f77b4; stroke: #1f77b4\"/>\n     <use xlink:href=\"#m2a96e0e4b7\" x=\"144.018078\" y=\"80.598287\" style=\"fill: #1f77b4; stroke: #1f77b4\"/>\n     <use xlink:href=\"#m2a96e0e4b7\" x=\"69.964563\" y=\"31.582667\" style=\"fill: #1f77b4; stroke: #1f77b4\"/>\n     <use xlink:href=\"#m2a96e0e4b7\" x=\"145.574963\" y=\"81.34572\" style=\"fill: #1f77b4; stroke: #1f77b4\"/>\n     <use xlink:href=\"#m2a96e0e4b7\" x=\"96.507696\" y=\"62.791943\" style=\"fill: #1f77b4; stroke: #1f77b4\"/>\n     <use xlink:href=\"#m2a96e0e4b7\" x=\"140.444131\" y=\"77.542674\" style=\"fill: #1f77b4; stroke: #1f77b4\"/>\n     <use xlink:href=\"#m2a96e0e4b7\" x=\"113.796264\" y=\"59.839477\" style=\"fill: #1f77b4; stroke: #1f77b4\"/>\n     <use xlink:href=\"#m2a96e0e4b7\" x=\"118.564729\" y=\"70.012339\" style=\"fill: #1f77b4; stroke: #1f77b4\"/>\n     <use xlink:href=\"#m2a96e0e4b7\" x=\"121.863243\" y=\"71.538426\" style=\"fill: #1f77b4; stroke: #1f77b4\"/>\n     <use xlink:href=\"#m2a96e0e4b7\" x=\"148.866011\" y=\"83.496156\" style=\"fill: #1f77b4; stroke: #1f77b4\"/>\n     <use xlink:href=\"#m2a96e0e4b7\" x=\"106.221096\" y=\"74.65124\" style=\"fill: #1f77b4; stroke: #1f77b4\"/>\n     <use xlink:href=\"#m2a96e0e4b7\" x=\"158.899546\" y=\"97.885706\" style=\"fill: #1f77b4; stroke: #1f77b4\"/>\n     <use xlink:href=\"#m2a96e0e4b7\" x=\"219.833135\" y=\"126.36804\" style=\"fill: #1f77b4; stroke: #1f77b4\"/>\n     <use xlink:href=\"#m2a96e0e4b7\" x=\"136.706588\" y=\"73.640318\" style=\"fill: #1f77b4; stroke: #1f77b4\"/>\n     <use xlink:href=\"#m2a96e0e4b7\" x=\"150.673876\" y=\"84.682464\" style=\"fill: #1f77b4; stroke: #1f77b4\"/>\n     <use xlink:href=\"#m2a96e0e4b7\" x=\"144.491995\" y=\"73.776412\" style=\"fill: #1f77b4; stroke: #1f77b4\"/>\n     <use xlink:href=\"#m2a96e0e4b7\" x=\"137.304908\" y=\"82.796592\" style=\"fill: #1f77b4; stroke: #1f77b4\"/>\n     <use xlink:href=\"#m2a96e0e4b7\" x=\"141.529136\" y=\"73.047439\" style=\"fill: #1f77b4; stroke: #1f77b4\"/>\n     <use xlink:href=\"#m2a96e0e4b7\" x=\"121.023758\" y=\"71.34892\" style=\"fill: #1f77b4; stroke: #1f77b4\"/>\n     <use xlink:href=\"#m2a96e0e4b7\" x=\"125.705551\" y=\"54.948124\" style=\"fill: #1f77b4; stroke: #1f77b4\"/>\n     <use xlink:href=\"#m2a96e0e4b7\" x=\"164.240052\" y=\"93.870086\" style=\"fill: #1f77b4; stroke: #1f77b4\"/>\n     <use xlink:href=\"#m2a96e0e4b7\" x=\"109.519694\" y=\"60.545742\" style=\"fill: #1f77b4; stroke: #1f77b4\"/>\n     <use xlink:href=\"#m2a96e0e4b7\" x=\"166.165891\" y=\"86.582117\" style=\"fill: #1f77b4; stroke: #1f77b4\"/>\n     <use xlink:href=\"#m2a96e0e4b7\" x=\"193.702591\" y=\"111.047844\" style=\"fill: #1f77b4; stroke: #1f77b4\"/>\n     <use xlink:href=\"#m2a96e0e4b7\" x=\"159.650919\" y=\"88.386079\" style=\"fill: #1f77b4; stroke: #1f77b4\"/>\n     <use xlink:href=\"#m2a96e0e4b7\" x=\"158.662078\" y=\"98.362412\" style=\"fill: #1f77b4; stroke: #1f77b4\"/>\n     <use xlink:href=\"#m2a96e0e4b7\" x=\"144.504236\" y=\"67.033912\" style=\"fill: #1f77b4; stroke: #1f77b4\"/>\n     <use xlink:href=\"#m2a96e0e4b7\" x=\"150.525502\" y=\"84.61568\" style=\"fill: #1f77b4; stroke: #1f77b4\"/>\n     <use xlink:href=\"#m2a96e0e4b7\" x=\"141.833216\" y=\"87.985417\" style=\"fill: #1f77b4; stroke: #1f77b4\"/>\n     <use xlink:href=\"#m2a96e0e4b7\" x=\"159.611067\" y=\"95.505852\" style=\"fill: #1f77b4; stroke: #1f77b4\"/>\n     <use xlink:href=\"#m2a96e0e4b7\" x=\"95.344098\" y=\"51.460011\" style=\"fill: #1f77b4; stroke: #1f77b4\"/>\n     <use xlink:href=\"#m2a96e0e4b7\" x=\"148.132293\" y=\"93.430289\" style=\"fill: #1f77b4; stroke: #1f77b4\"/>\n     <use xlink:href=\"#m2a96e0e4b7\" x=\"113.715073\" y=\"60.975595\" style=\"fill: #1f77b4; stroke: #1f77b4\"/>\n     <use xlink:href=\"#m2a96e0e4b7\" x=\"149.103007\" y=\"79.832963\" style=\"fill: #1f77b4; stroke: #1f77b4\"/>\n     <use xlink:href=\"#m2a96e0e4b7\" x=\"140.136143\" y=\"93.558398\" style=\"fill: #1f77b4; stroke: #1f77b4\"/>\n     <use xlink:href=\"#m2a96e0e4b7\" x=\"184.387271\" y=\"109.817818\" style=\"fill: #1f77b4; stroke: #1f77b4\"/>\n     <use xlink:href=\"#m2a96e0e4b7\" x=\"118.673276\" y=\"47.46079\" style=\"fill: #1f77b4; stroke: #1f77b4\"/>\n     <use xlink:href=\"#m2a96e0e4b7\" x=\"108.091129\" y=\"56.101827\" style=\"fill: #1f77b4; stroke: #1f77b4\"/>\n     <use xlink:href=\"#m2a96e0e4b7\" x=\"126.039753\" y=\"79.21971\" style=\"fill: #1f77b4; stroke: #1f77b4\"/>\n     <use xlink:href=\"#m2a96e0e4b7\" x=\"170.571551\" y=\"99.066855\" style=\"fill: #1f77b4; stroke: #1f77b4\"/>\n     <use xlink:href=\"#m2a96e0e4b7\" x=\"193.263399\" y=\"123.292336\" style=\"fill: #1f77b4; stroke: #1f77b4\"/>\n     <use xlink:href=\"#m2a96e0e4b7\" x=\"105.212019\" y=\"58.346208\" style=\"fill: #1f77b4; stroke: #1f77b4\"/>\n     <use xlink:href=\"#m2a96e0e4b7\" x=\"175.678647\" y=\"95.109012\" style=\"fill: #1f77b4; stroke: #1f77b4\"/>\n     <use xlink:href=\"#m2a96e0e4b7\" x=\"156.015542\" y=\"88.668026\" style=\"fill: #1f77b4; stroke: #1f77b4\"/>\n     <use xlink:href=\"#m2a96e0e4b7\" x=\"146.19072\" y=\"73.365147\" style=\"fill: #1f77b4; stroke: #1f77b4\"/>\n     <use xlink:href=\"#m2a96e0e4b7\" x=\"125.17126\" y=\"72.611626\" style=\"fill: #1f77b4; stroke: #1f77b4\"/>\n     <use xlink:href=\"#m2a96e0e4b7\" x=\"144.090701\" y=\"68.381885\" style=\"fill: #1f77b4; stroke: #1f77b4\"/>\n     <use xlink:href=\"#m2a96e0e4b7\" x=\"159.89323\" y=\"101.993929\" style=\"fill: #1f77b4; stroke: #1f77b4\"/>\n     <use xlink:href=\"#m2a96e0e4b7\" x=\"152.653449\" y=\"100.463695\" style=\"fill: #1f77b4; stroke: #1f77b4\"/>\n     <use xlink:href=\"#m2a96e0e4b7\" x=\"126.369553\" y=\"76.097561\" style=\"fill: #1f77b4; stroke: #1f77b4\"/>\n     <use xlink:href=\"#m2a96e0e4b7\" x=\"128.348879\" y=\"58.334315\" style=\"fill: #1f77b4; stroke: #1f77b4\"/>\n     <use xlink:href=\"#m2a96e0e4b7\" x=\"119.106034\" y=\"52.886216\" style=\"fill: #1f77b4; stroke: #1f77b4\"/>\n     <use xlink:href=\"#m2a96e0e4b7\" x=\"125.175929\" y=\"79.748947\" style=\"fill: #1f77b4; stroke: #1f77b4\"/>\n     <use xlink:href=\"#m2a96e0e4b7\" x=\"78.25916\" y=\"15.277671\" style=\"fill: #1f77b4; stroke: #1f77b4\"/>\n     <use xlink:href=\"#m2a96e0e4b7\" x=\"156.764284\" y=\"87.486919\" style=\"fill: #1f77b4; stroke: #1f77b4\"/>\n     <use xlink:href=\"#m2a96e0e4b7\" x=\"183.168329\" y=\"87.887057\" style=\"fill: #1f77b4; stroke: #1f77b4\"/>\n     <use xlink:href=\"#m2a96e0e4b7\" x=\"212.6445\" y=\"113.8015\" style=\"fill: #1f77b4; stroke: #1f77b4\"/>\n     <use xlink:href=\"#m2a96e0e4b7\" x=\"147.478597\" y=\"94.447198\" style=\"fill: #1f77b4; stroke: #1f77b4\"/>\n     <use xlink:href=\"#m2a96e0e4b7\" x=\"164.401897\" y=\"91.014483\" style=\"fill: #1f77b4; stroke: #1f77b4\"/>\n     <use xlink:href=\"#m2a96e0e4b7\" x=\"138.95203\" y=\"72.077167\" style=\"fill: #1f77b4; stroke: #1f77b4\"/>\n     <use xlink:href=\"#m2a96e0e4b7\" x=\"141.800244\" y=\"86.950682\" style=\"fill: #1f77b4; stroke: #1f77b4\"/>\n     <use xlink:href=\"#m2a96e0e4b7\" x=\"162.957404\" y=\"97.909214\" style=\"fill: #1f77b4; stroke: #1f77b4\"/>\n     <use xlink:href=\"#m2a96e0e4b7\" x=\"127.778631\" y=\"98.213211\" style=\"fill: #1f77b4; stroke: #1f77b4\"/>\n     <use xlink:href=\"#m2a96e0e4b7\" x=\"137.866051\" y=\"80.958684\" style=\"fill: #1f77b4; stroke: #1f77b4\"/>\n     <use xlink:href=\"#m2a96e0e4b7\" x=\"62.512424\" y=\"33.983378\" style=\"fill: #1f77b4; stroke: #1f77b4\"/>\n     <use xlink:href=\"#m2a96e0e4b7\" x=\"109.121458\" y=\"66.40689\" style=\"fill: #1f77b4; stroke: #1f77b4\"/>\n     <use xlink:href=\"#m2a96e0e4b7\" x=\"136.944176\" y=\"58.042809\" style=\"fill: #1f77b4; stroke: #1f77b4\"/>\n     <use xlink:href=\"#m2a96e0e4b7\" x=\"165.496259\" y=\"77.291599\" style=\"fill: #1f77b4; stroke: #1f77b4\"/>\n     <use xlink:href=\"#m2a96e0e4b7\" x=\"159.815428\" y=\"98.324126\" style=\"fill: #1f77b4; stroke: #1f77b4\"/>\n     <use xlink:href=\"#m2a96e0e4b7\" x=\"144.787164\" y=\"91.556753\" style=\"fill: #1f77b4; stroke: #1f77b4\"/>\n     <use xlink:href=\"#m2a96e0e4b7\" x=\"162.951509\" y=\"101.848478\" style=\"fill: #1f77b4; stroke: #1f77b4\"/>\n     <use xlink:href=\"#m2a96e0e4b7\" x=\"140.459708\" y=\"78.418202\" style=\"fill: #1f77b4; stroke: #1f77b4\"/>\n     <use xlink:href=\"#m2a96e0e4b7\" x=\"108.879914\" y=\"57.995481\" style=\"fill: #1f77b4; stroke: #1f77b4\"/>\n     <use xlink:href=\"#m2a96e0e4b7\" x=\"125.412349\" y=\"52.449909\" style=\"fill: #1f77b4; stroke: #1f77b4\"/>\n     <use xlink:href=\"#m2a96e0e4b7\" x=\"105.898977\" y=\"70.993496\" style=\"fill: #1f77b4; stroke: #1f77b4\"/>\n     <use xlink:href=\"#m2a96e0e4b7\" x=\"107.817337\" y=\"40.09255\" style=\"fill: #1f77b4; stroke: #1f77b4\"/>\n     <use xlink:href=\"#m2a96e0e4b7\" x=\"82.476705\" y=\"49.328693\" style=\"fill: #1f77b4; stroke: #1f77b4\"/>\n     <use xlink:href=\"#m2a96e0e4b7\" x=\"87.042787\" y=\"48.083229\" style=\"fill: #1f77b4; stroke: #1f77b4\"/>\n     <use xlink:href=\"#m2a96e0e4b7\" x=\"187.4613\" y=\"92.705328\" style=\"fill: #1f77b4; stroke: #1f77b4\"/>\n     <use xlink:href=\"#m2a96e0e4b7\" x=\"158.2351\" y=\"92.200878\" style=\"fill: #1f77b4; stroke: #1f77b4\"/>\n     <use xlink:href=\"#m2a96e0e4b7\" x=\"153.085519\" y=\"84.939104\" style=\"fill: #1f77b4; stroke: #1f77b4\"/>\n     <use xlink:href=\"#m2a96e0e4b7\" x=\"82.858174\" y=\"46.541713\" style=\"fill: #1f77b4; stroke: #1f77b4\"/>\n     <use xlink:href=\"#m2a96e0e4b7\" x=\"141.666738\" y=\"72.20313\" style=\"fill: #1f77b4; stroke: #1f77b4\"/>\n     <use xlink:href=\"#m2a96e0e4b7\" x=\"129.463188\" y=\"68.629413\" style=\"fill: #1f77b4; stroke: #1f77b4\"/>\n     <use xlink:href=\"#m2a96e0e4b7\" x=\"157.947177\" y=\"89.037283\" style=\"fill: #1f77b4; stroke: #1f77b4\"/>\n     <use xlink:href=\"#m2a96e0e4b7\" x=\"142.262042\" y=\"76.809251\" style=\"fill: #1f77b4; stroke: #1f77b4\"/>\n     <use xlink:href=\"#m2a96e0e4b7\" x=\"135.564174\" y=\"81.705972\" style=\"fill: #1f77b4; stroke: #1f77b4\"/>\n     <use xlink:href=\"#m2a96e0e4b7\" x=\"113.098792\" y=\"66.847763\" style=\"fill: #1f77b4; stroke: #1f77b4\"/>\n     <use xlink:href=\"#m2a96e0e4b7\" x=\"136.277833\" y=\"65.482092\" style=\"fill: #1f77b4; stroke: #1f77b4\"/>\n     <use xlink:href=\"#m2a96e0e4b7\" x=\"156.832454\" y=\"97.484502\" style=\"fill: #1f77b4; stroke: #1f77b4\"/>\n     <use xlink:href=\"#m2a96e0e4b7\" x=\"91.597808\" y=\"46.077284\" style=\"fill: #1f77b4; stroke: #1f77b4\"/>\n     <use xlink:href=\"#m2a96e0e4b7\" x=\"99.478414\" y=\"49.24798\" style=\"fill: #1f77b4; stroke: #1f77b4\"/>\n     <use xlink:href=\"#m2a96e0e4b7\" x=\"77.255292\" y=\"21.254986\" style=\"fill: #1f77b4; stroke: #1f77b4\"/>\n     <use xlink:href=\"#m2a96e0e4b7\" x=\"164.455208\" y=\"80.733451\" style=\"fill: #1f77b4; stroke: #1f77b4\"/>\n     <use xlink:href=\"#m2a96e0e4b7\" x=\"105.189319\" y=\"46.058423\" style=\"fill: #1f77b4; stroke: #1f77b4\"/>\n     <use xlink:href=\"#m2a96e0e4b7\" x=\"73.527038\" y=\"48.918114\" style=\"fill: #1f77b4; stroke: #1f77b4\"/>\n     <use xlink:href=\"#m2a96e0e4b7\" x=\"190.92394\" y=\"113.420987\" style=\"fill: #1f77b4; stroke: #1f77b4\"/>\n     <use xlink:href=\"#m2a96e0e4b7\" x=\"135.256276\" y=\"76.256011\" style=\"fill: #1f77b4; stroke: #1f77b4\"/>\n     <use xlink:href=\"#m2a96e0e4b7\" x=\"146.041637\" y=\"74.61083\" style=\"fill: #1f77b4; stroke: #1f77b4\"/>\n     <use xlink:href=\"#m2a96e0e4b7\" x=\"118.958706\" y=\"60.702967\" style=\"fill: #1f77b4; stroke: #1f77b4\"/>\n     <use xlink:href=\"#m2a96e0e4b7\" x=\"112.540626\" y=\"63.001305\" style=\"fill: #1f77b4; stroke: #1f77b4\"/>\n     <use xlink:href=\"#m2a96e0e4b7\" x=\"74.713819\" y=\"36.435286\" style=\"fill: #1f77b4; stroke: #1f77b4\"/>\n     <use xlink:href=\"#m2a96e0e4b7\" x=\"98.279939\" y=\"52.885486\" style=\"fill: #1f77b4; stroke: #1f77b4\"/>\n     <use xlink:href=\"#m2a96e0e4b7\" x=\"124.737507\" y=\"61.97235\" style=\"fill: #1f77b4; stroke: #1f77b4\"/>\n     <use xlink:href=\"#m2a96e0e4b7\" x=\"111.025969\" y=\"54.282094\" style=\"fill: #1f77b4; stroke: #1f77b4\"/>\n     <use xlink:href=\"#m2a96e0e4b7\" x=\"98.19452\" y=\"45.350987\" style=\"fill: #1f77b4; stroke: #1f77b4\"/>\n     <use xlink:href=\"#m2a96e0e4b7\" x=\"119.103324\" y=\"62.202012\" style=\"fill: #1f77b4; stroke: #1f77b4\"/>\n     <use xlink:href=\"#m2a96e0e4b7\" x=\"137.418597\" y=\"85.244764\" style=\"fill: #1f77b4; stroke: #1f77b4\"/>\n     <use xlink:href=\"#m2a96e0e4b7\" x=\"137.701757\" y=\"68.251967\" style=\"fill: #1f77b4; stroke: #1f77b4\"/>\n     <use xlink:href=\"#m2a96e0e4b7\" x=\"134.828966\" y=\"67.123306\" style=\"fill: #1f77b4; stroke: #1f77b4\"/>\n     <use xlink:href=\"#m2a96e0e4b7\" x=\"119.132499\" y=\"60.793903\" style=\"fill: #1f77b4; stroke: #1f77b4\"/>\n     <use xlink:href=\"#m2a96e0e4b7\" x=\"144.989892\" y=\"71.181752\" style=\"fill: #1f77b4; stroke: #1f77b4\"/>\n     <use xlink:href=\"#m2a96e0e4b7\" x=\"74.105446\" y=\"34.615293\" style=\"fill: #1f77b4; stroke: #1f77b4\"/>\n     <use xlink:href=\"#m2a96e0e4b7\" x=\"163.691901\" y=\"102.812028\" style=\"fill: #1f77b4; stroke: #1f77b4\"/>\n     <use xlink:href=\"#m2a96e0e4b7\" x=\"183.145698\" y=\"100.79882\" style=\"fill: #1f77b4; stroke: #1f77b4\"/>\n     <use xlink:href=\"#m2a96e0e4b7\" x=\"112.672553\" y=\"42.49225\" style=\"fill: #1f77b4; stroke: #1f77b4\"/>\n     <use xlink:href=\"#m2a96e0e4b7\" x=\"118.240043\" y=\"44.258703\" style=\"fill: #1f77b4; stroke: #1f77b4\"/>\n     <use xlink:href=\"#m2a96e0e4b7\" x=\"72.181058\" y=\"52.795726\" style=\"fill: #1f77b4; stroke: #1f77b4\"/>\n     <use xlink:href=\"#m2a96e0e4b7\" x=\"134.488759\" y=\"78.01796\" style=\"fill: #1f77b4; stroke: #1f77b4\"/>\n     <use xlink:href=\"#m2a96e0e4b7\" x=\"100.760057\" y=\"61.223276\" style=\"fill: #1f77b4; stroke: #1f77b4\"/>\n     <use xlink:href=\"#m2a96e0e4b7\" x=\"128.112353\" y=\"81.353171\" style=\"fill: #1f77b4; stroke: #1f77b4\"/>\n     <use xlink:href=\"#m2a96e0e4b7\" x=\"145.222593\" y=\"88.172855\" style=\"fill: #1f77b4; stroke: #1f77b4\"/>\n     <use xlink:href=\"#m2a96e0e4b7\" x=\"76.249583\" y=\"31.623081\" style=\"fill: #1f77b4; stroke: #1f77b4\"/>\n     <use xlink:href=\"#m2a96e0e4b7\" x=\"119.347121\" y=\"70.278888\" style=\"fill: #1f77b4; stroke: #1f77b4\"/>\n     <use xlink:href=\"#m2a96e0e4b7\" x=\"102.032668\" y=\"63.894814\" style=\"fill: #1f77b4; stroke: #1f77b4\"/>\n     <use xlink:href=\"#m2a96e0e4b7\" x=\"105.097451\" y=\"54.203304\" style=\"fill: #1f77b4; stroke: #1f77b4\"/>\n     <use xlink:href=\"#m2a96e0e4b7\" x=\"126.874739\" y=\"58.669069\" style=\"fill: #1f77b4; stroke: #1f77b4\"/>\n     <use xlink:href=\"#m2a96e0e4b7\" x=\"126.911769\" y=\"85.542667\" style=\"fill: #1f77b4; stroke: #1f77b4\"/>\n     <use xlink:href=\"#m2a96e0e4b7\" x=\"111.729321\" y=\"66.025526\" style=\"fill: #1f77b4; stroke: #1f77b4\"/>\n     <use xlink:href=\"#m2a96e0e4b7\" x=\"135.911922\" y=\"105.136098\" style=\"fill: #1f77b4; stroke: #1f77b4\"/>\n     <use xlink:href=\"#m2a96e0e4b7\" x=\"148.384136\" y=\"72.974811\" style=\"fill: #1f77b4; stroke: #1f77b4\"/>\n     <use xlink:href=\"#m2a96e0e4b7\" x=\"120.831724\" y=\"66.498658\" style=\"fill: #1f77b4; stroke: #1f77b4\"/>\n     <use xlink:href=\"#m2a96e0e4b7\" x=\"85.58704\" y=\"51.98861\" style=\"fill: #1f77b4; stroke: #1f77b4\"/>\n     <use xlink:href=\"#m2a96e0e4b7\" x=\"57.379471\" y=\"13.5\" style=\"fill: #1f77b4; stroke: #1f77b4\"/>\n     <use xlink:href=\"#m2a96e0e4b7\" x=\"120.039275\" y=\"71.077955\" style=\"fill: #1f77b4; stroke: #1f77b4\"/>\n     <use xlink:href=\"#m2a96e0e4b7\" x=\"159.650589\" y=\"98.13648\" style=\"fill: #1f77b4; stroke: #1f77b4\"/>\n     <use xlink:href=\"#m2a96e0e4b7\" x=\"119.335024\" y=\"53.882694\" style=\"fill: #1f77b4; stroke: #1f77b4\"/>\n     <use xlink:href=\"#m2a96e0e4b7\" x=\"164.041085\" y=\"99.483293\" style=\"fill: #1f77b4; stroke: #1f77b4\"/>\n     <use xlink:href=\"#m2a96e0e4b7\" x=\"127.69717\" y=\"69.552813\" style=\"fill: #1f77b4; stroke: #1f77b4\"/>\n     <use xlink:href=\"#m2a96e0e4b7\" x=\"174.565474\" y=\"96.569958\" style=\"fill: #1f77b4; stroke: #1f77b4\"/>\n     <use xlink:href=\"#m2a96e0e4b7\" x=\"135.472349\" y=\"77.373064\" style=\"fill: #1f77b4; stroke: #1f77b4\"/>\n     <use xlink:href=\"#m2a96e0e4b7\" x=\"157.406338\" y=\"85.396615\" style=\"fill: #1f77b4; stroke: #1f77b4\"/>\n     <use xlink:href=\"#m2a96e0e4b7\" x=\"47.442647\" y=\"28.79136\" style=\"fill: #1f77b4; stroke: #1f77b4\"/>\n     <use xlink:href=\"#m2a96e0e4b7\" x=\"113.561775\" y=\"57.109556\" style=\"fill: #1f77b4; stroke: #1f77b4\"/>\n     <use xlink:href=\"#m2a96e0e4b7\" x=\"152.085316\" y=\"93.967625\" style=\"fill: #1f77b4; stroke: #1f77b4\"/>\n     <use xlink:href=\"#m2a96e0e4b7\" x=\"157.300222\" y=\"82.610445\" style=\"fill: #1f77b4; stroke: #1f77b4\"/>\n     <use xlink:href=\"#m2a96e0e4b7\" x=\"121.548\" y=\"56.617575\" style=\"fill: #1f77b4; stroke: #1f77b4\"/>\n     <use xlink:href=\"#m2a96e0e4b7\" x=\"204.044502\" y=\"98.398722\" style=\"fill: #1f77b4; stroke: #1f77b4\"/>\n     <use xlink:href=\"#m2a96e0e4b7\" x=\"111.379377\" y=\"47.784029\" style=\"fill: #1f77b4; stroke: #1f77b4\"/>\n     <use xlink:href=\"#m2a96e0e4b7\" x=\"140.664474\" y=\"63.140478\" style=\"fill: #1f77b4; stroke: #1f77b4\"/>\n     <use xlink:href=\"#m2a96e0e4b7\" x=\"190.936853\" y=\"95.650372\" style=\"fill: #1f77b4; stroke: #1f77b4\"/>\n     <use xlink:href=\"#m2a96e0e4b7\" x=\"100.123415\" y=\"37.688294\" style=\"fill: #1f77b4; stroke: #1f77b4\"/>\n     <use xlink:href=\"#m2a96e0e4b7\" x=\"195.821771\" y=\"109.559199\" style=\"fill: #1f77b4; stroke: #1f77b4\"/>\n     <use xlink:href=\"#m2a96e0e4b7\" x=\"119.721133\" y=\"66.932254\" style=\"fill: #1f77b4; stroke: #1f77b4\"/>\n     <use xlink:href=\"#m2a96e0e4b7\" x=\"93.922497\" y=\"40.099889\" style=\"fill: #1f77b4; stroke: #1f77b4\"/>\n     <use xlink:href=\"#m2a96e0e4b7\" x=\"138.722826\" y=\"70.478655\" style=\"fill: #1f77b4; stroke: #1f77b4\"/>\n     <use xlink:href=\"#m2a96e0e4b7\" x=\"108.396006\" y=\"56.664769\" style=\"fill: #1f77b4; stroke: #1f77b4\"/>\n     <use xlink:href=\"#m2a96e0e4b7\" x=\"92.274809\" y=\"59.755925\" style=\"fill: #1f77b4; stroke: #1f77b4\"/>\n     <use xlink:href=\"#m2a96e0e4b7\" x=\"109.918702\" y=\"49.682278\" style=\"fill: #1f77b4; stroke: #1f77b4\"/>\n     <use xlink:href=\"#m2a96e0e4b7\" x=\"84.540678\" y=\"51.776775\" style=\"fill: #1f77b4; stroke: #1f77b4\"/>\n     <use xlink:href=\"#m2a96e0e4b7\" x=\"196.740738\" y=\"118.555795\" style=\"fill: #1f77b4; stroke: #1f77b4\"/>\n     <use xlink:href=\"#m2a96e0e4b7\" x=\"161.897499\" y=\"94.857941\" style=\"fill: #1f77b4; stroke: #1f77b4\"/>\n     <use xlink:href=\"#m2a96e0e4b7\" x=\"157.92601\" y=\"91.481172\" style=\"fill: #1f77b4; stroke: #1f77b4\"/>\n     <use xlink:href=\"#m2a96e0e4b7\" x=\"145.445623\" y=\"69.004641\" style=\"fill: #1f77b4; stroke: #1f77b4\"/>\n     <use xlink:href=\"#m2a96e0e4b7\" x=\"181.344649\" y=\"121.206809\" style=\"fill: #1f77b4; stroke: #1f77b4\"/>\n     <use xlink:href=\"#m2a96e0e4b7\" x=\"129.948867\" y=\"80.7125\" style=\"fill: #1f77b4; stroke: #1f77b4\"/>\n     <use xlink:href=\"#m2a96e0e4b7\" x=\"167.671795\" y=\"97.479981\" style=\"fill: #1f77b4; stroke: #1f77b4\"/>\n     <use xlink:href=\"#m2a96e0e4b7\" x=\"154.387844\" y=\"68.5083\" style=\"fill: #1f77b4; stroke: #1f77b4\"/>\n     <use xlink:href=\"#m2a96e0e4b7\" x=\"192.246404\" y=\"103.879885\" style=\"fill: #1f77b4; stroke: #1f77b4\"/>\n     <use xlink:href=\"#m2a96e0e4b7\" x=\"82.183606\" y=\"45.607244\" style=\"fill: #1f77b4; stroke: #1f77b4\"/>\n     <use xlink:href=\"#m2a96e0e4b7\" x=\"107.335688\" y=\"65.5075\" style=\"fill: #1f77b4; stroke: #1f77b4\"/>\n     <use xlink:href=\"#m2a96e0e4b7\" x=\"88.907348\" y=\"64.144595\" style=\"fill: #1f77b4; stroke: #1f77b4\"/>\n     <use xlink:href=\"#m2a96e0e4b7\" x=\"150.102933\" y=\"83.934922\" style=\"fill: #1f77b4; stroke: #1f77b4\"/>\n     <use xlink:href=\"#m2a96e0e4b7\" x=\"168.419205\" y=\"70.500477\" style=\"fill: #1f77b4; stroke: #1f77b4\"/>\n     <use xlink:href=\"#m2a96e0e4b7\" x=\"110.910651\" y=\"56.478011\" style=\"fill: #1f77b4; stroke: #1f77b4\"/>\n     <use xlink:href=\"#m2a96e0e4b7\" x=\"125.299528\" y=\"70.686194\" style=\"fill: #1f77b4; stroke: #1f77b4\"/>\n     <use xlink:href=\"#m2a96e0e4b7\" x=\"130.604752\" y=\"84.218605\" style=\"fill: #1f77b4; stroke: #1f77b4\"/>\n     <use xlink:href=\"#m2a96e0e4b7\" x=\"160.775714\" y=\"94.612556\" style=\"fill: #1f77b4; stroke: #1f77b4\"/>\n     <use xlink:href=\"#m2a96e0e4b7\" x=\"166.608459\" y=\"89.933251\" style=\"fill: #1f77b4; stroke: #1f77b4\"/>\n     <use xlink:href=\"#m2a96e0e4b7\" x=\"89.052503\" y=\"59.00125\" style=\"fill: #1f77b4; stroke: #1f77b4\"/>\n     <use xlink:href=\"#m2a96e0e4b7\" x=\"140.800813\" y=\"78.777671\" style=\"fill: #1f77b4; stroke: #1f77b4\"/>\n     <use xlink:href=\"#m2a96e0e4b7\" x=\"108.574495\" y=\"69.733606\" style=\"fill: #1f77b4; stroke: #1f77b4\"/>\n     <use xlink:href=\"#m2a96e0e4b7\" x=\"120.900173\" y=\"76.377578\" style=\"fill: #1f77b4; stroke: #1f77b4\"/>\n     <use xlink:href=\"#m2a96e0e4b7\" x=\"191.736045\" y=\"112.839062\" style=\"fill: #1f77b4; stroke: #1f77b4\"/>\n     <use xlink:href=\"#m2a96e0e4b7\" x=\"187.157351\" y=\"108.653586\" style=\"fill: #1f77b4; stroke: #1f77b4\"/>\n     <use xlink:href=\"#m2a96e0e4b7\" x=\"126.204146\" y=\"74.208016\" style=\"fill: #1f77b4; stroke: #1f77b4\"/>\n     <use xlink:href=\"#m2a96e0e4b7\" x=\"108.3658\" y=\"52.065859\" style=\"fill: #1f77b4; stroke: #1f77b4\"/>\n     <use xlink:href=\"#m2a96e0e4b7\" x=\"99.919858\" y=\"52.823033\" style=\"fill: #1f77b4; stroke: #1f77b4\"/>\n     <use xlink:href=\"#m2a96e0e4b7\" x=\"101.373212\" y=\"23.590242\" style=\"fill: #1f77b4; stroke: #1f77b4\"/>\n     <use xlink:href=\"#m2a96e0e4b7\" x=\"142.261836\" y=\"84.422192\" style=\"fill: #1f77b4; stroke: #1f77b4\"/>\n     <use xlink:href=\"#m2a96e0e4b7\" x=\"153.566212\" y=\"76.153402\" style=\"fill: #1f77b4; stroke: #1f77b4\"/>\n     <use xlink:href=\"#m2a96e0e4b7\" x=\"179.592305\" y=\"106.695691\" style=\"fill: #1f77b4; stroke: #1f77b4\"/>\n     <use xlink:href=\"#m2a96e0e4b7\" x=\"156.513513\" y=\"89.444102\" style=\"fill: #1f77b4; stroke: #1f77b4\"/>\n     <use xlink:href=\"#m2a96e0e4b7\" x=\"147.601093\" y=\"99.472172\" style=\"fill: #1f77b4; stroke: #1f77b4\"/>\n     <use xlink:href=\"#m2a96e0e4b7\" x=\"170.339755\" y=\"92.319409\" style=\"fill: #1f77b4; stroke: #1f77b4\"/>\n     <use xlink:href=\"#m2a96e0e4b7\" x=\"88.360725\" y=\"59.728611\" style=\"fill: #1f77b4; stroke: #1f77b4\"/>\n     <use xlink:href=\"#m2a96e0e4b7\" x=\"149.7162\" y=\"92.156883\" style=\"fill: #1f77b4; stroke: #1f77b4\"/>\n     <use xlink:href=\"#m2a96e0e4b7\" x=\"126.183303\" y=\"57.855763\" style=\"fill: #1f77b4; stroke: #1f77b4\"/>\n     <use xlink:href=\"#m2a96e0e4b7\" x=\"97.280675\" y=\"52.328997\" style=\"fill: #1f77b4; stroke: #1f77b4\"/>\n     <use xlink:href=\"#m2a96e0e4b7\" x=\"154.958805\" y=\"87.998804\" style=\"fill: #1f77b4; stroke: #1f77b4\"/>\n     <use xlink:href=\"#m2a96e0e4b7\" x=\"108.711618\" y=\"62.118859\" style=\"fill: #1f77b4; stroke: #1f77b4\"/>\n     <use xlink:href=\"#m2a96e0e4b7\" x=\"131.954422\" y=\"64.108576\" style=\"fill: #1f77b4; stroke: #1f77b4\"/>\n     <use xlink:href=\"#m2a96e0e4b7\" x=\"127.139814\" y=\"64.318458\" style=\"fill: #1f77b4; stroke: #1f77b4\"/>\n     <use xlink:href=\"#m2a96e0e4b7\" x=\"117.773828\" y=\"50.117639\" style=\"fill: #1f77b4; stroke: #1f77b4\"/>\n     <use xlink:href=\"#m2a96e0e4b7\" x=\"48.819621\" y=\"16.103567\" style=\"fill: #1f77b4; stroke: #1f77b4\"/>\n     <use xlink:href=\"#m2a96e0e4b7\" x=\"128.185428\" y=\"84.983592\" style=\"fill: #1f77b4; stroke: #1f77b4\"/>\n    </g>\n   </g>\n   <g id=\"matplotlib.axis_1\">\n    <g id=\"xtick_1\">\n     <g id=\"line2d_1\">\n      <defs>\n       <path id=\"mcdada0be26\" d=\"M 0 0 \nL 0 3.5 \n\" style=\"stroke: #000000; stroke-width: 0.8\"/>\n      </defs>\n      <g>\n       <use xlink:href=\"#mcdada0be26\" x=\"73.057145\" y=\"145.8\" style=\"stroke: #000000; stroke-width: 0.8\"/>\n      </g>\n     </g>\n     <g id=\"text_1\">\n      <!-- −2 -->\n      <g transform=\"translate(65.686051 160.398438) scale(0.1 -0.1)\">\n       <defs>\n        <path id=\"DejaVuSans-2212\" d=\"M 678 2272 \nL 4684 2272 \nL 4684 1741 \nL 678 1741 \nL 678 2272 \nz\n\" transform=\"scale(0.015625)\"/>\n        <path id=\"DejaVuSans-32\" d=\"M 1228 531 \nL 3431 531 \nL 3431 0 \nL 469 0 \nL 469 531 \nQ 828 903 1448 1529 \nQ 2069 2156 2228 2338 \nQ 2531 2678 2651 2914 \nQ 2772 3150 2772 3378 \nQ 2772 3750 2511 3984 \nQ 2250 4219 1831 4219 \nQ 1534 4219 1204 4116 \nQ 875 4013 500 3803 \nL 500 4441 \nQ 881 4594 1212 4672 \nQ 1544 4750 1819 4750 \nQ 2544 4750 2975 4387 \nQ 3406 4025 3406 3419 \nQ 3406 3131 3298 2873 \nQ 3191 2616 2906 2266 \nQ 2828 2175 2409 1742 \nQ 1991 1309 1228 531 \nz\n\" transform=\"scale(0.015625)\"/>\n       </defs>\n       <use xlink:href=\"#DejaVuSans-2212\"/>\n       <use xlink:href=\"#DejaVuSans-32\" x=\"83.789062\"/>\n      </g>\n     </g>\n    </g>\n    <g id=\"xtick_2\">\n     <g id=\"line2d_2\">\n      <g>\n       <use xlink:href=\"#mcdada0be26\" x=\"133.069266\" y=\"145.8\" style=\"stroke: #000000; stroke-width: 0.8\"/>\n      </g>\n     </g>\n     <g id=\"text_2\">\n      <!-- 0 -->\n      <g transform=\"translate(129.888016 160.398438) scale(0.1 -0.1)\">\n       <defs>\n        <path id=\"DejaVuSans-30\" d=\"M 2034 4250 \nQ 1547 4250 1301 3770 \nQ 1056 3291 1056 2328 \nQ 1056 1369 1301 889 \nQ 1547 409 2034 409 \nQ 2525 409 2770 889 \nQ 3016 1369 3016 2328 \nQ 3016 3291 2770 3770 \nQ 2525 4250 2034 4250 \nz\nM 2034 4750 \nQ 2819 4750 3233 4129 \nQ 3647 3509 3647 2328 \nQ 3647 1150 3233 529 \nQ 2819 -91 2034 -91 \nQ 1250 -91 836 529 \nQ 422 1150 422 2328 \nQ 422 3509 836 4129 \nQ 1250 4750 2034 4750 \nz\n\" transform=\"scale(0.015625)\"/>\n       </defs>\n       <use xlink:href=\"#DejaVuSans-30\"/>\n      </g>\n     </g>\n    </g>\n    <g id=\"xtick_3\">\n     <g id=\"line2d_3\">\n      <g>\n       <use xlink:href=\"#mcdada0be26\" x=\"193.081387\" y=\"145.8\" style=\"stroke: #000000; stroke-width: 0.8\"/>\n      </g>\n     </g>\n     <g id=\"text_3\">\n      <!-- 2 -->\n      <g transform=\"translate(189.900137 160.398438) scale(0.1 -0.1)\">\n       <use xlink:href=\"#DejaVuSans-32\"/>\n      </g>\n     </g>\n    </g>\n   </g>\n   <g id=\"matplotlib.axis_2\">\n    <g id=\"ytick_1\">\n     <g id=\"line2d_4\">\n      <defs>\n       <path id=\"mc14d5d0f5b\" d=\"M 0 0 \nL -3.5 0 \n\" style=\"stroke: #000000; stroke-width: 0.8\"/>\n      </defs>\n      <g>\n       <use xlink:href=\"#mc14d5d0f5b\" x=\"35.304688\" y=\"143.76317\" style=\"stroke: #000000; stroke-width: 0.8\"/>\n      </g>\n     </g>\n     <g id=\"text_4\">\n      <!-- −10 -->\n      <g transform=\"translate(7.2 147.562389) scale(0.1 -0.1)\">\n       <defs>\n        <path id=\"DejaVuSans-31\" d=\"M 794 531 \nL 1825 531 \nL 1825 4091 \nL 703 3866 \nL 703 4441 \nL 1819 4666 \nL 2450 4666 \nL 2450 531 \nL 3481 531 \nL 3481 0 \nL 794 0 \nL 794 531 \nz\n\" transform=\"scale(0.015625)\"/>\n       </defs>\n       <use xlink:href=\"#DejaVuSans-2212\"/>\n       <use xlink:href=\"#DejaVuSans-31\" x=\"83.789062\"/>\n       <use xlink:href=\"#DejaVuSans-30\" x=\"147.412109\"/>\n      </g>\n     </g>\n    </g>\n    <g id=\"ytick_2\">\n     <g id=\"line2d_5\">\n      <g>\n       <use xlink:href=\"#mc14d5d0f5b\" x=\"35.304688\" y=\"118.747291\" style=\"stroke: #000000; stroke-width: 0.8\"/>\n      </g>\n     </g>\n     <g id=\"text_5\">\n      <!-- −5 -->\n      <g transform=\"translate(13.5625 122.546509) scale(0.1 -0.1)\">\n       <defs>\n        <path id=\"DejaVuSans-35\" d=\"M 691 4666 \nL 3169 4666 \nL 3169 4134 \nL 1269 4134 \nL 1269 2991 \nQ 1406 3038 1543 3061 \nQ 1681 3084 1819 3084 \nQ 2600 3084 3056 2656 \nQ 3513 2228 3513 1497 \nQ 3513 744 3044 326 \nQ 2575 -91 1722 -91 \nQ 1428 -91 1123 -41 \nQ 819 9 494 109 \nL 494 744 \nQ 775 591 1075 516 \nQ 1375 441 1709 441 \nQ 2250 441 2565 725 \nQ 2881 1009 2881 1497 \nQ 2881 1984 2565 2268 \nQ 2250 2553 1709 2553 \nQ 1456 2553 1204 2497 \nQ 953 2441 691 2322 \nL 691 4666 \nz\n\" transform=\"scale(0.015625)\"/>\n       </defs>\n       <use xlink:href=\"#DejaVuSans-2212\"/>\n       <use xlink:href=\"#DejaVuSans-35\" x=\"83.789062\"/>\n      </g>\n     </g>\n    </g>\n    <g id=\"ytick_3\">\n     <g id=\"line2d_6\">\n      <g>\n       <use xlink:href=\"#mc14d5d0f5b\" x=\"35.304688\" y=\"93.731411\" style=\"stroke: #000000; stroke-width: 0.8\"/>\n      </g>\n     </g>\n     <g id=\"text_6\">\n      <!-- 0 -->\n      <g transform=\"translate(21.942187 97.53063) scale(0.1 -0.1)\">\n       <use xlink:href=\"#DejaVuSans-30\"/>\n      </g>\n     </g>\n    </g>\n    <g id=\"ytick_4\">\n     <g id=\"line2d_7\">\n      <g>\n       <use xlink:href=\"#mc14d5d0f5b\" x=\"35.304688\" y=\"68.715532\" style=\"stroke: #000000; stroke-width: 0.8\"/>\n      </g>\n     </g>\n     <g id=\"text_7\">\n      <!-- 5 -->\n      <g transform=\"translate(21.942187 72.514751) scale(0.1 -0.1)\">\n       <use xlink:href=\"#DejaVuSans-35\"/>\n      </g>\n     </g>\n    </g>\n    <g id=\"ytick_5\">\n     <g id=\"line2d_8\">\n      <g>\n       <use xlink:href=\"#mc14d5d0f5b\" x=\"35.304688\" y=\"43.699653\" style=\"stroke: #000000; stroke-width: 0.8\"/>\n      </g>\n     </g>\n     <g id=\"text_8\">\n      <!-- 10 -->\n      <g transform=\"translate(15.579687 47.498871) scale(0.1 -0.1)\">\n       <use xlink:href=\"#DejaVuSans-31\"/>\n       <use xlink:href=\"#DejaVuSans-30\" x=\"63.623047\"/>\n      </g>\n     </g>\n    </g>\n    <g id=\"ytick_6\">\n     <g id=\"line2d_9\">\n      <g>\n       <use xlink:href=\"#mc14d5d0f5b\" x=\"35.304688\" y=\"18.683773\" style=\"stroke: #000000; stroke-width: 0.8\"/>\n      </g>\n     </g>\n     <g id=\"text_9\">\n      <!-- 15 -->\n      <g transform=\"translate(15.579687 22.482992) scale(0.1 -0.1)\">\n       <use xlink:href=\"#DejaVuSans-31\"/>\n       <use xlink:href=\"#DejaVuSans-35\" x=\"63.623047\"/>\n      </g>\n     </g>\n    </g>\n   </g>\n   <g id=\"patch_3\">\n    <path d=\"M 35.304688 145.8 \nL 35.304688 7.2 \n\" style=\"fill: none; stroke: #000000; stroke-width: 0.8; stroke-linejoin: miter; stroke-linecap: square\"/>\n   </g>\n   <g id=\"patch_4\">\n    <path d=\"M 230.604688 145.8 \nL 230.604688 7.2 \n\" style=\"fill: none; stroke: #000000; stroke-width: 0.8; stroke-linejoin: miter; stroke-linecap: square\"/>\n   </g>\n   <g id=\"patch_5\">\n    <path d=\"M 35.304688 145.8 \nL 230.604688 145.8 \n\" style=\"fill: none; stroke: #000000; stroke-width: 0.8; stroke-linejoin: miter; stroke-linecap: square\"/>\n   </g>\n   <g id=\"patch_6\">\n    <path d=\"M 35.304688 7.2 \nL 230.604688 7.2 \n\" style=\"fill: none; stroke: #000000; stroke-width: 0.8; stroke-linejoin: miter; stroke-linecap: square\"/>\n   </g>\n  </g>\n </g>\n <defs>\n  <clipPath id=\"p1babd0e0cc\">\n   <rect x=\"35.304688\" y=\"7.2\" width=\"195.3\" height=\"138.6\"/>\n  </clipPath>\n </defs>\n</svg>\n"
     },
     "metadata": {},
     "output_type": "display_data"
    }
   ],
   "source": [
    "d2l.set_figsize()\n",
    "d2l.plt.scatter(features[:, 1].detach().numpy(), labels.detach().numpy(), 1);"
   ]
  },
  {
   "cell_type": "markdown",
   "id": "d28e67d3",
   "metadata": {
    "origin_pos": 13
   },
   "source": [
    "## 读取数据集\n",
    "\n",
    "回想一下，训练模型时要对数据集进行遍历，每次抽取一小批量样本，并使用它们来更新我们的模型。\n",
    "由于这个过程是训练机器学习算法的基础，所以有必要定义一个函数，\n",
    "该函数能打乱数据集中的样本并以小批量方式获取数据。\n",
    "\n",
    "在下面的代码中，我们[**定义一个`data_iter`函数，\n",
    "该函数接收批量大小、特征矩阵和标签向量作为输入，生成大小为`batch_size`的小批量**]。\n",
    "每个小批量包含一组特征和标签。\n"
   ]
  },
  {
   "cell_type": "code",
   "execution_count": 6,
   "id": "9505ff1c",
   "metadata": {
    "execution": {
     "iopub.execute_input": "2022-12-07T16:43:06.555825Z",
     "iopub.status.busy": "2022-12-07T16:43:06.555541Z",
     "iopub.status.idle": "2022-12-07T16:43:06.561066Z",
     "shell.execute_reply": "2022-12-07T16:43:06.560334Z"
    },
    "origin_pos": 14,
    "tab": [
     "pytorch"
    ],
    "ExecuteTime": {
     "end_time": "2023-09-01T07:15:01.992587Z",
     "start_time": "2023-09-01T07:15:01.990968Z"
    }
   },
   "outputs": [],
   "source": [
    "def data_iter(batch_size, features, labels):\n",
    "    num_examples = len(features)\n",
    "    indices = list(range(num_examples))\n",
    "    # 这些样本是随机读取的，没有特定的顺序\n",
    "    random.shuffle(indices)\n",
    "    for i in range(0, num_examples, batch_size):\n",
    "        batch_indices = torch.tensor(\n",
    "            indices[i: min(i + batch_size, num_examples)])\n",
    "        yield features[batch_indices], labels[batch_indices]"
   ]
  },
  {
   "cell_type": "markdown",
   "id": "edc07979",
   "metadata": {
    "origin_pos": 16
   },
   "source": [
    "通常，我们利用GPU并行运算的优势，处理合理大小的“小批量”。\n",
    "每个样本都可以并行地进行模型计算，且每个样本损失函数的梯度也可以被并行计算。\n",
    "GPU可以在处理几百个样本时，所花费的时间不比处理一个样本时多太多。\n",
    "\n",
    "我们直观感受一下小批量运算：读取第一个小批量数据样本并打印。\n",
    "每个批量的特征维度显示批量大小和输入特征数。\n",
    "同样的，批量的标签形状与`batch_size`相等。\n"
   ]
  },
  {
   "cell_type": "code",
   "execution_count": 7,
   "id": "3934d3c4",
   "metadata": {
    "execution": {
     "iopub.execute_input": "2022-12-07T16:43:06.565191Z",
     "iopub.status.busy": "2022-12-07T16:43:06.564923Z",
     "iopub.status.idle": "2022-12-07T16:43:06.571970Z",
     "shell.execute_reply": "2022-12-07T16:43:06.571038Z"
    },
    "origin_pos": 17,
    "tab": [
     "pytorch"
    ],
    "ExecuteTime": {
     "end_time": "2023-09-01T07:15:01.995101Z",
     "start_time": "2023-09-01T07:15:01.992379Z"
    }
   },
   "outputs": [
    {
     "name": "stdout",
     "output_type": "stream",
     "text": [
      "tensor([[ 0.8763, -2.8078],\n",
      "        [-1.8343, -2.0074],\n",
      "        [-1.1083,  0.2317],\n",
      "        [ 1.4699,  0.4311],\n",
      "        [-1.3463,  0.3034],\n",
      "        [-0.6204,  0.0790],\n",
      "        [ 0.0851, -1.0802],\n",
      "        [-0.5265, -0.1684],\n",
      "        [-0.9887,  0.9638],\n",
      "        [ 0.7061,  0.1544]]) \n",
      " tensor([[15.5157],\n",
      "        [ 7.3643],\n",
      "        [ 1.2121],\n",
      "        [ 5.6709],\n",
      "        [ 0.4733],\n",
      "        [ 2.6853],\n",
      "        [ 8.0333],\n",
      "        [ 3.7191],\n",
      "        [-1.0559],\n",
      "        [ 5.0927]])\n"
     ]
    }
   ],
   "source": [
    "batch_size = 10\n",
    "\n",
    "for X, y in data_iter(batch_size, features, labels):\n",
    "    print(X, '\\n', y)\n",
    "    break"
   ]
  },
  {
   "cell_type": "markdown",
   "id": "f959e76b",
   "metadata": {
    "origin_pos": 18
   },
   "source": [
    "当我们运行迭代时，我们会连续地获得不同的小批量，直至遍历完整个数据集。\n",
    "上面实现的迭代对教学来说很好，但它的执行效率很低，可能会在实际问题上陷入麻烦。\n",
    "例如，它要求我们将所有数据加载到内存中，并执行大量的随机内存访问。\n",
    "在深度学习框架中实现的内置迭代器效率要高得多，\n",
    "它可以处理存储在文件中的数据和数据流提供的数据。\n",
    "\n",
    "## 初始化模型参数\n",
    "\n",
    "[**在我们开始用小批量随机梯度下降优化我们的模型参数之前**]，\n",
    "(**我们需要先有一些参数**)。\n",
    "在下面的代码中，我们通过从均值为0、标准差为0.01的正态分布中采样随机数来初始化权重，\n",
    "并将偏置初始化为0。\n"
   ]
  },
  {
   "cell_type": "code",
   "execution_count": 8,
   "id": "23a1437e",
   "metadata": {
    "execution": {
     "iopub.execute_input": "2022-12-07T16:43:06.575915Z",
     "iopub.status.busy": "2022-12-07T16:43:06.575647Z",
     "iopub.status.idle": "2022-12-07T16:43:06.580295Z",
     "shell.execute_reply": "2022-12-07T16:43:06.579544Z"
    },
    "origin_pos": 20,
    "tab": [
     "pytorch"
    ],
    "ExecuteTime": {
     "end_time": "2023-09-01T07:15:02.000639Z",
     "start_time": "2023-09-01T07:15:01.996034Z"
    }
   },
   "outputs": [],
   "source": [
    "w = torch.normal(0, 0.01, size=(2,1), requires_grad=True)\n",
    "b = torch.zeros(1, requires_grad=True)"
   ]
  },
  {
   "cell_type": "markdown",
   "id": "f6ad34a9",
   "metadata": {
    "origin_pos": 23
   },
   "source": [
    "在初始化参数之后，我们的任务是更新这些参数，直到这些参数足够拟合我们的数据。\n",
    "每次更新都需要计算损失函数关于模型参数的梯度。\n",
    "有了这个梯度，我们就可以向减小损失的方向更新每个参数。\n",
    "因为手动计算梯度很枯燥而且容易出错，所以没有人会手动计算梯度。\n",
    "我们使用 :numref:`sec_autograd`中引入的自动微分来计算梯度。\n",
    "\n",
    "## 定义模型\n",
    "\n",
    "接下来，我们必须[**定义模型，将模型的输入和参数同模型的输出关联起来。**]\n",
    "回想一下，要计算线性模型的输出，\n",
    "我们只需计算输入特征$\\mathbf{X}$和模型权重$\\mathbf{w}$的矩阵-向量乘法后加上偏置$b$。\n",
    "注意，上面的$\\mathbf{Xw}$是一个向量，而$b$是一个标量。\n",
    "回想一下 :numref:`subsec_broadcasting`中描述的广播机制：\n",
    "当我们用一个向量加一个标量时，标量会被加到向量的每个分量上。\n"
   ]
  },
  {
   "cell_type": "code",
   "execution_count": 9,
   "id": "67386d14",
   "metadata": {
    "execution": {
     "iopub.execute_input": "2022-12-07T16:43:06.583374Z",
     "iopub.status.busy": "2022-12-07T16:43:06.583103Z",
     "iopub.status.idle": "2022-12-07T16:43:06.587197Z",
     "shell.execute_reply": "2022-12-07T16:43:06.586376Z"
    },
    "origin_pos": 24,
    "tab": [
     "pytorch"
    ],
    "ExecuteTime": {
     "end_time": "2023-09-01T07:15:02.000824Z",
     "start_time": "2023-09-01T07:15:01.998351Z"
    }
   },
   "outputs": [],
   "source": [
    "def linreg(X, w, b):  #@save\n",
    "    \"\"\"线性回归模型\"\"\"\n",
    "    return torch.matmul(X, w) + b"
   ]
  },
  {
   "cell_type": "markdown",
   "id": "7a087a5b",
   "metadata": {
    "origin_pos": 25
   },
   "source": [
    "## [**定义损失函数**]\n",
    "\n",
    "因为需要计算损失函数的梯度，所以我们应该先定义损失函数。\n",
    "这里我们使用 :numref:`sec_linear_regression`中描述的平方损失函数。\n",
    "在实现中，我们需要将真实值`y`的形状转换为和预测值`y_hat`的形状相同。\n"
   ]
  },
  {
   "cell_type": "code",
   "execution_count": 10,
   "id": "b95eb605",
   "metadata": {
    "execution": {
     "iopub.execute_input": "2022-12-07T16:43:06.590200Z",
     "iopub.status.busy": "2022-12-07T16:43:06.589934Z",
     "iopub.status.idle": "2022-12-07T16:43:06.594002Z",
     "shell.execute_reply": "2022-12-07T16:43:06.593170Z"
    },
    "origin_pos": 26,
    "tab": [
     "pytorch"
    ],
    "ExecuteTime": {
     "end_time": "2023-09-01T07:15:02.006148Z",
     "start_time": "2023-09-01T07:15:02.002107Z"
    }
   },
   "outputs": [],
   "source": [
    "def squared_loss(y_hat, y):  #@save\n",
    "    \"\"\"均方损失\"\"\"\n",
    "    return (y_hat - y.reshape(y_hat.shape)) ** 2 / 2"
   ]
  },
  {
   "cell_type": "markdown",
   "id": "1919becd",
   "metadata": {
    "origin_pos": 27
   },
   "source": [
    "## (**定义优化算法**)\n",
    "\n",
    "正如我们在 :numref:`sec_linear_regression`中讨论的，线性回归有解析解。\n",
    "尽管线性回归有解析解，但本书中的其他模型却没有。\n",
    "这里我们介绍小批量随机梯度下降。\n",
    "\n",
    "在每一步中，使用从数据集中随机抽取的一个小批量，然后根据参数计算损失的梯度。\n",
    "接下来，朝着减少损失的方向更新我们的参数。\n",
    "下面的函数实现小批量随机梯度下降更新。\n",
    "该函数接受模型参数集合、学习速率和批量大小作为输入。每\n",
    "一步更新的大小由学习速率`lr`决定。\n",
    "因为我们计算的损失是一个批量样本的总和，所以我们用批量大小（`batch_size`）\n",
    "来规范化步长，这样步长大小就不会取决于我们对批量大小的选择。\n"
   ]
  },
  {
   "cell_type": "code",
   "execution_count": 11,
   "id": "a6360e87",
   "metadata": {
    "execution": {
     "iopub.execute_input": "2022-12-07T16:43:06.597167Z",
     "iopub.status.busy": "2022-12-07T16:43:06.596900Z",
     "iopub.status.idle": "2022-12-07T16:43:06.601385Z",
     "shell.execute_reply": "2022-12-07T16:43:06.600532Z"
    },
    "origin_pos": 29,
    "tab": [
     "pytorch"
    ],
    "ExecuteTime": {
     "end_time": "2023-09-01T07:15:02.006358Z",
     "start_time": "2023-09-01T07:15:02.003223Z"
    }
   },
   "outputs": [],
   "source": [
    "def sgd(params, lr, batch_size):  #@save\n",
    "    \"\"\"小批量随机梯度下降\"\"\"\n",
    "    with torch.no_grad():\n",
    "        for param in params:\n",
    "            param -= lr * param.grad / batch_size\n",
    "            param.grad.zero_()"
   ]
  },
  {
   "cell_type": "markdown",
   "id": "9e466d4d",
   "metadata": {
    "origin_pos": 32
   },
   "source": [
    "## 训练\n",
    "\n",
    "现在我们已经准备好了模型训练所有需要的要素，可以实现主要的[**训练过程**]部分了。\n",
    "理解这段代码至关重要，因为从事深度学习后，\n",
    "相同的训练过程几乎一遍又一遍地出现。\n",
    "在每次迭代中，我们读取一小批量训练样本，并通过我们的模型来获得一组预测。\n",
    "计算完损失后，我们开始反向传播，存储每个参数的梯度。\n",
    "最后，我们调用优化算法`sgd`来更新模型参数。\n",
    "\n",
    "概括一下，我们将执行以下循环：\n",
    "\n",
    "* 初始化参数\n",
    "* 重复以下训练，直到完成\n",
    "    * 计算梯度$\\mathbf{g} \\leftarrow \\partial_{(\\mathbf{w},b)} \\frac{1}{|\\mathcal{B}|} \\sum_{i \\in \\mathcal{B}} l(\\mathbf{x}^{(i)}, y^{(i)}, \\mathbf{w}, b)$\n",
    "    * 更新参数$(\\mathbf{w}, b) \\leftarrow (\\mathbf{w}, b) - \\eta \\mathbf{g}$\n",
    "\n",
    "在每个*迭代周期*（epoch）中，我们使用`data_iter`函数遍历整个数据集，\n",
    "并将训练数据集中所有样本都使用一次（假设样本数能够被批量大小整除）。\n",
    "这里的迭代周期个数`num_epochs`和学习率`lr`都是超参数，分别设为3和0.03。\n",
    "设置超参数很棘手，需要通过反复试验进行调整。\n",
    "我们现在忽略这些细节，以后会在 :numref:`chap_optimization`中详细介绍。\n"
   ]
  },
  {
   "cell_type": "code",
   "execution_count": 12,
   "id": "102331db",
   "metadata": {
    "execution": {
     "iopub.execute_input": "2022-12-07T16:43:06.604403Z",
     "iopub.status.busy": "2022-12-07T16:43:06.604136Z",
     "iopub.status.idle": "2022-12-07T16:43:06.608339Z",
     "shell.execute_reply": "2022-12-07T16:43:06.607465Z"
    },
    "origin_pos": 33,
    "tab": [
     "pytorch"
    ],
    "ExecuteTime": {
     "end_time": "2023-09-01T07:15:02.007688Z",
     "start_time": "2023-09-01T07:15:02.006222Z"
    }
   },
   "outputs": [],
   "source": [
    "lr = 0.03\n",
    "num_epochs = 3\n",
    "net = linreg\n",
    "loss = squared_loss"
   ]
  },
  {
   "cell_type": "code",
   "execution_count": 13,
   "id": "97d6ac25",
   "metadata": {
    "execution": {
     "iopub.execute_input": "2022-12-07T16:43:06.611713Z",
     "iopub.status.busy": "2022-12-07T16:43:06.611103Z",
     "iopub.status.idle": "2022-12-07T16:43:06.718470Z",
     "shell.execute_reply": "2022-12-07T16:43:06.717660Z"
    },
    "origin_pos": 35,
    "tab": [
     "pytorch"
    ],
    "ExecuteTime": {
     "end_time": "2023-09-01T07:15:02.047202Z",
     "start_time": "2023-09-01T07:15:02.009258Z"
    }
   },
   "outputs": [
    {
     "name": "stdout",
     "output_type": "stream",
     "text": [
      "epoch 1, loss 0.030375\n",
      "epoch 2, loss 0.000101\n",
      "epoch 3, loss 0.000049\n"
     ]
    }
   ],
   "source": [
    "for epoch in range(num_epochs):\n",
    "    for X, y in data_iter(batch_size, features, labels):\n",
    "        l = loss(net(X, w, b), y)  # X和y的小批量损失\n",
    "        # 因为l形状是(batch_size,1)，而不是一个标量。l中的所有元素被加到一起，\n",
    "        # 并以此计算关于[w,b]的梯度\n",
    "        l.sum().backward()\n",
    "        sgd([w, b], lr, batch_size)  # 使用参数的梯度更新参数\n",
    "    with torch.no_grad():\n",
    "        train_l = loss(net(features, w, b), labels)\n",
    "        print(f'epoch {epoch + 1}, loss {float(train_l.mean()):f}')"
   ]
  },
  {
   "cell_type": "markdown",
   "id": "c49ff328",
   "metadata": {
    "origin_pos": 38
   },
   "source": [
    "因为我们使用的是自己合成的数据集，所以我们知道真正的参数是什么。\n",
    "因此，我们可以通过[**比较真实参数和通过训练学到的参数来评估训练的成功程度**]。\n",
    "事实上，真实参数和通过训练学到的参数确实非常接近。\n"
   ]
  },
  {
   "cell_type": "code",
   "execution_count": 14,
   "id": "20cfe26e",
   "metadata": {
    "execution": {
     "iopub.execute_input": "2022-12-07T16:43:06.722173Z",
     "iopub.status.busy": "2022-12-07T16:43:06.721608Z",
     "iopub.status.idle": "2022-12-07T16:43:06.727216Z",
     "shell.execute_reply": "2022-12-07T16:43:06.726417Z"
    },
    "origin_pos": 39,
    "tab": [
     "pytorch"
    ],
    "ExecuteTime": {
     "end_time": "2023-09-01T07:15:02.049896Z",
     "start_time": "2023-09-01T07:15:02.046567Z"
    }
   },
   "outputs": [
    {
     "name": "stdout",
     "output_type": "stream",
     "text": [
      "w的估计误差: tensor([ 2.1577e-05, -4.2677e-04], grad_fn=<SubBackward0>)\n",
      "b的估计误差: tensor([0.0008], grad_fn=<RsubBackward1>)\n"
     ]
    }
   ],
   "source": [
    "print(f'w的估计误差: {true_w - w.reshape(true_w.shape)}')\n",
    "print(f'b的估计误差: {true_b - b}')"
   ]
  },
  {
   "cell_type": "markdown",
   "id": "256e4aea",
   "metadata": {
    "origin_pos": 40
   },
   "source": [
    "注意，我们不应该想当然地认为我们能够完美地求解参数。\n",
    "在机器学习中，我们通常不太关心恢复真正的参数，而更关心如何高度准确预测参数。\n",
    "幸运的是，即使是在复杂的优化问题上，随机梯度下降通常也能找到非常好的解。\n",
    "其中一个原因是，在深度网络中存在许多参数组合能够实现高度精确的预测。\n",
    "\n",
    "## 小结\n",
    "\n",
    "* 我们学习了深度网络是如何实现和优化的。在这一过程中只使用张量和自动微分，不需要定义层或复杂的优化器。\n",
    "* 这一节只触及到了表面知识。在下面的部分中，我们将基于刚刚介绍的概念描述其他模型，并学习如何更简洁地实现其他模型。\n",
    "\n",
    "## 练习\n",
    "\n",
    "1. 如果我们将权重初始化为零，会发生什么。算法仍然有效吗？\n",
    "1. 假设试图为电压和电流的关系建立一个模型。自动微分可以用来学习模型的参数吗?\n",
    "1. 能基于[普朗克定律](https://en.wikipedia.org/wiki/Planck%27s_law)使用光谱能量密度来确定物体的温度吗？\n",
    "1. 计算二阶导数时可能会遇到什么问题？这些问题可以如何解决？\n",
    "1. 为什么在`squared_loss`函数中需要使用`reshape`函数？\n",
    "1. 尝试使用不同的学习率，观察损失函数值下降的快慢。\n",
    "1. 如果样本个数不能被批量大小整除，`data_iter`函数的行为会有什么变化？\n"
   ]
  },
  {
   "cell_type": "markdown",
   "id": "084dd552",
   "metadata": {
    "origin_pos": 42,
    "tab": [
     "pytorch"
    ]
   },
   "source": [
    "[Discussions](https://discuss.d2l.ai/t/1778)\n"
   ]
  },
  {
   "cell_type": "code",
   "execution_count": 14,
   "outputs": [],
   "source": [],
   "metadata": {
    "collapsed": false,
    "ExecuteTime": {
     "end_time": "2023-09-01T07:15:02.054842Z",
     "start_time": "2023-09-01T07:15:02.050646Z"
    }
   },
   "id": "ade7065b64876905"
  }
 ],
 "metadata": {
  "language_info": {
   "name": "python"
  },
  "kernelspec": {
   "name": "python3",
   "language": "python",
   "display_name": "Python 3 (ipykernel)"
  }
 },
 "nbformat": 4,
 "nbformat_minor": 5
}
