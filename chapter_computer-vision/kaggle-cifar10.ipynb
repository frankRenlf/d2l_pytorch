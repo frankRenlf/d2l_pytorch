{
 "cells": [
  {
   "cell_type": "markdown",
   "id": "90ef67aa",
   "metadata": {
    "origin_pos": 0
   },
   "source": [
    "# 实战 Kaggle 比赛：图像分类 (CIFAR-10)\n",
    ":label:`sec_kaggle_cifar10`\n",
    "\n",
    "之前几节中，我们一直在使用深度学习框架的高级API直接获取张量格式的图像数据集。\n",
    "但是在实践中，图像数据集通常以图像文件的形式出现。\n",
    "本节将从原始图像文件开始，然后逐步组织、读取并将它们转换为张量格式。\n",
    "\n",
    "我们在 :numref:`sec_image_augmentation`中对CIFAR-10数据集做了一个实验。CIFAR-10是计算机视觉领域中的一个重要的数据集。\n",
    "本节将运用我们在前几节中学到的知识来参加CIFAR-10图像分类问题的Kaggle竞赛，(**比赛的网址是https://www.kaggle.com/c/cifar-10**)。\n",
    "\n",
    " :numref:`fig_kaggle_cifar10`显示了竞赛网站页面上的信息。\n",
    "为了能提交结果，首先需要注册一个Kaggle账户。\n",
    "\n",
    "![CIFAR-10 图像分类竞赛页面上的信息。竞赛用的数据集可通过点击“Data”选项卡获取。](../img/kaggle-cifar10.png)\n",
    ":width:`600px`\n",
    ":label:`fig_kaggle_cifar10`\n",
    "\n",
    "首先，导入竞赛所需的包和模块。\n"
   ]
  },
  {
   "cell_type": "code",
   "execution_count": 1,
   "id": "1a942a6d",
   "metadata": {
    "execution": {
     "iopub.execute_input": "2022-12-07T16:28:21.538579Z",
     "iopub.status.busy": "2022-12-07T16:28:21.537924Z",
     "iopub.status.idle": "2022-12-07T16:28:25.817556Z",
     "shell.execute_reply": "2022-12-07T16:28:25.816777Z"
    },
    "origin_pos": 2,
    "tab": [
     "pytorch"
    ],
    "ExecuteTime": {
     "end_time": "2023-08-19T06:14:40.931261Z",
     "start_time": "2023-08-19T06:14:38.297393Z"
    }
   },
   "outputs": [],
   "source": [
    "import collections\n",
    "import math\n",
    "import os\n",
    "import shutil\n",
    "import pandas as pd\n",
    "import torch\n",
    "import torchvision\n",
    "from torch import nn\n",
    "from d2l import torch as d2l\n",
    "from all_my_work import utils"
   ]
  },
  {
   "cell_type": "markdown",
   "id": "d467e311",
   "metadata": {
    "origin_pos": 4
   },
   "source": [
    "## 获取并组织数据集\n",
    "\n",
    "比赛数据集分为训练集和测试集，其中训练集包含50000张、测试集包含300000张图像。\n",
    "在测试集中，10000张图像将被用于评估，而剩下的290000张图像将不会被进行评估，包含它们只是为了防止手动标记测试集并提交标记结果。\n",
    "两个数据集中的图像都是png格式，高度和宽度均为32像素并有三个颜色通道（RGB）。\n",
    "这些图片共涵盖10个类别：飞机、汽车、鸟类、猫、鹿、狗、青蛙、马、船和卡车。\n",
    " :numref:`fig_kaggle_cifar10`的左上角显示了数据集中飞机、汽车和鸟类的一些图像。\n",
    "\n",
    "### 下载数据集\n",
    "\n",
    "登录Kaggle后，我们可以点击 :numref:`fig_kaggle_cifar10`中显示的CIFAR-10图像分类竞赛网页上的“Data”选项卡，然后单击“Download All”按钮下载数据集。\n",
    "在`../data`中解压下载的文件并在其中解压缩`train.7z`和`test.7z`后，在以下路径中可以找到整个数据集：\n",
    "\n",
    "* `../data/cifar-10/train/[1-50000].png`\n",
    "* `../data/cifar-10/test/[1-300000].png`\n",
    "* `../data/cifar-10/trainLabels.csv`\n",
    "* `../data/cifar-10/sampleSubmission.csv`\n",
    "\n",
    "`train`和`test`文件夹分别包含训练和测试图像，`trainLabels.csv`含有训练图像的标签，\n",
    "`sample_submission.csv`是提交文件的范例。\n",
    "\n",
    "为了便于入门，[**我们提供包含前1000个训练图像和5个随机测试图像的数据集的小规模样本**]。\n",
    "要使用Kaggle竞赛的完整数据集，需要将以下`demo`变量设置为`False`。\n"
   ]
  },
  {
   "cell_type": "code",
   "execution_count": 2,
   "id": "172f6be8",
   "metadata": {
    "execution": {
     "iopub.execute_input": "2022-12-07T16:28:25.821531Z",
     "iopub.status.busy": "2022-12-07T16:28:25.820807Z",
     "iopub.status.idle": "2022-12-07T16:28:26.344672Z",
     "shell.execute_reply": "2022-12-07T16:28:26.343935Z"
    },
    "origin_pos": 5,
    "tab": [
     "pytorch"
    ],
    "ExecuteTime": {
     "end_time": "2023-08-19T06:14:44.655271Z",
     "start_time": "2023-08-19T06:14:44.642658Z"
    }
   },
   "outputs": [],
   "source": [
    "#@save\n",
    "d2l.DATA_HUB['cifar10_tiny'] = (d2l.DATA_URL + 'kaggle_cifar10_tiny.zip',\n",
    "                                '2068874e4b9a9f0fb07ebe0ad2b29754449ccacd')\n",
    "\n",
    "# 如果使用完整的Kaggle竞赛的数据集，设置demo为False\n",
    "demo = False\n",
    "\n",
    "if demo:\n",
    "    data_dir = d2l.download_extract('cifar10_tiny')\n",
    "else:\n",
    "    data_dir = '../data/cifar-10/'"
   ]
  },
  {
   "cell_type": "markdown",
   "id": "2b6e49f8",
   "metadata": {
    "origin_pos": 6
   },
   "source": [
    "### [**整理数据集**]\n",
    "\n",
    "我们需要整理数据集来训练和测试模型。\n",
    "首先，我们用以下函数读取CSV文件中的标签，它返回一个字典，该字典将文件名中不带扩展名的部分映射到其标签。\n"
   ]
  },
  {
   "cell_type": "code",
   "execution_count": 3,
   "id": "9b0f0f80",
   "metadata": {
    "execution": {
     "iopub.execute_input": "2022-12-07T16:28:26.348382Z",
     "iopub.status.busy": "2022-12-07T16:28:26.347629Z",
     "iopub.status.idle": "2022-12-07T16:28:26.355399Z",
     "shell.execute_reply": "2022-12-07T16:28:26.354612Z"
    },
    "origin_pos": 7,
    "tab": [
     "pytorch"
    ],
    "ExecuteTime": {
     "end_time": "2023-08-19T06:14:46.676419Z",
     "start_time": "2023-08-19T06:14:46.607434Z"
    }
   },
   "outputs": [
    {
     "name": "stdout",
     "output_type": "stream",
     "text": [
      "# 训练样本 : 50000\n",
      "# 类别 : 10\n"
     ]
    }
   ],
   "source": [
    "#@save\n",
    "def read_csv_labels(fname):\n",
    "    \"\"\"读取fname来给标签字典返回一个文件名\"\"\"\n",
    "    with open(fname, 'r') as f:\n",
    "        # 跳过文件头行(列名)\n",
    "        lines = f.readlines()[1:]\n",
    "    tokens = [l.rstrip().split(',') for l in lines]\n",
    "    return dict(((name, label) for name, label in tokens))\n",
    "\n",
    "\n",
    "labels = read_csv_labels(os.path.join(data_dir, 'trainLabels.csv'))\n",
    "print('# 训练样本 :', len(labels))\n",
    "print('# 类别 :', len(set(labels.values())))"
   ]
  },
  {
   "cell_type": "markdown",
   "id": "26467088",
   "metadata": {
    "origin_pos": 8
   },
   "source": [
    "接下来，我们定义`reorg_train_valid`函数来[**将验证集从原始的训练集中拆分出来**]。\n",
    "此函数中的参数`valid_ratio`是验证集中的样本数与原始训练集中的样本数之比。\n",
    "更具体地说，令$n$等于样本最少的类别中的图像数量，而$r$是比率。\n",
    "验证集将为每个类别拆分出$\\max(\\lfloor nr\\rfloor,1)$张图像。\n",
    "让我们以`valid_ratio=0.1`为例，由于原始的训练集有50000张图像，因此`train_valid_test/train`路径中将有45000张图像用于训练，而剩下5000张图像将作为路径`train_valid_test/valid`中的验证集。\n",
    "组织数据集后，同类别的图像将被放置在同一文件夹下。\n"
   ]
  },
  {
   "cell_type": "code",
   "execution_count": 4,
   "id": "65f7d909",
   "metadata": {
    "execution": {
     "iopub.execute_input": "2022-12-07T16:28:26.358606Z",
     "iopub.status.busy": "2022-12-07T16:28:26.358203Z",
     "iopub.status.idle": "2022-12-07T16:28:26.365459Z",
     "shell.execute_reply": "2022-12-07T16:28:26.364762Z"
    },
    "origin_pos": 9,
    "tab": [
     "pytorch"
    ],
    "ExecuteTime": {
     "end_time": "2023-08-19T06:14:58.186451Z",
     "start_time": "2023-08-19T06:14:58.180127Z"
    }
   },
   "outputs": [],
   "source": [
    "#@save\n",
    "def copyfile(filename, target_dir):\n",
    "    \"\"\"将文件复制到目标目录\"\"\"\n",
    "    os.makedirs(target_dir, exist_ok=True)\n",
    "    shutil.copy(filename, target_dir)\n",
    "\n",
    "\n",
    "#@save\n",
    "def reorg_train_valid(data_dir, labels, valid_ratio):\n",
    "    \"\"\"将验证集从原始的训练集中拆分出来\"\"\"\n",
    "    # 训练数据集中样本最少的类别中的样本数\n",
    "    n = collections.Counter(labels.values()).most_common()[-1][1]\n",
    "    # 验证集中每个类别的样本数\n",
    "    n_valid_per_label = max(1, math.floor(n * valid_ratio))\n",
    "    label_count = {}\n",
    "    for train_file in os.listdir(os.path.join(data_dir, 'train')):\n",
    "        label = labels[train_file.split('.')[0]]\n",
    "        fname = os.path.join(data_dir, 'train', train_file)\n",
    "        copyfile(fname, os.path.join(data_dir, 'train_valid_test',\n",
    "                                     'train_valid', label))\n",
    "        if label not in label_count or label_count[label] < n_valid_per_label:\n",
    "            copyfile(fname, os.path.join(data_dir, 'train_valid_test',\n",
    "                                         'valid', label))\n",
    "            label_count[label] = label_count.get(label, 0) + 1\n",
    "        else:\n",
    "            copyfile(fname, os.path.join(data_dir, 'train_valid_test',\n",
    "                                         'train', label))\n",
    "    return n_valid_per_label"
   ]
  },
  {
   "cell_type": "markdown",
   "id": "5ea0c2a7",
   "metadata": {
    "origin_pos": 10
   },
   "source": [
    "下面的`reorg_test`函数用来[**在预测期间整理测试集，以方便读取**]。\n"
   ]
  },
  {
   "cell_type": "code",
   "execution_count": 5,
   "id": "c488da32",
   "metadata": {
    "execution": {
     "iopub.execute_input": "2022-12-07T16:28:26.368594Z",
     "iopub.status.busy": "2022-12-07T16:28:26.368199Z",
     "iopub.status.idle": "2022-12-07T16:28:26.372590Z",
     "shell.execute_reply": "2022-12-07T16:28:26.371867Z"
    },
    "origin_pos": 11,
    "tab": [
     "pytorch"
    ],
    "ExecuteTime": {
     "end_time": "2023-08-19T06:14:59.794061Z",
     "start_time": "2023-08-19T06:14:59.789645Z"
    }
   },
   "outputs": [],
   "source": [
    "#@save\n",
    "def reorg_test(data_dir):\n",
    "    \"\"\"在预测期间整理测试集，以方便读取\"\"\"\n",
    "    for test_file in os.listdir(os.path.join(data_dir, 'test')):\n",
    "        copyfile(os.path.join(data_dir, 'test', test_file),\n",
    "                 os.path.join(data_dir, 'train_valid_test', 'test',\n",
    "                              'unknown'))"
   ]
  },
  {
   "cell_type": "markdown",
   "id": "13cfe857",
   "metadata": {
    "origin_pos": 12
   },
   "source": [
    "最后，我们使用一个函数来[**调用前面定义的函数**]`read_csv_labels`、`reorg_train_valid`和`reorg_test`。\n"
   ]
  },
  {
   "cell_type": "code",
   "execution_count": 6,
   "id": "2b6a05f0",
   "metadata": {
    "execution": {
     "iopub.execute_input": "2022-12-07T16:28:26.375662Z",
     "iopub.status.busy": "2022-12-07T16:28:26.375273Z",
     "iopub.status.idle": "2022-12-07T16:28:26.379277Z",
     "shell.execute_reply": "2022-12-07T16:28:26.378527Z"
    },
    "origin_pos": 13,
    "tab": [
     "pytorch"
    ],
    "ExecuteTime": {
     "end_time": "2023-08-19T06:15:01.276597Z",
     "start_time": "2023-08-19T06:15:01.271482Z"
    }
   },
   "outputs": [],
   "source": [
    "def reorg_cifar10_data(data_dir, valid_ratio):\n",
    "    labels = read_csv_labels(os.path.join(data_dir, 'trainLabels.csv'))\n",
    "    reorg_train_valid(data_dir, labels, valid_ratio)\n",
    "    reorg_test(data_dir)"
   ]
  },
  {
   "cell_type": "markdown",
   "id": "941c937d",
   "metadata": {
    "origin_pos": 14
   },
   "source": [
    "在这里，我们只将样本数据集的批量大小设置为32。\n",
    "在实际训练和测试中，应该使用Kaggle竞赛的完整数据集，并将`batch_size`设置为更大的整数，例如128。\n",
    "我们将10％的训练样本作为调整超参数的验证集。\n"
   ]
  },
  {
   "cell_type": "code",
   "execution_count": 7,
   "id": "4b857d8f",
   "metadata": {
    "execution": {
     "iopub.execute_input": "2022-12-07T16:28:26.382306Z",
     "iopub.status.busy": "2022-12-07T16:28:26.381910Z",
     "iopub.status.idle": "2022-12-07T16:28:26.592571Z",
     "shell.execute_reply": "2022-12-07T16:28:26.591816Z"
    },
    "origin_pos": 15,
    "tab": [
     "pytorch"
    ],
    "ExecuteTime": {
     "end_time": "2023-08-19T06:17:14.414366Z",
     "start_time": "2023-08-19T06:15:02.934792Z"
    }
   },
   "outputs": [],
   "source": [
    "batch_size = 32 if demo else 128\n",
    "valid_ratio = 0.1\n",
    "reorg_cifar10_data(data_dir, valid_ratio)"
   ]
  },
  {
   "cell_type": "markdown",
   "id": "5eb3d886",
   "metadata": {
    "origin_pos": 16
   },
   "source": [
    "## [**图像增广**]\n",
    "\n",
    "我们使用图像增广来解决过拟合的问题。例如在训练中，我们可以随机水平翻转图像。\n",
    "我们还可以对彩色图像的三个RGB通道执行标准化。\n",
    "下面，我们列出了其中一些可以调整的操作。\n"
   ]
  },
  {
   "cell_type": "code",
   "execution_count": 8,
   "id": "41be3595",
   "metadata": {
    "execution": {
     "iopub.execute_input": "2022-12-07T16:28:26.595905Z",
     "iopub.status.busy": "2022-12-07T16:28:26.595493Z",
     "iopub.status.idle": "2022-12-07T16:28:26.600687Z",
     "shell.execute_reply": "2022-12-07T16:28:26.599992Z"
    },
    "origin_pos": 18,
    "tab": [
     "pytorch"
    ],
    "ExecuteTime": {
     "end_time": "2023-08-19T06:18:31.219309Z",
     "start_time": "2023-08-19T06:18:31.216770Z"
    }
   },
   "outputs": [],
   "source": [
    "transform_train = torchvision.transforms.Compose([\n",
    "    # 在高度和宽度上将图像放大到40像素的正方形\n",
    "    torchvision.transforms.Resize(40),\n",
    "    # 随机裁剪出一个高度和宽度均为40像素的正方形图像，\n",
    "    # 生成一个面积为原始图像面积0.64～1倍的小正方形，\n",
    "    # 然后将其缩放为高度和宽度均为32像素的正方形\n",
    "    torchvision.transforms.RandomResizedCrop(32, scale=(0.64, 1.0),\n",
    "                                             ratio=(1.0, 1.0)),\n",
    "    torchvision.transforms.RandomHorizontalFlip(),\n",
    "    torchvision.transforms.ToTensor(),\n",
    "    # 标准化图像的每个通道\n",
    "    torchvision.transforms.Normalize([0.4914, 0.4822, 0.4465],\n",
    "                                     [0.2023, 0.1994, 0.2010])])"
   ]
  },
  {
   "cell_type": "markdown",
   "id": "bf67e53d",
   "metadata": {
    "origin_pos": 20
   },
   "source": [
    "在测试期间，我们只对图像执行标准化，以消除评估结果中的随机性。\n"
   ]
  },
  {
   "cell_type": "code",
   "execution_count": 9,
   "id": "4ce1e413",
   "metadata": {
    "execution": {
     "iopub.execute_input": "2022-12-07T16:28:26.603799Z",
     "iopub.status.busy": "2022-12-07T16:28:26.603403Z",
     "iopub.status.idle": "2022-12-07T16:28:26.607386Z",
     "shell.execute_reply": "2022-12-07T16:28:26.606691Z"
    },
    "origin_pos": 22,
    "tab": [
     "pytorch"
    ],
    "ExecuteTime": {
     "end_time": "2023-08-19T06:18:32.628017Z",
     "start_time": "2023-08-19T06:18:32.299272Z"
    }
   },
   "outputs": [],
   "source": [
    "transform_test = torchvision.transforms.Compose([\n",
    "    torchvision.transforms.ToTensor(),\n",
    "    torchvision.transforms.Normalize([0.4914, 0.4822, 0.4465],\n",
    "                                     [0.2023, 0.1994, 0.2010])])"
   ]
  },
  {
   "cell_type": "markdown",
   "id": "4cf4de04",
   "metadata": {
    "origin_pos": 24
   },
   "source": [
    "## 读取数据集\n",
    "\n",
    "接下来，我们[**读取由原始图像组成的数据集**]，每个样本都包括一张图片和一个标签。\n"
   ]
  },
  {
   "cell_type": "code",
   "execution_count": 10,
   "id": "9fad2b0e",
   "metadata": {
    "execution": {
     "iopub.execute_input": "2022-12-07T16:28:26.610379Z",
     "iopub.status.busy": "2022-12-07T16:28:26.609987Z",
     "iopub.status.idle": "2022-12-07T16:28:26.621565Z",
     "shell.execute_reply": "2022-12-07T16:28:26.620826Z"
    },
    "origin_pos": 26,
    "tab": [
     "pytorch"
    ],
    "ExecuteTime": {
     "end_time": "2023-08-19T06:18:34.868010Z",
     "start_time": "2023-08-19T06:18:34.106413Z"
    }
   },
   "outputs": [
    {
     "name": "stdout",
     "output_type": "stream",
     "text": [
      "9\n",
      "9\n"
     ]
    }
   ],
   "source": [
    "train_ds, train_valid_ds = [torchvision.datasets.ImageFolder(\n",
    "    os.path.join(data_dir, 'train_valid_test', folder),\n",
    "    transform=transform_train) for folder in ['train', 'train_valid']]\n",
    "\n",
    "valid_ds, test_ds = [torchvision.datasets.ImageFolder(\n",
    "    os.path.join(data_dir, 'train_valid_test', folder),\n",
    "    transform=transform_test) for folder in ['valid', 'test']]\n",
    "print(train_ds[-1][-1])\n",
    "print(train_valid_ds[-1][-1])"
   ]
  },
  {
   "cell_type": "markdown",
   "id": "c4a2b5b7",
   "metadata": {
    "origin_pos": 28
   },
   "source": [
    "在训练期间，我们需要[**指定上面定义的所有图像增广操作**]。\n",
    "当验证集在超参数调整过程中用于模型评估时，不应引入图像增广的随机性。\n",
    "在最终预测之前，我们根据训练集和验证集组合而成的训练模型进行训练，以充分利用所有标记的数据。\n"
   ]
  },
  {
   "cell_type": "code",
   "execution_count": 12,
   "id": "78c9ccc4",
   "metadata": {
    "execution": {
     "iopub.execute_input": "2022-12-07T16:28:26.624769Z",
     "iopub.status.busy": "2022-12-07T16:28:26.624350Z",
     "iopub.status.idle": "2022-12-07T16:28:26.629428Z",
     "shell.execute_reply": "2022-12-07T16:28:26.628695Z"
    },
    "origin_pos": 30,
    "tab": [
     "pytorch"
    ],
    "ExecuteTime": {
     "end_time": "2023-08-19T06:19:37.778198Z",
     "start_time": "2023-08-19T06:19:37.697689Z"
    }
   },
   "outputs": [
    {
     "name": "stdout",
     "output_type": "stream",
     "text": [
      "torch.Size([128, 3, 32, 32]) torch.Size([128])\n"
     ]
    }
   ],
   "source": [
    "train_iter, train_valid_iter = [torch.utils.data.DataLoader(\n",
    "    dataset, batch_size, shuffle=True, drop_last=True)\n",
    "    for dataset in (train_ds, train_valid_ds)]\n",
    "\n",
    "valid_iter = torch.utils.data.DataLoader(valid_ds, batch_size, shuffle=False,\n",
    "                                         drop_last=True)\n",
    "\n",
    "test_iter = torch.utils.data.DataLoader(test_ds, batch_size, shuffle=False,\n",
    "                                        drop_last=False)\n",
    "for k,v in train_iter:\n",
    "    print(k.shape,v.shape)\n",
    "    break\n",
    "print()"
   ]
  },
  {
   "cell_type": "markdown",
   "id": "8116a7ca",
   "metadata": {
    "origin_pos": 32
   },
   "source": [
    "## 定义[**模型**]\n"
   ]
  },
  {
   "cell_type": "markdown",
   "id": "eefb976b",
   "metadata": {
    "origin_pos": 38,
    "tab": [
     "pytorch"
    ]
   },
   "source": [
    "我们定义了 :numref:`sec_resnet`中描述的Resnet-18模型。\n"
   ]
  },
  {
   "cell_type": "code",
   "execution_count": 13,
   "id": "5eb7d639",
   "metadata": {
    "execution": {
     "iopub.execute_input": "2022-12-07T16:28:26.632529Z",
     "iopub.status.busy": "2022-12-07T16:28:26.632121Z",
     "iopub.status.idle": "2022-12-07T16:28:26.636196Z",
     "shell.execute_reply": "2022-12-07T16:28:26.635470Z"
    },
    "origin_pos": 41,
    "tab": [
     "pytorch"
    ],
    "ExecuteTime": {
     "end_time": "2023-08-19T06:19:39.895627Z",
     "start_time": "2023-08-19T06:19:39.892476Z"
    }
   },
   "outputs": [],
   "source": [
    "def get_net():\n",
    "    num_classes = 10\n",
    "    net = d2l.resnet18(num_classes, 3)\n",
    "    return net\n",
    "\n",
    "\n",
    "loss = nn.CrossEntropyLoss(reduction=\"none\")"
   ]
  },
  {
   "cell_type": "markdown",
   "id": "d01c23f0",
   "metadata": {
    "origin_pos": 43
   },
   "source": [
    "## 定义[**训练函数**]\n",
    "\n",
    "我们将根据模型在验证集上的表现来选择模型并调整超参数。\n",
    "下面我们定义了模型训练函数`train`。\n"
   ]
  },
  {
   "cell_type": "code",
   "execution_count": 14,
   "id": "08035b17",
   "metadata": {
    "execution": {
     "iopub.execute_input": "2022-12-07T16:28:26.639283Z",
     "iopub.status.busy": "2022-12-07T16:28:26.638874Z",
     "iopub.status.idle": "2022-12-07T16:28:26.648249Z",
     "shell.execute_reply": "2022-12-07T16:28:26.647558Z"
    },
    "origin_pos": 45,
    "tab": [
     "pytorch"
    ],
    "ExecuteTime": {
     "end_time": "2023-08-19T06:19:41.895395Z",
     "start_time": "2023-08-19T06:19:41.892887Z"
    }
   },
   "outputs": [],
   "source": [
    "def train(net, train_iter, valid_iter, num_epochs, lr, wd, devices, lr_period,\n",
    "          lr_decay):\n",
    "    trainer = torch.optim.SGD(net.parameters(), lr=lr, momentum=0.9,\n",
    "                              weight_decay=wd)\n",
    "    scheduler = torch.optim.lr_scheduler.StepLR(trainer, lr_period, lr_decay)\n",
    "    num_batches, timer = len(train_iter), d2l.Timer()\n",
    "    legend = ['train loss', 'train acc']\n",
    "    if valid_iter is not None:\n",
    "        legend.append('valid acc')\n",
    "    animator = d2l.Animator(xlabel='epoch', xlim=[1, num_epochs],\n",
    "                            legend=legend)\n",
    "    net = nn.DataParallel(net, device_ids=devices).to(devices[0])\n",
    "    for epoch in range(num_epochs):\n",
    "        net.train()\n",
    "        metric = d2l.Accumulator(3)\n",
    "        for i, (features, labels) in enumerate(train_iter):\n",
    "            timer.start()\n",
    "            l, acc = d2l.train_batch_ch13(net, features, labels,\n",
    "                                          loss, trainer, devices)\n",
    "            metric.add(l, acc, labels.shape[0])\n",
    "            timer.stop()\n",
    "            if (i + 1) % (num_batches // 5) == 0 or i == num_batches - 1:\n",
    "                animator.add(epoch + (i + 1) / num_batches,\n",
    "                             (metric[0] / metric[2], metric[1] / metric[2],\n",
    "                              None))\n",
    "        if valid_iter is not None:\n",
    "            valid_acc = d2l.evaluate_accuracy_gpu(net, valid_iter)\n",
    "            animator.add(epoch + 1, (None, None, valid_acc))\n",
    "        scheduler.step()\n",
    "    measures = (f'train loss {metric[0] / metric[2]:.3f}, '\n",
    "                f'train acc {metric[1] / metric[2]:.3f}')\n",
    "    if valid_iter is not None:\n",
    "        measures += f', valid acc {valid_acc:.3f}'\n",
    "    print(measures + f'\\n{metric[2] * num_epochs / timer.sum():.1f}'\n",
    "                     f' examples/sec on {str(devices)}')"
   ]
  },
  {
   "cell_type": "markdown",
   "id": "65fff7f0",
   "metadata": {
    "origin_pos": 47
   },
   "source": [
    "## [**训练和验证模型**]\n",
    "\n",
    "现在，我们可以训练和验证模型了，而以下所有超参数都可以调整。\n",
    "例如，我们可以增加周期的数量。当`lr_period`和`lr_decay`分别设置为4和0.9时，优化算法的学习速率将在每4个周期乘以0.9。\n",
    "为便于演示，我们在这里只训练20个周期。\n"
   ]
  },
  {
   "cell_type": "code",
   "execution_count": 15,
   "id": "c11b21dc",
   "metadata": {
    "execution": {
     "iopub.execute_input": "2022-12-07T16:28:26.651319Z",
     "iopub.status.busy": "2022-12-07T16:28:26.650914Z",
     "iopub.status.idle": "2022-12-07T16:29:22.027165Z",
     "shell.execute_reply": "2022-12-07T16:29:22.026298Z"
    },
    "origin_pos": 49,
    "tab": [
     "pytorch"
    ],
    "ExecuteTime": {
     "end_time": "2023-08-19T06:19:43.221454Z",
     "start_time": "2023-08-19T06:19:43.212278Z"
    }
   },
   "outputs": [],
   "source": [
    "device, num_epochs, lr, wd = torch.device('mps'), 20, 5e-5, 5e-4\n",
    "lr_period, lr_decay = 10, 0.7\n",
    "# train(net, train_iter, valid_iter, num_epochs, lr, wd, devices, lr_period,\n",
    "#       lr_decay)"
   ]
  },
  {
   "cell_type": "markdown",
   "id": "08255b2d",
   "metadata": {
    "origin_pos": 51
   },
   "source": [
    "## 在 Kaggle 上[**对测试集进行分类并提交结果**]\n",
    "\n",
    "在获得具有超参数的满意的模型后，我们使用所有标记的数据（包括验证集）来重新训练模型并对测试集进行分类。\n"
   ]
  },
  {
   "cell_type": "code",
   "execution_count": 16,
   "id": "50ae26b9",
   "metadata": {
    "execution": {
     "iopub.execute_input": "2022-12-07T16:29:22.030416Z",
     "iopub.status.busy": "2022-12-07T16:29:22.030145Z",
     "iopub.status.idle": "2022-12-07T16:30:09.012586Z",
     "shell.execute_reply": "2022-12-07T16:30:09.011795Z"
    },
    "origin_pos": 53,
    "tab": [
     "pytorch"
    ]
   },
   "outputs": [
    {
     "name": "stdout",
     "output_type": "stream",
     "text": [
      "train loss 0.162, train acc 0.944\n",
      "5525.4 examples/sec on mps\n"
     ]
    },
    {
     "data": {
      "text/plain": "<Figure size 350x250 with 1 Axes>",
      "image/svg+xml": "<?xml version=\"1.0\" encoding=\"utf-8\" standalone=\"no\"?>\n<!DOCTYPE svg PUBLIC \"-//W3C//DTD SVG 1.1//EN\"\n  \"http://www.w3.org/Graphics/SVG/1.1/DTD/svg11.dtd\">\n<svg xmlns:xlink=\"http://www.w3.org/1999/xlink\" width=\"238.965625pt\" height=\"183.35625pt\" viewBox=\"0 0 238.965625 183.35625\" xmlns=\"http://www.w3.org/2000/svg\" version=\"1.1\">\n <metadata>\n  <rdf:RDF xmlns:dc=\"http://purl.org/dc/elements/1.1/\" xmlns:cc=\"http://creativecommons.org/ns#\" xmlns:rdf=\"http://www.w3.org/1999/02/22-rdf-syntax-ns#\">\n   <cc:Work>\n    <dc:type rdf:resource=\"http://purl.org/dc/dcmitype/StillImage\"/>\n    <dc:date>2023-08-19T14:29:35.622905</dc:date>\n    <dc:format>image/svg+xml</dc:format>\n    <dc:creator>\n     <cc:Agent>\n      <dc:title>Matplotlib v3.5.1, https://matplotlib.org/</dc:title>\n     </cc:Agent>\n    </dc:creator>\n   </cc:Work>\n  </rdf:RDF>\n </metadata>\n <defs>\n  <style type=\"text/css\">*{stroke-linejoin: round; stroke-linecap: butt}</style>\n </defs>\n <g id=\"figure_1\">\n  <g id=\"patch_1\">\n   <path d=\"M 0 183.35625 \nL 238.965625 183.35625 \nL 238.965625 0 \nL 0 0 \nz\n\" style=\"fill: #ffffff\"/>\n  </g>\n  <g id=\"axes_1\">\n   <g id=\"patch_2\">\n    <path d=\"M 30.103125 145.8 \nL 225.403125 145.8 \nL 225.403125 7.2 \nL 30.103125 7.2 \nz\n\" style=\"fill: #ffffff\"/>\n   </g>\n   <g id=\"matplotlib.axis_1\">\n    <g id=\"xtick_1\">\n     <g id=\"line2d_1\">\n      <path d=\"M 71.218914 145.8 \nL 71.218914 7.2 \n\" clip-path=\"url(#p9aaf897b09)\" style=\"fill: none; stroke: #b0b0b0; stroke-width: 0.8; stroke-linecap: square\"/>\n     </g>\n     <g id=\"line2d_2\">\n      <defs>\n       <path id=\"mcd79d44e65\" d=\"M 0 0 \nL 0 3.5 \n\" style=\"stroke: #000000; stroke-width: 0.8\"/>\n      </defs>\n      <g>\n       <use xlink:href=\"#mcd79d44e65\" x=\"71.218914\" y=\"145.8\" style=\"stroke: #000000; stroke-width: 0.8\"/>\n      </g>\n     </g>\n     <g id=\"text_1\">\n      <!-- 5 -->\n      <g transform=\"translate(68.037664 160.398438)scale(0.1 -0.1)\">\n       <defs>\n        <path id=\"DejaVuSans-35\" d=\"M 691 4666 \nL 3169 4666 \nL 3169 4134 \nL 1269 4134 \nL 1269 2991 \nQ 1406 3038 1543 3061 \nQ 1681 3084 1819 3084 \nQ 2600 3084 3056 2656 \nQ 3513 2228 3513 1497 \nQ 3513 744 3044 326 \nQ 2575 -91 1722 -91 \nQ 1428 -91 1123 -41 \nQ 819 9 494 109 \nL 494 744 \nQ 775 591 1075 516 \nQ 1375 441 1709 441 \nQ 2250 441 2565 725 \nQ 2881 1009 2881 1497 \nQ 2881 1984 2565 2268 \nQ 2250 2553 1709 2553 \nQ 1456 2553 1204 2497 \nQ 953 2441 691 2322 \nL 691 4666 \nz\n\" transform=\"scale(0.015625)\"/>\n       </defs>\n       <use xlink:href=\"#DejaVuSans-35\"/>\n      </g>\n     </g>\n    </g>\n    <g id=\"xtick_2\">\n     <g id=\"line2d_3\">\n      <path d=\"M 122.613651 145.8 \nL 122.613651 7.2 \n\" clip-path=\"url(#p9aaf897b09)\" style=\"fill: none; stroke: #b0b0b0; stroke-width: 0.8; stroke-linecap: square\"/>\n     </g>\n     <g id=\"line2d_4\">\n      <g>\n       <use xlink:href=\"#mcd79d44e65\" x=\"122.613651\" y=\"145.8\" style=\"stroke: #000000; stroke-width: 0.8\"/>\n      </g>\n     </g>\n     <g id=\"text_2\">\n      <!-- 10 -->\n      <g transform=\"translate(116.251151 160.398438)scale(0.1 -0.1)\">\n       <defs>\n        <path id=\"DejaVuSans-31\" d=\"M 794 531 \nL 1825 531 \nL 1825 4091 \nL 703 3866 \nL 703 4441 \nL 1819 4666 \nL 2450 4666 \nL 2450 531 \nL 3481 531 \nL 3481 0 \nL 794 0 \nL 794 531 \nz\n\" transform=\"scale(0.015625)\"/>\n        <path id=\"DejaVuSans-30\" d=\"M 2034 4250 \nQ 1547 4250 1301 3770 \nQ 1056 3291 1056 2328 \nQ 1056 1369 1301 889 \nQ 1547 409 2034 409 \nQ 2525 409 2770 889 \nQ 3016 1369 3016 2328 \nQ 3016 3291 2770 3770 \nQ 2525 4250 2034 4250 \nz\nM 2034 4750 \nQ 2819 4750 3233 4129 \nQ 3647 3509 3647 2328 \nQ 3647 1150 3233 529 \nQ 2819 -91 2034 -91 \nQ 1250 -91 836 529 \nQ 422 1150 422 2328 \nQ 422 3509 836 4129 \nQ 1250 4750 2034 4750 \nz\n\" transform=\"scale(0.015625)\"/>\n       </defs>\n       <use xlink:href=\"#DejaVuSans-31\"/>\n       <use xlink:href=\"#DejaVuSans-30\" x=\"63.623047\"/>\n      </g>\n     </g>\n    </g>\n    <g id=\"xtick_3\">\n     <g id=\"line2d_5\">\n      <path d=\"M 174.008388 145.8 \nL 174.008388 7.2 \n\" clip-path=\"url(#p9aaf897b09)\" style=\"fill: none; stroke: #b0b0b0; stroke-width: 0.8; stroke-linecap: square\"/>\n     </g>\n     <g id=\"line2d_6\">\n      <g>\n       <use xlink:href=\"#mcd79d44e65\" x=\"174.008388\" y=\"145.8\" style=\"stroke: #000000; stroke-width: 0.8\"/>\n      </g>\n     </g>\n     <g id=\"text_3\">\n      <!-- 15 -->\n      <g transform=\"translate(167.645888 160.398438)scale(0.1 -0.1)\">\n       <use xlink:href=\"#DejaVuSans-31\"/>\n       <use xlink:href=\"#DejaVuSans-35\" x=\"63.623047\"/>\n      </g>\n     </g>\n    </g>\n    <g id=\"xtick_4\">\n     <g id=\"line2d_7\">\n      <path d=\"M 225.403125 145.8 \nL 225.403125 7.2 \n\" clip-path=\"url(#p9aaf897b09)\" style=\"fill: none; stroke: #b0b0b0; stroke-width: 0.8; stroke-linecap: square\"/>\n     </g>\n     <g id=\"line2d_8\">\n      <g>\n       <use xlink:href=\"#mcd79d44e65\" x=\"225.403125\" y=\"145.8\" style=\"stroke: #000000; stroke-width: 0.8\"/>\n      </g>\n     </g>\n     <g id=\"text_4\">\n      <!-- 20 -->\n      <g transform=\"translate(219.040625 160.398438)scale(0.1 -0.1)\">\n       <defs>\n        <path id=\"DejaVuSans-32\" d=\"M 1228 531 \nL 3431 531 \nL 3431 0 \nL 469 0 \nL 469 531 \nQ 828 903 1448 1529 \nQ 2069 2156 2228 2338 \nQ 2531 2678 2651 2914 \nQ 2772 3150 2772 3378 \nQ 2772 3750 2511 3984 \nQ 2250 4219 1831 4219 \nQ 1534 4219 1204 4116 \nQ 875 4013 500 3803 \nL 500 4441 \nQ 881 4594 1212 4672 \nQ 1544 4750 1819 4750 \nQ 2544 4750 2975 4387 \nQ 3406 4025 3406 3419 \nQ 3406 3131 3298 2873 \nQ 3191 2616 2906 2266 \nQ 2828 2175 2409 1742 \nQ 1991 1309 1228 531 \nz\n\" transform=\"scale(0.015625)\"/>\n       </defs>\n       <use xlink:href=\"#DejaVuSans-32\"/>\n       <use xlink:href=\"#DejaVuSans-30\" x=\"63.623047\"/>\n      </g>\n     </g>\n    </g>\n    <g id=\"text_5\">\n     <!-- epoch -->\n     <g transform=\"translate(112.525 174.076563)scale(0.1 -0.1)\">\n      <defs>\n       <path id=\"DejaVuSans-65\" d=\"M 3597 1894 \nL 3597 1613 \nL 953 1613 \nQ 991 1019 1311 708 \nQ 1631 397 2203 397 \nQ 2534 397 2845 478 \nQ 3156 559 3463 722 \nL 3463 178 \nQ 3153 47 2828 -22 \nQ 2503 -91 2169 -91 \nQ 1331 -91 842 396 \nQ 353 884 353 1716 \nQ 353 2575 817 3079 \nQ 1281 3584 2069 3584 \nQ 2775 3584 3186 3129 \nQ 3597 2675 3597 1894 \nz\nM 3022 2063 \nQ 3016 2534 2758 2815 \nQ 2500 3097 2075 3097 \nQ 1594 3097 1305 2825 \nQ 1016 2553 972 2059 \nL 3022 2063 \nz\n\" transform=\"scale(0.015625)\"/>\n       <path id=\"DejaVuSans-70\" d=\"M 1159 525 \nL 1159 -1331 \nL 581 -1331 \nL 581 3500 \nL 1159 3500 \nL 1159 2969 \nQ 1341 3281 1617 3432 \nQ 1894 3584 2278 3584 \nQ 2916 3584 3314 3078 \nQ 3713 2572 3713 1747 \nQ 3713 922 3314 415 \nQ 2916 -91 2278 -91 \nQ 1894 -91 1617 61 \nQ 1341 213 1159 525 \nz\nM 3116 1747 \nQ 3116 2381 2855 2742 \nQ 2594 3103 2138 3103 \nQ 1681 3103 1420 2742 \nQ 1159 2381 1159 1747 \nQ 1159 1113 1420 752 \nQ 1681 391 2138 391 \nQ 2594 391 2855 752 \nQ 3116 1113 3116 1747 \nz\n\" transform=\"scale(0.015625)\"/>\n       <path id=\"DejaVuSans-6f\" d=\"M 1959 3097 \nQ 1497 3097 1228 2736 \nQ 959 2375 959 1747 \nQ 959 1119 1226 758 \nQ 1494 397 1959 397 \nQ 2419 397 2687 759 \nQ 2956 1122 2956 1747 \nQ 2956 2369 2687 2733 \nQ 2419 3097 1959 3097 \nz\nM 1959 3584 \nQ 2709 3584 3137 3096 \nQ 3566 2609 3566 1747 \nQ 3566 888 3137 398 \nQ 2709 -91 1959 -91 \nQ 1206 -91 779 398 \nQ 353 888 353 1747 \nQ 353 2609 779 3096 \nQ 1206 3584 1959 3584 \nz\n\" transform=\"scale(0.015625)\"/>\n       <path id=\"DejaVuSans-63\" d=\"M 3122 3366 \nL 3122 2828 \nQ 2878 2963 2633 3030 \nQ 2388 3097 2138 3097 \nQ 1578 3097 1268 2742 \nQ 959 2388 959 1747 \nQ 959 1106 1268 751 \nQ 1578 397 2138 397 \nQ 2388 397 2633 464 \nQ 2878 531 3122 666 \nL 3122 134 \nQ 2881 22 2623 -34 \nQ 2366 -91 2075 -91 \nQ 1284 -91 818 406 \nQ 353 903 353 1747 \nQ 353 2603 823 3093 \nQ 1294 3584 2113 3584 \nQ 2378 3584 2631 3529 \nQ 2884 3475 3122 3366 \nz\n\" transform=\"scale(0.015625)\"/>\n       <path id=\"DejaVuSans-68\" d=\"M 3513 2113 \nL 3513 0 \nL 2938 0 \nL 2938 2094 \nQ 2938 2591 2744 2837 \nQ 2550 3084 2163 3084 \nQ 1697 3084 1428 2787 \nQ 1159 2491 1159 1978 \nL 1159 0 \nL 581 0 \nL 581 4863 \nL 1159 4863 \nL 1159 2956 \nQ 1366 3272 1645 3428 \nQ 1925 3584 2291 3584 \nQ 2894 3584 3203 3211 \nQ 3513 2838 3513 2113 \nz\n\" transform=\"scale(0.015625)\"/>\n      </defs>\n      <use xlink:href=\"#DejaVuSans-65\"/>\n      <use xlink:href=\"#DejaVuSans-70\" x=\"61.523438\"/>\n      <use xlink:href=\"#DejaVuSans-6f\" x=\"125\"/>\n      <use xlink:href=\"#DejaVuSans-63\" x=\"186.181641\"/>\n      <use xlink:href=\"#DejaVuSans-68\" x=\"241.162109\"/>\n     </g>\n    </g>\n   </g>\n   <g id=\"matplotlib.axis_2\">\n    <g id=\"ytick_1\">\n     <g id=\"line2d_9\">\n      <path d=\"M 30.103125 110.318406 \nL 225.403125 110.318406 \n\" clip-path=\"url(#p9aaf897b09)\" style=\"fill: none; stroke: #b0b0b0; stroke-width: 0.8; stroke-linecap: square\"/>\n     </g>\n     <g id=\"line2d_10\">\n      <defs>\n       <path id=\"m3a9d032997\" d=\"M 0 0 \nL -3.5 0 \n\" style=\"stroke: #000000; stroke-width: 0.8\"/>\n      </defs>\n      <g>\n       <use xlink:href=\"#m3a9d032997\" x=\"30.103125\" y=\"110.318406\" style=\"stroke: #000000; stroke-width: 0.8\"/>\n      </g>\n     </g>\n     <g id=\"text_6\">\n      <!-- 0.5 -->\n      <g transform=\"translate(7.2 114.117625)scale(0.1 -0.1)\">\n       <defs>\n        <path id=\"DejaVuSans-2e\" d=\"M 684 794 \nL 1344 794 \nL 1344 0 \nL 684 0 \nL 684 794 \nz\n\" transform=\"scale(0.015625)\"/>\n       </defs>\n       <use xlink:href=\"#DejaVuSans-30\"/>\n       <use xlink:href=\"#DejaVuSans-2e\" x=\"63.623047\"/>\n       <use xlink:href=\"#DejaVuSans-35\" x=\"95.410156\"/>\n      </g>\n     </g>\n    </g>\n    <g id=\"ytick_2\">\n     <g id=\"line2d_11\">\n      <path d=\"M 30.103125 68.511672 \nL 225.403125 68.511672 \n\" clip-path=\"url(#p9aaf897b09)\" style=\"fill: none; stroke: #b0b0b0; stroke-width: 0.8; stroke-linecap: square\"/>\n     </g>\n     <g id=\"line2d_12\">\n      <g>\n       <use xlink:href=\"#m3a9d032997\" x=\"30.103125\" y=\"68.511672\" style=\"stroke: #000000; stroke-width: 0.8\"/>\n      </g>\n     </g>\n     <g id=\"text_7\">\n      <!-- 1.0 -->\n      <g transform=\"translate(7.2 72.310891)scale(0.1 -0.1)\">\n       <use xlink:href=\"#DejaVuSans-31\"/>\n       <use xlink:href=\"#DejaVuSans-2e\" x=\"63.623047\"/>\n       <use xlink:href=\"#DejaVuSans-30\" x=\"95.410156\"/>\n      </g>\n     </g>\n    </g>\n    <g id=\"ytick_3\">\n     <g id=\"line2d_13\">\n      <path d=\"M 30.103125 26.704938 \nL 225.403125 26.704938 \n\" clip-path=\"url(#p9aaf897b09)\" style=\"fill: none; stroke: #b0b0b0; stroke-width: 0.8; stroke-linecap: square\"/>\n     </g>\n     <g id=\"line2d_14\">\n      <g>\n       <use xlink:href=\"#m3a9d032997\" x=\"30.103125\" y=\"26.704938\" style=\"stroke: #000000; stroke-width: 0.8\"/>\n      </g>\n     </g>\n     <g id=\"text_8\">\n      <!-- 1.5 -->\n      <g transform=\"translate(7.2 30.504157)scale(0.1 -0.1)\">\n       <use xlink:href=\"#DejaVuSans-31\"/>\n       <use xlink:href=\"#DejaVuSans-2e\" x=\"63.623047\"/>\n       <use xlink:href=\"#DejaVuSans-35\" x=\"95.410156\"/>\n      </g>\n     </g>\n    </g>\n   </g>\n   <g id=\"line2d_15\">\n    <path d=\"M 21.879967 13.5 \nL 23.935757 38.945311 \nL 25.991546 51.332573 \nL 28.047336 59.281853 \nL 30.103125 64.857817 \nL 32.158914 92.697536 \nL 34.214704 93.905931 \nL 36.270493 94.761984 \nL 38.326283 95.662864 \nL 40.382072 96.439742 \nL 42.437862 103.257511 \nL 44.493651 104.092074 \nL 46.549441 104.086289 \nL 48.60523 104.330962 \nL 50.66102 104.778291 \nL 52.716809 110.738729 \nL 54.772599 110.168297 \nL 56.828388 110.591205 \nL 58.884178 110.447334 \nL 60.939967 110.208009 \nL 62.995757 114.314829 \nL 65.051546 114.100735 \nL 67.107336 113.662873 \nL 69.163125 113.851792 \nL 71.218914 114.024039 \nL 73.274704 119.10417 \nL 75.330493 117.940396 \nL 77.386283 117.969226 \nL 79.442072 117.701418 \nL 81.497862 117.249406 \nL 83.553651 120.955875 \nL 85.609441 120.649687 \nL 87.66523 120.877636 \nL 89.72102 120.650248 \nL 91.776809 120.333996 \nL 93.832599 122.643733 \nL 95.888388 121.990603 \nL 97.944178 121.655299 \nL 99.999967 121.501786 \nL 102.055757 121.632458 \nL 104.111546 126.966005 \nL 106.167336 125.28058 \nL 108.223125 125.107223 \nL 110.278914 124.501121 \nL 112.334704 124.409528 \nL 114.390493 126.518781 \nL 116.446283 126.780468 \nL 118.502072 126.365287 \nL 120.557862 126.233161 \nL 122.613651 125.967819 \nL 124.669441 130.33463 \nL 126.72523 130.556596 \nL 128.78102 130.57944 \nL 130.836809 130.105663 \nL 132.892599 130.139814 \nL 134.948388 132.692011 \nL 137.004178 132.506779 \nL 139.059967 132.161468 \nL 141.115757 131.784692 \nL 143.171546 131.919135 \nL 145.227336 134.27928 \nL 147.283125 133.505891 \nL 149.338914 133.412736 \nL 151.394704 133.203765 \nL 153.450493 132.897392 \nL 155.506283 134.541673 \nL 157.562072 134.680448 \nL 159.617862 134.4586 \nL 161.673651 133.989152 \nL 163.729441 133.843116 \nL 165.78523 134.634078 \nL 167.84102 135.113296 \nL 169.896809 134.907373 \nL 171.952599 134.817549 \nL 174.008388 134.729364 \nL 176.064178 136.483849 \nL 178.119967 136.257167 \nL 180.175757 135.742369 \nL 182.231546 135.421438 \nL 184.287336 135.269709 \nL 186.343125 136.133942 \nL 188.398914 136.700586 \nL 190.454704 136.344377 \nL 192.510493 136.238019 \nL 194.566283 136.217985 \nL 196.622072 138.511484 \nL 198.677862 137.850279 \nL 200.733651 137.481377 \nL 202.789441 137.341137 \nL 204.84523 137.168971 \nL 206.90102 138.494147 \nL 208.956809 138.789517 \nL 211.012599 138.175133 \nL 213.068388 137.753577 \nL 215.124178 137.449676 \nL 217.179967 139.5 \nL 219.235757 139.313966 \nL 221.291546 139.155463 \nL 223.347336 138.755137 \nL 225.403125 138.618459 \n\" clip-path=\"url(#p9aaf897b09)\" style=\"fill: none; stroke: #1f77b4; stroke-width: 1.5; stroke-linecap: square\"/>\n   </g>\n   <g id=\"line2d_16\">\n    <path d=\"M 21.879967 113.99492 \nL 23.935757 106.248279 \nL 25.991546 102.220026 \nL 28.047336 99.75157 \nL 30.103125 97.98073 \nL 32.158914 88.845556 \nL 34.214704 88.439381 \nL 36.270493 88.055539 \nL 38.326283 87.825931 \nL 40.382072 87.58432 \nL 42.437862 85.487283 \nL 44.493651 84.980611 \nL 46.549441 84.998756 \nL 48.60523 84.87802 \nL 50.66102 84.770405 \nL 52.716809 82.648244 \nL 54.772599 82.882737 \nL 56.828388 82.796198 \nL 58.884178 82.899487 \nL 60.939967 83.011708 \nL 62.995757 81.668399 \nL 65.051546 81.61815 \nL 67.107336 81.86381 \nL 69.163125 81.791926 \nL 71.218914 81.686823 \nL 73.274704 80.269816 \nL 75.330493 80.491747 \nL 77.386283 80.43452 \nL 79.442072 80.506403 \nL 81.497862 80.589732 \nL 83.553651 79.155975 \nL 85.609441 79.365344 \nL 87.66523 79.382093 \nL 89.72102 79.440716 \nL 91.776809 79.64171 \nL 93.832599 78.703739 \nL 95.888388 78.984293 \nL 97.944178 79.108518 \nL 99.999967 79.132944 \nL 102.055757 79.100702 \nL 104.111546 77.34703 \nL 106.167336 77.857889 \nL 108.223125 78.084007 \nL 110.278914 78.293376 \nL 112.334704 78.266577 \nL 114.390493 77.50615 \nL 116.446283 77.393091 \nL 118.502072 77.483817 \nL 120.557862 77.537555 \nL 122.613651 77.630096 \nL 124.669441 76.132691 \nL 126.72523 75.961009 \nL 128.78102 76.082443 \nL 130.836809 76.193408 \nL 132.892599 76.16954 \nL 134.948388 75.270093 \nL 137.004178 75.462712 \nL 139.059967 75.51296 \nL 141.115757 75.642769 \nL 143.171546 75.586658 \nL 145.227336 74.625237 \nL 147.283125 75.023038 \nL 149.338914 75.136097 \nL 151.394704 75.2345 \nL 153.450493 75.286842 \nL 155.506283 74.801107 \nL 157.562072 74.570801 \nL 159.617862 74.750858 \nL 161.673651 74.933009 \nL 163.729441 74.963577 \nL 165.78523 74.574989 \nL 167.84102 74.340496 \nL 169.896809 74.368412 \nL 171.952599 74.436805 \nL 174.008388 74.489566 \nL 176.064178 73.888259 \nL 178.119967 74.072504 \nL 180.175757 74.24279 \nL 182.231546 74.334215 \nL 184.287336 74.400794 \nL 186.343125 74.022255 \nL 188.398914 73.796137 \nL 190.454704 73.955257 \nL 192.510493 73.948976 \nL 194.566283 73.973682 \nL 196.622072 73.226654 \nL 198.677862 73.436023 \nL 200.733651 73.550478 \nL 202.789441 73.630736 \nL 204.84523 73.672191 \nL 206.90102 73.176406 \nL 208.956809 73.255966 \nL 211.012599 73.363442 \nL 213.068388 73.438117 \nL 215.124178 73.54992 \nL 217.179967 72.891665 \nL 219.235757 72.925164 \nL 221.291546 72.986578 \nL 223.347336 73.113595 \nL 225.403125 73.196505 \n\" clip-path=\"url(#p9aaf897b09)\" style=\"fill: none; stroke-dasharray: 5.55,2.4; stroke-dashoffset: 0; stroke: #bf00bf; stroke-width: 1.5\"/>\n   </g>\n   <g id=\"line2d_17\"/>\n   <g id=\"patch_3\">\n    <path d=\"M 30.103125 145.8 \nL 30.103125 7.2 \n\" style=\"fill: none; stroke: #000000; stroke-width: 0.8; stroke-linejoin: miter; stroke-linecap: square\"/>\n   </g>\n   <g id=\"patch_4\">\n    <path d=\"M 225.403125 145.8 \nL 225.403125 7.2 \n\" style=\"fill: none; stroke: #000000; stroke-width: 0.8; stroke-linejoin: miter; stroke-linecap: square\"/>\n   </g>\n   <g id=\"patch_5\">\n    <path d=\"M 30.103125 145.8 \nL 225.403125 145.8 \n\" style=\"fill: none; stroke: #000000; stroke-width: 0.8; stroke-linejoin: miter; stroke-linecap: square\"/>\n   </g>\n   <g id=\"patch_6\">\n    <path d=\"M 30.103125 7.2 \nL 225.403125 7.2 \n\" style=\"fill: none; stroke: #000000; stroke-width: 0.8; stroke-linejoin: miter; stroke-linecap: square\"/>\n   </g>\n   <g id=\"legend_1\">\n    <g id=\"patch_7\">\n     <path d=\"M 140.634375 44.55625 \nL 218.403125 44.55625 \nQ 220.403125 44.55625 220.403125 42.55625 \nL 220.403125 14.2 \nQ 220.403125 12.2 218.403125 12.2 \nL 140.634375 12.2 \nQ 138.634375 12.2 138.634375 14.2 \nL 138.634375 42.55625 \nQ 138.634375 44.55625 140.634375 44.55625 \nz\n\" style=\"fill: #ffffff; opacity: 0.8; stroke: #cccccc; stroke-linejoin: miter\"/>\n    </g>\n    <g id=\"line2d_18\">\n     <path d=\"M 142.634375 20.298438 \nL 152.634375 20.298438 \nL 162.634375 20.298438 \n\" style=\"fill: none; stroke: #1f77b4; stroke-width: 1.5; stroke-linecap: square\"/>\n    </g>\n    <g id=\"text_9\">\n     <!-- train loss -->\n     <g transform=\"translate(170.634375 23.798438)scale(0.1 -0.1)\">\n      <defs>\n       <path id=\"DejaVuSans-74\" d=\"M 1172 4494 \nL 1172 3500 \nL 2356 3500 \nL 2356 3053 \nL 1172 3053 \nL 1172 1153 \nQ 1172 725 1289 603 \nQ 1406 481 1766 481 \nL 2356 481 \nL 2356 0 \nL 1766 0 \nQ 1100 0 847 248 \nQ 594 497 594 1153 \nL 594 3053 \nL 172 3053 \nL 172 3500 \nL 594 3500 \nL 594 4494 \nL 1172 4494 \nz\n\" transform=\"scale(0.015625)\"/>\n       <path id=\"DejaVuSans-72\" d=\"M 2631 2963 \nQ 2534 3019 2420 3045 \nQ 2306 3072 2169 3072 \nQ 1681 3072 1420 2755 \nQ 1159 2438 1159 1844 \nL 1159 0 \nL 581 0 \nL 581 3500 \nL 1159 3500 \nL 1159 2956 \nQ 1341 3275 1631 3429 \nQ 1922 3584 2338 3584 \nQ 2397 3584 2469 3576 \nQ 2541 3569 2628 3553 \nL 2631 2963 \nz\n\" transform=\"scale(0.015625)\"/>\n       <path id=\"DejaVuSans-61\" d=\"M 2194 1759 \nQ 1497 1759 1228 1600 \nQ 959 1441 959 1056 \nQ 959 750 1161 570 \nQ 1363 391 1709 391 \nQ 2188 391 2477 730 \nQ 2766 1069 2766 1631 \nL 2766 1759 \nL 2194 1759 \nz\nM 3341 1997 \nL 3341 0 \nL 2766 0 \nL 2766 531 \nQ 2569 213 2275 61 \nQ 1981 -91 1556 -91 \nQ 1019 -91 701 211 \nQ 384 513 384 1019 \nQ 384 1609 779 1909 \nQ 1175 2209 1959 2209 \nL 2766 2209 \nL 2766 2266 \nQ 2766 2663 2505 2880 \nQ 2244 3097 1772 3097 \nQ 1472 3097 1187 3025 \nQ 903 2953 641 2809 \nL 641 3341 \nQ 956 3463 1253 3523 \nQ 1550 3584 1831 3584 \nQ 2591 3584 2966 3190 \nQ 3341 2797 3341 1997 \nz\n\" transform=\"scale(0.015625)\"/>\n       <path id=\"DejaVuSans-69\" d=\"M 603 3500 \nL 1178 3500 \nL 1178 0 \nL 603 0 \nL 603 3500 \nz\nM 603 4863 \nL 1178 4863 \nL 1178 4134 \nL 603 4134 \nL 603 4863 \nz\n\" transform=\"scale(0.015625)\"/>\n       <path id=\"DejaVuSans-6e\" d=\"M 3513 2113 \nL 3513 0 \nL 2938 0 \nL 2938 2094 \nQ 2938 2591 2744 2837 \nQ 2550 3084 2163 3084 \nQ 1697 3084 1428 2787 \nQ 1159 2491 1159 1978 \nL 1159 0 \nL 581 0 \nL 581 3500 \nL 1159 3500 \nL 1159 2956 \nQ 1366 3272 1645 3428 \nQ 1925 3584 2291 3584 \nQ 2894 3584 3203 3211 \nQ 3513 2838 3513 2113 \nz\n\" transform=\"scale(0.015625)\"/>\n       <path id=\"DejaVuSans-20\" transform=\"scale(0.015625)\"/>\n       <path id=\"DejaVuSans-6c\" d=\"M 603 4863 \nL 1178 4863 \nL 1178 0 \nL 603 0 \nL 603 4863 \nz\n\" transform=\"scale(0.015625)\"/>\n       <path id=\"DejaVuSans-73\" d=\"M 2834 3397 \nL 2834 2853 \nQ 2591 2978 2328 3040 \nQ 2066 3103 1784 3103 \nQ 1356 3103 1142 2972 \nQ 928 2841 928 2578 \nQ 928 2378 1081 2264 \nQ 1234 2150 1697 2047 \nL 1894 2003 \nQ 2506 1872 2764 1633 \nQ 3022 1394 3022 966 \nQ 3022 478 2636 193 \nQ 2250 -91 1575 -91 \nQ 1294 -91 989 -36 \nQ 684 19 347 128 \nL 347 722 \nQ 666 556 975 473 \nQ 1284 391 1588 391 \nQ 1994 391 2212 530 \nQ 2431 669 2431 922 \nQ 2431 1156 2273 1281 \nQ 2116 1406 1581 1522 \nL 1381 1569 \nQ 847 1681 609 1914 \nQ 372 2147 372 2553 \nQ 372 3047 722 3315 \nQ 1072 3584 1716 3584 \nQ 2034 3584 2315 3537 \nQ 2597 3491 2834 3397 \nz\n\" transform=\"scale(0.015625)\"/>\n      </defs>\n      <use xlink:href=\"#DejaVuSans-74\"/>\n      <use xlink:href=\"#DejaVuSans-72\" x=\"39.208984\"/>\n      <use xlink:href=\"#DejaVuSans-61\" x=\"80.322266\"/>\n      <use xlink:href=\"#DejaVuSans-69\" x=\"141.601562\"/>\n      <use xlink:href=\"#DejaVuSans-6e\" x=\"169.384766\"/>\n      <use xlink:href=\"#DejaVuSans-20\" x=\"232.763672\"/>\n      <use xlink:href=\"#DejaVuSans-6c\" x=\"264.550781\"/>\n      <use xlink:href=\"#DejaVuSans-6f\" x=\"292.333984\"/>\n      <use xlink:href=\"#DejaVuSans-73\" x=\"353.515625\"/>\n      <use xlink:href=\"#DejaVuSans-73\" x=\"405.615234\"/>\n     </g>\n    </g>\n    <g id=\"line2d_19\">\n     <path d=\"M 142.634375 34.976562 \nL 152.634375 34.976562 \nL 162.634375 34.976562 \n\" style=\"fill: none; stroke-dasharray: 5.55,2.4; stroke-dashoffset: 0; stroke: #bf00bf; stroke-width: 1.5\"/>\n    </g>\n    <g id=\"text_10\">\n     <!-- train acc -->\n     <g transform=\"translate(170.634375 38.476562)scale(0.1 -0.1)\">\n      <use xlink:href=\"#DejaVuSans-74\"/>\n      <use xlink:href=\"#DejaVuSans-72\" x=\"39.208984\"/>\n      <use xlink:href=\"#DejaVuSans-61\" x=\"80.322266\"/>\n      <use xlink:href=\"#DejaVuSans-69\" x=\"141.601562\"/>\n      <use xlink:href=\"#DejaVuSans-6e\" x=\"169.384766\"/>\n      <use xlink:href=\"#DejaVuSans-20\" x=\"232.763672\"/>\n      <use xlink:href=\"#DejaVuSans-61\" x=\"264.550781\"/>\n      <use xlink:href=\"#DejaVuSans-63\" x=\"325.830078\"/>\n      <use xlink:href=\"#DejaVuSans-63\" x=\"380.810547\"/>\n     </g>\n    </g>\n   </g>\n  </g>\n </g>\n <defs>\n  <clipPath id=\"p9aaf897b09\">\n   <rect x=\"30.103125\" y=\"7.2\" width=\"195.3\" height=\"138.6\"/>\n  </clipPath>\n </defs>\n</svg>\n"
     },
     "metadata": {},
     "output_type": "display_data"
    }
   ],
   "source": [
    "net, preds = utils.get_net(10), []\n",
    "utils.train(net, train_valid_iter, None, num_epochs, lr, wd, lr_period,\n",
    "            lr_decay)\n",
    "\n",
    "utils.predict(net, test_iter, preds=preds,device=device)\n",
    "sorted_ids = list(range(1, len(test_ds) + 1))\n",
    "sorted_ids.sort(key=lambda x: str(x))\n",
    "df = pd.DataFrame({'id': sorted_ids, 'label': preds})\n",
    "df['label'] = df['label'].apply(lambda x: train_valid_ds.classes[x])\n",
    "df.to_csv('submission.csv', index=False)"
   ]
  },
  {
   "cell_type": "markdown",
   "id": "ca9aa8ed",
   "metadata": {
    "origin_pos": 55
   },
   "source": [
    "向Kaggle提交结果的方法与 :numref:`sec_kaggle_house`中的方法类似，上面的代码将生成一个\n",
    "`submission.csv`文件，其格式符合Kaggle竞赛的要求。\n",
    "\n",
    "## 小结\n",
    "\n",
    "* 将包含原始图像文件的数据集组织为所需格式后，我们可以读取它们。\n"
   ]
  },
  {
   "cell_type": "markdown",
   "id": "c643aeee",
   "metadata": {
    "origin_pos": 57,
    "tab": [
     "pytorch"
    ]
   },
   "source": [
    "* 我们可以在图像分类竞赛中使用卷积神经网络和图像增广。\n"
   ]
  },
  {
   "cell_type": "markdown",
   "id": "fb5c2fb5",
   "metadata": {
    "origin_pos": 59
   },
   "source": [
    "## 练习\n",
    "\n",
    "1. 在这场Kaggle竞赛中使用完整的CIFAR-10数据集。将超参数设为`batch_size = 128`，`num_epochs = 100`，`lr = 0.1`，`lr_period = 50`，`lr_decay = 0.1`。看看在这场比赛中能达到什么准确度和排名。能进一步改进吗？\n",
    "1. 不使用图像增广时，能获得怎样的准确度？\n"
   ]
  },
  {
   "cell_type": "markdown",
   "id": "289a2bed",
   "metadata": {
    "origin_pos": 61,
    "tab": [
     "pytorch"
    ]
   },
   "source": [
    "[Discussions](https://discuss.d2l.ai/t/2831)\n"
   ]
  }
 ],
 "metadata": {
  "language_info": {
   "name": "python"
  },
  "kernelspec": {
   "name": "python3",
   "language": "python",
   "display_name": "Python 3 (ipykernel)"
  }
 },
 "nbformat": 4,
 "nbformat_minor": 5
}
