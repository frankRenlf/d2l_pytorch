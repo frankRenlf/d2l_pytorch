{
 "cells": [
  {
   "cell_type": "markdown",
   "id": "81a28a92",
   "metadata": {
    "origin_pos": 0
   },
   "source": [
    "# 实战Kaggle比赛：预测房价\n",
    ":label:`sec_kaggle_house`\n",
    "\n",
    "之前几节我们学习了一些训练深度网络的基本工具和网络正则化的技术（如权重衰减、暂退法等）。\n",
    "本节我们将通过Kaggle比赛，将所学知识付诸实践。\n",
    "Kaggle的房价预测比赛是一个很好的起点。\n",
    "此数据集由Bart de Cock于2011年收集 :cite:`De-Cock.2011`，\n",
    "涵盖了2006-2010年期间亚利桑那州埃姆斯市的房价。\n",
    "这个数据集是相当通用的，不会需要使用复杂模型架构。\n",
    "它比哈里森和鲁宾菲尔德的[波士顿房价](https://archive.ics.uci.edu/ml/machine-learning-databases/housing/housing.names)\n",
    "数据集要大得多，也有更多的特征。\n",
    "\n",
    "本节我们将详细介绍数据预处理、模型设计和超参数选择。\n",
    "通过亲身实践，你将获得一手经验，这些经验将有益数据科学家的职业成长。\n",
    "\n",
    "## 下载和缓存数据集\n",
    "\n",
    "在整本书中，我们将下载不同的数据集，并训练和测试模型。\n",
    "这里我们(**实现几个函数来方便下载数据**)。\n",
    "首先，我们建立字典`DATA_HUB`，\n",
    "它可以将数据集名称的字符串映射到数据集相关的二元组上，\n",
    "这个二元组包含数据集的url和验证文件完整性的sha-1密钥。\n",
    "所有类似的数据集都托管在地址为`DATA_URL`的站点上。\n"
   ]
  },
  {
   "cell_type": "code",
   "execution_count": 212,
   "id": "e77e804a",
   "metadata": {
    "execution": {
     "iopub.execute_input": "2022-12-07T16:58:08.770045Z",
     "iopub.status.busy": "2022-12-07T16:58:08.769489Z",
     "iopub.status.idle": "2022-12-07T16:58:08.826735Z",
     "shell.execute_reply": "2022-12-07T16:58:08.825976Z"
    },
    "origin_pos": 1,
    "tab": [
     "pytorch"
    ],
    "ExecuteTime": {
     "end_time": "2023-08-09T03:55:06.691657Z",
     "start_time": "2023-08-09T03:55:06.640938Z"
    }
   },
   "outputs": [],
   "source": [
    "import hashlib\n",
    "import os\n",
    "import tarfile\n",
    "import zipfile\n",
    "import requests\n",
    "\n",
    "#@save\n",
    "DATA_HUB = dict()\n",
    "DATA_URL = 'http://d2l-data.s3-accelerate.amazonaws.com/'"
   ]
  },
  {
   "cell_type": "markdown",
   "id": "a2853cb9",
   "metadata": {
    "origin_pos": 2
   },
   "source": [
    "下面的`download`函数用来下载数据集，\n",
    "将数据集缓存在本地目录（默认情况下为`../data`）中，\n",
    "并返回下载文件的名称。\n",
    "如果缓存目录中已经存在此数据集文件，并且其sha-1与存储在`DATA_HUB`中的相匹配，\n",
    "我们将使用缓存的文件，以避免重复的下载。\n"
   ]
  },
  {
   "cell_type": "code",
   "execution_count": 213,
   "id": "356b9f06",
   "metadata": {
    "execution": {
     "iopub.execute_input": "2022-12-07T16:58:08.830467Z",
     "iopub.status.busy": "2022-12-07T16:58:08.830041Z",
     "iopub.status.idle": "2022-12-07T16:58:08.837352Z",
     "shell.execute_reply": "2022-12-07T16:58:08.836620Z"
    },
    "origin_pos": 3,
    "tab": [
     "pytorch"
    ],
    "ExecuteTime": {
     "end_time": "2023-08-09T03:55:06.701140Z",
     "start_time": "2023-08-09T03:55:06.645516Z"
    }
   },
   "outputs": [],
   "source": [
    "def download(name, cache_dir=os.path.join('..', 'data')):  #@save\n",
    "    \"\"\"下载一个DATA_HUB中的文件，返回本地文件名\"\"\"\n",
    "    assert name in DATA_HUB, f\"{name} 不存在于 {DATA_HUB}\"\n",
    "    url, sha1_hash = DATA_HUB[name]\n",
    "    os.makedirs(cache_dir, exist_ok=True)\n",
    "    fname = os.path.join(cache_dir, url.split('/')[-1])\n",
    "    if os.path.exists(fname):\n",
    "        sha1 = hashlib.sha1()\n",
    "        with open(fname, 'rb') as f:\n",
    "            while True:\n",
    "                data = f.read(1048576)\n",
    "                if not data:\n",
    "                    break\n",
    "                sha1.update(data)\n",
    "        if sha1.hexdigest() == sha1_hash:\n",
    "            return fname  # 命中缓存\n",
    "    print(f'正在从{url}下载{fname}...')\n",
    "    r = requests.get(url, stream=True, verify=True)\n",
    "    with open(fname, 'wb') as f:\n",
    "        f.write(r.content)\n",
    "    return fname"
   ]
  },
  {
   "cell_type": "markdown",
   "id": "827e8ddb",
   "metadata": {
    "origin_pos": 4
   },
   "source": [
    "我们还需实现两个实用函数：\n",
    "一个将下载并解压缩一个zip或tar文件，\n",
    "另一个是将本书中使用的所有数据集从`DATA_HUB`下载到缓存目录中。\n"
   ]
  },
  {
   "cell_type": "code",
   "execution_count": 214,
   "id": "2f3da160",
   "metadata": {
    "execution": {
     "iopub.execute_input": "2022-12-07T16:58:08.840617Z",
     "iopub.status.busy": "2022-12-07T16:58:08.840196Z",
     "iopub.status.idle": "2022-12-07T16:58:08.845984Z",
     "shell.execute_reply": "2022-12-07T16:58:08.845294Z"
    },
    "origin_pos": 5,
    "tab": [
     "pytorch"
    ],
    "ExecuteTime": {
     "end_time": "2023-08-09T03:55:06.702967Z",
     "start_time": "2023-08-09T03:55:06.649469Z"
    }
   },
   "outputs": [],
   "source": [
    "def download_extract(name, folder=None):  #@save\n",
    "    \"\"\"下载并解压zip/tar文件\"\"\"\n",
    "    fname = download(name)\n",
    "    base_dir = os.path.dirname(fname)\n",
    "    data_dir, ext = os.path.splitext(fname)\n",
    "    if ext == '.zip':\n",
    "        fp = zipfile.ZipFile(fname, 'r')\n",
    "    elif ext in ('.tar', '.gz'):\n",
    "        fp = tarfile.open(fname, 'r')\n",
    "    else:\n",
    "        assert False, '只有zip/tar文件可以被解压缩'\n",
    "    fp.extractall(base_dir)\n",
    "    return os.path.join(base_dir, folder) if folder else data_dir\n",
    "\n",
    "\n",
    "def download_all():  #@save\n",
    "    \"\"\"下载DATA_HUB中的所有文件\"\"\"\n",
    "    for name in DATA_HUB:\n",
    "        download(name)"
   ]
  },
  {
   "cell_type": "markdown",
   "id": "681a2cf9",
   "metadata": {
    "origin_pos": 6
   },
   "source": [
    "## Kaggle\n",
    "\n",
    "[Kaggle](https://www.kaggle.com)是一个当今流行举办机器学习比赛的平台，\n",
    "每场比赛都以至少一个数据集为中心。\n",
    "许多比赛有赞助方，他们为获胜的解决方案提供奖金。\n",
    "该平台帮助用户通过论坛和共享代码进行互动，促进协作和竞争。\n",
    "虽然排行榜的追逐往往令人失去理智：\n",
    "有些研究人员短视地专注于预处理步骤，而不是考虑基础性问题。\n",
    "但一个客观的平台有巨大的价值：该平台促进了竞争方法之间的直接定量比较，以及代码共享。\n",
    "这便于每个人都可以学习哪些方法起作用，哪些没有起作用。\n",
    "如果我们想参加Kaggle比赛，首先需要注册一个账户（见 :numref:`fig_kaggle`）。\n",
    "\n",
    "![Kaggle网站](../img/kaggle.png)\n",
    ":width:`400px`\n",
    ":label:`fig_kaggle`\n",
    "\n",
    "在房价预测比赛页面（如 :numref:`fig_house_pricing` 所示）的\"Data\"选项卡下可以找到数据集。我们可以通过下面的网址提交预测，并查看排名：\n",
    "\n",
    ">https://www.kaggle.com/c/house-prices-advanced-regression-techniques\n",
    "\n",
    "![房价预测比赛页面](../img/house-pricing.png)\n",
    ":width:`400px`\n",
    ":label:`fig_house_pricing`\n",
    "\n",
    "## 访问和读取数据集\n",
    "\n",
    "注意，竞赛数据分为训练集和测试集。\n",
    "每条记录都包括房屋的属性值和属性，如街道类型、施工年份、屋顶类型、地下室状况等。\n",
    "这些特征由各种数据类型组成。\n",
    "例如，建筑年份由整数表示，屋顶类型由离散类别表示，其他特征由浮点数表示。\n",
    "这就是现实让事情变得复杂的地方：例如，一些数据完全丢失了，缺失值被简单地标记为“NA”。\n",
    "每套房子的价格只出现在训练集中（毕竟这是一场比赛）。\n",
    "我们将希望划分训练集以创建验证集，但是在将预测结果上传到Kaggle之后，\n",
    "我们只能在官方测试集中评估我们的模型。\n",
    "在 :numref:`fig_house_pricing` 中，\"Data\"选项卡有下载数据的链接。\n",
    "\n",
    "开始之前，我们将[**使用`pandas`读入并处理数据**]，\n",
    "这是我们在 :numref:`sec_pandas`中引入的。\n",
    "因此，在继续操作之前，我们需要确保已安装`pandas`。\n",
    "幸运的是，如果我们正在用Jupyter阅读该书，可以在不离开笔记本的情况下安装`pandas`。\n"
   ]
  },
  {
   "cell_type": "code",
   "execution_count": 215,
   "id": "5f97aaa0",
   "metadata": {
    "execution": {
     "iopub.execute_input": "2022-12-07T16:58:08.849212Z",
     "iopub.status.busy": "2022-12-07T16:58:08.848803Z",
     "iopub.status.idle": "2022-12-07T16:58:11.308665Z",
     "shell.execute_reply": "2022-12-07T16:58:11.307847Z"
    },
    "origin_pos": 8,
    "tab": [
     "pytorch"
    ],
    "ExecuteTime": {
     "end_time": "2023-08-09T03:55:06.703830Z",
     "start_time": "2023-08-09T03:55:06.653081Z"
    }
   },
   "outputs": [],
   "source": [
    "# 如果没有安装pandas，请取消下一行的注释\n",
    "# !pip install pandas\n",
    "\n",
    "%matplotlib inline\n",
    "import numpy as np\n",
    "import pandas as pd\n",
    "import torch\n",
    "from torch import nn\n",
    "from d2l import torch as d2l"
   ]
  },
  {
   "cell_type": "markdown",
   "id": "54c52b31",
   "metadata": {
    "origin_pos": 11
   },
   "source": [
    "为方便起见，我们可以使用上面定义的脚本下载并缓存Kaggle房屋数据集。\n"
   ]
  },
  {
   "cell_type": "code",
   "execution_count": 216,
   "id": "7b6cc29f",
   "metadata": {
    "execution": {
     "iopub.execute_input": "2022-12-07T16:58:11.312652Z",
     "iopub.status.busy": "2022-12-07T16:58:11.312099Z",
     "iopub.status.idle": "2022-12-07T16:58:11.316331Z",
     "shell.execute_reply": "2022-12-07T16:58:11.315618Z"
    },
    "origin_pos": 12,
    "tab": [
     "pytorch"
    ],
    "ExecuteTime": {
     "end_time": "2023-08-09T03:55:06.744615Z",
     "start_time": "2023-08-09T03:55:06.656173Z"
    }
   },
   "outputs": [],
   "source": [
    "DATA_HUB['kaggle_house_train'] = (  #@save\n",
    "    DATA_URL + 'kaggle_house_pred_train.csv',\n",
    "    '585e9cc93e70b39160e7921475f9bcd7d31219ce')\n",
    "\n",
    "DATA_HUB['kaggle_house_test'] = (  #@save\n",
    "    DATA_URL + 'kaggle_house_pred_test.csv',\n",
    "    'fa19780a7b011d9b009e8bff8e99922a8ee2eb90')"
   ]
  },
  {
   "cell_type": "markdown",
   "id": "d656e46d",
   "metadata": {
    "origin_pos": 13
   },
   "source": [
    "我们使用`pandas`分别加载包含训练数据和测试数据的两个CSV文件。\n"
   ]
  },
  {
   "cell_type": "code",
   "execution_count": 217,
   "id": "c44a403e",
   "metadata": {
    "execution": {
     "iopub.execute_input": "2022-12-07T16:58:11.319488Z",
     "iopub.status.busy": "2022-12-07T16:58:11.319067Z",
     "iopub.status.idle": "2022-12-07T16:58:11.659100Z",
     "shell.execute_reply": "2022-12-07T16:58:11.658271Z"
    },
    "origin_pos": 14,
    "tab": [
     "pytorch"
    ],
    "ExecuteTime": {
     "end_time": "2023-08-09T03:55:06.761094Z",
     "start_time": "2023-08-09T03:55:06.658195Z"
    }
   },
   "outputs": [],
   "source": [
    "train_data = pd.read_csv('../data/kaggle_house_pred_train.csv')\n",
    "test_data = pd.read_csv('../data/kaggle_house_pred_test.csv')"
   ]
  },
  {
   "cell_type": "markdown",
   "id": "49958d10",
   "metadata": {
    "origin_pos": 15
   },
   "source": [
    "训练数据集包括1460个样本，每个样本80个特征和1个标签，\n",
    "而测试数据集包含1459个样本，每个样本80个特征。\n"
   ]
  },
  {
   "cell_type": "code",
   "execution_count": 218,
   "id": "878482ce",
   "metadata": {
    "execution": {
     "iopub.execute_input": "2022-12-07T16:58:11.663888Z",
     "iopub.status.busy": "2022-12-07T16:58:11.663613Z",
     "iopub.status.idle": "2022-12-07T16:58:11.668108Z",
     "shell.execute_reply": "2022-12-07T16:58:11.667361Z"
    },
    "origin_pos": 16,
    "tab": [
     "pytorch"
    ],
    "ExecuteTime": {
     "end_time": "2023-08-09T03:55:06.762011Z",
     "start_time": "2023-08-09T03:55:06.675036Z"
    }
   },
   "outputs": [
    {
     "name": "stdout",
     "output_type": "stream",
     "text": [
      "(1460, 81)\n",
      "(1459, 80)\n"
     ]
    }
   ],
   "source": [
    "print(train_data.shape)\n",
    "print(test_data.shape)"
   ]
  },
  {
   "cell_type": "markdown",
   "id": "c1d1caf0",
   "metadata": {
    "origin_pos": 17
   },
   "source": [
    "让我们看看[**前四个和最后两个特征，以及相应标签**]（房价）。\n"
   ]
  },
  {
   "cell_type": "code",
   "execution_count": 219,
   "id": "5a2b4c7f",
   "metadata": {
    "execution": {
     "iopub.execute_input": "2022-12-07T16:58:11.672773Z",
     "iopub.status.busy": "2022-12-07T16:58:11.672504Z",
     "iopub.status.idle": "2022-12-07T16:58:11.682544Z",
     "shell.execute_reply": "2022-12-07T16:58:11.681821Z"
    },
    "origin_pos": 18,
    "tab": [
     "pytorch"
    ],
    "ExecuteTime": {
     "end_time": "2023-08-09T03:55:06.762797Z",
     "start_time": "2023-08-09T03:55:06.678906Z"
    }
   },
   "outputs": [
    {
     "name": "stdout",
     "output_type": "stream",
     "text": [
      "   Id  MSSubClass MSZoning  LotFrontage SaleType SaleCondition  SalePrice\n",
      "0   1          60       RL         65.0       WD        Normal     208500\n",
      "1   2          20       RL         80.0       WD        Normal     181500\n",
      "2   3          60       RL         68.0       WD        Normal     223500\n",
      "3   4          70       RL         60.0       WD       Abnorml     140000\n"
     ]
    }
   ],
   "source": [
    "print(train_data.iloc[0:4, [0, 1, 2, 3, -3, -2, -1]])"
   ]
  },
  {
   "cell_type": "markdown",
   "id": "75857453",
   "metadata": {
    "origin_pos": 19
   },
   "source": [
    "我们可以看到，(**在每个样本中，第一个特征是ID，**)\n",
    "这有助于模型识别每个训练样本。\n",
    "虽然这很方便，但它不携带任何用于预测的信息。\n",
    "因此，在将数据提供给模型之前，(**我们将其从数据集中删除**)。\n"
   ]
  },
  {
   "cell_type": "code",
   "execution_count": 220,
   "id": "6ae7518f",
   "metadata": {
    "execution": {
     "iopub.execute_input": "2022-12-07T16:58:11.685836Z",
     "iopub.status.busy": "2022-12-07T16:58:11.685412Z",
     "iopub.status.idle": "2022-12-07T16:58:11.704825Z",
     "shell.execute_reply": "2022-12-07T16:58:11.704052Z"
    },
    "origin_pos": 20,
    "tab": [
     "pytorch"
    ],
    "ExecuteTime": {
     "end_time": "2023-08-09T03:55:06.762949Z",
     "start_time": "2023-08-09T03:55:06.683972Z"
    }
   },
   "outputs": [],
   "source": [
    "all_features = pd.concat((train_data.iloc[:, 1:-1], test_data.iloc[:, 1:]))\n",
    "id, label = 'Id', 'SalePrice'\n",
    "# large_val_cols = ['Lot', 'Total interior livable area', 'Tax assessed value', 'Annual tax amount', 'Listed Price',\n",
    "#                   'Last Sold Price', 'Summary', 'Parking', 'Elementary School', 'Address', 'Flooring', 'Middle School',\n",
    "#                   'High School', 'Appliances included', 'Heating features', 'Cooling features', 'Laundry features',\n",
    "#                   'Heating', 'Cooling', 'Parking features', 'Region', 'City', 'Type']\n",
    "# for c in large_val_cols:\n",
    "#     all_features.drop(columns=c, inplace=True)\n",
    "# \n",
    "# # 修改 'bedrooms' 列的数据类型为字符串（object 类型）\n",
    "# all_features['Bedrooms'] = all_features['Bedrooms'].astype(str)\n",
    "# \n",
    "# # 使用 apply 函数来将每个单元格的逗号分隔的单词数计算并更新\n",
    "# all_features['Bedrooms'] = all_features['Bedrooms'].apply(lambda x: len(x.split(',')))"
   ]
  },
  {
   "cell_type": "markdown",
   "id": "1f0ffb9c",
   "metadata": {
    "origin_pos": 21
   },
   "source": [
    "## 数据预处理\n",
    "\n",
    "如上所述，我们有各种各样的数据类型。\n",
    "在开始建模之前，我们需要对数据进行预处理。\n",
    "首先，我们[**将所有缺失的值替换为相应特征的平均值。**]然后，为了将所有特征放在一个共同的尺度上，\n",
    "我们(**通过将特征重新缩放到零均值和单位方差来标准化数据**)：\n",
    "\n",
    "$$x \\leftarrow \\frac{x - \\mu}{\\sigma},$$\n",
    "\n",
    "其中$\\mu$和$\\sigma$分别表示均值和标准差。\n",
    "现在，这些特征具有零均值和单位方差，即 $E[\\frac{x-\\mu}{\\sigma}] = \\frac{\\mu - \\mu}{\\sigma} = 0$和$E[(x-\\mu)^2] = (\\sigma^2 + \\mu^2) - 2\\mu^2+\\mu^2 = \\sigma^2$。\n",
    "直观地说，我们标准化数据有两个原因：\n",
    "首先，它方便优化。\n",
    "其次，因为我们不知道哪些特征是相关的，\n",
    "所以我们不想让惩罚分配给一个特征的系数比分配给其他任何特征的系数更大。\n"
   ]
  },
  {
   "cell_type": "code",
   "execution_count": 221,
   "id": "e3f04a25",
   "metadata": {
    "execution": {
     "iopub.execute_input": "2022-12-07T16:58:11.707930Z",
     "iopub.status.busy": "2022-12-07T16:58:11.707662Z",
     "iopub.status.idle": "2022-12-07T16:58:11.760252Z",
     "shell.execute_reply": "2022-12-07T16:58:11.759456Z"
    },
    "origin_pos": 22,
    "tab": [
     "pytorch"
    ],
    "ExecuteTime": {
     "end_time": "2023-08-09T03:55:06.772397Z",
     "start_time": "2023-08-09T03:55:06.689825Z"
    }
   },
   "outputs": [],
   "source": [
    "# 若无法获得测试数据，则可根据训练数据计算均值和标准差\n",
    "numeric_features = all_features.dtypes[all_features.dtypes != 'object'].index\n",
    "all_features[numeric_features] = all_features[numeric_features].apply(\n",
    "    lambda x: (x - x.mean()) / (x.std()))\n",
    "# 在标准化数据之后，所有均值消失，因此我们可以将缺失值设置为0\n",
    "all_features[numeric_features] = all_features[numeric_features].fillna(0)"
   ]
  },
  {
   "cell_type": "markdown",
   "id": "ddc49117",
   "metadata": {
    "origin_pos": 23
   },
   "source": [
    "接下来，我们[**处理离散值。**]\n",
    "这包括诸如“MSZoning”之类的特征。\n",
    "(**我们用独热编码替换它们**)，\n",
    "方法与前面将多类别标签转换为向量的方式相同\n",
    "（请参见 :numref:`subsec_classification-problem`）。\n",
    "例如，“MSZoning”包含值“RL”和“Rm”。\n",
    "我们将创建两个新的指示器特征“MSZoning_RL”和“MSZoning_RM”，其值为0或1。\n",
    "根据独热编码，如果“MSZoning”的原始值为“RL”，\n",
    "则：“MSZoning_RL”为1，“MSZoning_RM”为0。\n",
    "`pandas`软件包会自动为我们实现这一点。\n"
   ]
  },
  {
   "cell_type": "code",
   "execution_count": 222,
   "id": "abd82847",
   "metadata": {
    "execution": {
     "iopub.execute_input": "2022-12-07T16:58:11.763952Z",
     "iopub.status.busy": "2022-12-07T16:58:11.763302Z",
     "iopub.status.idle": "2022-12-07T16:58:11.817682Z",
     "shell.execute_reply": "2022-12-07T16:58:11.816915Z"
    },
    "origin_pos": 24,
    "tab": [
     "pytorch"
    ],
    "ExecuteTime": {
     "end_time": "2023-08-09T03:55:06.773348Z",
     "start_time": "2023-08-09T03:55:06.701532Z"
    }
   },
   "outputs": [
    {
     "data": {
      "text/plain": "(2919, 331)"
     },
     "execution_count": 222,
     "metadata": {},
     "output_type": "execute_result"
    }
   ],
   "source": [
    "# “Dummy_na=True”将“na”（缺失值）视为有效的特征值，并为其创建指示符特征\n",
    "all_features = pd.get_dummies(all_features, dummy_na=True)\n",
    "all_features.shape"
   ]
  },
  {
   "cell_type": "markdown",
   "id": "1383759e",
   "metadata": {
    "origin_pos": 25
   },
   "source": [
    "可以看到此转换会将特征的总数量从79个增加到331个。\n",
    "最后，通过`values`属性，我们可以\n",
    "[**从`pandas`格式中提取NumPy格式，并将其转换为张量表示**]用于训练。\n"
   ]
  },
  {
   "cell_type": "code",
   "execution_count": 223,
   "id": "be9f058a",
   "metadata": {
    "execution": {
     "iopub.execute_input": "2022-12-07T16:58:11.822849Z",
     "iopub.status.busy": "2022-12-07T16:58:11.822284Z",
     "iopub.status.idle": "2022-12-07T16:58:11.856262Z",
     "shell.execute_reply": "2022-12-07T16:58:11.855484Z"
    },
    "origin_pos": 26,
    "tab": [
     "pytorch"
    ],
    "ExecuteTime": {
     "end_time": "2023-08-09T03:55:06.773392Z",
     "start_time": "2023-08-09T03:55:06.720130Z"
    }
   },
   "outputs": [],
   "source": [
    "n_train = train_data.shape[0]\n",
    "train_features = torch.tensor(all_features[:n_train].values, dtype=torch.float32)\n",
    "test_features = torch.tensor(all_features[n_train:].values, dtype=torch.float32)\n",
    "train_labels = torch.tensor(\n",
    "    train_data['SalePrice'].values.reshape(-1, 1), dtype=torch.float32)"
   ]
  },
  {
   "cell_type": "markdown",
   "id": "cae76ca3",
   "metadata": {
    "origin_pos": 27
   },
   "source": [
    "## [**训练**]\n",
    "\n",
    "首先，我们训练一个带有损失平方的线性模型。\n",
    "显然线性模型很难让我们在竞赛中获胜，但线性模型提供了一种健全性检查，\n",
    "以查看数据中是否存在有意义的信息。\n",
    "如果我们在这里不能做得比随机猜测更好，那么我们很可能存在数据处理错误。\n",
    "如果一切顺利，线性模型将作为*基线*（baseline）模型，\n",
    "让我们直观地知道最好的模型有超出简单的模型多少。\n"
   ]
  },
  {
   "cell_type": "code",
   "execution_count": 224,
   "id": "be979080",
   "metadata": {
    "execution": {
     "iopub.execute_input": "2022-12-07T16:58:11.859991Z",
     "iopub.status.busy": "2022-12-07T16:58:11.859487Z",
     "iopub.status.idle": "2022-12-07T16:58:11.863808Z",
     "shell.execute_reply": "2022-12-07T16:58:11.863058Z"
    },
    "origin_pos": 29,
    "tab": [
     "pytorch"
    ],
    "ExecuteTime": {
     "end_time": "2023-08-09T03:55:06.773648Z",
     "start_time": "2023-08-09T03:55:06.725705Z"
    }
   },
   "outputs": [
    {
     "data": {
      "text/plain": "Sequential(\n  (0): Linear(in_features=331, out_features=1024, bias=True)\n  (1): Linear(in_features=1024, out_features=512, bias=True)\n  (2): ReLU()\n  (3): Linear(in_features=512, out_features=256, bias=True)\n  (4): Linear(in_features=256, out_features=128, bias=True)\n  (5): Linear(in_features=128, out_features=32, bias=True)\n  (6): ReLU()\n  (7): Linear(in_features=32, out_features=16, bias=True)\n  (8): Linear(in_features=16, out_features=4, bias=True)\n  (9): Linear(in_features=4, out_features=1, bias=True)\n  (10): ReLU()\n)"
     },
     "execution_count": 224,
     "metadata": {},
     "output_type": "execute_result"
    }
   ],
   "source": [
    "loss = nn.MSELoss()\n",
    "in_features = train_features.shape[1]\n",
    "\n",
    "\n",
    "def init_normal(m):\n",
    "    if type(m) == nn.Linear:\n",
    "        nn.init.normal_(m.weight, mean=0, std=0.01)\n",
    "        nn.init.zeros_(m.bias)\n",
    "\n",
    "\n",
    "def get_net():\n",
    "    net = nn.Sequential()\n",
    "    net.append(nn.Linear(in_features, 1024))\n",
    "    net.append(nn.Linear(1024, 512)).append(nn.ReLU())\n",
    "    net.append(nn.Linear(512, 256))\n",
    "    net.append(nn.Linear(256, 128))\n",
    "    net.append(nn.Linear(128, 32)).append(nn.ReLU())\n",
    "    net.append(nn.Linear(32, 16))\n",
    "    net.append(nn.Linear(16, 4))\n",
    "    net.append(nn.Linear(4, 1)).append(nn.ReLU())\n",
    "    net.apply(init_normal)\n",
    "    return net\n",
    "\n",
    "\n",
    "get_net()"
   ]
  },
  {
   "cell_type": "markdown",
   "id": "f2088ef1",
   "metadata": {
    "origin_pos": 31
   },
   "source": [
    "房价就像股票价格一样，我们关心的是相对数量，而不是绝对数量。\n",
    "因此，[**我们更关心相对误差$\\frac{y - \\hat{y}}{y}$，**]\n",
    "而不是绝对误差$y - \\hat{y}$。\n",
    "例如，如果我们在俄亥俄州农村地区估计一栋房子的价格时，\n",
    "假设我们的预测偏差了10万美元，\n",
    "然而那里一栋典型的房子的价值是12.5万美元，\n",
    "那么模型可能做得很糟糕。\n",
    "另一方面，如果我们在加州豪宅区的预测出现同样的10万美元的偏差，\n",
    "（在那里，房价中位数超过400万美元）\n",
    "这可能是一个不错的预测。\n",
    "\n",
    "(**解决这个问题的一种方法是用价格预测的对数来衡量差异**)。\n",
    "事实上，这也是比赛中官方用来评价提交质量的误差指标。\n",
    "即将$\\delta$ for $|\\log y - \\log \\hat{y}| \\leq \\delta$\n",
    "转换为$e^{-\\delta} \\leq \\frac{\\hat{y}}{y} \\leq e^\\delta$。\n",
    "这使得预测价格的对数与真实标签价格的对数之间出现以下均方根误差：\n",
    "\n",
    "$$\\sqrt{\\frac{1}{n}\\sum_{i=1}^n\\left(\\log y_i -\\log \\hat{y}_i\\right)^2}.$$\n"
   ]
  },
  {
   "cell_type": "code",
   "execution_count": 225,
   "id": "86d513c0",
   "metadata": {
    "execution": {
     "iopub.execute_input": "2022-12-07T16:58:11.866927Z",
     "iopub.status.busy": "2022-12-07T16:58:11.866615Z",
     "iopub.status.idle": "2022-12-07T16:58:11.871155Z",
     "shell.execute_reply": "2022-12-07T16:58:11.870369Z"
    },
    "origin_pos": 33,
    "tab": [
     "pytorch"
    ],
    "ExecuteTime": {
     "end_time": "2023-08-09T03:55:06.773679Z",
     "start_time": "2023-08-09T03:55:06.740444Z"
    }
   },
   "outputs": [],
   "source": [
    "def log_rmse(net, features, labels):\n",
    "    # 为了在取对数时进一步稳定该值，将小于1的值设置为1\n",
    "    clipped_preds = torch.clamp(net(features), 1, float('inf'))\n",
    "    rmse = torch.sqrt(loss(torch.log(clipped_preds),\n",
    "                           torch.log(labels)))\n",
    "    return rmse.item()"
   ]
  },
  {
   "cell_type": "markdown",
   "id": "a264435a",
   "metadata": {
    "origin_pos": 36
   },
   "source": [
    "与前面的部分不同，[**我们的训练函数将借助Adam优化器**]\n",
    "（我们将在后面章节更详细地描述它）。\n",
    "Adam优化器的主要吸引力在于它对初始学习率不那么敏感。\n"
   ]
  },
  {
   "cell_type": "code",
   "execution_count": 226,
   "id": "e3cc555f",
   "metadata": {
    "execution": {
     "iopub.execute_input": "2022-12-07T16:58:11.874441Z",
     "iopub.status.busy": "2022-12-07T16:58:11.873956Z",
     "iopub.status.idle": "2022-12-07T16:58:11.879898Z",
     "shell.execute_reply": "2022-12-07T16:58:11.879181Z"
    },
    "origin_pos": 38,
    "tab": [
     "pytorch"
    ],
    "ExecuteTime": {
     "end_time": "2023-08-09T03:55:06.773973Z",
     "start_time": "2023-08-09T03:55:06.744309Z"
    }
   },
   "outputs": [],
   "source": [
    "def train(net, train_features, train_labels, test_features, test_labels,\n",
    "          num_epochs, learning_rate, weight_decay, batch_size):\n",
    "    train_ls, test_ls = [], []\n",
    "    train_iter = d2l.load_array((train_features, train_labels), batch_size)\n",
    "    # 这里使用的是Adam优化算法\n",
    "    optimizer = torch.optim.Adam(net.parameters(),\n",
    "                                 lr=learning_rate,\n",
    "                                 weight_decay=weight_decay)\n",
    "    for epoch in range(num_epochs):\n",
    "        for X, y in train_iter:\n",
    "            optimizer.zero_grad()\n",
    "            l = loss(net(X), y)\n",
    "            l.backward()\n",
    "            optimizer.step()\n",
    "        train_ls.append(log_rmse(net, train_features, train_labels))\n",
    "        if test_labels is not None:\n",
    "            test_ls.append(log_rmse(net, test_features, test_labels))\n",
    "        print(epoch, train_ls[epoch])\n",
    "    return train_ls, test_ls"
   ]
  },
  {
   "cell_type": "markdown",
   "id": "ff14bef2",
   "metadata": {
    "origin_pos": 41
   },
   "source": [
    "## $K$折交叉验证\n",
    "\n",
    "本书在讨论模型选择的部分（ :numref:`sec_model_selection`）\n",
    "中介绍了[**K折交叉验证**]，\n",
    "它有助于模型选择和超参数调整。\n",
    "我们首先需要定义一个函数，在$K$折交叉验证过程中返回第$i$折的数据。\n",
    "具体地说，它选择第$i$个切片作为验证数据，其余部分作为训练数据。\n",
    "注意，这并不是处理数据的最有效方法，如果我们的数据集大得多，会有其他解决办法。\n"
   ]
  },
  {
   "cell_type": "code",
   "execution_count": 227,
   "id": "c414b140",
   "metadata": {
    "execution": {
     "iopub.execute_input": "2022-12-07T16:58:11.884516Z",
     "iopub.status.busy": "2022-12-07T16:58:11.883911Z",
     "iopub.status.idle": "2022-12-07T16:58:11.889553Z",
     "shell.execute_reply": "2022-12-07T16:58:11.888828Z"
    },
    "origin_pos": 42,
    "tab": [
     "pytorch"
    ],
    "ExecuteTime": {
     "end_time": "2023-08-09T03:55:06.774008Z",
     "start_time": "2023-08-09T03:55:06.747198Z"
    }
   },
   "outputs": [],
   "source": [
    "def get_k_fold_data(k, i, X, y):\n",
    "    assert k > 1\n",
    "    fold_size = X.shape[0] // k\n",
    "    X_train, y_train = None, None\n",
    "    for j in range(k):\n",
    "        idx = slice(j * fold_size, (j + 1) * fold_size)\n",
    "        X_part, y_part = X[idx, :], y[idx]\n",
    "        if j == i:\n",
    "            X_valid, y_valid = X_part, y_part\n",
    "        elif X_train is None:\n",
    "            X_train, y_train = X_part, y_part\n",
    "        else:\n",
    "            X_train = torch.cat([X_train, X_part], 0)\n",
    "            y_train = torch.cat([y_train, y_part], 0)\n",
    "    return X_train, y_train, X_valid, y_valid"
   ]
  },
  {
   "cell_type": "markdown",
   "id": "216ad38d",
   "metadata": {
    "origin_pos": 43
   },
   "source": [
    "当我们在$K$折交叉验证中训练$K$次后，[**返回训练和验证误差的平均值**]。\n"
   ]
  },
  {
   "cell_type": "code",
   "execution_count": 228,
   "id": "ed08a37a",
   "metadata": {
    "execution": {
     "iopub.execute_input": "2022-12-07T16:58:11.894038Z",
     "iopub.status.busy": "2022-12-07T16:58:11.893447Z",
     "iopub.status.idle": "2022-12-07T16:58:11.899693Z",
     "shell.execute_reply": "2022-12-07T16:58:11.898908Z"
    },
    "origin_pos": 44,
    "tab": [
     "pytorch"
    ],
    "ExecuteTime": {
     "end_time": "2023-08-09T03:55:06.774046Z",
     "start_time": "2023-08-09T03:55:06.750212Z"
    }
   },
   "outputs": [],
   "source": [
    "def k_fold(k, X_train, y_train, num_epochs, learning_rate, weight_decay,\n",
    "           batch_size):\n",
    "    train_l_sum, valid_l_sum = 0, 0\n",
    "    for i in range(k):\n",
    "        data = get_k_fold_data(k, i, X_train, y_train)\n",
    "        net = get_net()\n",
    "        train_ls, valid_ls = train(net, *data, num_epochs, learning_rate,\n",
    "                                   weight_decay, batch_size)\n",
    "        train_l_sum += train_ls[-1]\n",
    "        valid_l_sum += valid_ls[-1]\n",
    "        if i == 0:\n",
    "            d2l.plot(list(range(1, num_epochs + 1)), [train_ls, valid_ls],\n",
    "                     xlabel='epoch', ylabel='rmse', xlim=[1, num_epochs],\n",
    "                     legend=['train', 'valid'], yscale='log')\n",
    "        print(f'折{i + 1}，训练log rmse{float(train_ls[-1]):f}, '\n",
    "              f'验证log rmse{float(valid_ls[-1]):f}')\n",
    "    return train_l_sum / k, valid_l_sum / k"
   ]
  },
  {
   "cell_type": "markdown",
   "id": "5d5cc155",
   "metadata": {
    "origin_pos": 45
   },
   "source": [
    "## [**模型选择**]\n",
    "\n",
    "在本例中，我们选择了一组未调优的超参数，并将其留给读者来改进模型。\n",
    "找到一组调优的超参数可能需要时间，这取决于一个人优化了多少变量。\n",
    "有了足够大的数据集和合理设置的超参数，$K$折交叉验证往往对多次测试具有相当的稳定性。\n",
    "然而，如果我们尝试了不合理的超参数，我们可能会发现验证效果不再代表真正的误差。\n"
   ]
  },
  {
   "cell_type": "code",
   "execution_count": 229,
   "id": "466ade55",
   "metadata": {
    "execution": {
     "iopub.execute_input": "2022-12-07T16:58:11.904149Z",
     "iopub.status.busy": "2022-12-07T16:58:11.903621Z",
     "iopub.status.idle": "2022-12-07T16:58:22.807409Z",
     "shell.execute_reply": "2022-12-07T16:58:22.806607Z"
    },
    "origin_pos": 46,
    "tab": [
     "pytorch"
    ],
    "ExecuteTime": {
     "end_time": "2023-08-09T03:55:06.774081Z",
     "start_time": "2023-08-09T03:55:06.755519Z"
    }
   },
   "outputs": [],
   "source": [
    "# k, num_epochs, lr, weight_decay, batch_size = 5, 100, 0.5, 0.1, 64\n",
    "# train_l, valid_l = k_fold(k, train_features, train_labels, num_epochs, lr,\n",
    "#                           weight_decay, batch_size)\n",
    "# print(f'{k}-折验证: 平均训练log rmse: {float(train_l):f}, '\n",
    "#       f'平均验证log rmse: {float(valid_l):f}')"
   ]
  },
  {
   "cell_type": "markdown",
   "id": "941f5ad4",
   "metadata": {
    "origin_pos": 47
   },
   "source": [
    "请注意，有时一组超参数的训练误差可能非常低，但$K$折交叉验证的误差要高得多，\n",
    "这表明模型过拟合了。\n",
    "在整个训练过程中，我们希望监控训练误差和验证误差这两个数字。\n",
    "较少的过拟合可能表明现有数据可以支撑一个更强大的模型，\n",
    "较大的过拟合可能意味着我们可以通过正则化技术来获益。\n",
    "\n",
    "##  [**提交Kaggle预测**]\n",
    "\n",
    "既然我们知道应该选择什么样的超参数，\n",
    "我们不妨使用所有数据对其进行训练\n",
    "（而不是仅使用交叉验证中使用的$1-1/K$的数据）。\n",
    "然后，我们通过这种方式获得的模型可以应用于测试集。\n",
    "将预测保存在CSV文件中可以简化将结果上传到Kaggle的过程。\n"
   ]
  },
  {
   "cell_type": "code",
   "execution_count": 230,
   "id": "8775a92c",
   "metadata": {
    "execution": {
     "iopub.execute_input": "2022-12-07T16:58:22.811018Z",
     "iopub.status.busy": "2022-12-07T16:58:22.810375Z",
     "iopub.status.idle": "2022-12-07T16:58:22.816674Z",
     "shell.execute_reply": "2022-12-07T16:58:22.815967Z"
    },
    "origin_pos": 48,
    "tab": [
     "pytorch"
    ],
    "ExecuteTime": {
     "end_time": "2023-08-09T03:55:06.774116Z",
     "start_time": "2023-08-09T03:55:06.757342Z"
    }
   },
   "outputs": [],
   "source": [
    "def train_and_pred(train_features, test_features, train_labels, test_data,\n",
    "                   num_epochs, lr, weight_decay, batch_size):\n",
    "    net = get_net()\n",
    "    train_ls, _ = train(net, train_features, train_labels, None, None,\n",
    "                        num_epochs, lr, weight_decay, batch_size)\n",
    "    d2l.plot(np.arange(1, num_epochs + 1), [train_ls], xlabel='epoch',\n",
    "             ylabel='log rmse', xlim=[1, num_epochs], yscale='log')\n",
    "    print(f'训练log rmse：{float(train_ls[-1]):f}')\n",
    "    # 将网络应用于测试集。\n",
    "    preds = net(test_features).detach().numpy()\n",
    "    # 将其重新格式化以导出到Kaggle\n",
    "    test_data['SalePrice'] = pd.Series(preds.reshape(1, -1)[0])\n",
    "    submission = pd.concat([test_data['Id'], test_data['SalePrice']], axis=1)\n",
    "    submission.to_csv('submission.csv', index=False)"
   ]
  },
  {
   "cell_type": "markdown",
   "id": "df93ada1",
   "metadata": {
    "origin_pos": 49
   },
   "source": [
    "如果测试集上的预测与$K$倍交叉验证过程中的预测相似，\n",
    "那就是时候把它们上传到Kaggle了。\n",
    "下面的代码将生成一个名为`submission.csv`的文件。\n"
   ]
  },
  {
   "cell_type": "code",
   "execution_count": 231,
   "id": "704f694c",
   "metadata": {
    "execution": {
     "iopub.execute_input": "2022-12-07T16:58:22.820338Z",
     "iopub.status.busy": "2022-12-07T16:58:22.819572Z",
     "iopub.status.idle": "2022-12-07T16:58:25.874145Z",
     "shell.execute_reply": "2022-12-07T16:58:25.873334Z"
    },
    "origin_pos": 50,
    "tab": [
     "pytorch"
    ],
    "ExecuteTime": {
     "end_time": "2023-08-09T03:55:47.946967Z",
     "start_time": "2023-08-09T03:55:06.761937Z"
    }
   },
   "outputs": [
    {
     "name": "stdout",
     "output_type": "stream",
     "text": [
      "0 0.28870105743408203\n",
      "1 0.2999264597892761\n",
      "2 0.1526244878768921\n",
      "3 0.33083832263946533\n",
      "4 0.13095316290855408\n",
      "5 0.18824511766433716\n",
      "6 0.12293901294469833\n",
      "7 0.2395835816860199\n",
      "8 0.17110221087932587\n",
      "9 0.14441242814064026\n",
      "10 0.15326005220413208\n",
      "11 0.21000272035598755\n",
      "12 0.12492265552282333\n",
      "13 0.12151092290878296\n",
      "14 0.1240570917725563\n",
      "15 0.14137078821659088\n",
      "16 0.14922387897968292\n",
      "17 0.12406732887029648\n",
      "18 0.11284483969211578\n",
      "19 0.11680745333433151\n",
      "20 0.11788410693407059\n",
      "21 0.09810961782932281\n",
      "22 0.11603742092847824\n",
      "23 0.1361784189939499\n",
      "24 0.13442867994308472\n",
      "25 0.11134979128837585\n",
      "26 0.11724315583705902\n",
      "27 0.11826130002737045\n",
      "28 0.10810025036334991\n",
      "29 0.10854165256023407\n",
      "30 0.09737838059663773\n",
      "31 0.09691189974546432\n",
      "32 0.09900815039873123\n",
      "33 0.13292376697063446\n",
      "34 0.10481707751750946\n",
      "35 0.0978492945432663\n",
      "36 0.09437520056962967\n",
      "37 0.13320522010326385\n",
      "38 0.165239155292511\n",
      "39 0.09985961019992828\n",
      "40 0.09600025415420532\n",
      "41 0.09709300845861435\n",
      "42 0.12397581338882446\n",
      "43 0.13112790882587433\n",
      "44 0.116969995200634\n",
      "45 0.11631767451763153\n",
      "46 0.1113651767373085\n",
      "47 0.09928778558969498\n",
      "48 0.13873614370822906\n",
      "49 0.20271749794483185\n",
      "50 0.1059134379029274\n",
      "51 0.08873768150806427\n",
      "52 0.09412095695734024\n",
      "53 0.12084446847438812\n",
      "54 0.21989993751049042\n",
      "55 0.10357773303985596\n",
      "56 0.11296605318784714\n",
      "57 0.12888304889202118\n",
      "58 0.1249571219086647\n",
      "59 0.12295367568731308\n",
      "60 0.09790261834859848\n",
      "61 0.08624701201915741\n",
      "62 0.1007714793086052\n",
      "63 0.10032305121421814\n",
      "64 0.09247070550918579\n",
      "65 0.089352086186409\n",
      "66 0.10450764000415802\n",
      "67 0.11431790143251419\n",
      "68 0.12782838940620422\n",
      "69 0.08440404385328293\n",
      "70 0.08429768681526184\n",
      "71 0.1031540036201477\n",
      "72 0.21644319593906403\n",
      "73 0.14152666926383972\n",
      "74 0.12318126112222672\n",
      "75 0.12294084578752518\n",
      "76 0.08602217584848404\n",
      "77 0.10812091827392578\n",
      "78 0.1532130092382431\n",
      "79 0.09619047492742538\n",
      "80 0.09547983855009079\n",
      "81 0.09140118211507797\n",
      "82 0.12798577547073364\n",
      "83 0.13129964470863342\n",
      "84 0.11748660355806351\n",
      "85 0.09097280353307724\n",
      "86 0.10424654930830002\n",
      "87 0.12123692035675049\n",
      "88 0.10300227999687195\n",
      "89 0.09045279026031494\n",
      "90 0.14223432540893555\n",
      "91 0.1032489463686943\n",
      "92 0.07676100730895996\n",
      "93 0.09490980952978134\n",
      "94 0.07900723069906235\n",
      "95 0.08602823317050934\n",
      "96 0.08715411275625229\n",
      "97 0.07476625591516495\n",
      "98 0.08273878693580627\n",
      "99 0.15815193951129913\n",
      "100 0.10977615416049957\n",
      "101 0.08440680056810379\n",
      "102 0.10131252557039261\n",
      "103 0.08423366397619247\n",
      "104 0.07982073724269867\n",
      "105 0.09282511472702026\n",
      "106 0.0717073306441307\n",
      "107 0.09168948978185654\n",
      "108 0.08497824519872665\n",
      "109 0.07933295518159866\n",
      "110 0.07707451283931732\n",
      "111 0.11867944151163101\n",
      "112 0.08032216131687164\n",
      "113 0.07830194383859634\n",
      "114 0.073150135576725\n",
      "115 0.06893952935934067\n",
      "116 0.08576861023902893\n",
      "117 0.07257547229528427\n",
      "118 0.10964114964008331\n",
      "119 0.07462149858474731\n",
      "120 0.06694772094488144\n",
      "121 0.09004268050193787\n",
      "122 0.09600826352834702\n",
      "123 0.08365762233734131\n",
      "124 0.07884950935840607\n",
      "125 0.0678667277097702\n",
      "126 0.07101497799158096\n",
      "127 0.0696435496211052\n",
      "128 0.07086436450481415\n",
      "129 0.06835377961397171\n",
      "130 0.08195599913597107\n",
      "131 0.08773405104875565\n",
      "132 0.10113194584846497\n",
      "133 0.07669863849878311\n",
      "134 0.11915061622858047\n",
      "135 0.0965951457619667\n",
      "136 0.07052736729383469\n",
      "137 0.07623977214097977\n",
      "138 0.06600981205701828\n",
      "139 0.0651739090681076\n",
      "140 0.0631008967757225\n",
      "141 0.10160637646913528\n",
      "142 0.08271259814500809\n",
      "143 0.06389028578996658\n",
      "144 0.07767703384160995\n",
      "145 0.0788087248802185\n",
      "146 0.07110288739204407\n",
      "147 0.0764821246266365\n",
      "148 0.07372724264860153\n",
      "149 0.07447052001953125\n",
      "150 0.10592497140169144\n",
      "151 0.07664519548416138\n",
      "152 0.08948101848363876\n",
      "153 0.13975179195404053\n",
      "154 0.09013427048921585\n",
      "155 0.07603556662797928\n",
      "156 0.08393357694149017\n",
      "157 0.0903913751244545\n",
      "158 0.07360919564962387\n",
      "159 0.07824229449033737\n",
      "160 0.06337346881628036\n",
      "161 0.06493263691663742\n",
      "162 0.06230318173766136\n",
      "163 0.07912704348564148\n",
      "164 0.08018236607313156\n",
      "165 0.05796273425221443\n",
      "166 0.06579945236444473\n",
      "167 0.0600627176463604\n",
      "168 0.08789346367120743\n",
      "169 0.06534086912870407\n",
      "170 0.08209008723497391\n",
      "171 0.05620696395635605\n",
      "172 0.059633951634168625\n",
      "173 0.058843765407800674\n",
      "174 0.09979714453220367\n",
      "175 0.07980512827634811\n",
      "176 0.08821620047092438\n",
      "177 0.09184195101261139\n",
      "178 0.0820968821644783\n",
      "179 0.09158443659543991\n",
      "180 0.06659401208162308\n",
      "181 0.06725557148456573\n",
      "182 0.08435189723968506\n",
      "183 0.09170367568731308\n",
      "184 0.06705804169178009\n",
      "185 0.058783791959285736\n",
      "186 0.07327202707529068\n",
      "187 0.05883634462952614\n",
      "188 0.06135325878858566\n",
      "189 0.07342725247144699\n",
      "190 0.05886510759592056\n",
      "191 0.06336802989244461\n",
      "192 0.07754336297512054\n",
      "193 0.06924183666706085\n",
      "194 0.08744482696056366\n",
      "195 0.07487690448760986\n",
      "196 0.058460332453250885\n",
      "197 0.054385311901569366\n",
      "198 0.05459567531943321\n",
      "199 0.05581434443593025\n",
      "训练log rmse：0.055814\n"
     ]
    },
    {
     "data": {
      "text/plain": "<Figure size 350x250 with 1 Axes>",
      "image/svg+xml": "<?xml version=\"1.0\" encoding=\"utf-8\" standalone=\"no\"?>\n<!DOCTYPE svg PUBLIC \"-//W3C//DTD SVG 1.1//EN\"\n  \"http://www.w3.org/Graphics/SVG/1.1/DTD/svg11.dtd\">\n<svg xmlns:xlink=\"http://www.w3.org/1999/xlink\" width=\"280.421875pt\" height=\"183.35625pt\" viewBox=\"0 0 280.421875 183.35625\" xmlns=\"http://www.w3.org/2000/svg\" version=\"1.1\">\n <metadata>\n  <rdf:RDF xmlns:dc=\"http://purl.org/dc/elements/1.1/\" xmlns:cc=\"http://creativecommons.org/ns#\" xmlns:rdf=\"http://www.w3.org/1999/02/22-rdf-syntax-ns#\">\n   <cc:Work>\n    <dc:type rdf:resource=\"http://purl.org/dc/dcmitype/StillImage\"/>\n    <dc:date>2023-08-09T11:55:47.921063</dc:date>\n    <dc:format>image/svg+xml</dc:format>\n    <dc:creator>\n     <cc:Agent>\n      <dc:title>Matplotlib v3.5.1, https://matplotlib.org/</dc:title>\n     </cc:Agent>\n    </dc:creator>\n   </cc:Work>\n  </rdf:RDF>\n </metadata>\n <defs>\n  <style type=\"text/css\">*{stroke-linejoin: round; stroke-linecap: butt}</style>\n </defs>\n <g id=\"figure_1\">\n  <g id=\"patch_1\">\n   <path d=\"M 0 183.35625 \nL 280.421875 183.35625 \nL 280.421875 0 \nL 0 0 \nz\n\" style=\"fill: #ffffff\"/>\n  </g>\n  <g id=\"axes_1\">\n   <g id=\"patch_2\">\n    <path d=\"M 68.378125 145.8 \nL 263.678125 145.8 \nL 263.678125 7.2 \nL 68.378125 7.2 \nz\n\" style=\"fill: #ffffff\"/>\n   </g>\n   <g id=\"matplotlib.axis_1\">\n    <g id=\"xtick_1\">\n     <g id=\"line2d_1\">\n      <path d=\"M 116.46707 145.8 \nL 116.46707 7.2 \n\" clip-path=\"url(#p1adf76f0b5)\" style=\"fill: none; stroke: #b0b0b0; stroke-width: 0.8; stroke-linecap: square\"/>\n     </g>\n     <g id=\"line2d_2\">\n      <defs>\n       <path id=\"m9d6081676e\" d=\"M 0 0 \nL 0 3.5 \n\" style=\"stroke: #000000; stroke-width: 0.8\"/>\n      </defs>\n      <g>\n       <use xlink:href=\"#m9d6081676e\" x=\"116.46707\" y=\"145.8\" style=\"stroke: #000000; stroke-width: 0.8\"/>\n      </g>\n     </g>\n     <g id=\"text_1\">\n      <!-- 50 -->\n      <g transform=\"translate(110.10457 160.398438)scale(0.1 -0.1)\">\n       <defs>\n        <path id=\"DejaVuSans-35\" d=\"M 691 4666 \nL 3169 4666 \nL 3169 4134 \nL 1269 4134 \nL 1269 2991 \nQ 1406 3038 1543 3061 \nQ 1681 3084 1819 3084 \nQ 2600 3084 3056 2656 \nQ 3513 2228 3513 1497 \nQ 3513 744 3044 326 \nQ 2575 -91 1722 -91 \nQ 1428 -91 1123 -41 \nQ 819 9 494 109 \nL 494 744 \nQ 775 591 1075 516 \nQ 1375 441 1709 441 \nQ 2250 441 2565 725 \nQ 2881 1009 2881 1497 \nQ 2881 1984 2565 2268 \nQ 2250 2553 1709 2553 \nQ 1456 2553 1204 2497 \nQ 953 2441 691 2322 \nL 691 4666 \nz\n\" transform=\"scale(0.015625)\"/>\n        <path id=\"DejaVuSans-30\" d=\"M 2034 4250 \nQ 1547 4250 1301 3770 \nQ 1056 3291 1056 2328 \nQ 1056 1369 1301 889 \nQ 1547 409 2034 409 \nQ 2525 409 2770 889 \nQ 3016 1369 3016 2328 \nQ 3016 3291 2770 3770 \nQ 2525 4250 2034 4250 \nz\nM 2034 4750 \nQ 2819 4750 3233 4129 \nQ 3647 3509 3647 2328 \nQ 3647 1150 3233 529 \nQ 2819 -91 2034 -91 \nQ 1250 -91 836 529 \nQ 422 1150 422 2328 \nQ 422 3509 836 4129 \nQ 1250 4750 2034 4750 \nz\n\" transform=\"scale(0.015625)\"/>\n       </defs>\n       <use xlink:href=\"#DejaVuSans-35\"/>\n       <use xlink:href=\"#DejaVuSans-30\" x=\"63.623047\"/>\n      </g>\n     </g>\n    </g>\n    <g id=\"xtick_2\">\n     <g id=\"line2d_3\">\n      <path d=\"M 165.537421 145.8 \nL 165.537421 7.2 \n\" clip-path=\"url(#p1adf76f0b5)\" style=\"fill: none; stroke: #b0b0b0; stroke-width: 0.8; stroke-linecap: square\"/>\n     </g>\n     <g id=\"line2d_4\">\n      <g>\n       <use xlink:href=\"#m9d6081676e\" x=\"165.537421\" y=\"145.8\" style=\"stroke: #000000; stroke-width: 0.8\"/>\n      </g>\n     </g>\n     <g id=\"text_2\">\n      <!-- 100 -->\n      <g transform=\"translate(155.993671 160.398438)scale(0.1 -0.1)\">\n       <defs>\n        <path id=\"DejaVuSans-31\" d=\"M 794 531 \nL 1825 531 \nL 1825 4091 \nL 703 3866 \nL 703 4441 \nL 1819 4666 \nL 2450 4666 \nL 2450 531 \nL 3481 531 \nL 3481 0 \nL 794 0 \nL 794 531 \nz\n\" transform=\"scale(0.015625)\"/>\n       </defs>\n       <use xlink:href=\"#DejaVuSans-31\"/>\n       <use xlink:href=\"#DejaVuSans-30\" x=\"63.623047\"/>\n       <use xlink:href=\"#DejaVuSans-30\" x=\"127.246094\"/>\n      </g>\n     </g>\n    </g>\n    <g id=\"xtick_3\">\n     <g id=\"line2d_5\">\n      <path d=\"M 214.607773 145.8 \nL 214.607773 7.2 \n\" clip-path=\"url(#p1adf76f0b5)\" style=\"fill: none; stroke: #b0b0b0; stroke-width: 0.8; stroke-linecap: square\"/>\n     </g>\n     <g id=\"line2d_6\">\n      <g>\n       <use xlink:href=\"#m9d6081676e\" x=\"214.607773\" y=\"145.8\" style=\"stroke: #000000; stroke-width: 0.8\"/>\n      </g>\n     </g>\n     <g id=\"text_3\">\n      <!-- 150 -->\n      <g transform=\"translate(205.064023 160.398438)scale(0.1 -0.1)\">\n       <use xlink:href=\"#DejaVuSans-31\"/>\n       <use xlink:href=\"#DejaVuSans-35\" x=\"63.623047\"/>\n       <use xlink:href=\"#DejaVuSans-30\" x=\"127.246094\"/>\n      </g>\n     </g>\n    </g>\n    <g id=\"xtick_4\">\n     <g id=\"line2d_7\">\n      <path d=\"M 263.678125 145.8 \nL 263.678125 7.2 \n\" clip-path=\"url(#p1adf76f0b5)\" style=\"fill: none; stroke: #b0b0b0; stroke-width: 0.8; stroke-linecap: square\"/>\n     </g>\n     <g id=\"line2d_8\">\n      <g>\n       <use xlink:href=\"#m9d6081676e\" x=\"263.678125\" y=\"145.8\" style=\"stroke: #000000; stroke-width: 0.8\"/>\n      </g>\n     </g>\n     <g id=\"text_4\">\n      <!-- 200 -->\n      <g transform=\"translate(254.134375 160.398438)scale(0.1 -0.1)\">\n       <defs>\n        <path id=\"DejaVuSans-32\" d=\"M 1228 531 \nL 3431 531 \nL 3431 0 \nL 469 0 \nL 469 531 \nQ 828 903 1448 1529 \nQ 2069 2156 2228 2338 \nQ 2531 2678 2651 2914 \nQ 2772 3150 2772 3378 \nQ 2772 3750 2511 3984 \nQ 2250 4219 1831 4219 \nQ 1534 4219 1204 4116 \nQ 875 4013 500 3803 \nL 500 4441 \nQ 881 4594 1212 4672 \nQ 1544 4750 1819 4750 \nQ 2544 4750 2975 4387 \nQ 3406 4025 3406 3419 \nQ 3406 3131 3298 2873 \nQ 3191 2616 2906 2266 \nQ 2828 2175 2409 1742 \nQ 1991 1309 1228 531 \nz\n\" transform=\"scale(0.015625)\"/>\n       </defs>\n       <use xlink:href=\"#DejaVuSans-32\"/>\n       <use xlink:href=\"#DejaVuSans-30\" x=\"63.623047\"/>\n       <use xlink:href=\"#DejaVuSans-30\" x=\"127.246094\"/>\n      </g>\n     </g>\n    </g>\n    <g id=\"text_5\">\n     <!-- epoch -->\n     <g transform=\"translate(150.8 174.076563)scale(0.1 -0.1)\">\n      <defs>\n       <path id=\"DejaVuSans-65\" d=\"M 3597 1894 \nL 3597 1613 \nL 953 1613 \nQ 991 1019 1311 708 \nQ 1631 397 2203 397 \nQ 2534 397 2845 478 \nQ 3156 559 3463 722 \nL 3463 178 \nQ 3153 47 2828 -22 \nQ 2503 -91 2169 -91 \nQ 1331 -91 842 396 \nQ 353 884 353 1716 \nQ 353 2575 817 3079 \nQ 1281 3584 2069 3584 \nQ 2775 3584 3186 3129 \nQ 3597 2675 3597 1894 \nz\nM 3022 2063 \nQ 3016 2534 2758 2815 \nQ 2500 3097 2075 3097 \nQ 1594 3097 1305 2825 \nQ 1016 2553 972 2059 \nL 3022 2063 \nz\n\" transform=\"scale(0.015625)\"/>\n       <path id=\"DejaVuSans-70\" d=\"M 1159 525 \nL 1159 -1331 \nL 581 -1331 \nL 581 3500 \nL 1159 3500 \nL 1159 2969 \nQ 1341 3281 1617 3432 \nQ 1894 3584 2278 3584 \nQ 2916 3584 3314 3078 \nQ 3713 2572 3713 1747 \nQ 3713 922 3314 415 \nQ 2916 -91 2278 -91 \nQ 1894 -91 1617 61 \nQ 1341 213 1159 525 \nz\nM 3116 1747 \nQ 3116 2381 2855 2742 \nQ 2594 3103 2138 3103 \nQ 1681 3103 1420 2742 \nQ 1159 2381 1159 1747 \nQ 1159 1113 1420 752 \nQ 1681 391 2138 391 \nQ 2594 391 2855 752 \nQ 3116 1113 3116 1747 \nz\n\" transform=\"scale(0.015625)\"/>\n       <path id=\"DejaVuSans-6f\" d=\"M 1959 3097 \nQ 1497 3097 1228 2736 \nQ 959 2375 959 1747 \nQ 959 1119 1226 758 \nQ 1494 397 1959 397 \nQ 2419 397 2687 759 \nQ 2956 1122 2956 1747 \nQ 2956 2369 2687 2733 \nQ 2419 3097 1959 3097 \nz\nM 1959 3584 \nQ 2709 3584 3137 3096 \nQ 3566 2609 3566 1747 \nQ 3566 888 3137 398 \nQ 2709 -91 1959 -91 \nQ 1206 -91 779 398 \nQ 353 888 353 1747 \nQ 353 2609 779 3096 \nQ 1206 3584 1959 3584 \nz\n\" transform=\"scale(0.015625)\"/>\n       <path id=\"DejaVuSans-63\" d=\"M 3122 3366 \nL 3122 2828 \nQ 2878 2963 2633 3030 \nQ 2388 3097 2138 3097 \nQ 1578 3097 1268 2742 \nQ 959 2388 959 1747 \nQ 959 1106 1268 751 \nQ 1578 397 2138 397 \nQ 2388 397 2633 464 \nQ 2878 531 3122 666 \nL 3122 134 \nQ 2881 22 2623 -34 \nQ 2366 -91 2075 -91 \nQ 1284 -91 818 406 \nQ 353 903 353 1747 \nQ 353 2603 823 3093 \nQ 1294 3584 2113 3584 \nQ 2378 3584 2631 3529 \nQ 2884 3475 3122 3366 \nz\n\" transform=\"scale(0.015625)\"/>\n       <path id=\"DejaVuSans-68\" d=\"M 3513 2113 \nL 3513 0 \nL 2938 0 \nL 2938 2094 \nQ 2938 2591 2744 2837 \nQ 2550 3084 2163 3084 \nQ 1697 3084 1428 2787 \nQ 1159 2491 1159 1978 \nL 1159 0 \nL 581 0 \nL 581 4863 \nL 1159 4863 \nL 1159 2956 \nQ 1366 3272 1645 3428 \nQ 1925 3584 2291 3584 \nQ 2894 3584 3203 3211 \nQ 3513 2838 3513 2113 \nz\n\" transform=\"scale(0.015625)\"/>\n      </defs>\n      <use xlink:href=\"#DejaVuSans-65\"/>\n      <use xlink:href=\"#DejaVuSans-70\" x=\"61.523438\"/>\n      <use xlink:href=\"#DejaVuSans-6f\" x=\"125\"/>\n      <use xlink:href=\"#DejaVuSans-63\" x=\"186.181641\"/>\n      <use xlink:href=\"#DejaVuSans-68\" x=\"241.162109\"/>\n     </g>\n    </g>\n   </g>\n   <g id=\"matplotlib.axis_2\">\n    <g id=\"ytick_1\">\n     <g id=\"line2d_9\">\n      <path d=\"M 68.378125 96.995393 \nL 263.678125 96.995393 \n\" clip-path=\"url(#p1adf76f0b5)\" style=\"fill: none; stroke: #b0b0b0; stroke-width: 0.8; stroke-linecap: square\"/>\n     </g>\n     <g id=\"line2d_10\">\n      <defs>\n       <path id=\"mfc213f4230\" d=\"M 0 0 \nL -3.5 0 \n\" style=\"stroke: #000000; stroke-width: 0.8\"/>\n      </defs>\n      <g>\n       <use xlink:href=\"#mfc213f4230\" x=\"68.378125\" y=\"96.995393\" style=\"stroke: #000000; stroke-width: 0.8\"/>\n      </g>\n     </g>\n     <g id=\"text_6\">\n      <!-- $\\mathdefault{10^{-1}}$ -->\n      <g transform=\"translate(37.878125 100.794612)scale(0.1 -0.1)\">\n       <defs>\n        <path id=\"DejaVuSans-2212\" d=\"M 678 2272 \nL 4684 2272 \nL 4684 1741 \nL 678 1741 \nL 678 2272 \nz\n\" transform=\"scale(0.015625)\"/>\n       </defs>\n       <use xlink:href=\"#DejaVuSans-31\" transform=\"translate(0 0.684375)\"/>\n       <use xlink:href=\"#DejaVuSans-30\" transform=\"translate(63.623047 0.684375)\"/>\n       <use xlink:href=\"#DejaVuSans-2212\" transform=\"translate(128.203125 38.965625)scale(0.7)\"/>\n       <use xlink:href=\"#DejaVuSans-31\" transform=\"translate(186.855469 38.965625)scale(0.7)\"/>\n      </g>\n     </g>\n    </g>\n    <g id=\"ytick_2\">\n     <g id=\"line2d_11\">\n      <defs>\n       <path id=\"mae77394149\" d=\"M 0 0 \nL -2 0 \n\" style=\"stroke: #000000; stroke-width: 0.6\"/>\n      </defs>\n      <g>\n       <use xlink:href=\"#mae77394149\" x=\"68.378125\" y=\"145.366935\" style=\"stroke: #000000; stroke-width: 0.6\"/>\n      </g>\n     </g>\n    </g>\n    <g id=\"ytick_3\">\n     <g id=\"line2d_12\">\n      <g>\n       <use xlink:href=\"#mae77394149\" x=\"68.378125\" y=\"132.643555\" style=\"stroke: #000000; stroke-width: 0.6\"/>\n      </g>\n     </g>\n     <g id=\"text_7\">\n      <!-- $\\mathdefault{6\\times10^{-2}}$ -->\n      <g transform=\"translate(20.878125 136.442774)scale(0.1 -0.1)\">\n       <defs>\n        <path id=\"DejaVuSans-36\" d=\"M 2113 2584 \nQ 1688 2584 1439 2293 \nQ 1191 2003 1191 1497 \nQ 1191 994 1439 701 \nQ 1688 409 2113 409 \nQ 2538 409 2786 701 \nQ 3034 994 3034 1497 \nQ 3034 2003 2786 2293 \nQ 2538 2584 2113 2584 \nz\nM 3366 4563 \nL 3366 3988 \nQ 3128 4100 2886 4159 \nQ 2644 4219 2406 4219 \nQ 1781 4219 1451 3797 \nQ 1122 3375 1075 2522 \nQ 1259 2794 1537 2939 \nQ 1816 3084 2150 3084 \nQ 2853 3084 3261 2657 \nQ 3669 2231 3669 1497 \nQ 3669 778 3244 343 \nQ 2819 -91 2113 -91 \nQ 1303 -91 875 529 \nQ 447 1150 447 2328 \nQ 447 3434 972 4092 \nQ 1497 4750 2381 4750 \nQ 2619 4750 2861 4703 \nQ 3103 4656 3366 4563 \nz\n\" transform=\"scale(0.015625)\"/>\n        <path id=\"DejaVuSans-d7\" d=\"M 4488 3438 \nL 3059 2003 \nL 4488 575 \nL 4116 197 \nL 2681 1631 \nL 1247 197 \nL 878 575 \nL 2303 2003 \nL 878 3438 \nL 1247 3816 \nL 2681 2381 \nL 4116 3816 \nL 4488 3438 \nz\n\" transform=\"scale(0.015625)\"/>\n       </defs>\n       <use xlink:href=\"#DejaVuSans-36\" transform=\"translate(0 0.765625)\"/>\n       <use xlink:href=\"#DejaVuSans-d7\" transform=\"translate(83.105469 0.765625)\"/>\n       <use xlink:href=\"#DejaVuSans-31\" transform=\"translate(186.376953 0.765625)\"/>\n       <use xlink:href=\"#DejaVuSans-30\" transform=\"translate(250 0.765625)\"/>\n       <use xlink:href=\"#DejaVuSans-2212\" transform=\"translate(314.580078 39.046875)scale(0.7)\"/>\n       <use xlink:href=\"#DejaVuSans-32\" transform=\"translate(373.232422 39.046875)scale(0.7)\"/>\n      </g>\n     </g>\n    </g>\n    <g id=\"ytick_4\">\n     <g id=\"line2d_13\">\n      <g>\n       <use xlink:href=\"#mae77394149\" x=\"68.378125\" y=\"121.886091\" style=\"stroke: #000000; stroke-width: 0.6\"/>\n      </g>\n     </g>\n    </g>\n    <g id=\"ytick_5\">\n     <g id=\"line2d_14\">\n      <g>\n       <use xlink:href=\"#mae77394149\" x=\"68.378125\" y=\"112.567551\" style=\"stroke: #000000; stroke-width: 0.6\"/>\n      </g>\n     </g>\n    </g>\n    <g id=\"ytick_6\">\n     <g id=\"line2d_15\">\n      <g>\n       <use xlink:href=\"#mae77394149\" x=\"68.378125\" y=\"104.348017\" style=\"stroke: #000000; stroke-width: 0.6\"/>\n      </g>\n     </g>\n    </g>\n    <g id=\"ytick_7\">\n     <g id=\"line2d_16\">\n      <g>\n       <use xlink:href=\"#mae77394149\" x=\"68.378125\" y=\"48.623851\" style=\"stroke: #000000; stroke-width: 0.6\"/>\n      </g>\n     </g>\n     <g id=\"text_8\">\n      <!-- $\\mathdefault{2\\times10^{-1}}$ -->\n      <g transform=\"translate(20.878125 52.42307)scale(0.1 -0.1)\">\n       <use xlink:href=\"#DejaVuSans-32\" transform=\"translate(0 0.684375)\"/>\n       <use xlink:href=\"#DejaVuSans-d7\" transform=\"translate(83.105469 0.684375)\"/>\n       <use xlink:href=\"#DejaVuSans-31\" transform=\"translate(186.376953 0.684375)\"/>\n       <use xlink:href=\"#DejaVuSans-30\" transform=\"translate(250 0.684375)\"/>\n       <use xlink:href=\"#DejaVuSans-2212\" transform=\"translate(314.580078 38.965625)scale(0.7)\"/>\n       <use xlink:href=\"#DejaVuSans-31\" transform=\"translate(373.232422 38.965625)scale(0.7)\"/>\n      </g>\n     </g>\n    </g>\n    <g id=\"ytick_8\">\n     <g id=\"line2d_17\">\n      <g>\n       <use xlink:href=\"#mae77394149\" x=\"68.378125\" y=\"20.328313\" style=\"stroke: #000000; stroke-width: 0.6\"/>\n      </g>\n     </g>\n     <g id=\"text_9\">\n      <!-- $\\mathdefault{3\\times10^{-1}}$ -->\n      <g transform=\"translate(20.878125 24.127532)scale(0.1 -0.1)\">\n       <defs>\n        <path id=\"DejaVuSans-33\" d=\"M 2597 2516 \nQ 3050 2419 3304 2112 \nQ 3559 1806 3559 1356 \nQ 3559 666 3084 287 \nQ 2609 -91 1734 -91 \nQ 1441 -91 1130 -33 \nQ 819 25 488 141 \nL 488 750 \nQ 750 597 1062 519 \nQ 1375 441 1716 441 \nQ 2309 441 2620 675 \nQ 2931 909 2931 1356 \nQ 2931 1769 2642 2001 \nQ 2353 2234 1838 2234 \nL 1294 2234 \nL 1294 2753 \nL 1863 2753 \nQ 2328 2753 2575 2939 \nQ 2822 3125 2822 3475 \nQ 2822 3834 2567 4026 \nQ 2313 4219 1838 4219 \nQ 1578 4219 1281 4162 \nQ 984 4106 628 3988 \nL 628 4550 \nQ 988 4650 1302 4700 \nQ 1616 4750 1894 4750 \nQ 2613 4750 3031 4423 \nQ 3450 4097 3450 3541 \nQ 3450 3153 3228 2886 \nQ 3006 2619 2597 2516 \nz\n\" transform=\"scale(0.015625)\"/>\n       </defs>\n       <use xlink:href=\"#DejaVuSans-33\" transform=\"translate(0 0.684375)\"/>\n       <use xlink:href=\"#DejaVuSans-d7\" transform=\"translate(83.105469 0.684375)\"/>\n       <use xlink:href=\"#DejaVuSans-31\" transform=\"translate(186.376953 0.684375)\"/>\n       <use xlink:href=\"#DejaVuSans-30\" transform=\"translate(250 0.684375)\"/>\n       <use xlink:href=\"#DejaVuSans-2212\" transform=\"translate(314.580078 38.965625)scale(0.7)\"/>\n       <use xlink:href=\"#DejaVuSans-31\" transform=\"translate(373.232422 38.965625)scale(0.7)\"/>\n      </g>\n     </g>\n    </g>\n    <g id=\"text_10\">\n     <!-- log rmse -->\n     <g transform=\"translate(14.798438 98.23125)rotate(-90)scale(0.1 -0.1)\">\n      <defs>\n       <path id=\"DejaVuSans-6c\" d=\"M 603 4863 \nL 1178 4863 \nL 1178 0 \nL 603 0 \nL 603 4863 \nz\n\" transform=\"scale(0.015625)\"/>\n       <path id=\"DejaVuSans-67\" d=\"M 2906 1791 \nQ 2906 2416 2648 2759 \nQ 2391 3103 1925 3103 \nQ 1463 3103 1205 2759 \nQ 947 2416 947 1791 \nQ 947 1169 1205 825 \nQ 1463 481 1925 481 \nQ 2391 481 2648 825 \nQ 2906 1169 2906 1791 \nz\nM 3481 434 \nQ 3481 -459 3084 -895 \nQ 2688 -1331 1869 -1331 \nQ 1566 -1331 1297 -1286 \nQ 1028 -1241 775 -1147 \nL 775 -588 \nQ 1028 -725 1275 -790 \nQ 1522 -856 1778 -856 \nQ 2344 -856 2625 -561 \nQ 2906 -266 2906 331 \nL 2906 616 \nQ 2728 306 2450 153 \nQ 2172 0 1784 0 \nQ 1141 0 747 490 \nQ 353 981 353 1791 \nQ 353 2603 747 3093 \nQ 1141 3584 1784 3584 \nQ 2172 3584 2450 3431 \nQ 2728 3278 2906 2969 \nL 2906 3500 \nL 3481 3500 \nL 3481 434 \nz\n\" transform=\"scale(0.015625)\"/>\n       <path id=\"DejaVuSans-20\" transform=\"scale(0.015625)\"/>\n       <path id=\"DejaVuSans-72\" d=\"M 2631 2963 \nQ 2534 3019 2420 3045 \nQ 2306 3072 2169 3072 \nQ 1681 3072 1420 2755 \nQ 1159 2438 1159 1844 \nL 1159 0 \nL 581 0 \nL 581 3500 \nL 1159 3500 \nL 1159 2956 \nQ 1341 3275 1631 3429 \nQ 1922 3584 2338 3584 \nQ 2397 3584 2469 3576 \nQ 2541 3569 2628 3553 \nL 2631 2963 \nz\n\" transform=\"scale(0.015625)\"/>\n       <path id=\"DejaVuSans-6d\" d=\"M 3328 2828 \nQ 3544 3216 3844 3400 \nQ 4144 3584 4550 3584 \nQ 5097 3584 5394 3201 \nQ 5691 2819 5691 2113 \nL 5691 0 \nL 5113 0 \nL 5113 2094 \nQ 5113 2597 4934 2840 \nQ 4756 3084 4391 3084 \nQ 3944 3084 3684 2787 \nQ 3425 2491 3425 1978 \nL 3425 0 \nL 2847 0 \nL 2847 2094 \nQ 2847 2600 2669 2842 \nQ 2491 3084 2119 3084 \nQ 1678 3084 1418 2786 \nQ 1159 2488 1159 1978 \nL 1159 0 \nL 581 0 \nL 581 3500 \nL 1159 3500 \nL 1159 2956 \nQ 1356 3278 1631 3431 \nQ 1906 3584 2284 3584 \nQ 2666 3584 2933 3390 \nQ 3200 3197 3328 2828 \nz\n\" transform=\"scale(0.015625)\"/>\n       <path id=\"DejaVuSans-73\" d=\"M 2834 3397 \nL 2834 2853 \nQ 2591 2978 2328 3040 \nQ 2066 3103 1784 3103 \nQ 1356 3103 1142 2972 \nQ 928 2841 928 2578 \nQ 928 2378 1081 2264 \nQ 1234 2150 1697 2047 \nL 1894 2003 \nQ 2506 1872 2764 1633 \nQ 3022 1394 3022 966 \nQ 3022 478 2636 193 \nQ 2250 -91 1575 -91 \nQ 1294 -91 989 -36 \nQ 684 19 347 128 \nL 347 722 \nQ 666 556 975 473 \nQ 1284 391 1588 391 \nQ 1994 391 2212 530 \nQ 2431 669 2431 922 \nQ 2431 1156 2273 1281 \nQ 2116 1406 1581 1522 \nL 1381 1569 \nQ 847 1681 609 1914 \nQ 372 2147 372 2553 \nQ 372 3047 722 3315 \nQ 1072 3584 1716 3584 \nQ 2034 3584 2315 3537 \nQ 2597 3491 2834 3397 \nz\n\" transform=\"scale(0.015625)\"/>\n      </defs>\n      <use xlink:href=\"#DejaVuSans-6c\"/>\n      <use xlink:href=\"#DejaVuSans-6f\" x=\"27.783203\"/>\n      <use xlink:href=\"#DejaVuSans-67\" x=\"88.964844\"/>\n      <use xlink:href=\"#DejaVuSans-20\" x=\"152.441406\"/>\n      <use xlink:href=\"#DejaVuSans-72\" x=\"184.228516\"/>\n      <use xlink:href=\"#DejaVuSans-6d\" x=\"223.591797\"/>\n      <use xlink:href=\"#DejaVuSans-73\" x=\"321.003906\"/>\n      <use xlink:href=\"#DejaVuSans-65\" x=\"373.103516\"/>\n     </g>\n    </g>\n   </g>\n   <g id=\"line2d_18\">\n    <path d=\"M 68.378125 23.007425 \nL 69.359532 20.345422 \nL 70.340939 67.489408 \nL 71.322346 13.5 \nL 72.303753 78.176401 \nL 73.28516 52.850922 \nL 74.266567 82.58344 \nL 75.247974 36.02166 \nL 76.229381 59.514298 \nL 77.210788 71.349048 \nL 78.192195 67.199408 \nL 79.173602 45.218107 \nL 80.155009 81.466428 \nL 81.136416 83.39883 \nL 82.117823 81.95164 \nL 83.099231 72.83458 \nL 84.080638 69.061872 \nL 85.062045 81.945882 \nL 86.043452 88.562277 \nL 87.024859 86.153767 \nL 88.006266 85.513478 \nL 88.987673 98.327232 \nL 90.950487 75.445964 \nL 91.931894 76.348437 \nL 92.913301 89.493022 \nL 93.894708 85.893945 \nL 94.876115 85.290542 \nL 95.857522 91.559889 \nL 96.838929 91.275517 \nL 97.820336 98.849309 \nL 98.801743 99.184412 \nL 99.78315 97.691015 \nL 100.764557 77.134082 \nL 101.745964 93.712233 \nL 102.727371 98.512646 \nL 103.708778 101.035398 \nL 104.690185 76.986475 \nL 105.671592 61.947522 \nL 106.652999 97.093433 \nL 107.634406 99.843987 \nL 108.615813 99.054119 \nL 109.59722 81.997376 \nL 110.578628 78.08334 \nL 111.560035 86.056725 \nL 112.541442 86.446995 \nL 113.522849 89.483381 \nL 114.504256 97.494193 \nL 115.485663 74.147401 \nL 116.46707 47.682027 \nL 117.448477 92.986087 \nL 118.429884 105.333739 \nL 119.411291 101.223651 \nL 120.392698 83.782637 \nL 121.374105 42.004342 \nL 122.355512 94.542284 \nL 123.336919 88.487356 \nL 124.318326 79.288384 \nL 125.299733 81.447177 \nL 126.28114 82.575117 \nL 127.262547 98.474626 \nL 128.243954 107.320474 \nL 129.225361 96.459079 \nL 130.206768 96.770314 \nL 131.188175 102.458073 \nL 132.169582 104.852222 \nL 133.150989 93.918556 \nL 134.132396 87.657202 \nL 135.113803 79.861792 \nL 136.09521 108.827845 \nL 137.076617 108.915836 \nL 138.058024 94.828357 \nL 139.039432 43.110054 \nL 140.020839 72.757674 \nL 141.002246 82.446065 \nL 141.983653 82.5824 \nL 142.96506 107.502634 \nL 143.946467 91.546548 \nL 144.927874 67.220832 \nL 145.909281 99.705847 \nL 146.890688 100.223321 \nL 147.872095 103.269921 \nL 148.853502 79.775923 \nL 149.834909 77.992003 \nL 150.816316 85.74919 \nL 151.797723 103.597759 \nL 153.760537 83.556371 \nL 154.741944 94.931076 \nL 155.723351 103.997807 \nL 156.704758 72.409605 \nL 158.667572 115.45177 \nL 159.648979 100.641199 \nL 160.630386 113.438979 \nL 161.611793 107.49772 \nL 162.5932 106.590341 \nL 163.574607 117.289229 \nL 164.556014 110.218445 \nL 165.537421 65.006748 \nL 166.518829 90.486291 \nL 167.500236 108.825566 \nL 168.481643 96.085401 \nL 169.46305 108.968857 \nL 170.444457 112.724101 \nL 171.425864 102.191121 \nL 172.407271 120.204421 \nL 173.388678 103.050142 \nL 175.351492 113.151865 \nL 176.332899 115.167335 \nL 177.314306 85.044234 \nL 178.295713 112.287089 \nL 179.27712 114.064741 \nL 180.258527 118.814226 \nL 181.239934 122.9514 \nL 182.221341 107.708642 \nL 183.202748 119.364621 \nL 184.184155 90.572167 \nL 185.165562 117.424473 \nL 186.146969 124.997347 \nL 187.128376 104.314931 \nL 188.109783 99.838165 \nL 189.09119 109.447732 \nL 190.072597 113.57843 \nL 191.054004 124.045903 \nL 192.035411 120.88149 \nL 193.016818 122.242356 \nL 193.998226 121.029653 \nL 194.979633 123.54687 \nL 195.96104 110.881824 \nL 196.942447 106.127515 \nL 197.923854 96.209898 \nL 198.905261 115.508494 \nL 199.886668 84.767725 \nL 200.868075 99.412877 \nL 201.849482 121.362311 \nL 202.830889 115.927254 \nL 203.812296 125.981923 \nL 204.793703 126.871281 \nL 205.77511 129.12704 \nL 206.756517 95.883286 \nL 207.737924 110.240537 \nL 208.719331 128.259444 \nL 209.700738 114.623917 \nL 210.682145 113.614536 \nL 211.663552 120.795156 \nL 212.644959 115.705771 \nL 213.626366 118.265825 \nL 214.607773 117.56581 \nL 215.58918 92.978488 \nL 216.570587 115.557137 \nL 217.551994 104.751596 \nL 218.533401 73.638382 \nL 219.514808 104.243982 \nL 220.496215 116.114423 \nL 221.477622 109.217916 \nL 222.45903 104.045205 \nL 223.440437 118.37765 \nL 224.421844 114.117923 \nL 225.403251 128.826243 \nL 226.384658 127.130104 \nL 227.366065 130.014884 \nL 228.347472 113.333231 \nL 229.328879 112.408651 \nL 230.310286 135.05424 \nL 231.291693 126.20467 \nL 232.2731 132.570647 \nL 233.254507 106.00083 \nL 234.235914 126.692736 \nL 235.217321 110.767742 \nL 236.198728 137.200813 \nL 237.180135 133.070606 \nL 238.161542 134.001486 \nL 239.142949 97.1371 \nL 240.124356 112.737749 \nL 241.105763 105.745054 \nL 242.08717 102.9342 \nL 243.068577 110.761966 \nL 244.049984 103.130145 \nL 245.031391 125.367026 \nL 246.012798 124.677184 \nL 246.994205 108.870973 \nL 247.975612 103.039346 \nL 248.957019 124.882445 \nL 249.938427 134.072647 \nL 250.919834 118.698038 \nL 251.901241 134.010287 \nL 252.882648 131.087081 \nL 253.864055 118.550356 \nL 254.845462 133.97618 \nL 255.826869 128.832232 \nL 256.808276 114.744111 \nL 257.789683 122.646053 \nL 258.77109 106.357949 \nL 259.752497 117.186028 \nL 260.733904 134.457704 \nL 261.715311 139.5 \nL 262.696718 139.23059 \nL 263.678125 137.689991 \nL 263.678125 137.689991 \n\" clip-path=\"url(#p1adf76f0b5)\" style=\"fill: none; stroke: #1f77b4; stroke-width: 1.5; stroke-linecap: square\"/>\n   </g>\n   <g id=\"patch_3\">\n    <path d=\"M 68.378125 145.8 \nL 68.378125 7.2 \n\" style=\"fill: none; stroke: #000000; stroke-width: 0.8; stroke-linejoin: miter; stroke-linecap: square\"/>\n   </g>\n   <g id=\"patch_4\">\n    <path d=\"M 263.678125 145.8 \nL 263.678125 7.2 \n\" style=\"fill: none; stroke: #000000; stroke-width: 0.8; stroke-linejoin: miter; stroke-linecap: square\"/>\n   </g>\n   <g id=\"patch_5\">\n    <path d=\"M 68.378125 145.8 \nL 263.678125 145.8 \n\" style=\"fill: none; stroke: #000000; stroke-width: 0.8; stroke-linejoin: miter; stroke-linecap: square\"/>\n   </g>\n   <g id=\"patch_6\">\n    <path d=\"M 68.378125 7.2 \nL 263.678125 7.2 \n\" style=\"fill: none; stroke: #000000; stroke-width: 0.8; stroke-linejoin: miter; stroke-linecap: square\"/>\n   </g>\n  </g>\n </g>\n <defs>\n  <clipPath id=\"p1adf76f0b5\">\n   <rect x=\"68.378125\" y=\"7.2\" width=\"195.3\" height=\"138.6\"/>\n  </clipPath>\n </defs>\n</svg>\n"
     },
     "metadata": {},
     "output_type": "display_data"
    }
   ],
   "source": [
    "num_epochs, lr, weight_decay, batch_size = 200, 0.008, 0.5, 32\n",
    "train_and_pred(train_features, test_features, train_labels, test_data,\n",
    "               num_epochs, lr, weight_decay, batch_size)"
   ]
  },
  {
   "cell_type": "markdown",
   "id": "3b363042",
   "metadata": {
    "origin_pos": 51
   },
   "source": [
    "接下来，如 :numref:`fig_kaggle_submit2`中所示，\n",
    "我们可以提交预测到Kaggle上，并查看在测试集上的预测与实际房价（标签）的比较情况。\n",
    "步骤非常简单。\n",
    "\n",
    "* 登录Kaggle网站，访问房价预测竞赛页面。\n",
    "* 点击“Submit Predictions”或“Late Submission”按钮（在撰写本文时，该按钮位于右侧）。\n",
    "* 点击页面底部虚线框中的“Upload Submission File”按钮，选择要上传的预测文件。\n",
    "* 点击页面底部的“Make Submission”按钮，即可查看结果。\n",
    "\n",
    "![向Kaggle提交数据](../img/kaggle-submit2.png)\n",
    ":width:`400px`\n",
    ":label:`fig_kaggle_submit2`\n",
    "\n",
    "## 小结\n",
    "\n",
    "* 真实数据通常混合了不同的数据类型，需要进行预处理。\n",
    "* 常用的预处理方法：将实值数据重新缩放为零均值和单位方法；用均值替换缺失值。\n",
    "* 将类别特征转化为指标特征，可以使我们把这个特征当作一个独热向量来对待。\n",
    "* 我们可以使用$K$折交叉验证来选择模型并调整超参数。\n",
    "* 对数对于相对误差很有用。\n",
    "\n",
    "## 练习\n",
    "\n",
    "1. 把预测提交给Kaggle，它有多好？\n",
    "1. 能通过直接最小化价格的对数来改进模型吗？如果试图预测价格的对数而不是价格，会发生什么？\n",
    "1. 用平均值替换缺失值总是好主意吗？提示：能构造一个不随机丢失值的情况吗？\n",
    "1. 通过$K$折交叉验证调整超参数，从而提高Kaggle的得分。\n",
    "1. 通过改进模型（例如，层、权重衰减和dropout）来提高分数。\n",
    "1. 如果我们没有像本节所做的那样标准化连续的数值特征，会发生什么？\n"
   ]
  },
  {
   "cell_type": "markdown",
   "id": "8351e40a",
   "metadata": {
    "origin_pos": 53,
    "tab": [
     "pytorch"
    ]
   },
   "source": [
    "[Discussions](https://discuss.d2l.ai/t/1824)\n"
   ]
  }
 ],
 "metadata": {
  "language_info": {
   "name": "python"
  },
  "kernelspec": {
   "name": "python3",
   "language": "python",
   "display_name": "Python 3 (ipykernel)"
  }
 },
 "nbformat": 4,
 "nbformat_minor": 5
}
