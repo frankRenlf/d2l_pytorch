{
 "cells": [
  {
   "cell_type": "code",
   "execution_count": 1,
   "id": "initial_id",
   "metadata": {
    "collapsed": true,
    "ExecuteTime": {
     "end_time": "2023-09-21T08:07:39.708932Z",
     "start_time": "2023-09-21T08:07:38.967165Z"
    }
   },
   "outputs": [],
   "source": [
    "import torch"
   ]
  },
  {
   "cell_type": "code",
   "execution_count": 2,
   "outputs": [],
   "source": [
    "data = torch.randn(2, 3, requires_grad=True)"
   ],
   "metadata": {
    "collapsed": false,
    "ExecuteTime": {
     "end_time": "2023-09-21T08:07:39.709557Z",
     "start_time": "2023-09-21T08:07:39.600702Z"
    }
   },
   "id": "126dc3aefbbd961"
  },
  {
   "cell_type": "code",
   "execution_count": 3,
   "outputs": [
    {
     "data": {
      "text/plain": "tensor([[-1.5939,  1.1504,  1.0389],\n        [ 0.2931, -1.1172, -0.0987]], requires_grad=True)"
     },
     "execution_count": 3,
     "metadata": {},
     "output_type": "execute_result"
    }
   ],
   "source": [
    "data"
   ],
   "metadata": {
    "collapsed": false,
    "ExecuteTime": {
     "end_time": "2023-09-21T08:07:39.709690Z",
     "start_time": "2023-09-21T08:07:39.603880Z"
    }
   },
   "id": "3586a971f004d80c"
  },
  {
   "cell_type": "code",
   "execution_count": 4,
   "outputs": [],
   "source": [
    "res = data * 2 + data ** 2 + 3\n",
    "res.sum().backward()"
   ],
   "metadata": {
    "collapsed": false,
    "ExecuteTime": {
     "end_time": "2023-09-21T08:07:39.709720Z",
     "start_time": "2023-09-21T08:07:39.606549Z"
    }
   },
   "id": "4f471ecab093cb65"
  },
  {
   "cell_type": "code",
   "execution_count": 5,
   "outputs": [
    {
     "name": "stdout",
     "output_type": "stream",
     "text": [
      "tensor([[-1.1879,  4.3007,  4.0777],\n",
      "        [ 2.5861, -0.2345,  1.8027]])\n"
     ]
    }
   ],
   "source": [
    "print(data.grad)"
   ],
   "metadata": {
    "collapsed": false,
    "ExecuteTime": {
     "end_time": "2023-09-21T08:07:39.709769Z",
     "start_time": "2023-09-21T08:07:39.620875Z"
    }
   },
   "id": "25b1d372903b55ca"
  },
  {
   "cell_type": "code",
   "execution_count": 7,
   "outputs": [
    {
     "data": {
      "text/plain": "tensor([[1, 2, 3],\n        [1, 2, 3]])"
     },
     "execution_count": 7,
     "metadata": {},
     "output_type": "execute_result"
    }
   ],
   "source": [
    "dec_valid_lens = torch.arange(\n",
    "                1, 3 + 1).repeat(2, 1)\n",
    "dec_valid_lens"
   ],
   "metadata": {
    "collapsed": false,
    "ExecuteTime": {
     "end_time": "2023-09-21T08:07:43.378744Z",
     "start_time": "2023-09-21T08:07:43.373409Z"
    }
   },
   "id": "ea66c31c1eef8139"
  },
  {
   "cell_type": "code",
   "execution_count": null,
   "outputs": [],
   "source": [],
   "metadata": {
    "collapsed": false
   },
   "id": "cecfec7a5d2c2593"
  }
 ],
 "metadata": {
  "kernelspec": {
   "display_name": "Python 3",
   "language": "python",
   "name": "python3"
  },
  "language_info": {
   "codemirror_mode": {
    "name": "ipython",
    "version": 2
   },
   "file_extension": ".py",
   "mimetype": "text/x-python",
   "name": "python",
   "nbconvert_exporter": "python",
   "pygments_lexer": "ipython2",
   "version": "2.7.6"
  }
 },
 "nbformat": 4,
 "nbformat_minor": 5
}
