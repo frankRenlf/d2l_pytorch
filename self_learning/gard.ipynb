{
 "cells": [
  {
   "cell_type": "code",
   "execution_count": 1,
   "id": "initial_id",
   "metadata": {
    "collapsed": true,
    "ExecuteTime": {
     "end_time": "2023-09-19T08:00:33.945396Z",
     "start_time": "2023-09-19T08:00:33.502991Z"
    }
   },
   "outputs": [],
   "source": [
    "import torch"
   ]
  },
  {
   "cell_type": "code",
   "execution_count": 15,
   "outputs": [],
   "source": [
    "data = torch.randn(2, 3, requires_grad=True)"
   ],
   "metadata": {
    "collapsed": false,
    "ExecuteTime": {
     "end_time": "2023-09-19T08:05:08.155226Z",
     "start_time": "2023-09-19T08:05:08.147071Z"
    }
   },
   "id": "126dc3aefbbd961"
  },
  {
   "cell_type": "code",
   "execution_count": 16,
   "outputs": [
    {
     "data": {
      "text/plain": "tensor([[-0.3214,  1.6404,  0.4496],\n        [ 0.6776, -0.8011, -0.0468]], requires_grad=True)"
     },
     "execution_count": 16,
     "metadata": {},
     "output_type": "execute_result"
    }
   ],
   "source": [
    "data"
   ],
   "metadata": {
    "collapsed": false,
    "ExecuteTime": {
     "end_time": "2023-09-19T08:05:08.537893Z",
     "start_time": "2023-09-19T08:05:08.531139Z"
    }
   },
   "id": "3586a971f004d80c"
  },
  {
   "cell_type": "code",
   "execution_count": 17,
   "outputs": [],
   "source": [
    "res = data * 2 + data ** 2 + 3\n",
    "res.sum().backward()"
   ],
   "metadata": {
    "collapsed": false,
    "ExecuteTime": {
     "end_time": "2023-09-19T08:05:09.101151Z",
     "start_time": "2023-09-19T08:05:09.093336Z"
    }
   },
   "id": "4f471ecab093cb65"
  },
  {
   "cell_type": "code",
   "execution_count": 18,
   "outputs": [
    {
     "name": "stdout",
     "output_type": "stream",
     "text": [
      "tensor([[1.3572, 5.2808, 2.8992],\n",
      "        [3.3552, 0.3977, 1.9064]])\n"
     ]
    }
   ],
   "source": [
    "print(data.grad)"
   ],
   "metadata": {
    "collapsed": false,
    "ExecuteTime": {
     "end_time": "2023-09-19T08:05:09.615277Z",
     "start_time": "2023-09-19T08:05:09.609760Z"
    }
   },
   "id": "25b1d372903b55ca"
  },
  {
   "cell_type": "code",
   "execution_count": null,
   "outputs": [],
   "source": [],
   "metadata": {
    "collapsed": false
   },
   "id": "ea66c31c1eef8139"
  }
 ],
 "metadata": {
  "kernelspec": {
   "display_name": "Python 3",
   "language": "python",
   "name": "python3"
  },
  "language_info": {
   "codemirror_mode": {
    "name": "ipython",
    "version": 2
   },
   "file_extension": ".py",
   "mimetype": "text/x-python",
   "name": "python",
   "nbconvert_exporter": "python",
   "pygments_lexer": "ipython2",
   "version": "2.7.6"
  }
 },
 "nbformat": 4,
 "nbformat_minor": 5
}
